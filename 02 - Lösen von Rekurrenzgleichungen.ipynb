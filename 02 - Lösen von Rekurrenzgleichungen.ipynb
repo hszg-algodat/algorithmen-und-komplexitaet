{
 "cells": [
  {
   "cell_type": "markdown",
   "metadata": {
    "collapsed": true
   },
   "source": [
    "# Empirische Analyse\n",
    "\n",
    "Ist es nicht möglich, den Aufwand eines Algorithmus mit formalen Mitteln zu bestimmen, oder möchte man sich ein Algorihtmus in der Praxis verhalten könnte jenseits von asymptotischen Schranken, so kann man den Zeitwaufwand empirisch bestimmen. Dabei misst man, wie lange der Algorithmus zum Lösen eines Problems benötigt. Diese Messung wird mit unterschiedlichen Problemgrößen durchgeführt. Um ein repräsentatives Ergebnis zu bekommen, ist es empfehlenswert, Messungen mit unterschiedlichen Eingaben gleicher Größe durchzuführen, um zu verhindern, dass ein stark abweichender Wert einer Problemgröße das Ergebnis zu sehr verfälscht. Hat man diese Messungen durchgeführt, so kann man die gemittelten Werte in einem Streudiagramm eintragen.\n",
    "\n",
    "\n",
    "# Lösen von Rekurrenzgleichungen\n",
    "\n",
    "Viele Algorithmen basieren auf Rekursion. Dann folgt der Zeitaufwand der rekursiven Berechnungsvorschrift des gesuchten Resultats. Für die Effizienzanalyse solcher Algorithmen benötigen wir ein Verfahren, mit dem rekursive Gleichungen (Rekurrenzgleichungen) gelöst werden können.\n",
    "\n",
    "Ein typisches Beispiel ist die Fibonacci-Folge: $0, 1, 1, 2, 3, 5, 8, 13, 21, 34, 55,\\ldots$.\n",
    "\n",
    "Die Bildungsvorschrift der $n$-ten Fibonacci-Zahl lässt sich sehr leicht angegeben, wenn dies rekursiv geschieht:\n",
    "\n",
    "$$\n",
    "\\begin{align}\n",
    "fib(0) & = 0 \\\\\n",
    "fib(1) & = 1 \\\\\n",
    "fib(n) & = fib(n - 1) + fib(n - 2) \\mid n \\geqslant 2\n",
    "\\end{align}\n",
    "$$\n",
    "\n",
    "Die $n$-te Fibonacci-Zahl ist gleich der Summe der zwei vorhergehenden Zahlen."
   ]
  },
  {
   "cell_type": "code",
   "execution_count": 3,
   "metadata": {
    "scrolled": true
   },
   "outputs": [
    {
     "name": "stdout",
     "output_type": "stream",
     "text": [
      "[0, 1, 1, 2, 3, 5, 8, 13, 21, 34, 55, 89, 144, 233, 377, 610, 987, 1597, 2584, 4181]\n"
     ]
    }
   ],
   "source": [
    "def fib(n):\n",
    "    if n == 0:\n",
    "        return 0\n",
    "    if n == 1:\n",
    "        return 1\n",
    "    return fib(n-1) + fib(n-2)\n",
    "\n",
    "print(list(map(fib, list(range(0, 20)))))"
   ]
  },
  {
   "cell_type": "markdown",
   "metadata": {},
   "source": [
    "Der Zeitaufwand lässt sich ebenfalls durch eine rekursive Gleichung ausdrücken:\n",
    "\n",
    "$$\n",
    "\\begin{align}\n",
    "T(0) & = 0 \\\\\n",
    "T(1) & = 1 \\\\\n",
    "T(n) & = T(n - 1) + T(n - 2), n\\geqslant 2\n",
    "\\end{align}\n",
    "$$\n",
    "\n",
    "Für $T$ benötigen wir einen Ausdruck in $n$ allerdings ohne $T(i)$ auf der rechten Seite. Gibt es ein Verfahren, um aus der (leicht erkennbaren) rekursiven Definition eine explizite zu gewinnen.\n",
    "\n",
    "In der Tat gibt es sogar mehrere solcher Verfahren, die das Gewünschte mehr oder weniger erfolgreich leisten."
   ]
  },
  {
   "cell_type": "markdown",
   "metadata": {},
   "source": [
    "## Raten und Einsetzen\n",
    "\n",
    "Eine solche Lösungsmethode ist das __Intelligent guesswork__ - das geschickte Raten. Hierfür stellt man eine Wertetabelle für $T(n)$ auf und versucht daraus eine explizite Bildungsvorschrift zu erkennen.\n",
    "\n",
    "__Beispiel__\n",
    "\n",
    "$$\n",
    "\\begin{align}\n",
    "T(1) & = 1 \\\\\n",
    "T(n) & = 3 \\cdot T \\left(\\frac{n}{2} \\right) + n\n",
    "\\end{align}\n",
    "$$\n",
    "\n",
    "$n$ sei hierbei eine Zweierpotenz, d.h. $n = 2^k$ mit $k \\in \\mathbb{N}$."
   ]
  },
  {
   "cell_type": "markdown",
   "metadata": {},
   "source": [
    "Für die Implementierung mit Python verwenden wir die pandas-Bibliothek zur Verwaltung und Analyse von Daten."
   ]
  },
  {
   "cell_type": "code",
   "execution_count": 4,
   "metadata": {
    "scrolled": true
   },
   "outputs": [
    {
     "name": "stdout",
     "output_type": "stream",
     "text": [
      "     T(n)\n",
      "2       5\n",
      "4      19\n",
      "8      65\n",
      "16    211\n",
      "32    665\n",
      "64   2059\n",
      "128  6305\n"
     ]
    }
   ],
   "source": [
    "import pandas as pd\n",
    "\n",
    "def T(n):\n",
    "    if n == 1:\n",
    "        return 1\n",
    "    return 3 * T(n/2) + n\n",
    "\n",
    "\n",
    "args = list(map(lambda n: 2**n, list(range(1, 8))))\n",
    "\n",
    "print(pd.DataFrame({'T(n)': pd.Series(map(T, args), index=args, dtype=int)}))"
   ]
  },
  {
   "cell_type": "markdown",
   "metadata": {},
   "source": [
    "Gibt man zusätzlich zu den Funktionswerten die Summendarstellungen an, ergibt sich folgende Wertetabelle:\n",
    "\n",
    "|$n$|$T(n)$|\n",
    "|---:|---:|\n",
    "|$1$|$1$|\n",
    "|$2$|$5=3 \\cdot 1 + 2$|\n",
    "|$4$|$19=3^2 \\cdot 1 + 3 \\cdot 2 + 2^2$|\n",
    "|$8$|$65=3^3 \\cdot 1 + 3^2 \\cdot 2 + 3 \\cdot 2^2 + 2^3$|\n",
    "|$16$|$211=3^4 \\cdot 1 + 3^3 \\cdot 2 + 3^2 \\cdot 2^2 + 3 \\cdot 2^3 + 2^4$|\n",
    "|$32$|$665=3^5 \\cdot 1 + 3^4 \\cdot 2 + 3^3 \\cdot 2^2 + 3^2 \\cdot 2^3 + 3 \\cdot 2^4 + 2^5$|\n",
    "\n",
    "Mit Hilfe dieser Summendarstellung lässt sich ein gewisses Muster erkennen, dadurch kann die Lösung \"erraten\" werden.\n",
    "\n",
    "$$\n",
    "\\begin{align*}\n",
    "T(2^k) & = 3^k \\cdot 2^0 + 3^{k-1} \\cdot 2^1 + ... + 3^1 \\cdot 2^{k-1} + 3^0 \\cdot 2^k \\\\\n",
    " & = \\sum_{i=0}^{k}(3^{k-i} \\cdot 2^i) \\\\\n",
    " & = 3^k \\sum_{i=0}^k \\left(\\frac{2}{3} \\right)^i \\\\\n",
    " & = 3^k \\frac{1- \\left(\\frac{2}{3}^{k+1} \\right)}{1-\\frac{2}{3}} \\\\\n",
    "T(2^k) & = 3^{k+1} - 2^{k+1}\n",
    "\\end{align*}\n",
    "$$\n",
    "\n",
    "Um eine Funktion $n \\mapsto T(n)$ zu erhalten, muss $k$ durch $\\log_2 n$ ersetzt werden.\n",
    "\n",
    "$$\n",
    "\\begin{align*}\n",
    "T(n) & = 3^{\\log_2 n + 1} - 2^{\\log_2 n + 1} \\\\\n",
    " & = 3^{\\log_2 n} \\cdot 3^1 - 2^{\\log_2 n} \\cdot 2^1 \\\\\n",
    " & = 3 \\cdot 3^{\\log_2 n} - 2 \\cdot 2^{\\log_2 n} \\\\\n",
    "T(n) & = 3 \\cdot n^{\\log_2 3} - 2 \\cdot n\n",
    "\\end{align*}\n",
    "$$\n",
    "\n",
    "Um die asymptotische Aufwandsordnung anzugeben, können der Summand $-2n$ und der Faktor $3$ vernachlässigt werden. Dies ergibt $\\mathcal{O}(n^{\\log_2 3})$."
   ]
  },
  {
   "cell_type": "markdown",
   "metadata": {
    "collapsed": true
   },
   "source": [
    "## Iterationsmethode\n",
    "\n",
    "Bei der __Iterationsmethode__ wird eine rekursive Vorschrift solange angewandt, bis man zu einem rekursionsfreien Ausdruck gelangt. Dies geschieht durch wiederholtes Einsetzen der rekursiven Funktionsaufrufe. Diese Expansion durch Selbstanwendung wird __Telescoping__ genannt.\n",
    "\n",
    "Hat man eine rekursive Funktion $n\\mapsto T(n)$ und setzt man für $n$ einen konkreten Wert ein, so kann problemlos Telescoping angewandt werden, da in endlich vielen Schritten die Elementarfälle erreicht werden und ein rekursionsfreier Ausdruck entsteht. Möchte man aber eine rekursive Funktion $n\\mapsto T(n)$ für ein allgemeines $n$ mit Hilfe der Iterationsmethode lösen, so ist ein mathematischer Zwischenschritt nötig.\n",
    "\n",
    "__Beispiel__\n",
    "\n",
    "$$\n",
    "\\begin{align*}\n",
    "T(1) & = 1 \\\\\n",
    "T(n) & = 2 \\cdot T \\left(\\frac{n}{4} \\right) + n\n",
    "\\end{align*}\n",
    "$$\n",
    "\n",
    "Die Gleichung wird nun schrittweise expandiert:\n",
    "\n",
    "$$\n",
    "\\begin{align*}\n",
    "T(n) & = 2 \\cdot T \\left(\\frac{n}{4} \\right) + n \\\\\n",
    " & = 2 \\cdot \\left(2 \\cdot T \\left(\\frac{n}{16} \\right) + \\frac{n}{4} \\right) + n \\\\\n",
    " & = 4 \\cdot T \\left(\\frac{n}{16} \\right) + \\frac{3}{2}n \\\\\n",
    " & = 4 \\cdot \\left(2 \\cdot T \\left(\\frac{n}{64} \\right) + \\frac{n}{16} \\right) + \\frac{3}{2}n \\\\\n",
    " & = 8 \\cdot T \\left(\\frac{n}{64} \\right) + \\frac{7}{4}n \\\\\n",
    " & = 8 \\cdot \\left(2 \\cdot T \\left(\\frac{n}{256} \\right) + \\frac{n}{64} \\right) + \\frac{7}{4}n \\\\\n",
    " & = 16 \\cdot T \\left(\\frac{n}{256} \\right) + \\frac{15}{8}n \\\\\n",
    "\\end{align*}\n",
    "$$\n",
    "\n",
    "Es wird ein gewisses Muster für den gesuchten, $T(n)$ definierenden Ausdruck ersichtlich, welches sich mit einer Variable $i$ mit $i\\geqslant 1$ ausdrücken lässt.\n",
    "\n",
    "$$\n",
    "\\begin{align*}\n",
    "T(n) & = 2^i \\cdot T \\left(\\frac{n}{4^i} \\right) + \\frac{2^i - 1}{2^{i-1}} \\cdot n \\\\\n",
    "\\end{align*}\n",
    "$$\n",
    "\n",
    "Nun muss $i$ so gewählt werden, dass aus $T\\left(\\frac{n}{4^i}\\right)$ ein rekursionsfreier Ausdruck ensteht, d.h. der Elementarfall erreicht ist. Dies geschieht mit $i = \\log_4 n$ bei $T(1)$:\n",
    "\n",
    "$$\n",
    "\\begin{align*}\n",
    "T\\left(\\frac{n}{4^i}\\right) & = T(1) \\\\\n",
    "\\frac{n}{4^i} & = 1 \\\\\n",
    "n & = 4^i \\\\\n",
    "i & = \\log_4 n\n",
    "\\end{align*}\n",
    "$$\n",
    "\n",
    "Wir setzen $\\log_4 n$ für $i$ in dem oben für $T(n)$ angegebenen \"Musterausdruck\" ein:\n",
    "\n",
    "$$\n",
    "\\begin{align*}\n",
    "T(n) & = 2^{\\log_4 n} \\cdot T \\left(\\frac{n}{4^{\\log_4 n}} \\right) + \\frac{2^{\\log_4 n} - 1}{2^{\\log_4 n - 1}} \\cdot n \\\\\n",
    " & = n^{\\log_4 2} \\cdot T(1) + \\frac{n^{\\log_4 2} - 1}{\\frac{2^{\\log_4 n}}{2}} \\cdot n \\\\\n",
    " & = n^{\\log_4 2} \\cdot T(1) + \\frac{n^{\\log_4 2} - 1}{\\frac{n^{\\log_4 2}}{2}} \\cdot n \\\\\n",
    " & = n^{\\frac{1}{2}} \\cdot T(1) + \\frac{n^{\\frac{1}{2}} - 1}{\\frac{n^{\\frac{1}{2}}}{2}} \\cdot n \\\\\n",
    " & = n^{\\frac{1}{2}} + \\frac{2n^{\\frac{1}{2}} - 2}{n^{\\frac{1}{2}}} \\cdot n \\\\\n",
    " & = n^{\\frac{1}{2}} + \\frac{2n^{\\frac{3}{2}} - 2n}{n^{\\frac{1}{2}}} \\\\\n",
    " & = n^{\\frac{1}{2}} + \\frac{2n^{\\frac{3}{2}} - 2n}{n^{\\frac{1}{2}}} \\\\\n",
    " & = n^{\\frac{1}{2}} + 2n - 2n^\\frac{1}{2} \\\\\n",
    "T(n) & = 2n - n^\\frac{1}{2}\n",
    "\\end{align*}\n",
    "$$\n",
    "\n",
    "Interessiert man sich nur für die asymptotische Aufwandsordnung, so liegt mit $T(n) \\in \\mathcal{O}(n)$ ein linearer Zusammenhang vor."
   ]
  },
  {
   "cell_type": "markdown",
   "metadata": {},
   "source": [
    "## Meistermethode (Master method)\n",
    "\n",
    "Die __Meistermethode__ bietet eine Möglichkeit, die asymptotische Aufwandsordnung für [Divide and Conquer-Algorithmen](/notebooks/Documents/algorithmen-und-komplexitaet/08%20-%20Divide%20and%20Conquer.ipynb) anzugeben. Der Zeitaufwand von Divide and Conquer-Algorithmen lässt sich in der Form $T(n) = a \\cdot T \\left(\\frac{n}{b} \\right) + f(n)$ angeben. \n",
    "\n",
    "__Beispiel__\n",
    "\n",
    "Für $T(n) = 2 \\cdot T \\left(\\frac{n}{4} \\right) + n$ lassen sich $a$, $b$ und $f(n)$ folgendermaßen angeben:\n",
    "$$\n",
    "\\begin{align}\n",
    "a & = 2 \\\\\n",
    "b & = 4 \\\\\n",
    "f(n) & = n\n",
    "\\end{align}\n",
    "$$\n",
    "\n",
    "<div class=\"general-text\">\n",
    "Nun muss man versuchen, den Ausdruck in einen der folgenden drei Fälle einzuordnen. Wenn dies gelingt, ergibt sich die Lösung unmittelbar aus der Variablenbindung. Wenn nicht, ist die Mastermethode zur Lösung der vorliegenden Rekurrenzgleichung nicht anwendbar.\n",
    "</div>\n",
    "\n",
    "__Definition 2.1 (Master Theorem)__\n",
    "\n",
    "### Fall 1\n",
    "\n",
    "Wenn $f(n) \\in \\mathcal{O} \\left(n^{\\log_b a - \\epsilon} \\right)$ mit $\\epsilon > 0$, dann $T(n) \\in \\Theta \\left(n^{\\log_b a} \\right)$.\n",
    "\n",
    "Der größte Aufwand besteht hier im Teilen in Subprobleme, die Rekursion ist somit wurzellastig (root-heavy).\n",
    "\n",
    "### Fall 2\n",
    "\n",
    "Wenn $f(n) \\in \\Theta \\left(n^{\\log_b a} \\right)$, dann $T(n) \\in \\Theta \\left(n^{\\log_b a}\\log n \\right)$.\n",
    "\n",
    "Der Aufwand zum Rekombinieren der gelösten Subprobleme ist gleichwertig mit dem des Teilens.\n",
    "\n",
    "### Fall 3\n",
    "\n",
    "Wenn $f(n) \\in \\Omega \\left(n^{\\log_b a + \\epsilon} \\right)$ mit $\\epsilon > 0$, dann $T(n) \\in \\Theta(f(n))$.\n",
    "\n",
    "In diesem Fall liegt der größte Aufwand im Rekombinieren, die Rekursion ist also blattlastig (leaf-heavy).\n",
    "\n",
    "__Beispiel__\n",
    "\n",
    "Für das oben angegebene Beispiel gilt Fall 3 des Master Theorems:\n",
    "\n",
    "$f(n) = n \\in \\Omega \\left(n^{\\log_b a + \\epsilon} \\right) \\implies f(n) \\in \\Omega \\left(n^{\\log_4 2 + \\epsilon} \\right) \\implies f(n) \\in \\Omega \\left(n^{\\frac{1}{2} + \\epsilon} \\right)$ mit $\\epsilon=\\frac{1}{2} > 0$.\n",
    "\n",
    "Folglich gilt für die Aufwandsordnung $T(n)\\in\\Theta(f(n)) \\implies T(n)\\in\\Theta(n)$."
   ]
  }
 ],
 "metadata": {
  "kernelspec": {
   "display_name": "Python 3",
   "language": "python",
   "name": "python3"
  },
  "language_info": {
   "codemirror_mode": {
    "name": "ipython",
    "version": 3
   },
   "file_extension": ".py",
   "mimetype": "text/x-python",
   "name": "python",
   "nbconvert_exporter": "python",
   "pygments_lexer": "ipython3",
   "version": "3.6.3"
  }
 },
 "nbformat": 4,
 "nbformat_minor": 2
}
