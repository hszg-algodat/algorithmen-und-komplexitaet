{
 "cells": [
  {
   "cell_type": "markdown",
   "metadata": {
    "collapsed": true
   },
   "source": [
    "# Graphen\n",
    "\n",
    "Ein Graph ist ein Abstrakter Datentyp. Mathematisch wird ein Graph $G$ durch ein geordnetes Paar $(V, E)$ beschrieben. $V$ Ist dabei die Menge der Knoten (Vertices, Sg. Vertex) und $E$ die Menge der Kanten (Edges), die die Knoten verbinden. Eine Kante ist dabei ein geordnetes Parr $(i, j)$, wobei mit $i$ und $j$ zwei Knoten angegeben werden, die durch die Kante verbunden werden. \n",
    "\n",
    "Bei der Darstellung eines Graphen spielt die Art und Weise, wie die Kanten gezeichnet werden keine Rolle. Entscheidend ist lediglich die Menge der Knoten und die Menge der Kanten, die diese verbinden. Zwei unterschiedlich dargestellte Graphen mit den gleichen Knoten und Kanten werden als isomorphe Graphen bezeichnet. In der Regel betrachtet man isomorphe Graphen als äquivalente Graphen.\n",
    "\n",
    "In der Praxis kommen Graphen häufig zum Einsatz. Die Abbildung von Straßennetzen in Navigationssystemen oder die Abbildung von Netzwerken in Routern sind Anwendungsbeispiele.\n",
    "\n",
    "## Ungerichteter Graph\n",
    "\n",
    "Bei einem ungerichteten Graphen wird die Richtung der Kante nicht berücksichtigt, d.h. eine Kante $(i, j)$ impliziert einen Weg vom Knoten $i$ zum $j$, als auch einen Weg von $j$ zu $i$. Somit gilt $(i, j) = (j, i)$.\n",
    "\n",
    "Ungerichteter Graph mit $V = \\{0,1,2,3,4\\}$ und $E = \\{(0,1),(0,4),(1,2),(1,3),(1,4),(2,3),(3,4)\\}$:\n",
    "\n",
    "<img src=\"https://www.geeksforgeeks.org/wp-content/uploads/undirectedgraph.png\" width=\"400\">\n",
    "\n",
    "Bei der Darstellung eines ungerichteten Graphen ist es deshalb nicht nötig Pfeile zu verwenden.\n",
    "\n",
    "## Gerichteter Graph\n",
    "\n",
    "Bei einem gerichteten Graphen wird die Richtung der Kante berücksichtigt. Ist eine Kante $(i, j)$ gegeben, so verläuft ein Weg von $i$ zu $j$, jedoch nicht zwangsläufig von $j$ zu $i$.\n",
    "\n",
    "Gerichteter Graph mit $V = \\{A,B,C,D,E,F\\}$ und $E = \\{(A,B),(B,C),(C,E),(D,B),(E,D),(E,F)\\}$:\n",
    "\n",
    "<img src=\"https://upload.wikimedia.org/wikipedia/commons/thumb/1/1c/Directed_graph%2C_cyclic.svg/2000px-Directed_graph%2C_cyclic.svg.png\" width=\"250\">\n",
    "\n",
    "Bei der Darstellung eines gerichteten Graphen werden Pfeile verwendet, um die Richtung einer Kante anzugeben. \n",
    "\n",
    "Da eine Kante in einem $(i, j)$ in einem ungerichteten Graph durch die beiden Kanten $(i, j)$ und $(j, i)$ eine gerichteten Graphen dargestellte werden kann, kann jeder ungerichtete Graph als gerichteter Graph beschrieben werden. Die Umkehrung gilt nicht.\n",
    "\n",
    "## Gewichteter Graph\n",
    "\n",
    "Bei einem gewichteten Graphen wird jeder Kante ein numerischer Wert als Gewicht zugeordnet.\n",
    "\n",
    "Dies ist beispielsweise nützlich, um ein Straßennetz abzubilden und mit den Gewichten die Distanz zwischen Knotenpunkten anzugeben. Die Gewichte können dabei jegliche Art von Kosten darstellen, bei einem Navigationssystem könnten auch die benötigte Zeit oder der Benzinverbrauch durch die Gewichte abgebildet werden.\n",
    "\n",
    "Ein gewichteter Graph kann sowohl gerichtetet, als auch ungerichtet sein.\n",
    "\n",
    "<img src=\"https://www.geeksforgeeks.org/wp-content/uploads/graph-STL.png\" width=\"250\">\n",
    "\n",
    "## Adjazenzmatrix\n",
    "\n",
    "Die Adjazenzmatrix ist eine Variante, um einen Graphen zu implementieren. Dabei wird eine quadratische Matrix erstellt, bei denen eine Spalte und eine Reihe jeweils für einen Knoten steht. Im entsprechenden Feld steht das Gewicht der Kante vom Spaltenknoten zum Reihenknoten. Existiert eine Kante nicht, so wird ein Ersatzwert, wie $\\infty$ oder __null__ verwendet. Handelt es sich um einen ungewichteten Graphen, so können auch booleans verwendet werden.\n",
    "\n",
    "Der Graph\n",
    "<img src=\"https://www.geeksforgeeks.org/wp-content/uploads/graph-STL.png\" width=\"250\">\n",
    "wird dabei folgendermaßen dargestellt:\n",
    "\n",
    "$$\n",
    "\\begin{bmatrix}\n",
    "0 & 10 & 3 & 2 \\\\\n",
    "\\infty & 0 & \\infty & 7 \\\\\n",
    "\\infty & \\infty & 0 & 6 \\\\\n",
    "\\infty & \\infty & \\infty & 0 \\\\\n",
    "\\end{bmatrix}\n",
    "$$\n",
    "\n",
    "Da es sich um eine quadratische Matrix handelt beträgt der Speicheraufwand $\\mathcal{O}({\\lvert V \\rvert}^2)$.\n",
    "\n",
    "Ineffzient ist die Adjazenzmatrix, wenn der Graph nur wenige Kanten besitzt, da trotzdem Werte für jede mögliche Kante gespeichert werden müssen, nämlich $\\infty$.\n",
    "\n",
    "## Adjazenzliste\n",
    "\n",
    "Eine alternative Implementation eines Graphen ist die Adjazenzliste. Hierbei wird bei jedem Knoten $v$ in einer Liste eingetragen, zu welchen anderen Knoten der Knoten $v$ adjazent ist, d.h. zu welchen Knoten es eine Kante ausgehend vom Knoten $v$ gibt. Handelt es sich um einen gewichteten Graphen, so handelt es sich bei der Adjazenzliste an Stelle einer Liste von Knoten um eine Liste von Paaren von Knoten und Gewichten.\n",
    "\n",
    "Handelt es sich um einen Graphen mit wenigen Kanten, so wird weniger Speicherplatz verbraucht, da lediglich für die Kanten, die existieren, Speicher beansprucht werden muss. Die worst-case Speicherkomplexität beträgt wieterhin $\\mathcal{O}({\\lvert V \\rvert}^2)$, da es bis zu $\\lvert V \\rvert \\cdot \\left( \\lvert V \\rvert - 1 \\right) \\in \\mathcal{O}({\\lvert V \\rvert}^2)$ Kanten geben kann."
   ]
  },
  {
   "cell_type": "code",
   "execution_count": 160,
   "metadata": {
    "collapsed": true
   },
   "outputs": [],
   "source": [
    "class Node:\n",
    "    def __init__(self, name):\n",
    "        self.name = name\n",
    "        self.adj = []\n",
    "        \n",
    "    def add_to_adj_lst(self, node, weight=1):\n",
    "        self.adj.append((node, weight))\n",
    "    \n",
    "\n",
    "v0 = Node('0')\n",
    "v1 = Node('1')\n",
    "v2 = Node('2')\n",
    "v3 = Node('3')\n",
    "\n",
    "v0.add_to_adj_lst(v1, 10)\n",
    "v0.add_to_adj_lst(v2, 3)\n",
    "v0.add_to_adj_lst(v3, 2)\n",
    "v1.add_to_adj_lst(v3, 7)\n",
    "v2.add_to_adj_lst(v3, 6)"
   ]
  },
  {
   "cell_type": "markdown",
   "metadata": {},
   "source": [
    "## Depth-First Search\n",
    "\n",
    "Depth-First Search (Tiefensuche) ist ein Algorithmus, um einen Knoten in einem Graphen zu finden. Dabei wird von einem Startknoten aus rekursiv immer auf den zum Starknoten adjazenten Knoten die Tiefensuche aufgerufen. Dadurch, dass der rekursive Aufruf immer auf dem nächsten Knoten erfolgt, wird zuerst in die Tiefe gegangen, dehalb der Begriff Tiefensuche bzw. Depth-First Search. Es wird solange in die Tiefe gegangen, bis ein Knoten erreicht ist, der keine adjazenten Knoten hat. Daraufhin folgt der nächste Aufruf auf einer Rekursionsebene höher. Es wird also quasi wieder ein Schritt zurückgegangen, nämlich zu dem Punkt, wo die nächste Entscheidungsmöglichkeit stattfindet. Diesen Vorgang nennt man Backtracking.\n",
    "\n",
    "__Implementation mit folgendem Beispiel:__\n",
    "\n",
    "<img src=\"https://ds055uzetaobb.cloudfront.net/image_optimizer/78fb8725fb8db65ecbc1a7e0765f48e4f4ccb30f.png\" width=\"250\">"
   ]
  },
  {
   "cell_type": "code",
   "execution_count": 161,
   "metadata": {},
   "outputs": [
    {
     "name": "stdout",
     "output_type": "stream",
     "text": [
      "A B C E F E F D E F "
     ]
    }
   ],
   "source": [
    "def dfs(root):\n",
    "    print(root.name, end=' ')\n",
    "    for node in root.adj:\n",
    "        dfs(node[0])\n",
    "    \n",
    "\n",
    "a = Node('A')\n",
    "b = Node('B')\n",
    "c = Node('C')\n",
    "d = Node('D')\n",
    "e = Node('E')\n",
    "f = Node('F')\n",
    "g = Node('G')\n",
    "\n",
    "a.add_to_adj_lst(b)\n",
    "b.add_to_adj_lst(c)\n",
    "b.add_to_adj_lst(e)\n",
    "b.add_to_adj_lst(d)\n",
    "c.add_to_adj_lst(e)\n",
    "d.add_to_adj_lst(e)\n",
    "e.add_to_adj_lst(f)\n",
    "g.add_to_adj_lst(d)\n",
    "\n",
    "dfs(a)"
   ]
  },
  {
   "cell_type": "markdown",
   "metadata": {},
   "source": [
    "Es werden alle von A aus erreichbaren Knoten ausgegeben, entsprechend der Reihenfolge von DFS. \n",
    "\n",
    "Der Knoten G taucht nicht auf, da er von A aus nicht erreichbar ist.\n",
    "\n",
    "Da es mehrere Wege zu einem Knoten gibt, kommen Knoten mehrfach vor. Handelt es sich um einen Graph mit Kreisen, so würde der Algorithmus nicht terminieren. Um dies zu verhindern, kann man in einem Dictionary die bereits gefundenen Knoten speichern und nur weitersuchen, wenn es sich um einen Knoten handelt, der noch nicht gefunden wurde."
   ]
  },
  {
   "cell_type": "code",
   "execution_count": 162,
   "metadata": {
    "scrolled": false
   },
   "outputs": [
    {
     "name": "stdout",
     "output_type": "stream",
     "text": [
      "A B C E F D "
     ]
    }
   ],
   "source": [
    "def dfs_no_dupl(root, found={}):\n",
    "    if root not in found:\n",
    "        print(root.name, end=' ')\n",
    "        found[root] = True\n",
    "        for node in root.adj:\n",
    "            dfs_no_dupl(node[0], found)\n",
    "        \n",
    "    \n",
    "dfs_no_dupl(a)"
   ]
  },
  {
   "cell_type": "markdown",
   "metadata": {},
   "source": [
    "Da jeder Knoten und jede Kante jeweils maximal einmal besucht werden, beträgt die Laufzeit $\\mathcal{O}(\\lvert V \\rvert + \\lvert E \\rvert)$.\n",
    "\n",
    "__Beispiele__\n",
    "\n",
    "### 0/1 Rucksackproblem\n",
    "\n",
    "Beim Rucksackproblem ist eine nichtleere Menge von $n$ Gegenstanden mit den Gewichten $w_1, w_2, \\dotsc, w_n$ mit $w_i > 0$ und den zugehorigen Werten $v_1, v_2, \\dotsc, v_n$ gegeben. Das Gewicht des $i$-ten Gegenstands beträgt $w_i$, sein Wert $v_i$. Die Interpretation des Wertes wird durch den jeweiligen Sachkontext bestimmt: Denkt man an Schmuck, so kann der Wert im potenziellen Verkaufserlos bestehen. Handelt es sich um Utensilien eines Bergwanderes, richtet sich der Wert eines Gegenstandes eher nach dessen Beitrag zur Absicherung einer unfallfreien Begehung. Der Rucksack ist nur beschränkt belastbar. Das zulässige Maximalgewicht sei $K$, d.h. das aktuelle Gesamtgewicht darf $K$ keinesfalls überschreiten. Zu beachten ist, dass beim 0/1 Rucksackproblem, im Gegansatz zum Bruchteil-Rucksackproblem, ein Gegenstand entweder in den Rucksack gepackt werden kann oder nicht, eine Teilung des Gegenstands ist hierbei nicht möglich.\n",
    "\n",
    "Die Optimierungsaufgabe besteht nun darin, einen Rucksack so zu füllen, dass die Wertsumme der eingepackten Gegenstände – unter Beachtung seiner Kapazitätsschranke – maximal ist.\n",
    "\n",
    "Zum Finden der Lösungen dieses Problems unter der Nutzung der Tiefensuche, muss ein Entscheidungsbaum aufgestellt werden. Dieser Entscheidungsbaum hat dabei die Höhe $n$ ($n$ = Anzahl der Gegenstände). In jedem Schritt gibt es zwei Entscheidungsmöglichkeiten, entweder der $i$-te Gegenstand wird in den Rucksack gepackt oder nicht. Durch diesen Entscheidungsbaum werden alle Kombinationen der Rucksackbefüllung konstruiert.\n",
    "\n",
    "---\n",
    "Grafik hier einfügen\n",
    "\n",
    "---\n",
    "\n",
    "Die Tiefensuche kann nun genutzt werden, um alle gültigen Rucksackbefüllungen zu finden. Dabei wird rekursiv auf die beiden Entscheidungsmöglichkeiten die Tiefensuche aufgerufen.\n",
    "\n",
    "Das es sich um einen Binärbaum handelt, beträgt die Anzahl Bätter $2^n$. Insgesamt besteht der Baum aus $\\sum_{i=0}^n 2^i = 2^{n+1} - 1 \\in \\mathcal{O}(2^n)$ Knoten, wodurch die Laufzeit des Algorithmus $\\mathcal{O}(2^n)$ beträgt.\n",
    "\n",
    "Ein Optimierung ist es, im Falle, dass ein Legen des Gegenstand in den Rucksack zu einer Überschreitung des Maximalgewichts $K$ führt, nicht weiter zu expandieren. Da $w_i > 0$ gilt, werden auch alle weiteren Kombination das Maximalgewicht überschreiten."
   ]
  },
  {
   "cell_type": "code",
   "execution_count": 163,
   "metadata": {},
   "outputs": [
    {
     "name": "stdout",
     "output_type": "stream",
     "text": [
      "[[(50, 30), (10, 25)], [(50, 30)], [(30, 20), (10, 25)], [(30, 20)], [(10, 25)], []]\n"
     ]
    }
   ],
   "source": [
    "def get_solutions(items, k, knapsack=[]):\n",
    "    if len(items) == 0:\n",
    "        return [list(knapsack)]\n",
    "    if items[0][0] <= k:\n",
    "        return get_solutions(items[1:], k - items[0][0], knapsack + [items[0]]) + get_solutions(items[1:], k, knapsack)\n",
    "    return get_solutions(items[1:], k, knapsack)\n",
    "\n",
    "\n",
    "K = 60\n",
    "items = [(50, 30), (30, 20), (10, 25)]\n",
    "\n",
    "print(get_solutions(items, K))"
   ]
  },
  {
   "cell_type": "markdown",
   "metadata": {},
   "source": [
    "Interessiert man sich nur für die optimale Lösung, so kann der Code so abgeändert werden, dass der Wert der gefunden gültigen Rucksackbefüllung mit dem bisher gefundenen Wert verglichen wird und im Fall, dass ein besserer Wert erreicht wurde, der bisherige Wert durch die neu gefundene Lösung ersetzt wird."
   ]
  },
  {
   "cell_type": "code",
   "execution_count": 164,
   "metadata": {},
   "outputs": [
    {
     "name": "stdout",
     "output_type": "stream",
     "text": [
      "[(50, 30), (10, 25)]\n"
     ]
    }
   ],
   "source": [
    "#helper function to get value of a knapsack\n",
    "def value(knapsack):\n",
    "    sum_value = 0\n",
    "    for item in knapsack:\n",
    "        sum_value += item[1]\n",
    "    return sum_value\n",
    "\n",
    "\n",
    "def get_optimal_solution(items, k, knapsack=[]):\n",
    "    if len(items) == 0:\n",
    "        return knapsack\n",
    "    if items[0][0] <= k:\n",
    "        solution_with = get_optimal_solution(items[1:], k - items[0][0], knapsack + [items[0]])\n",
    "        solution_without = get_optimal_solution(items[1:], k, knapsack)\n",
    "        if value(solution_without) > value(solution_with):\n",
    "            return solution_without\n",
    "        return solution_with\n",
    "    return get_optimal_solution(items[1:], k, knapsack)\n",
    "\n",
    "\n",
    "print(get_optimal_solution(items, K))"
   ]
  },
  {
   "cell_type": "markdown",
   "metadata": {},
   "source": [
    "### n-Damenproblem\n",
    "\n",
    "Das $n$-Damenproblem ist ein schachmathematisches Problem und eine Verallgemeinerung des 8-Damenproblems.\n",
    "\n",
    "Ziel beim 8-Damenproblem ist es, 8 Damen auf einem 8x8 Schachbrett so zu platzieren, dass keine Dame gemäß den Schachregeln eine andere Dame schlagen kann. Dies bedeutet, dass keine zwei Damen auf der selben Reihe, Linie (Zeile, Spalte) oder Diagonale stehen darf.\n",
    "\n",
    "Eine Lösung für das 8-Dameproblem ist die folgende:\n",
    "\n",
    "<img src=\"http://schinckel.net/images/2008/06/8queens.jpg\" width=\"250\">\n",
    "\n",
    "Beim $n$-Damenproblem ist es entsprechend Ziel $n$ Damen auf einem $n$x$n$ Schachbrett zu platzieren.\n",
    "\n",
    "Für dieses Problem kann ebenfalls rekursives Backtracking, also Depth-First Search, zum Lösen genutzt werden. \n",
    "\n",
    "Dabei nutzen wir eine Liste mit bis zu $n$-Elementen als Datenstruktur, die am Index $i$ angibt, in welcher Reihe in der $i$-ten Spalte eine Dame platziert wurde. Aufgrund der Tatsache, dass eine Dame ihre komplette Spalte schlägt, ist trivial, dass sich in jeder Spalte nur eine Dame befinden kann. Da $n$ Damen auf $n$ Reihen verteilt werden, folgt, dass in jeder Spalte genau eine Dame stehen muss.\n",
    "\n",
    "Die Liste [0, 4, 7, 5, 2, 6, 1, 3] beschreibt dabei folgende Stellung:\n",
    "\n",
    "<img src=\"https://webinstitute.files.wordpress.com/2012/04/8-queens2.png?w=660\" width=\"250\">\n",
    "\n",
    "Man fängt mit einem leeren Schachbrett an. Nun wird schrittweise in jeder Spalte eine Dame platziert werden. Dabei werden alle Reihen von 0 bis $n-1$ durchprobiert. Dies bedeutet, dass die Tiefensuche mit der entsprechenden Konfiguration aufgerufen wird. Es wird dabei geprüft, ob es sich bei der angegebenen Stellung noch um eine gültige Stellung handelt, d.h. keine Dame kann eine andere Dame schlagen. Ist dies der Fall, so wird weiter expandiert und in der nächsten Spalte der Algorithmus mit den den Reihen 0 bis $n-1$ rekursiv aufgerufen. Handelt es sich nicht um ein gültige Stellung, so wird eine leere Liste als Lösungsmenge zurückgegeben und der Computer macht - entsprechend nach dem Prinzip des Backtrackings - an der letzten Entscheidungsmöglichkeit weiter. Dies minimiert die Anzahl der zu überprüfenden Stellungen enorm, da - anders als bei einem Brute-Force Ansatz, bei dem alle Stellungen durchprobiert werden - nun auch alle folgenden Stellungen ausgeschlossen werden. "
   ]
  },
  {
   "cell_type": "code",
   "execution_count": 165,
   "metadata": {},
   "outputs": [
    {
     "name": "stdout",
     "output_type": "stream",
     "text": [
      "Solutions of the 4 queens problem: [[1, 3, 0, 2], [2, 0, 3, 1]]\n",
      "Number of solutions of the 8 queens problem: 92\n"
     ]
    }
   ],
   "source": [
    "def feasible(setting):\n",
    "    if len(set(setting)) != len(setting):\n",
    "        return False\n",
    "    for i in range(len(setting)):\n",
    "        for j in range(len(setting)):\n",
    "            if j != i and (setting[j] == setting[i] - i + j or setting[j] == setting[i] + i - j):\n",
    "                return False\n",
    "    return True\n",
    "\n",
    "\n",
    "def n_queens(n, setting=[]):\n",
    "    if not feasible(setting):\n",
    "        return []\n",
    "    if len(setting) == n:\n",
    "        return [list(setting)]\n",
    "    solutions = []\n",
    "    for i in range(n):\n",
    "        solutions += n_queens(n, setting + [i])\n",
    "    return solutions\n",
    "\n",
    "\n",
    "print('Solutions of the 4 queens problem:', end=' ')\n",
    "print(n_queens(4))\n",
    "print('Number of solutions of the 8 queens problem:', end=' ')\n",
    "print(len(n_queens(8)))"
   ]
  },
  {
   "cell_type": "code",
   "execution_count": 166,
   "metadata": {},
   "outputs": [
    {
     "name": "stdout",
     "output_type": "stream",
     "text": [
      "[[5 1 7 6 9 8 2 3 4]\n",
      " [2 8 9 1 3 4 7 5 6]\n",
      " [3 4 6 2 7 5 8 9 1]\n",
      " [6 7 2 8 4 9 3 1 5]\n",
      " [1 3 8 5 2 6 9 4 7]\n",
      " [9 5 4 7 1 3 6 8 2]\n",
      " [4 9 5 3 6 2 1 7 8]\n",
      " [7 2 3 4 8 1 5 6 9]\n",
      " [8 6 1 9 5 7 4 2 3]]\n"
     ]
    }
   ],
   "source": [
    "import numpy as np\n",
    "import math\n",
    "\n",
    "\n",
    "def contains_dupl(arr):\n",
    "    elements = {}\n",
    "    for elm in arr:\n",
    "        if elm != 0:\n",
    "            if elm in elements:\n",
    "                return True\n",
    "            elements[elm] = True\n",
    "    return False\n",
    "\n",
    "\n",
    "def contains_dupl_in_square(sudoku, x, y, n):\n",
    "    elements = {}\n",
    "    for i in range(x, x + n):\n",
    "        for j in range(y, y + n):\n",
    "            elm = sudoku.item(i, j)\n",
    "            if elm != 0:\n",
    "                if elm in elements:\n",
    "                    return True\n",
    "                elements[elm] = False\n",
    "    return False\n",
    "\n",
    "\n",
    "def feasible(sudoku, n=None):\n",
    "    if n is None:\n",
    "        n = sudoku.shape[0]\n",
    "    for i in range(n):\n",
    "        if contains_dupl(np.squeeze(np.asarray(sudoku[i, :]))) or contains_dupl(np.squeeze(np.asarray(sudoku[:, i]))):\n",
    "            return False\n",
    "    for i in range(0, n, int(math.sqrt(n))):\n",
    "        for j in range(0, n, int(math.sqrt(n))):\n",
    "            if contains_dupl_in_square(sudoku, i, j, int(math.sqrt(n))):\n",
    "                return False\n",
    "    return True\n",
    "\n",
    "\n",
    "def solve(sudoku, n=None):\n",
    "    if n is None:\n",
    "        n = sudoku.shape[0]\n",
    "    if not feasible(sudoku):\n",
    "        return None\n",
    "    for i in range(n):\n",
    "        for j in range(n):\n",
    "            if sudoku.item(i, j) == 0:\n",
    "                for k in range(1, n+1):\n",
    "                    new_sudoku = sudoku.copy()\n",
    "                    new_sudoku[i, j] = k\n",
    "                    solution = solve(new_sudoku, n)\n",
    "                    if solution is not None:\n",
    "                        return solution\n",
    "                return None\n",
    "    return sudoku\n",
    "\n",
    "\n",
    "sudoku = np.matrix([[5,1,7,6,0,0,0,3,4],\n",
    "                    [2,8,9,0,0,4,0,0,0],\n",
    "                    [3,4,6,2,0,5,0,9,0],\n",
    "                    [6,0,2,0,0,0,0,1,0],\n",
    "                    [0,3,8,0,0,6,0,4,7],\n",
    "                    [0,0,0,0,0,0,0,0,0],\n",
    "                    [0,9,0,0,0,0,0,7,8],\n",
    "                    [7,0,3,4,0,0,5,6,0],\n",
    "                    [0,0,0,0,0,0,0,0,0]])\n",
    "\n",
    "print(solve(sudoku))"
   ]
  }
 ],
 "metadata": {
  "kernelspec": {
   "display_name": "Python 3",
   "language": "python",
   "name": "python3"
  },
  "language_info": {
   "codemirror_mode": {
    "name": "ipython",
    "version": 3
   },
   "file_extension": ".py",
   "mimetype": "text/x-python",
   "name": "python",
   "nbconvert_exporter": "python",
   "pygments_lexer": "ipython3",
   "version": "3.6.3"
  }
 },
 "nbformat": 4,
 "nbformat_minor": 2
}
