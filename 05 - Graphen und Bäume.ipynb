{
 "cells": [
  {
   "cell_type": "markdown",
   "metadata": {
    "collapsed": true
   },
   "source": [
    "# Graphen\n",
    "\n",
    "Ein Graph ist ein Abstrakter Datentyp. Mathematisch wird ein Graph $G$ durch ein geordnetes Paar $(V, E)$ beschrieben. $V$ Ist dabei die Menge der Knoten (Vertices, Sg. Vertex) und $E$ die Menge der Kanten (Edges), die die Knoten verbinden. Eine Kante ist dabei ein geordnetes Parr $(i, j)$, wobei mit $i$ und $j$ zwei Knoten angegeben werden, die durch die Kante verbunden werden. \n",
    "\n",
    "Bei der Darstellung eines Graphen spielt die Art und Weise, wie die Kanten gezeichnet werden keine Rolle. Entscheidend ist lediglich die Menge der Knoten und die Menge der Kanten, die diese verbinden. Zwei unterschiedlich dargestellte Graphen mit den gleichen Knoten und Kanten werden als isomorphe Graphen bezeichnet. In der Regel betrachtet man isomorphe Graphen als äquivalente Graphen.\n",
    "\n",
    "In der Praxis kommen Graphen häufig zum Einsatz. Die Abbildung von Straßennetzen in Navigationssystemen oder die Abbildung von Netzwerken in Routern sind Anwendungsbeispiele.\n",
    "\n",
    "## Ungerichteter Graph\n",
    "\n",
    "Bei einem ungerichteten Graphen wird die Richtung der Kante nicht berücksichtigt, d.h. eine Kante $(i, j)$ impliziert einen Weg vom Knoten $i$ zum $j$, als auch einen Weg von $j$ zu $i$. Somit gilt $(i, j) = (j, i)$.\n",
    "\n",
    "Ungerichteter Graph mit $V = \\{0,1,2,3,4\\}$ und $E = \\{(0,1),(0,4),(1,2),(1,3),(1,4),(2,3),(3,4)\\}$:\n",
    "\n",
    "<img src=\"https://www.geeksforgeeks.org/wp-content/uploads/undirectedgraph.png\" width=\"400\">\n",
    "\n",
    "Bei der Darstellung eines ungerichteten Graphen ist es deshalb nicht nötig Pfeile zu verwenden.\n",
    "\n",
    "## Gerichteter Graph\n",
    "\n",
    "Bei einem gerichteten Graphen wird die Richtung der Kante berücksichtigt. Ist eine Kante $(i, j)$ gegeben, so verläuft ein Weg von $i$ zu $j$, jedoch nicht zwangsläufig von $j$ zu $i$.\n",
    "\n",
    "Gerichteter Graph mit $V = \\{A,B,C,D,E,F\\}$ und $E = \\{(A,B),(B,C),(C,E),(D,B),(E,D),(E,F)\\}$:\n",
    "\n",
    "<img src=\"https://upload.wikimedia.org/wikipedia/commons/thumb/1/1c/Directed_graph%2C_cyclic.svg/2000px-Directed_graph%2C_cyclic.svg.png\" width=\"250\">\n",
    "\n",
    "Bei der Darstellung eines gerichteten Graphen werden Pfeile verwendet, um die Richtung einer Kante anzugeben. \n",
    "\n",
    "Da eine Kante in einem $(i, j)$ in einem ungerichteten Graph durch die beiden Kanten $(i, j)$ und $(j, i)$ eine gerichteten Graphen dargestellte werden kann, kann jeder ungerichtete Graph als gerichteter Graph beschrieben werden. Die Umkehrung gilt nicht.\n",
    "\n",
    "## Gewichteter Graph\n",
    "\n",
    "Bei einem gewichteten Graphen wird jeder Kante ein numerischer Wert als Gewicht zugeordnet.\n",
    "\n",
    "Dies ist beispielsweise nützlich, um ein Straßennetz abzubilden und mit den Gewichten die Distanz zwischen Knotenpunkten anzugeben. Die Gewichte können dabei jegliche Art von Kosten darstellen, bei einem Navigationssystem könnten auch die benötigte Zeit oder der Benzinverbrauch durch die Gewichte abgebildet werden.\n",
    "\n",
    "Ein gewichteter Graph kann sowohl gerichtetet, als auch ungerichtet sein.\n",
    "\n",
    "<img src=\"https://www.geeksforgeeks.org/wp-content/uploads/graph-STL.png\" width=\"250\">\n",
    "\n",
    "## Adjazenzmatrix\n",
    "\n",
    "Die Adjazenzmatrix ist eine Variante, um einen Graphen zu implementieren. Dabei wird eine quadratische Matrix erstellt, bei denen eine Spalte und eine Reihe jeweils für einen Knoten steht. Im entsprechenden Feld steht das Gewicht der Kante vom Spaltenknoten zum Reihenknoten. Existiert eine Kante nicht, so wird ein Ersatzwert, wie $\\infty$ oder __null__ verwendet. Handelt es sich um einen ungewichteten Graphen, so können auch booleans verwendet werden.\n",
    "\n",
    "Der Graph\n",
    "<img src=\"https://www.geeksforgeeks.org/wp-content/uploads/graph-STL.png\" width=\"250\">\n",
    "wird dabei folgendermaßen dargestellt:\n",
    "\n",
    "$$\n",
    "\\begin{bmatrix}\n",
    "0 & 10 & 3 & 2 \\\\\n",
    "\\infty & 0 & \\infty & 7 \\\\\n",
    "\\infty & \\infty & 0 & 6 \\\\\n",
    "\\infty & \\infty & \\infty & 0 \\\\\n",
    "\\end{bmatrix}\n",
    "$$\n",
    "\n",
    "Da es sich um eine quadratische Matrix handelt beträgt der Speicheraufwand $\\mathcal{O}({\\lvert V \\rvert}^2)$.\n",
    "\n",
    "Ineffzient ist die Adjazenzmatrix, wenn der Graph nur wenige Kanten besitzt, da trotzdem Werte für jede mögliche Kante gespeichert werden müssen, nämlich $\\infty$.\n",
    "\n",
    "## Adjazenzliste\n",
    "\n",
    "Eine alternative Implementation eines Graphen ist die Adjazenzliste. Hierbei wird bei jedem Knoten $v$ in einer Liste eingetragen, zu welchen anderen Knoten der Knoten $v$ adjazent ist, d.h. zu welchen Knoten es eine Kante ausgehend vom Knoten $v$ gibt. Handelt es sich um einen gewichteten Graphen, so handelt es sich bei der Adjazenzliste an Stelle einer Liste von Knoten um eine Liste von Paaren von Knoten und Gewichten.\n",
    "\n",
    "Handelt es sich um einen Graphen mit wenigen Kanten, so wird weniger Speicherplatz verbraucht, da lediglich für die Kanten, die existieren, Speicher beansprucht werden muss. Die worst-case Speicherkomplexität beträgt wieterhin $\\mathcal{O}({\\lvert V \\rvert}^2)$, da es bis zu $\\lvert V \\rvert \\cdot \\left( \\lvert V \\rvert - 1 \\right) \\in \\mathcal{O}({\\lvert V \\rvert}^2)$ Kanten geben kann."
   ]
  },
  {
   "cell_type": "code",
   "execution_count": 7,
   "metadata": {},
   "outputs": [],
   "source": [
    "class Node:\n",
    "    def __init__(self, name):\n",
    "        self.name = name\n",
    "        self.adj = []\n",
    "        \n",
    "    def add_to_adj_lst(self, node, weight):\n",
    "        self.adj.append((node, weight))\n",
    "    \n",
    "\n",
    "v0 = Node('0')\n",
    "v1 = Node('1')\n",
    "v2 = Node('2')\n",
    "v3 = Node('3')\n",
    "\n",
    "v0.add_to_adj_lst(v1, 10)\n",
    "v0.add_to_adj_lst(v2, 3)\n",
    "v0.add_to_adj_lst(v3, 2)\n",
    "v1.add_to_adj_lst(v3, 7)\n",
    "v2.add_to_adj_lst(v3, 6)"
   ]
  },
  {
   "cell_type": "markdown",
   "metadata": {},
   "source": [
    "## Depth-First Search\n",
    "\n"
   ]
  }
 ],
 "metadata": {
  "kernelspec": {
   "display_name": "Python 3",
   "language": "python",
   "name": "python3"
  },
  "language_info": {
   "codemirror_mode": {
    "name": "ipython",
    "version": 3
   },
   "file_extension": ".py",
   "mimetype": "text/x-python",
   "name": "python",
   "nbconvert_exporter": "python",
   "pygments_lexer": "ipython3",
   "version": "3.6.3"
  }
 },
 "nbformat": 4,
 "nbformat_minor": 2
}
