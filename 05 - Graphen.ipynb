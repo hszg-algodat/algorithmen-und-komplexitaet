{
 "cells": [
  {
   "cell_type": "markdown",
   "metadata": {
    "collapsed": true
   },
   "source": [
    "# Graphen\n",
    "\n",
    "Ein Graph ist ein Abstrakter Datentyp. Mathematisch wird ein Graph $G$ durch ein geordnetes Paar $(V, E)$ beschrieben. $V$ Ist dabei die Menge der Knoten (Vertices, Sg. Vertex) und $E$ die Menge der Kanten (Edges), die die Knoten verbinden. Eine Kante ist ein geordnetes Paar $(i, j)$, wobei mit $i$ und $j$ zwei Knoten angegeben werden, die durch die Kante verbunden werden. \n",
    "\n",
    "Bei der Darstellung eines Graphen spielt die Art und Weise, wie die Kanten gezeichnet werden, keine Rolle. Entscheidend ist lediglich die Menge der Knoten und die Menge der Kanten, die die Knoten verbinden. Zwei unterschiedlich dargestellte Graphen mit den gleichen Knoten und Kanten werden als isomorphe Graphen bezeichnet. In der Regel betrachtet man isomorphe Graphen als äquivalente Graphen.\n",
    "\n",
    "In der Praxis kommen Graphen häufig zum Einsatz. Die Abbildung von Straßennetzen in Navigationssystemen oder die Abbildung von Netzwerken in Routern sind Anwendungsbeispiele.\n",
    "\n",
    "## Ungerichteter Graph\n",
    "\n",
    "Bei einem ungerichteten Graphen wird die Richtung der Kante nicht berücksichtigt, d.h. eine Kante $(i, j)$ impliziert einen Weg vom Knoten $i$ zum $j$, als auch einen Weg von $j$ zu $i$. Somit gilt $(i, j) = (j, i)$.\n",
    "\n",
    "Ungerichteter Graph mit $V = \\{0,1,2,3,4\\}$ und $E = \\{(0,1),(0,4),(1,2),(1,3),(1,4),(2,3),(3,4)\\}$:\n",
    "\n",
    "<img src=\"https://www.geeksforgeeks.org/wp-content/uploads/undirectedgraph.png\" width=\"400\">\n",
    "\n",
    "Die Kanten eines ungerichteten Graphen werden als einfache Verbindungslinien, d.h. Strecken zwischen je zwei Knoten, dargestellt. \n",
    "\n",
    "## Gerichteter Graph\n",
    "\n",
    "Bei einem gerichteten Graphen wird die Richtung der Kante berücksichtigt. Eine gegebene Kante $(i, j)$ besagt lediglich, dass es einen Weg von $i$ zu $j$ gibt; nicht automatisch auch von $j$ zu $i$.\n",
    "\n",
    "Gerichteter Graph mit $V = \\{A,B,C,D,E,F\\}$ und $E = \\{(A,B),(B,C),(C,E),(D,B),(E,D),(E,F)\\}$:\n",
    "\n",
    "<img src=\"https://upload.wikimedia.org/wikipedia/commons/thumb/1/1c/Directed_graph%2C_cyclic.svg/2000px-Directed_graph%2C_cyclic.svg.png\" width=\"250\">\n",
    "\n",
    "Bei der Darstellung eines gerichteten Graphen werden Pfeile verwendet, um die Richtung einer Kante anzugeben. \n",
    "\n",
    "Da eine Kante $(i, j)$ in einem ungerichteten Graph durch die beiden Kanten $(i, j)$ und $(j, i)$ in einem gerichteten Graphen dargestellt werden kann, kann jeder ungerichtete Graph in einen äquivalenten gerichteten Graph übertragen werden. Die Umkehrung gilt nicht.\n",
    "\n",
    "## Gewichteter Graph\n",
    "\n",
    "Bei einem gewichteten Graphen wird jeder Kante ein numerischer Wert als Gewicht zugeordnet.\n",
    "\n",
    "Dies ist beispielsweise nützlich, um ein Straßennetz abzubilden und mit den Gewichten die Distanz zwischen Knotenpunkten anzugeben. Die Gewichte können dabei jegliche Art von Kosten darstellen, bei einem Navigationssystem könnten auch die benötigte Reisezeit oder der Kraftstoffverbrauch durch die Gewichte ausgedrückt werden.\n",
    "\n",
    "Ein gewichteter Graph kann sowohl gerichtetet, als auch ungerichtet sein.\n",
    "\n",
    "<img src=\"https://www.geeksforgeeks.org/wp-content/uploads/graph-STL.png\" width=\"250\">\n",
    "\n",
    "## Adjazenzmatrix\n",
    "\n",
    "Eine typische Form einen Graph zu repräsentieren ist die Adjazenzmatrix (Nachbarschaftsmatrix). Dabei handelt es sich um eine quadratische Matrix, deren Zeilen und Spalten den Knoten des Graphen entsprechen. Als konkrete Datenstruktur wird im Allgemeinen ein zweidimensionales Feld verwendet. Die Zeilenknoten interpretiert man als \"von\"-Knoten und die Spaltenknoten als die \"nach\"-Knoten. Der in der Matrix im Feld $[i,j]$ eingetragene Wert ist das Gewicht der Kante $(i,j)$. Existiert eine Kante nicht, so wird ein Ersatzwert, wie $\\infty$ oder __null__ verwendet. Handelt es sich um einen ungewichteten Graphen, so können auch Booleans oder $0/1$ für die Existenz der betrachteten Kante verwendet werden.\n",
    "\n",
    "Der Graph\n",
    "<img src=\"https://www.geeksforgeeks.org/wp-content/uploads/graph-STL.png\" width=\"250\">\n",
    "wird dabei folgendermaßen dargestellt:\n",
    "\n",
    "| von/nach | 0 | 1 | 2 | 3 |\n",
    "|--------|---|---|---|---|\n",
    "| 0 | 0 | 10 | 3 | 2 |\n",
    "| 1 | $\\infty$ | 0 | $\\infty$ | 7 |\n",
    "| 2 | $\\infty$ | $\\infty$ | 0 | 6 |\n",
    "| 3 | $\\infty$ | $\\infty$ | $\\infty$ | 0 |\n",
    "\n",
    "$$\n",
    "\\begin{bmatrix}\n",
    "0 & 10 & 3 & 2 \\\\\n",
    "\\infty & 0 & \\infty & 7 \\\\\n",
    "\\infty & \\infty & 0 & 6 \\\\\n",
    "\\infty & \\infty & \\infty & 0 \\\\\n",
    "\\end{bmatrix}\n",
    "$$\n",
    "\n",
    "Da es sich um eine quadratische Matrix handelt, beträgt der Speicheraufwand $\\mathcal{O}({\\lvert V \\rvert}^2)$. $|V|$ steht für die Anzahl der Knoten.\n",
    "\n",
    "Ineffzient ist die Adjazenzmatrix, wenn der Graph nur wenige Kanten besitzt, da alle \"Blindeinträge\" $\\infty$ wie Einträge für existierende Kanten behandelt werden müssen.\n",
    "\n",
    "## Adjazenzliste\n",
    "\n",
    "Eine alternative Repräsentation eines Graphen ist die Adjazenzliste. Hierbei wird bei jedem Knoten $v$ in einer Liste eingetragen, zu welchen Knoten der Knoten $v$ adjazent ist, d.h. zu welchen Knoten es eine Kante ausgehend vom Knoten $v$ gibt. Handelt es sich um einen gewichteten Graphen, so enthält die Adjazenzliste nicht nur diese Knoten, sondern die Paare aus Knoten und zugehörigem Gewicht.\n",
    "\n",
    "Handelt es sich um einen Graphen mit wenigen Kanten, so wird gegenüber einer Adjazenzmatrix weniger Speicherplatz verbraucht, da lediglich für die existierenden Kanten Speicher beansprucht wird. Die Worst-case-Speicherkomplexität beträgt aber ebenfalls $\\mathcal{O}({\\lvert V \\rvert}^2)$, da es bis zu $\\lvert V \\rvert \\cdot \\left( \\lvert V \\rvert - 1 \\right) \\in \\mathcal{O}({\\lvert V \\rvert}^2)$ Kanten geben kann."
   ]
  },
  {
   "cell_type": "code",
   "execution_count": 10,
   "metadata": {},
   "outputs": [
    {
     "name": "stdout",
     "output_type": "stream",
     "text": [
      "v1,10  v2,3  v3,2  "
     ]
    }
   ],
   "source": [
    "class Node:\n",
    "    def __init__(self, name):\n",
    "        self.name = name\n",
    "        self.adj = []\n",
    "        \n",
    "    def add_to_adj_lst(self, node, weight=1):\n",
    "        self.adj.append((node, weight))\n",
    "        \n",
    "    def adjprint(self):\n",
    "        for p in self.adj:\n",
    "            print('v'+p[0].name, p[1], sep=',', end='  ') \n",
    "\n",
    "v0 = Node('0')\n",
    "v1 = Node('1')\n",
    "v2 = Node('2')\n",
    "v3 = Node('3')\n",
    "\n",
    "v0.add_to_adj_lst(v1, 10)\n",
    "v0.add_to_adj_lst(v2, 3)\n",
    "v0.add_to_adj_lst(v3, 2)\n",
    "v1.add_to_adj_lst(v3, 7)\n",
    "v2.add_to_adj_lst(v3, 6)\n",
    "\n",
    "v0.adjprint()"
   ]
  },
  {
   "cell_type": "markdown",
   "metadata": {},
   "source": [
    "## Depth-First Search (DFS)\n",
    "\n",
    "Depth-First Search (Tiefensuche) ist ein Algorithmus, um einen Knoten in einem Graphen (systematisch) zu finden. Die Suche beginnt bei einem festgelegten Startknoten. Für jeden der zu diesem Startknoten adjazenten Knoten wird im Folgenden die Tiefensuche rekursiv angewandt. Dadurch, dass der rekursive Aufruf immer auf dem nächsten Knoten stattfindet, wird zuerst in die Tiefe gegangen, deshalb der Begriff Tiefensuche bzw. Depth-First Search. Es wird solange in die Tiefe gegangen, bis ein Knoten erreicht ist, der keine unbearbeiteten adjazenten Knoten hat. Die Rekursion sorgt dann automatisch dafür, dass zum letzten ausgewählten und nun vollständig bearbeiteten Knoten zurückgegangen wird. Die Fortsetzung erfolgt dort, wo die nächste Entscheidungsmöglichkeit besteht, d.h. beim nächsten adjazenten Knoten. Diesen Vorgang nennt man Backtracking.\n",
    "\n",
    "Im Folgenden wird der systematische Durchlauf (für DFS) vorgestellt. Knotenvergleiche, die zur Elementsuche notwendig wären, können leicht hinzugefügt werden.\n",
    "\n",
    "\n",
    "__Implementation mit folgendem Beispiel:__\n",
    "\n",
    "<img src=\"https://ds055uzetaobb.cloudfront.net/image_optimizer/78fb8725fb8db65ecbc1a7e0765f48e4f4ccb30f.png\" width=\"250\">"
   ]
  },
  {
   "cell_type": "code",
   "execution_count": 11,
   "metadata": {},
   "outputs": [
    {
     "name": "stdout",
     "output_type": "stream",
     "text": [
      "A B C E F E F D E F "
     ]
    }
   ],
   "source": [
    "def dfs(root):\n",
    "    print(root.name, end=' ')\n",
    "    for node in root.adj:\n",
    "        dfs(node[0])\n",
    "    \n",
    "\n",
    "a = Node('A')\n",
    "b = Node('B')\n",
    "c = Node('C')\n",
    "d = Node('D')\n",
    "e = Node('E')\n",
    "f = Node('F')\n",
    "g = Node('G')\n",
    "\n",
    "a.add_to_adj_lst(b)\n",
    "b.add_to_adj_lst(c)\n",
    "b.add_to_adj_lst(e)\n",
    "b.add_to_adj_lst(d)\n",
    "c.add_to_adj_lst(e)\n",
    "d.add_to_adj_lst(e)\n",
    "e.add_to_adj_lst(f)\n",
    "g.add_to_adj_lst(d)\n",
    "\n",
    "dfs(a)"
   ]
  },
  {
   "cell_type": "markdown",
   "metadata": {},
   "source": [
    "Es werden alle von A aus erreichbaren Knoten ausgegeben, entsprechend der Reihenfolge von DFS. \n",
    "\n",
    "Der Knoten G taucht nicht auf, da er von A aus nicht erreichbar ist.\n",
    "\n",
    "Da es mehrere Wege zu einem Knoten gibt, kommen Knoten mehrfach vor. Handelt es sich um einen Graph mit Kreisen, so würde der Algorithmus nicht terminieren. Um dies zu verhindern, kann man in einem Dictionary die bereits gefundenen Knoten speichern und nur weitersuchen, wenn es sich um einen Knoten handelt, der noch nicht gefunden wurde."
   ]
  },
  {
   "cell_type": "code",
   "execution_count": 12,
   "metadata": {
    "scrolled": true
   },
   "outputs": [
    {
     "name": "stdout",
     "output_type": "stream",
     "text": [
      "A B C E F D "
     ]
    }
   ],
   "source": [
    "def dfs_no_dupl(root, found={}):\n",
    "    if root not in found:\n",
    "        print(root.name, end=' ')\n",
    "        found[root] = True\n",
    "        for node in root.adj:\n",
    "            dfs_no_dupl(node[0], found)\n",
    "           \n",
    "dfs_no_dupl(a)"
   ]
  },
  {
   "cell_type": "markdown",
   "metadata": {},
   "source": [
    "Alternativ ist es möglich, einen noch unbetrachteten Knoten weiß, einen noch nicht vollständig einbezogenen grau und einen vollständig berücksichtigten schwarz zu färben."
   ]
  },
  {
   "cell_type": "code",
   "execution_count": 13,
   "metadata": {},
   "outputs": [
    {
     "name": "stdout",
     "output_type": "stream",
     "text": [
      "A B C E F D "
     ]
    }
   ],
   "source": [
    "farbe = {}\n",
    "\n",
    "for u in [a, b, c, d, e, f, g]:\n",
    "    farbe[u] = 'weiß'\n",
    "\n",
    "def dfs1(u):\n",
    "    print(u.name, end=' ')\n",
    "    farbe[u] = 'grau'\n",
    "    for v in u.adj:\n",
    "        if farbe[v[0]] == 'weiß':\n",
    "            dfs1(v[0])\n",
    "    farbe[u] = 'schwarz'\n",
    "\n",
    "dfs1(a)"
   ]
  },
  {
   "cell_type": "markdown",
   "metadata": {},
   "source": [
    "Da jeder Knoten und jede Kante jeweils maximal einmal besucht werden, beträgt die Laufzeit $\\mathcal{O}(\\lvert V \\rvert + \\lvert E \\rvert)$. Handelt es sich um einen zusammenhängenden Graphen git $|E|\\geq |V|-1$, sodass man den Aufwand mit $\\mathcal{O}(|E|)$ abschätzen kann."
   ]
  },
  {
   "cell_type": "markdown",
   "metadata": {
    "collapsed": true
   },
   "source": [
    "## Anwendungsbeispiele\n",
    "\n",
    "\n",
    "### 0/1 Rucksackproblem\n",
    "\n",
    "Beim Rucksackproblem ist eine nichtleere Menge von $n$ Gegenständen mit den Gewichten (weight) $w_1, w_2, \\dotsc, w_n$ mit $w_i > 0$ und den zugehörigen Werten (value) $v_1, v_2, \\dotsc, v_n$ mit $v_i>0$ gegeben. Das Gewicht des $i$-ten Gegenstands beträgt $w_i$, sein Wert $v_i$. \n",
    "\n",
    "Die Interpretation des Wertes wird durch den jeweiligen Sachkontext bestimmt: Denkt man an Schmuck, so kann der Wert im potenziellen Verkaufserlös bestehen. Handelt es sich um Utensilien eines Bergwanderes, richtet sich der Wert eines Gegenstandes eher nach dessen Beitrag zur Absicherung einer unfallfreien Begehung. \n",
    "\n",
    "Der Rucksack ist nur beschränkt belastbar. Das zulässige Maximalgewicht sei $K$, d.h. das aktuelle Gesamtgewicht darf $K$ keinesfalls überschreiten. Zu beachten ist, dass beim 0/1 Rucksackproblem, im Gegansatz zum Bruchteil-Rucksackproblem, ein Gegenstand entweder in den Rucksack gepackt werden kann oder nicht, eine Teilung des Gegenstands und anteilige Mitnahme sind bei \"0/1\" nicht möglich.\n",
    "\n",
    "Die Optimierungsaufgabe besteht nun darin, einen Rucksack so zu füllen, dass die Wertsumme der eingepackten Gegenstände – unter Beachtung seiner Kapazitätsbeschränkung – maximal ist.\n",
    "\n",
    "Zum Finden der Lösungen dieses Problems unter Nutzung der Tiefensuche, muss ein Entscheidungsbaum aufgestellt werden. \n",
    "<img src=\"http://4.bp.blogspot.com/-pIpbisjGVFY/T2hj4tUcmWI/AAAAAAAAAEk/d1WP811-Xmc/s1600/depth-first.gif\" width=\"300\">\n",
    "Dieser Entscheidungsbaum hat dabei die Höhe $n$ ($n$ = Anzahl der Gegenstände). In jedem Schritt gibt es zwei Entscheidungsmöglichkeiten, entweder wird der $i$-te Gegenstand in den Rucksack gepackt oder nicht. Die Blätter des Baums repräsentieren alle Gegenstandskombinationen der Rucksackbefüllung.\n",
    "\n",
    "Der Entscheidungsbaum liegt nicht als Datenstruktur vor, sondern stellt das Aufbauschema für die Rucksackbefüllungen dar. Man kann es sich als ein Protokoll der Berechnung aller Möglichkeiten vorstellen. Diese Berechnung kann systematisch mit Tiefensuche vorgenommen werden. \n",
    "\n",
    "Da es sich um einen Binärbaum handelt, beträgt die Anzahl der Bätter $2^n$. Insgesamt besteht der Baum aus $\\sum_{i=0}^n 2^i = 2^{n+1} - 1 \\in \\mathcal{O}(2^n)$ Knoten, wodurch die Laufzeit des Algorithmus $\\mathcal{O}(2^n)$ beträgt. \n",
    "\n",
    "__Beispiel:__\n",
    "Für Gegenstände mit den Gewichten 50 (Wert 30), 30 (Wert 20) und 10 (Wert 25) sieht ein Entscheidungsbaum so aus:\n",
    "<img src=\"img/knapsack_tree.png\" width=\"650\">"
   ]
  },
  {
   "cell_type": "code",
   "execution_count": 14,
   "metadata": {},
   "outputs": [
    {
     "name": "stdout",
     "output_type": "stream",
     "text": [
      "[]\n",
      "[(50, 30)]\n",
      "[(50, 30), (30, 20)]\n",
      "[(50, 30), (30, 20), (10, 25)]\n",
      "[(50, 30), (30, 20)]\n",
      "[(50, 30), (30, 20)]\n",
      "[(50, 30)]\n",
      "[(50, 30)]\n",
      "[(50, 30), (10, 25)]\n",
      "[(50, 30)]\n",
      "[(50, 30)]\n",
      "[]\n",
      "[]\n",
      "[(30, 20)]\n",
      "[(30, 20), (10, 25)]\n",
      "[(30, 20)]\n",
      "[(30, 20)]\n",
      "[]\n",
      "[]\n",
      "[(10, 25)]\n",
      "[]\n",
      "[]\n"
     ]
    }
   ],
   "source": [
    "def kapsack_dfs(items, k, knapsack=[]):\n",
    "    print(knapsack)\n",
    "    if len(items) != 0:\n",
    "        kapsack_dfs(items[1:], k - items[0][0], knapsack + [items[0]])\n",
    "        print(knapsack)\n",
    "        kapsack_dfs(items[1:], k, knapsack)\n",
    "        \n",
    "K = 60\n",
    "items = [(50, 30), (30, 20), (10, 25)]\n",
    "\n",
    "kapsack_dfs(items, K)"
   ]
  },
  {
   "cell_type": "markdown",
   "metadata": {},
   "source": [
    "Die Ausgabe lässt einen unbeschränkten DFS-Durchlauf durch den Binärbaum erkennen. Auch das Backtracking kann sehr gut nachvollzogen werden. \n",
    "\n",
    "Als Nächstes wird die Kapazitätsbeschränkung des Rucksacks einbezogen. Hierfür muss lediglich eine Programmzeile eingefügt werden."
   ]
  },
  {
   "cell_type": "code",
   "execution_count": 15,
   "metadata": {},
   "outputs": [
    {
     "name": "stdout",
     "output_type": "stream",
     "text": [
      "[]\n",
      "[(50, 30)]\n",
      "[]\n",
      "[]\n",
      "[(30, 20)]\n",
      "[(30, 20), (10, 25)]\n",
      "[(30, 20)]\n",
      "[(30, 20)]\n",
      "[]\n",
      "[]\n",
      "[(10, 25)]\n",
      "[]\n",
      "[]\n"
     ]
    }
   ],
   "source": [
    "def kapsack_dfs_ltd(items, k, knapsack=[]):\n",
    "    print(knapsack)\n",
    "    if len(items) != 0:        \n",
    "        if items[0][0] <= k:    # Kapazitätsprüfung       \n",
    "            kapsack_dfs_ltd(items[1:], k - items[0][0], knapsack + [items[0]])\n",
    "            print(knapsack)\n",
    "            kapsack_dfs_ltd(items[1:], k, knapsack)\n",
    "            \n",
    "kapsack_dfs_ltd(items, K)"
   ]
  },
  {
   "cell_type": "markdown",
   "metadata": {},
   "source": [
    "Alle oben ausgegebenen Knoten stellen zulässigen Rucksackbefüllungen dar.\n",
    "\n",
    "Im Folgenden wird für diese Knoten zusätzlich der zugehörige Gesamtwert bestimmt; das Maximum dieser Gesamtwerte ist eine Lösung des Problems."
   ]
  },
  {
   "cell_type": "code",
   "execution_count": 16,
   "metadata": {},
   "outputs": [
    {
     "name": "stdout",
     "output_type": "stream",
     "text": [
      "[(50, 30), (10, 25)]\n"
     ]
    }
   ],
   "source": [
    "#helper function to get value of a knapsack\n",
    "def value(knapsack):\n",
    "    sum_value = 0\n",
    "    for item in knapsack:\n",
    "        sum_value += item[1]\n",
    "    return sum_value\n",
    "\n",
    "\n",
    "def get_optimal_solution(items, k, knapsack=[]):\n",
    "    if len(items) == 0:\n",
    "        return knapsack\n",
    "    if items[0][0] <= k:\n",
    "        solution_with = get_optimal_solution(items[1:], k - items[0][0], knapsack + [items[0]])\n",
    "        solution_without = get_optimal_solution(items[1:], k, knapsack)\n",
    "        if value(solution_without) > value(solution_with):\n",
    "            return solution_without\n",
    "        return solution_with\n",
    "    return get_optimal_solution(items[1:], k, knapsack)\n",
    "\n",
    "\n",
    "print(get_optimal_solution(items, K))"
   ]
  },
  {
   "cell_type": "markdown",
   "metadata": {},
   "source": [
    "Im Beispiel werden die beiden Gegenstände mit den Gewichten 50 und 10 in den Rucksack gepackt. Damit wird ein Gesamtwert von 55 erzielt. Das Gesamtgewicht ist 60, wodurch die Kapazitätsgrenze eingehalten wird."
   ]
  },
  {
   "cell_type": "markdown",
   "metadata": {},
   "source": [
    "### n-Damenproblem\n",
    "\n",
    "Das $n$-Damenproblem ist ein schachmathematisches Problem und eine Verallgemeinerung des 8-Damenproblems.\n",
    "\n",
    "Die Aufgabe besteht darin, 8 Damen auf einem $8\\times 8$-Schachbrett so zu platzieren, dass keine Dame gemäß den Schachregeln eine andere Dame bedroht, d.h. schlagen kann. Dies bedeutet, dass keine zwei Damen auf der selben Reihe, Linie (Zeile, Spalte) oder Diagonale stehen dürfen.\n",
    "\n",
    "Eine Lösung für das 8-Dameproblem ist die folgende:\n",
    "\n",
    "<img src=\"http://schinckel.net/images/2008/06/8queens.jpg\" width=\"250\">\n",
    "\n",
    "Das 8-Damenproblem lässt sich sinngemäß auf ein $n$-Damenproblem ausweiten, d.h. $n$ Damen sollen bedrohungsfrei auf einem $n\\times n$-Schachbrett platziert werden.\n",
    "\n",
    "Zur Lösung dieses Problems kann ebenfalls Depth-First-Search eingesetzt werden. \n",
    "\n",
    "Dabei nutzen wir eine Liste mit bis zu $n$-Elementen als Datenstruktur, die am Index $i$ angibt, in welcher Reihe in der $i$-ten Spalte eine Dame platziert wurde. Aufgrund der Tatsache, dass eine Dame ihre komplette Spalte schlägt, ist es trivial, dass sich in jeder Spalte nur höchstens eine Dame befinden kann. Da $n$ Damen auf $n$ Reihen verteilt werden, folgt, dass in jeder Spalte genau eine Dame stehen muss.\n",
    "\n",
    "Die Liste [0, 4, 7, 5, 2, 6, 1, 3] beschreibt dabei folgende Stellung:\n",
    "\n",
    "<img src=\"https://webinstitute.files.wordpress.com/2012/04/8-queens2.png?w=660\" width=\"250\">\n",
    "\n",
    "Man fängt mit einem leeren Schachbrett an - dies wird durch eine leere Liste repräsentiert. Nun soll schrittweise in jeder Spalte eine Dame platziert werden. Dabei werden alle Reihen von 0 bis $n-1$ durchprobiert. Dies bedeutet, dass $n$-mal die Tiefensuche mit der entsprechenden Konfiguration aufgerufen wird. Es wird dabei geprüft, ob es sich bei der angegebenen Stellung noch um eine gültige Stellung handelt, d.h. keine Dame kann eine andere Dame schlagen. Ist dies der Fall, so wird in der nächsten Spalte der Algorithmus mit den Reihen 0 bis $n-1$ rekursiv aufgerufen. Handelt es sich nicht um eine gültige Stellung, so wird eine leere Liste als Lösungsmenge zurückgegeben und ein Backtracking ausgeführt: Rückkehr zum letzten Entscheidungspunkt. Dieser Ablauf wird vollständig durch die rekursive Natur von DFS erledigt.\n",
    "\n",
    "Dieses Vorgehen minimiert die Anzahl der zu überprüfenden Stellungen enorm, da - anders als bei einem Brute-Force Ansatz, bei dem alle Stellungen durchprobiert werden - nun auch alle folgenden Stellungen ausgeschlossen werden. "
   ]
  },
  {
   "cell_type": "code",
   "execution_count": 17,
   "metadata": {},
   "outputs": [
    {
     "name": "stdout",
     "output_type": "stream",
     "text": [
      "Solutions of the 4 queens problem: [[1, 3, 0, 2], [2, 0, 3, 1]]\n",
      "Number of solutions of the 8 queens problem: 92\n"
     ]
    }
   ],
   "source": [
    "def feasible(setting):\n",
    "    if len(set(setting)) != len(setting):\n",
    "        return False\n",
    "    for i in range(len(setting)):\n",
    "        for j in range(len(setting)):\n",
    "            if j != i and (setting[j] == setting[i] - i + j or setting[j] == setting[i] + i - j):\n",
    "                return False\n",
    "    return True\n",
    "\n",
    "\n",
    "def n_queens(n, setting=[]):\n",
    "    if not feasible(setting):\n",
    "        return []\n",
    "    if len(setting) == n:\n",
    "        return [list(setting)]\n",
    "    solutions = []\n",
    "    for i in range(n):\n",
    "        solutions += n_queens(n, setting + [i])\n",
    "    return solutions\n",
    "\n",
    "\n",
    "print('Solutions of the 4 queens problem:', n_queens(4), end='\\n')\n",
    "print('Number of solutions of the 8 queens problem:', len(n_queens(8)), end='\\n')"
   ]
  },
  {
   "cell_type": "markdown",
   "metadata": {},
   "source": [
    "## Breadth-First Search\n",
    "\n",
    "Bei Breadth-First Search (Breitensuche) wird - anders als bei Depth-First Search - gleichmäßig vom Wurzelknoten (der Knoten, von dem aus gesucht wird) nach Knoten gesucht. Gleichmäßig bedeutet dabei, dass, bevor man weiter in die Tiefe des Graphen expandiert, zunächst alle Knoten einer Ebene abarbeitet werden. Zwei Knoten sind dabei auf der gleichen Ebene, wenn sie die gleich weit, d.h. um die gleiche Anzahl an Knoten, zum Wurzelknoten entfernt sind.\n",
    "\n",
    "Dieses gleichmäßige Voranschreiten der Suchtiefe wird erzielt, indem man eine Queue als Datenstruktur verwendet, um die gefundenen Knoten zwischenzuspeichern. Dies führt dazu, dass bei einem gefundenen Knoten nicht direkt weiter in die Tiefe gegangen wird, sondern dieser Knoten ans Ende der Queue gestellt wird und zunächst alle anderen Knoten, die sich weiter vorne in der Queue befinden, abgearbeitet werden.\n",
    "\n",
    "__Implementation mit folgendem Beispiel:__\n",
    "\n",
    "<img src=\"https://upload.wikimedia.org/wikipedia/commons/4/46/Animated_BFS.gif\" width=\"200\">\n",
    "\n",
    "Das BFS-Verfahren ist nicht rekursiv und es gibt auch kein Backtracking.\n"
   ]
  },
  {
   "cell_type": "code",
   "execution_count": 18,
   "metadata": {
    "scrolled": true
   },
   "outputs": [
    {
     "name": "stdout",
     "output_type": "stream",
     "text": [
      "a b c d e f g h "
     ]
    }
   ],
   "source": [
    "import queue\n",
    "\n",
    "def bfs(root):\n",
    "    found = set()\n",
    "    q = queue.Queue()\n",
    "    print(root.name, end=' ')\n",
    "    q.put(root)\n",
    "    found.add(root)\n",
    "    while not q.empty():\n",
    "        current = q.get()\n",
    "        for node in current.adj:\n",
    "            if node[0] not in found:\n",
    "                print(node[0].name, end=' ')\n",
    "                q.put(node[0])\n",
    "                found.add(node[0])\n",
    "\n",
    "a = Node('a')\n",
    "b = Node('b')\n",
    "c = Node('c')\n",
    "d = Node('d')\n",
    "e = Node('e')\n",
    "f = Node('f')\n",
    "g = Node('g')\n",
    "h = Node('h')\n",
    "\n",
    "a.add_to_adj_lst(b)\n",
    "a.add_to_adj_lst(c)\n",
    "b.add_to_adj_lst(d)\n",
    "b.add_to_adj_lst(e)\n",
    "c.add_to_adj_lst(f)\n",
    "c.add_to_adj_lst(g)\n",
    "e.add_to_adj_lst(h)\n",
    "\n",
    "bfs(a)"
   ]
  },
  {
   "cell_type": "markdown",
   "metadata": {},
   "source": [
    "### Single-Source Shortest Path\n",
    "\n",
    "Um in einem ungewichteten Graphen (bzw. in einem gewichteten Graphen, bei dem alle Kanten das gleiche Gewicht haben) den kürzesten Weg von einem Quellknoten zu einem vorgegebenen Knoten zu finden, kann die Breitensuche verwendet werden. Da die Breitensuche gleichmäßig von Ebene zu Ebene expandiert, muss man während des BFS-Prozesses lediglich mitzählen, in welcher Ebene man sich befindet. Die Ebene gibt an, wie weit der jeweils gefundene Knoten vom Quellknoten entfernt ist (Anzahl der Kanten auf dem Pfad)."
   ]
  },
  {
   "cell_type": "code",
   "execution_count": 19,
   "metadata": {},
   "outputs": [
    {
     "name": "stdout",
     "output_type": "stream",
     "text": [
      "distance from a to b:  1\n",
      "distance from a to g:  2\n",
      "distance from a to h:  3\n"
     ]
    }
   ],
   "source": [
    "def bfs_shortest_path(source, target):\n",
    "    if source == target:\n",
    "        return 0\n",
    "    node_to_level = {}\n",
    "    q = queue.Queue()\n",
    "    q.put(source)\n",
    "    current_level = 0\n",
    "    node_to_level[source] = current_level\n",
    "    while not q.empty():\n",
    "        current = q.get()\n",
    "        current_level = node_to_level[current]\n",
    "        for node in current.adj:\n",
    "            if node[0] not in node_to_level:\n",
    "                if node[0] == target:\n",
    "                    return current_level + 1\n",
    "                q.put(node[0])\n",
    "                node_to_level[node[0]] = current_level + 1\n",
    "    return None\n",
    "\n",
    "print('distance from a to b: ', bfs_shortest_path(a, b))\n",
    "print('distance from a to g: ', bfs_shortest_path(a, g))\n",
    "print('distance from a to h: ', bfs_shortest_path(a, h))"
   ]
  }
 ],
 "metadata": {
  "kernelspec": {
   "display_name": "Python 3",
   "language": "python",
   "name": "python3"
  },
  "language_info": {
   "codemirror_mode": {
    "name": "ipython",
    "version": 3
   },
   "file_extension": ".py",
   "mimetype": "text/x-python",
   "name": "python",
   "nbconvert_exporter": "python",
   "pygments_lexer": "ipython3",
   "version": "3.6.3"
  }
 },
 "nbformat": 4,
 "nbformat_minor": 2
}
