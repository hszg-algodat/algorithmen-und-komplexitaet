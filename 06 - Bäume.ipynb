{
 "cells": [
  {
   "cell_type": "markdown",
   "metadata": {},
   "source": [
    "# Bäume\n",
    "\n",
    "Mathematisch betrachtet ist die Menge der Bäume eine Teilmenge der Menge der ungerichteten Graphen.\n",
    "\n",
    "__Definition 6.1__\n",
    "Ein ungerichteter Graph $G = (V, E)$ ist ein Baum, wenn es für alle $u, v \\in V$ genau einen Pfad von $u$ nach $v$ gibt.\n",
    "\n",
    "In einem Baum gibt es also zu jedem Paar aus Knoten genau einen Pfad. Alternativ kann man sagen, dass ein ungerichteter Graph ein Baum ist, wenn er keine Kreise enthält und zusammenhängend ist.\n",
    "\n",
    "__Beispiele__\n",
    "\n",
    "Der folgende Graph:\n",
    "\n",
    "<img src=\"img/graph1.png\" width=\"200\">\n",
    "\n",
    "ist ein Baum, da er keine Kreise enthält und zusammenhängend ist (jeder Knoten von jedem anderen Knoten erreichbar).\n",
    "\n",
    "Der folgende Grpah:\n",
    "\n",
    "<img src=\"img/graph2.png\" width=\"200\">\n",
    "\n",
    "ist __kein__ Baum, da er einen Kreis enthält.\n",
    "\n",
    "Der folgende Grpah:\n",
    "\n",
    "<img src=\"img/graph3.png\" width=\"200\">\n",
    "\n",
    "ist __kein__ Baum, da er nicht zusammenhängend ist.\n",
    "\n",
    "## Gewurzelte Bäume\n",
    "\n",
    "In der Informatik betrachtet man meistens gewurzelte Bäume (rooted trees).\n",
    "\n",
    "__Defintion 6.2__\n",
    "Gewurzelte Bäume sind gerichtete Bäume, bei denen ein Knoten Wurzel (root) ist und von diesem Wurzelknoten alle anderen Knoten über genau einen Pfad erreichbar sind.\n",
    "\n",
    "__Beispiel:__\n",
    "\n",
    "<img src=\"http://www.mathcs.emory.edu/~cheung/Courses/170/Syllabus/02/FIGS/tree-stru.gif\" width=\"280\">\n",
    "\n",
    "## Binärbäume\n",
    "\n",
    "\n",
    "__Definition 6.3__\n",
    "Binärbäume (binary trees) sind gewurzelte Bäume, bei denen ein Knoten maximal zwei direkte Nachkommen hat. \n",
    "\n",
    "__Beispiel:__\n",
    "\n",
    "<img src=\"https://upload.wikimedia.org/wikipedia/commons/thumb/f/f7/Binary_tree.svg/720px-Binary_tree.svg.png\" width=\"200\">\n",
    "\n",
    "Binärbäume werden rekursiv definiert. Dabei besteht ein Knoten (Node) aus einem Wert, einem linken Kind und einem rechten Kind. Die Kinder sind dabei auch Knoten, dadurch erggibt sich die rekursive Definition. Die Kinder können auch __null__ sein, in dem Fall existieren rechter Subbaum oder linker Teilbaum nicht. Sind sowohl linker als auch rechtes Kind __null__, so handelt es sich bei dem Knoten um ein Blatt (leaf).\n",
    "\n",
    "__Implementation mit obigem Beispiel__"
   ]
  },
  {
   "cell_type": "code",
   "execution_count": 235,
   "metadata": {
    "collapsed": true
   },
   "outputs": [],
   "source": [
    "class Node:\n",
    "    def __init__(self, value=None, left=None, right=None):\n",
    "        self.value = value\n",
    "        self.left = left\n",
    "        self.right = right\n",
    "        \n",
    "\n",
    "a = Node(5)\n",
    "b = Node(11)\n",
    "c = Node(4)\n",
    "d = Node(2)\n",
    "e = Node(6, a, b)\n",
    "f = Node(9, c)\n",
    "g = Node(7, d, e)\n",
    "h = Node(5, None, f)\n",
    "i = Node(2, g, h)"
   ]
  },
  {
   "cell_type": "markdown",
   "metadata": {},
   "source": [
    "## Binäre Suchbäume\n",
    "\n",
    "Ein Binärer Suchbaum (binary search tree) ist eine Datenstruktur, die verwendet wird, wenn sowohl schnelles Einfügen, als auch schnelles Suchen eines Elements gefordert wird.\n",
    "\n",
    "Betrachten wird zunächst Datenstrukturen, die bereits im Kapitel \"3 - Abstrakte Datentypen und Datenstrukturen\" vorgestellt wurden, nämlich eine Linked List, ein unsortiertes und ein sortiertes Array. Dazu untersuchen wir die Aufwände der Insert und Search Operation.\n",
    "\n",
    "Bei einer __Linked List__ findet das Einfügen in $\\mathcal{O}(1)$ statt, da lediglich ein neues Element angelegt wird und ensprechend ein Pointer bearbeitet wird. Möchten wir allerdings nach einem Element suchen, so ist der Zeitaufwand $\\mathcal{O}(n)$, da durch die komplette Liste gegangen werden muss, um das Element zu finden. \n",
    "\n",
    "Bei einem __unsortierten Array__ beträgt der Aufwand zum Einfügen $\\mathcal{O}(n)$, da ein neues Array erstellt werden muss und alle Werte kopiert werden. Wie bei der Linked List muss durch alle Elemente iteriert werden, um ein Element zu finden, dadurch ist auch hier der Aufwand zum Einfügen $\\mathcal{O}(n)$.\n",
    "\n",
    "Bei einem __sortierten Arrray__ kann Binary Search verwendet werden, um ein Element zu finden, dadurch beträgt der Aufwand hierfür bloß $\\mathcal{O}(\\log n)$. Das Einfügen ist jedoch ineffizient. Man müsste zunächst die Stelle finden, wo das neue Element eingefügt werden soll, um die Sortierung beizubehalten. Dies nimmt $\\mathcal{O}(\\log n)$ in Anspruch. Anschließend muss man allerdings $\\mathcal{O}(n)$ Elemente dahinter um eine Position nach hinten verschieben, bzw. in ein neues Array kopieren. Dadurch ergibt sich für die Insert-Operation ein Aufwand von $\\mathcal{O}(n)$.\n",
    "\n",
    "Ein __Binärer Suchbaum__ ist ein Binärbaum, bei welchem für alle Knoten gilt, dass jeder Wert des linken Subbaums kleiner als der Wert des Elternknoten ist und der Wert des Elternknoten kleiner als jeder Wert des rechten Subbaums ist. Dies lässt sich nicht nur für Zahlen anwenden, sondern für alle Datentypen, für welche eine Ordnungsrelation definiert werden kann. So gilt verallgemeinert, dass für jeden Knoten die Relation aus jedem Wert des linken Subbaums und dem Wert des Elternknoten zur definierten Ordnungsrelation gehört, sowie alle Relation aus dem Wert des Elternknoten und jedem Wert des rechten Subbaums.\n",
    "\n",
    "__Beispiel__\n",
    "\n",
    "<img src=\"https://upload.wikimedia.org/wikipedia/commons/thumb/d/da/Binary_search_tree.svg/500px-Binary_search_tree.svg.png\" width=\"200\">\n",
    "\n",
    "__Search__\n",
    "\n",
    "Um einen Wert in einem BST (binary search tree) zu finden, wird ein Verfahren ähnlich wir Binary Search angewandt. Man fängt zunächst bei der Wurzel an. Entspricht dies bereits dem gesuchten Wert, so hat man ihn gefunden. Ist der gesuchte Wert kleiner als der Wert der Wurzel, so wird die Suche rekursiv auf dem linken Subbaum aufgreufen, da sich hier alle Werte befinden, die kleiner als die Wurzel sind. Ist der gesuchte Wert größer, so wird rekursiv im rechten Subbaum weitergesucht. Der Algorithmus terminiert, sobald der gesuchte Wert gefunden wurde oder ein Blatt erreicht wurde.\n",
    "\n",
    "Die Höhe eine Baumes ist die Länge des Pfades von der Wurzel zum am weitesten entfernten Knoten (in jedem Fall ein Blatt).\n",
    "\n",
    "Die Höhe des Binären Suchbaums im obigen Beispiel ist 4.\n",
    "\n",
    "Da bei der Suche im BST maximal $h$ (Höhe $h$ des Baums) besucht werden, beträgt der Zeitaufwand zur Suche $\\mathcal{O}(h)$. Was dies im Bezug auf $n$ (der Anzahl der Elemente) bedeutet, wird noch erläutert.\n",
    "\n",
    "__Insert__\n",
    "\n",
    "Wir gehen davon aus, dass sich keine Duplikate (Knoten mit dem gleichen Wert) im BST befinden.\n",
    "\n",
    "Um ein Element einzufügen, muss zunächst die Suche im BST durchführen. Da sich das Element noch nicht im BST befindet, gelangt man an das Blatt, dass dem einzufügenden Wert am nächsten ist. An dieser Stelle muss man nun einen neuen Knoten einfügen. Ist der einzufügende Wert größer, so wird er als rechtes Kind eingefügt, ist er kleiner, so wird er als linkes Kind eingefügt.\n",
    "\n",
    "__Remove__\n",
    "\n",
    "Um ein Element zu Entfernen, muss man es zuerst suchen. Dieser Vorgang wurde bereits beschrieben und ist mit einem Aufwand von $\\mathcal{O}(h)$ machbar. Handelt es sich bei dem Element um ein Blatt im Baum, so kann dieses Element einfach entfernt werden.\n",
    "\n",
    "<img src=\"img/bst_removing_leaf.png\" width=\"200\">\n",
    "\n",
    "Handelt es sich nicht um ein Blatt und der entsprechende Knoten hat genau ein Kind, so muss dieser Knoten quasi übersprungen werden und der Elternknoten hat nun den Kind des Kindes als Kind.\n",
    "\n",
    "<img src=\"img/bst_removing_with_1_child.png\" width=\"200\">\n",
    "\n",
    "Hat der Knoten zwei Kinder, so muss die entstandene Lücke im Baum gefüllt werden. Dafür wird im rechten Subbaum der kleinste Wert gesucht und dieser nun dort eingesetzt, wo das zu löschende Element gerade entfernt wurde. Mann findet in einem (Sub-)Baum das kleinste Element, indem man immer nach links die Knoten durchgeht. Sobald der Pointer für das linke Kind __null__ ist, hat man das kleinste Element gefunden.  \n",
    "\n",
    "<img src=\"img/bst_removing_with_2_children_step_1.png\" width=\"200\">\n",
    "\n",
    "<img src=\"img/bst_removing_with_2_children_step_2.png\" width=\"200\">\n",
    "\n",
    "Alternativ kann man natürlich auch das größte Element des linken Subbaums nehmen. Um das größte Element zu finden, muss man entsprechend immer nach rechts im Baum gehen."
   ]
  },
  {
   "cell_type": "code",
   "execution_count": 236,
   "metadata": {
    "scrolled": false
   },
   "outputs": [
    {
     "name": "stdout",
     "output_type": "stream",
     "text": [
      "3\n",
      "10\n",
      "14\n",
      "7\n"
     ]
    }
   ],
   "source": [
    "def search_in_BST(root, value):\n",
    "    if root is None or root.value is None:\n",
    "        return None\n",
    "    if value == root.value:\n",
    "        return root\n",
    "    if value < root.value:\n",
    "        return search_in_BST(root.left, value)\n",
    "    return search_in_BST(root.right, value)\n",
    "\n",
    "\n",
    "def insert_in_BST(root, value):\n",
    "    if root is not None:\n",
    "        if root.value is None:\n",
    "            root.value = value\n",
    "        elif value < root.value:\n",
    "            if root.left is None:\n",
    "                root.left = Node()\n",
    "            insert_in_BST(root.left, value)\n",
    "        elif value > root.value:\n",
    "            if root.right is None:\n",
    "                root.right = Node()\n",
    "            insert_in_BST(root.right, value)\n",
    "          \n",
    "        \n",
    "def amount_of_nodes(root, count=0):\n",
    "    if root is not None:\n",
    "        count += 1 + amount_of_nodes(root.left) + amount_of_nodes(root.right)\n",
    "    return count\n",
    "            \n",
    "\n",
    "def find_min_in_BST(root):\n",
    "    if root is not None:\n",
    "        if root.left is None:\n",
    "            return root\n",
    "        return find_min_in_BST(root.left)\n",
    "    \n",
    "    \n",
    "def find_max_in_BST(root):\n",
    "    if root is not None:\n",
    "        if root.right is None:\n",
    "            return root\n",
    "        return find_max_in_BST(root.right)\n",
    "        \n",
    "\n",
    "def remove_from_BST(root, value):\n",
    "    if root is not None:\n",
    "        if value == root.value:\n",
    "            if root.left is None and root.right is None:\n",
    "                return None\n",
    "            if root.left is None:\n",
    "                return root.right\n",
    "            if root.right is None:\n",
    "                return root.left\n",
    "            root.value = find_min_in_BST(root.right).value\n",
    "            root.right = remove_from_BST(root.right, root.value)\n",
    "        elif value < root.value:\n",
    "            root.left = remove_from_BST(root.left, value)\n",
    "        else:\n",
    "            root.right = remove_from_BST(root.right, value)\n",
    "        return root\n",
    "    \n",
    "    \n",
    "bst = Node()\n",
    "insert_in_BST(bst, 8)\n",
    "insert_in_BST(bst, 3)\n",
    "insert_in_BST(bst, 10)\n",
    "insert_in_BST(bst, 1)\n",
    "insert_in_BST(bst, 6)\n",
    "insert_in_BST(bst, 14)\n",
    "insert_in_BST(bst, 4)\n",
    "insert_in_BST(bst, 7)\n",
    "insert_in_BST(bst, 13)\n",
    "\n",
    "print(bst.left.value)\n",
    "print(bst.right.value)\n",
    "print(bst.right.right.value)\n",
    "print(bst.left.right.right.value)"
   ]
  },
  {
   "cell_type": "markdown",
   "metadata": {},
   "source": [
    "Oben wurden die Search und Insert Operationen eines BST mit dem folgenden Beispiel implementiert:\n",
    "\n",
    "<img src=\"https://upload.wikimedia.org/wikipedia/commons/thumb/d/da/Binary_search_tree.svg/500px-Binary_search_tree.svg.png\" width=\"200\">\n",
    "\n",
    "Testhalber geben wir einige Werte des BST aus. Sie stimmen mit den erwarteten Werten überein."
   ]
  },
  {
   "cell_type": "code",
   "execution_count": 237,
   "metadata": {
    "scrolled": true
   },
   "outputs": [
    {
     "name": "stdout",
     "output_type": "stream",
     "text": [
      "<__main__.Node object at 0x00000231786FE358>\n",
      "<__main__.Node object at 0x00000231786FEE48>\n",
      "None\n"
     ]
    }
   ],
   "source": [
    "print(search_in_BST(bst, 1))\n",
    "print(search_in_BST(bst, 10))\n",
    "print(search_in_BST(bst, 2))"
   ]
  },
  {
   "cell_type": "markdown",
   "metadata": {},
   "source": [
    "Für die Werte 1 und 10 konnten Knoten gefunden werden, für den Wert 2 nicht, da er sich nicht im BST befindet.\n",
    "\n",
    "Auch die Remove Operation wurde implementiert:"
   ]
  },
  {
   "cell_type": "code",
   "execution_count": 238,
   "metadata": {},
   "outputs": [
    {
     "name": "stdout",
     "output_type": "stream",
     "text": [
      "number of nodes: 9\n",
      "number of nodes after removing 3 nodes: 6\n"
     ]
    }
   ],
   "source": [
    "print('number of nodes: ' + str(amount_of_nodes(bst)))\n",
    "bst = remove_from_BST(bst, 4)\n",
    "bst = remove_from_BST(bst, 8)\n",
    "bst = remove_from_BST(bst, 6)\n",
    "print('number of nodes after removing 3 nodes: ' + str(amount_of_nodes(bst)))"
   ]
  },
  {
   "cell_type": "markdown",
   "metadata": {},
   "source": [
    "### Tree Traversal\n",
    "\n",
    "Um einen Baum zu traversieren, wird Depth-First-Search genutzt. Da es sich bei einem Binärbaum nicht um eine Liste von benachbarten Knoten handelt, sondern um zwei Pointer auf je einen Kindknoten, wird DFS hier nicht auf eine Liste, sondern auf die beiden Kinder rekursiv angewandt. \n",
    "\n",
    "In welcher Reihenfolge man den rekurisven Aufruf auf dem linken Kind, dem rekursiven Aufruf auf dem rechten Kind und die gewünschte Aktion (z.B. Ausgeben des Wertes des Knoten) ausführt, bestimmt, ob es sich um __Pre-Order__, __In-Order__ oder __Post Order__ Traversal handelt.\n",
    "\n",
    "#### Pre-Order Traversal"
   ]
  },
  {
   "cell_type": "code",
   "execution_count": 239,
   "metadata": {
    "collapsed": true
   },
   "outputs": [],
   "source": [
    "def pre_order_trav(root):\n",
    "    if root is not None:\n",
    "        print(root.value, end=' ')\n",
    "        pre_order_trav(root.left)\n",
    "        pre_order_trav(root.right)"
   ]
  },
  {
   "cell_type": "markdown",
   "metadata": {},
   "source": [
    "Bei Pre-Order Traversal wird direkt beim ersten besuchen des Knoten die gewünschte Aktion auf dem Knoten ausgeführt - in dem Fall das Ausgeben in der Konsole. Erst danach folgen die rekursiven Aufrufe auf den beiden Kindern.\n",
    "\n",
    "#### In-Order Traversal"
   ]
  },
  {
   "cell_type": "code",
   "execution_count": 240,
   "metadata": {
    "collapsed": true
   },
   "outputs": [],
   "source": [
    "def in_order_trav(root):\n",
    "    if root is not None:\n",
    "        in_order_trav(root.left)\n",
    "        print(root.value, end=' ')\n",
    "        in_order_trav(root.right)"
   ]
  },
  {
   "cell_type": "markdown",
   "metadata": {},
   "source": [
    "Bei In-Order Traversal findet zunächst der rekursive Aufruf auf dem linken Kind statt, danach die Aktion auf dem Knoten und anschließend der rekursive Aufruf auf dem rechten Kind. Dies hat zur Folge, dass die Aktion immer beim zweiten Besuch eines Knoten ausgeführt wird.\n",
    "\n",
    "Führt man In-Order Traversal auf einem Binären Suchbaum aus, so werden die Werte in sortierter Reihenfolge ausgegeben.\n",
    "\n",
    "#### Post-Order Traversal"
   ]
  },
  {
   "cell_type": "code",
   "execution_count": 241,
   "metadata": {
    "collapsed": true
   },
   "outputs": [],
   "source": [
    "def post_order_trav(root):\n",
    "    if root is not None:\n",
    "        post_order_trav(root.left)\n",
    "        post_order_trav(root.right)\n",
    "        print(root.value, end=' ')"
   ]
  },
  {
   "cell_type": "markdown",
   "metadata": {},
   "source": [
    "Bei Post-Order Traversal finden zunächst die rekursiven Aufrufe statt und anschließend die Aktion auf dem Knoten. Dies hat zur Folge, dass die Aktion beim dritten Besuch eines Knoten stattfindet.\n",
    "\n",
    "Für das Beispiel\n",
    "\n",
    "<img src=\"https://upload.wikimedia.org/wikipedia/commons/thumb/d/da/Binary_search_tree.svg/500px-Binary_search_tree.svg.png\" width=\"200\">\n",
    "\n",
    "ergiben sich folgende Reihenfolgen:"
   ]
  },
  {
   "cell_type": "code",
   "execution_count": 242,
   "metadata": {},
   "outputs": [
    {
     "name": "stdout",
     "output_type": "stream",
     "text": [
      "pre order:\n",
      "8 3 1 6 4 7 10 14 13 \n",
      "in order:\n",
      "1 3 4 6 7 8 10 13 14 \n",
      "post order:\n",
      "1 4 7 6 3 13 14 10 8 "
     ]
    }
   ],
   "source": [
    "bst = Node()\n",
    "insert_in_BST(bst, 8)\n",
    "insert_in_BST(bst, 3)\n",
    "insert_in_BST(bst, 10)\n",
    "insert_in_BST(bst, 1)\n",
    "insert_in_BST(bst, 6)\n",
    "insert_in_BST(bst, 14)\n",
    "insert_in_BST(bst, 4)\n",
    "insert_in_BST(bst, 7)\n",
    "insert_in_BST(bst, 13)\n",
    "\n",
    "print('pre order:')\n",
    "pre_order_trav(bst)\n",
    "print()\n",
    "print('in order:')\n",
    "in_order_trav(bst)\n",
    "print()\n",
    "print('post order:')\n",
    "post_order_trav(bst)"
   ]
  }
 ],
 "metadata": {
  "kernelspec": {
   "display_name": "Python 3",
   "language": "python",
   "name": "python3"
  },
  "language_info": {
   "codemirror_mode": {
    "name": "ipython",
    "version": 3
   },
   "file_extension": ".py",
   "mimetype": "text/x-python",
   "name": "python",
   "nbconvert_exporter": "python",
   "pygments_lexer": "ipython3",
   "version": "3.6.3"
  }
 },
 "nbformat": 4,
 "nbformat_minor": 2
}
