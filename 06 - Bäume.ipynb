{
 "cells": [
  {
   "cell_type": "markdown",
   "metadata": {},
   "source": [
    "# Bäume\n",
    "\n",
    "Mathematisch betrachtet ist die Menge der Bäume eine Teilmenge der Menge der ungerichteten Graphen.\n",
    "\n",
    "__Definition 6.1__\n",
    "Ein ungerichteter Graph $G = (V, E)$ ist ein Baum, wenn es für alle $u, v \\in V$ genau einen Pfad von $u$ nach $v$ gibt.\n",
    "\n",
    "In einem Baum gibt es also zu jedem Paar aus Knoten genau einen Pfad. Alternativ kann man sagen, dass ein ungerichteter Graph ein Baum ist, wenn er keine Kreise enthält und zusammenhängend ist.\n",
    "\n",
    "__Beispiele__\n",
    "\n",
    "Der folgende Graph:\n",
    "\n",
    "<img src=\"img/graph1.png\" width=\"250\">\n",
    "\n",
    "ist ein Baum, da er keine Kreise enthält und zusammenhängend ist (jeder Knoten von jedem anderen Knoten erreichbar).\n",
    "\n",
    "Der folgende Grpah:\n",
    "\n",
    "<img src=\"img/graph2.png\" width=\"250\">\n",
    "\n",
    "ist __kein__ Baum, da er einen Kreis enthält.\n",
    "\n",
    "Der folgende Grpah:\n",
    "\n",
    "<img src=\"img/graph3.png\" width=\"250\">\n",
    "\n",
    "ist __kein__ Baum, da er nicht zusammenhängend ist.\n",
    "\n",
    "## Gewurzelte Bäume\n",
    "\n",
    "In der Informatik betrachtet man meistens gewurzelte Bäume (rooted trees).\n",
    "\n",
    "__Defintion 6.2__\n",
    "Gewurzelte Bäume sind gerichtete Bäume, bei denen ein Knoten Wurzel (root) ist und von diesem Wurzelknoten alle anderen Knoten über genau einen Pfad erreichbar sind.\n",
    "\n",
    "__Beispiel für einen gewurzelten Baum:__\n",
    "\n",
    "<img src=\"https://stanford.edu/class/archive/cs/cs106b/cs106b.1158/images/binary-tree-figure.png\" width=\"200\">"
   ]
  }
 ],
 "metadata": {
  "kernelspec": {
   "display_name": "Python 3",
   "language": "python",
   "name": "python3"
  },
  "language_info": {
   "codemirror_mode": {
    "name": "ipython",
    "version": 3
   },
   "file_extension": ".py",
   "mimetype": "text/x-python",
   "name": "python",
   "nbconvert_exporter": "python",
   "pygments_lexer": "ipython3",
   "version": "3.6.3"
  }
 },
 "nbformat": 4,
 "nbformat_minor": 2
}
