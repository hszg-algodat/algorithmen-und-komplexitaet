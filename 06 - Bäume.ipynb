{
 "cells": [
  {
   "cell_type": "markdown",
   "metadata": {},
   "source": [
    "# Bäume\n",
    "\n",
    "Mathematisch betrachtet ist die Menge der Bäume eine Teilmenge der Menge der ungerichteten Graphen.\n",
    "\n",
    "__Definition 6.1__\n",
    "Ein ungerichteter Graph $G = (V, E)$ ist ein Baum, wenn es für alle $u, v \\in V$ genau einen Pfad von $u$ nach $v$ gibt.\n",
    "\n",
    "In einem Baum gibt es also zu jedem Paar aus Knoten genau einen Pfad. Alternativ kann man sagen, dass ein ungerichteter Graph ein Baum ist, wenn er keine Kreise enthält und zusammenhängend ist.\n",
    "\n",
    "__Beispiele__\n",
    "\n",
    "Der folgende Graph:\n",
    "\n",
    "<img src=\"img/graph1.png\" width=\"250\">\n",
    "\n",
    "ist ein Baum, da er keine Kreise enthält und zusammenhängend ist (jeder Knoten von jedem anderen Knoten erreichbar).\n",
    "\n",
    "Der folgende Grpah:\n",
    "\n",
    "<img src=\"img/graph2.png\" width=\"250\">\n",
    "\n",
    "ist __kein__ Baum, da er einen Kreis enthält.\n",
    "\n",
    "Der folgende Grpah:\n",
    "\n",
    "<img src=\"img/graph3.png\" width=\"250\">\n",
    "\n",
    "ist __kein__ Baum, da er nicht zusammenhängend ist.\n",
    "\n",
    "## Gewurzelte Bäume\n",
    "\n",
    "In der Informatik betrachtet man meistens gewurzelte Bäume (rooted trees).\n",
    "\n",
    "__Defintion 6.2__\n",
    "Gewurzelte Bäume sind gerichtete Bäume, bei denen ein Knoten Wurzel (root) ist und von diesem Wurzelknoten alle anderen Knoten über genau einen Pfad erreichbar sind.\n",
    "\n",
    "__Beispiel:__\n",
    "\n",
    "<img src=\"http://www.mathcs.emory.edu/~cheung/Courses/170/Syllabus/02/FIGS/tree-stru.gif\" width=\"280\">\n",
    "\n",
    "## Binärbäume\n",
    "\n",
    "\n",
    "__Definition 6.3__\n",
    "Binärbäume (binary trees) sind gewurzelte Bäume, bei denen ein Knoten maximal zwei direkte Nachkommen hat. \n",
    "\n",
    "__Beispiel:__\n",
    "\n",
    "<img src=\"https://upload.wikimedia.org/wikipedia/commons/thumb/f/f7/Binary_tree.svg/720px-Binary_tree.svg.png\" width=\"200\">\n",
    "\n",
    "Binärbäume werden rekursiv definiert. Dabei besteht ein Knoten (Node) aus einem Wert, einem linken Kind und einem rechten Kind. Die Kinder sind dabei auch Knoten, dadurch erggibt sich die rekursive Definition. Die Kinder können auch __null__ sein, in dem Fall existieren rechter Subbaum oder linker Teilbaum nicht. Sind sowohl linker als auch rechtes Kind __null__, so handelt es sich bei dem Knoten um ein Blatt (leaf).\n",
    "\n",
    "__Implementation mit obigem Beispiel__"
   ]
  },
  {
   "cell_type": "code",
   "execution_count": 2,
   "metadata": {},
   "outputs": [],
   "source": [
    "class Node:\n",
    "    def __init__(self, value, left=None, right=None):\n",
    "        self.value = value\n",
    "        self.left = left\n",
    "        self.right = right\n",
    "        \n",
    "\n",
    "a = Node(5)\n",
    "b = Node(11)\n",
    "c = Node(4)\n",
    "d = Node(2)\n",
    "e = Node(6, a, b)\n",
    "f = Node(9, c)\n",
    "g = Node(7, d, e)\n",
    "h = Node(5, None, f)\n",
    "i = Node(2, g, h)"
   ]
  }
 ],
 "metadata": {
  "kernelspec": {
   "display_name": "Python 3",
   "language": "python",
   "name": "python3"
  },
  "language_info": {
   "codemirror_mode": {
    "name": "ipython",
    "version": 3
   },
   "file_extension": ".py",
   "mimetype": "text/x-python",
   "name": "python",
   "nbconvert_exporter": "python",
   "pygments_lexer": "ipython3",
   "version": "3.6.3"
  }
 },
 "nbformat": 4,
 "nbformat_minor": 2
}
