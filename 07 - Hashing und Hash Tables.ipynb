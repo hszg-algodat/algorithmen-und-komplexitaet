{
 "cells": [
  {
   "cell_type": "markdown",
   "metadata": {
    "collapsed": true
   },
   "source": [
    "# Dictionary / Map\n",
    "\n",
    "Ein Dictionary, auch Map, genannt ist ein Abstrakter Datentyp, der in der Informatik sehr wichtig ist und sehr häufig zum Einsatz kommt. Er ist in allen gängingen Programmiersprachen implementiert.\n",
    "\n",
    "Ein Dictionary besteht aus Schlüssel-Wert-Paaren (key-value pairs). Dabei wird von einem Schlüssel auf einen Wert abgebildet. Es gibt drei wesentliche Operationen, nämlich __insert__, __get__ und __remove__.\n",
    "\n",
    "__insert(key, value)__:\n",
    "\n",
    "Die Insert-Operation fügt ein Paar aus einem Schlüssel und einem Wert in die Datenstruktur ein. Sowohl Schlüssel, als auch der Wert, auf den abgebildet werden soll, können von jedem erdenklichen Datentyp sein.\n",
    "\n",
    "__get(key)__:\n",
    "\n",
    "Diese Operation gibt den Wert, der zu dem gesuchten Schlüssel passt, zurück. Befindet sich kein Eintrag mit dem gesuchten Schlüssel im Dictionary, so wird __null__ zurückgegeben.\n",
    "\n",
    "__remove(key)__:\n",
    "\n",
    "Diese Operation entfernt einen Eintrag mit dem gegebenen Schlüssel aud dem Dictionary.\n",
    "\n",
    "Die genannten drei Operationen ließen sich mit balancierten Bäumen, beispielsweise einem AVL-Baum, implementieren. Jedoch liegt die Laufzeit für diese Operationen bei einem balancierten Baum in $\\mathcal{O}(\\log n)$. Ziel in diesem Kapitel ist es, eine Datenstruktur zu implementieren, die dies in konstanter Zeit schafft.\n",
    "\n",
    "# Direct Access Table\n",
    "\n",
    "Bei diesem Implementierungsversuch weist man, wie bei einem Array, einen festen Bereich im Spicher der Datenstruktur zu. Nun kann man direkt über den Index auf jeden Slot zugreifen. Sind die Schlüssel nicht-negative Integers, so kann man festlegen, dass der Schlüssel immer genau dem Index des Slots entspricht.\n",
    "\n",
    "Dies wirft zwei Probleme auf. Zum einen möchte man eine Datenstruktur haben, bei welchem die Schlüssel von einem beliebigen Datentyp sind (Es wurde als Bedingung angenommen, dass es sich um nicht-negative Integers handelt). Zum anderen beträgt der Speicheraufwand $\\mathcal{O}(\\left| U \\right|)$. $U$ ist dabei das Schlüsseluniversum. Dies wäre absolut unpraktikabel.\n",
    "\n",
    "__Definition 7.1__\n",
    "Das Schlüsseluniversum $U$ ist die Menge aller möglichen Schlüssel.\n",
    "\n",
    "# Hash Table\n",
    "\n",
    "Eine Hash Table bzw. Hash Map ist eine Implementation des ADT Dictionary. Dabei wird auch per direkten Slotzugriff, wie bei der Direct Access Table, vorgegangen. Jedoch gibt es eine feste Anzahl $m$ an Slots, wobei gilt $m \\ll \\left| U \\right|$. Nun wird eine Hashfunktion $h: U \\to \\{0, 1, \\dotsc, m-1\\}$ benötigt, die vom Schlüsseluniversum auf einen der Slots $\\{0, 1, \\dotsc, m-1\\}$ abbildet. Wie so eine Funktion aussehen kann wird noch im Folgenden behandelt.\n",
    "\n",
    "Somit wurde der Speicheraufwand deutlich reduziert.\n",
    "\n",
    "Um das Problem, dass es sich bei den Schlüsseln um etwas anderes als nicht-negative Integers, z.B. Strings, handeln kann, zu lösen, wird eine sog. pre-hash Funktion benötigt. Dies ist eine Funktion, die vom Schlüsseluniversum auf eine nicht-negative ganze Zahl abbildet. Theoretisch betrachtet ist dies möglich, da alles, was in einem Computer dargstellt wird, diskret und endlich ist. "
   ]
  }
 ],
 "metadata": {
  "kernelspec": {
   "display_name": "Python 3",
   "language": "python",
   "name": "python3"
  },
  "language_info": {
   "codemirror_mode": {
    "name": "ipython",
    "version": 3
   },
   "file_extension": ".py",
   "mimetype": "text/x-python",
   "name": "python",
   "nbconvert_exporter": "python",
   "pygments_lexer": "ipython3",
   "version": "3.6.3"
  }
 },
 "nbformat": 4,
 "nbformat_minor": 2
}
