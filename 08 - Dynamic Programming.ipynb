{
 "cells": [
  {
   "cell_type": "markdown",
   "metadata": {},
   "source": [
    "# Dynamic Programming\n",
    "\n",
    "Dynamic Programming ermöglicht es Probleme in Laufzeiten, wie $\\mathcal{O}(n^2)$ oder $\\mathcal{O}(n^3)$, zu lösen, für die sonst exponentieller Aufwand nötig wäre. Das Wort _Programming_ steht hier für Optimierung (ähnlich wie bei Linear Programming). Das Wort Optimierung ist zutreffend, da mit Dynamic Porgamming Optimierungsprobleme gelöst werden können, also Probleme, bei denen ein Minimum bzw. Maximum gefunden werden soll.\n",
    "\n",
    "Das Ziel dabei ist, ein großes Gesamtproblem in kleinere Subprobleme zu teilen und die Lösung der Subprobleme zu speichern. Anders formuliert tut man so, als hätte man die Lösung für ein Subproblem und nutzt dieses um ein nächst größeres Problem zu lösen. Es lässt sich also sagen: Dynamic Programming = Recursion + Guessing. Ein entscheidender Unterschied zu Divide and Conquer, wo auch Probleme in kleinere Teilprobleme geteilt werden, ist, dass die Teilprobleme sich überlappen. Dies macht es möglich, durch das Speichern der Lösungen einen sehr großen Gewinn bezüglich des Rechenaufwands zu erzielen.\n",
    "\n",
    "Grundlegende Eigenschaften:\n",
    "\n",
    " - Das große Problem wird in Teilprobleme geteilt\n",
    " - Die optimale Lösung des Teilproblems wird genutzt um die optimale Lösung des größeren Problems zu finden\n",
    " - Die Optimalitätsbedingung (Principle of Optimality) muss gelten, d.h. die optimale Lösung des Gesamtproblems muss sich zwangsläufig aus den optimalen Lösungen der Teilprobleme ergeben\n",
    " - Trade space for time - es wird zusätzlicher Speicherplatz investiert, um den Algorithmus deutlich zu beschleunigen\n",
    "\n",
    "\n",
    "## Fibonacci\n",
    "\n",
    "Ein Beispiel, für welches Dynamic Programming benutzt werden kann, sind die Fibonacci Zahlen. Es ist relativ einfach die Bildungsvorschrift anzugeben:\n",
    "\n",
    "$$\n",
    "fib(n) = \\begin{cases}\n",
    "    0, & \\text{wenn $n=0$}. \\\\\n",
    "    1, & \\text{wenn $n=1$}. \\\\\n",
    "    fib(n-1) + fib(n-2) & \\text{sonst}.\n",
    "\\end{cases}\n",
    "$$\n",
    "\n",
    "Dies lässt sich auch schnell programmieren:"
   ]
  },
  {
   "cell_type": "code",
   "execution_count": 12,
   "metadata": {
    "scrolled": false
   },
   "outputs": [
    {
     "name": "stdout",
     "output_type": "stream",
     "text": [
      "[1, 1, 2, 3, 5, 8, 13, 21, 34, 55, 89, 144, 233, 377]\n"
     ]
    }
   ],
   "source": [
    "def fib_naive(n):\n",
    "    if n == 0:\n",
    "        return 0\n",
    "    if n == 1:\n",
    "        return 1\n",
    "    return fib_naive(n-1) + fib_naive(n-2)\n",
    "\n",
    "print(list(map(fib_naive, list(range(1, 15)))))"
   ]
  },
  {
   "cell_type": "markdown",
   "metadata": {},
   "source": [
    "### Rekursionbaum"
   ]
  },
  {
   "cell_type": "code",
   "execution_count": 13,
   "metadata": {},
   "outputs": [
    {
     "data": {
      "image/svg+xml": [
       "<svg baseProfile=\"tiny\" height=\"100%\" version=\"1.2\" width=\"100%\" xmlns=\"http://www.w3.org/2000/svg\" xmlns:ev=\"http://www.w3.org/2001/xml-events\" xmlns:xlink=\"http://www.w3.org/1999/xlink\"><defs/><text x=\"1200\" y=\"30\">fib(8)</text><line stroke=\"rgb(10%,10%,16%)\" x1=\"1200\" x2=\"881.149\" y1=\"38\" y2=\"55\"/><line stroke=\"rgb(10%,10%,16%)\" x1=\"1220\" x2=\"1538.851\" y1=\"38\" y2=\"55\"/><text x=\"871.1490036537654\" y=\"70\">fib(7)</text><line stroke=\"rgb(10%,10%,16%)\" x1=\"871.149\" x2=\"677.9079\" y1=\"78\" y2=\"95\"/><line stroke=\"rgb(10%,10%,16%)\" x1=\"891.149\" x2=\"1084.3901\" y1=\"78\" y2=\"95\"/><text x=\"667.9079106775249\" y=\"110\">fib(6)</text><line stroke=\"rgb(10%,10%,16%)\" x1=\"667.9079\" x2=\"552.298\" y1=\"118\" y2=\"135\"/><line stroke=\"rgb(10%,10%,16%)\" x1=\"687.9079\" x2=\"803.5178\" y1=\"118\" y2=\"135\"/><text x=\"542.2980073075307\" y=\"150\">fib(5)</text><line stroke=\"rgb(10%,10%,16%)\" x1=\"542.298\" x2=\"474.6668\" y1=\"158\" y2=\"175\"/><line stroke=\"rgb(10%,10%,16%)\" x1=\"562.298\" x2=\"629.9292\" y1=\"158\" y2=\"175\"/><text x=\"464.6668177012844\" y=\"190\">fib(4)</text><line stroke=\"rgb(10%,10%,16%)\" x1=\"464.6668\" x2=\"426.6881\" y1=\"198\" y2=\"215\"/><line stroke=\"rgb(10%,10%,16%)\" x1=\"484.6668\" x2=\"522.6455\" y1=\"198\" y2=\"215\"/><text x=\"416.6881039375366\" y=\"230\">fib(3)</text><line stroke=\"rgb(10%,10%,16%)\" x1=\"416.6881\" x2=\"397.0356\" y1=\"238\" y2=\"255\"/><line stroke=\"rgb(10%,10%,16%)\" x1=\"436.6881\" x2=\"456.3406\" y1=\"238\" y2=\"255\"/><text x=\"387.0356280950381\" y=\"270\">fib(2)</text><line stroke=\"rgb(10%,10%,16%)\" x1=\"387.0356\" x2=\"378.7094\" y1=\"278\" y2=\"295\"/><line stroke=\"rgb(10%,10%,16%)\" x1=\"407.0356\" x2=\"415.3619\" y1=\"278\" y2=\"295\"/><text x=\"368.7093901737888\" y=\"310\">fib(1)</text><text x=\"405.36186601628737\" y=\"310\">fib(0)</text><text x=\"446.3405797800351\" y=\"270\">fib(1)</text><text x=\"512.6455314650321\" y=\"230\">fib(2)</text><line stroke=\"rgb(10%,10%,16%)\" x1=\"512.6455\" x2=\"504.3193\" y1=\"238\" y2=\"255\"/><line stroke=\"rgb(10%,10%,16%)\" x1=\"532.6455\" x2=\"540.9718\" y1=\"238\" y2=\"255\"/><text x=\"494.31929354378286\" y=\"270\">fib(1)</text><text x=\"530.9717693862814\" y=\"270\">fib(0)</text><text x=\"619.9291969137771\" y=\"190\">fib(3)</text><line stroke=\"rgb(10%,10%,16%)\" x1=\"619.9292\" x2=\"600.2767\" y1=\"198\" y2=\"215\"/><line stroke=\"rgb(10%,10%,16%)\" x1=\"639.9292\" x2=\"659.5817\" y1=\"198\" y2=\"215\"/><text x=\"590.2767210712785\" y=\"230\">fib(2)</text><line stroke=\"rgb(10%,10%,16%)\" x1=\"590.2767\" x2=\"581.9505\" y1=\"238\" y2=\"255\"/><line stroke=\"rgb(10%,10%,16%)\" x1=\"610.2767\" x2=\"618.603\" y1=\"238\" y2=\"255\"/><text x=\"571.9504831500293\" y=\"270\">fib(1)</text><text x=\"608.6029589925278\" y=\"270\">fib(0)</text><text x=\"649.5816727562757\" y=\"230\">fib(1)</text><text x=\"793.5178140475191\" y=\"150\">fib(4)</text><line stroke=\"rgb(10%,10%,16%)\" x1=\"793.5178\" x2=\"755.5391\" y1=\"158\" y2=\"175\"/><line stroke=\"rgb(10%,10%,16%)\" x1=\"813.5178\" x2=\"851.4965\" y1=\"158\" y2=\"175\"/><text x=\"745.5391002837713\" y=\"190\">fib(3)</text><line stroke=\"rgb(10%,10%,16%)\" x1=\"745.5391\" x2=\"725.8866\" y1=\"198\" y2=\"215\"/><line stroke=\"rgb(10%,10%,16%)\" x1=\"765.5391\" x2=\"785.1916\" y1=\"198\" y2=\"215\"/><text x=\"715.8866244412727\" y=\"230\">fib(2)</text><line stroke=\"rgb(10%,10%,16%)\" x1=\"715.8866\" x2=\"707.5604\" y1=\"238\" y2=\"255\"/><line stroke=\"rgb(10%,10%,16%)\" x1=\"735.8866\" x2=\"744.2129\" y1=\"238\" y2=\"255\"/><text x=\"697.5603865200235\" y=\"270\">fib(1)</text><text x=\"734.212862362522\" y=\"270\">fib(0)</text><text x=\"775.1915761262699\" y=\"230\">fib(1)</text><text x=\"841.4965278112669\" y=\"190\">fib(2)</text><line stroke=\"rgb(10%,10%,16%)\" x1=\"841.4965\" x2=\"833.1703\" y1=\"198\" y2=\"215\"/><line stroke=\"rgb(10%,10%,16%)\" x1=\"861.4965\" x2=\"869.8228\" y1=\"198\" y2=\"215\"/><text x=\"823.1702898900177\" y=\"230\">fib(1)</text><text x=\"859.8227657325161\" y=\"230\">fib(0)</text><text x=\"1074.390096630006\" y=\"110\">fib(5)</text><line stroke=\"rgb(10%,10%,16%)\" x1=\"1074.3901\" x2=\"1006.7589\" y1=\"118\" y2=\"135\"/><line stroke=\"rgb(10%,10%,16%)\" x1=\"1094.3901\" x2=\"1162.0213\" y1=\"118\" y2=\"135\"/><text x=\"996.7589070237595\" y=\"150\">fib(4)</text><line stroke=\"rgb(10%,10%,16%)\" x1=\"996.7589\" x2=\"958.7802\" y1=\"158\" y2=\"175\"/><line stroke=\"rgb(10%,10%,16%)\" x1=\"1016.7589\" x2=\"1054.7376\" y1=\"158\" y2=\"175\"/><text x=\"948.7801932600117\" y=\"190\">fib(3)</text><line stroke=\"rgb(10%,10%,16%)\" x1=\"948.7802\" x2=\"929.1277\" y1=\"198\" y2=\"215\"/><line stroke=\"rgb(10%,10%,16%)\" x1=\"968.7802\" x2=\"988.4327\" y1=\"198\" y2=\"215\"/><text x=\"919.1277174175132\" y=\"230\">fib(2)</text><line stroke=\"rgb(10%,10%,16%)\" x1=\"919.1277\" x2=\"910.8015\" y1=\"238\" y2=\"255\"/><line stroke=\"rgb(10%,10%,16%)\" x1=\"939.1277\" x2=\"947.454\" y1=\"238\" y2=\"255\"/><text x=\"900.8014794962639\" y=\"270\">fib(1)</text><text x=\"937.4539553387624\" y=\"270\">fib(0)</text><text x=\"978.4326691025103\" y=\"230\">fib(1)</text><text x=\"1044.7376207875072\" y=\"190\">fib(2)</text><line stroke=\"rgb(10%,10%,16%)\" x1=\"1044.7376\" x2=\"1036.4114\" y1=\"198\" y2=\"215\"/><line stroke=\"rgb(10%,10%,16%)\" x1=\"1064.7376\" x2=\"1073.0639\" y1=\"198\" y2=\"215\"/><text x=\"1026.411382866258\" y=\"230\">fib(1)</text><text x=\"1063.0638587087565\" y=\"230\">fib(0)</text><text x=\"1152.0212862362523\" y=\"150\">fib(3)</text><line stroke=\"rgb(10%,10%,16%)\" x1=\"1152.0213\" x2=\"1132.3688\" y1=\"158\" y2=\"175\"/><line stroke=\"rgb(10%,10%,16%)\" x1=\"1172.0213\" x2=\"1191.6738\" y1=\"158\" y2=\"175\"/><text x=\"1122.3688103937538\" y=\"190\">fib(2)</text><line stroke=\"rgb(10%,10%,16%)\" x1=\"1122.3688\" x2=\"1114.0426\" y1=\"198\" y2=\"215\"/><line stroke=\"rgb(10%,10%,16%)\" x1=\"1142.3688\" x2=\"1150.695\" y1=\"198\" y2=\"215\"/><text x=\"1104.0425724725046\" y=\"230\">fib(1)</text><text x=\"1140.695048315003\" y=\"230\">fib(0)</text><text x=\"1181.6737620787508\" y=\"190\">fib(1)</text><text x=\"1528.8509963462348\" y=\"70\">fib(6)</text><line stroke=\"rgb(10%,10%,16%)\" x1=\"1528.851\" x2=\"1413.2411\" y1=\"78\" y2=\"95\"/><line stroke=\"rgb(10%,10%,16%)\" x1=\"1548.851\" x2=\"1664.4609\" y1=\"78\" y2=\"95\"/><text x=\"1403.2410929762407\" y=\"110\">fib(5)</text><line stroke=\"rgb(10%,10%,16%)\" x1=\"1403.2411\" x2=\"1335.6099\" y1=\"118\" y2=\"135\"/><line stroke=\"rgb(10%,10%,16%)\" x1=\"1423.2411\" x2=\"1490.8723\" y1=\"118\" y2=\"135\"/><text x=\"1325.6099033699943\" y=\"150\">fib(4)</text><line stroke=\"rgb(10%,10%,16%)\" x1=\"1325.6099\" x2=\"1287.6312\" y1=\"158\" y2=\"175\"/><line stroke=\"rgb(10%,10%,16%)\" x1=\"1345.6099\" x2=\"1383.5886\" y1=\"158\" y2=\"175\"/><text x=\"1277.6311896062466\" y=\"190\">fib(3)</text><line stroke=\"rgb(10%,10%,16%)\" x1=\"1277.6312\" x2=\"1257.9787\" y1=\"198\" y2=\"215\"/><line stroke=\"rgb(10%,10%,16%)\" x1=\"1297.6312\" x2=\"1317.2837\" y1=\"198\" y2=\"215\"/><text x=\"1247.9787137637481\" y=\"230\">fib(2)</text><line stroke=\"rgb(10%,10%,16%)\" x1=\"1247.9787\" x2=\"1239.6525\" y1=\"238\" y2=\"255\"/><line stroke=\"rgb(10%,10%,16%)\" x1=\"1267.9787\" x2=\"1276.305\" y1=\"238\" y2=\"255\"/><text x=\"1229.652475842499\" y=\"270\">fib(1)</text><text x=\"1266.3049516849974\" y=\"270\">fib(0)</text><text x=\"1307.283665448745\" y=\"230\">fib(1)</text><text x=\"1373.588617133742\" y=\"190\">fib(2)</text><line stroke=\"rgb(10%,10%,16%)\" x1=\"1373.5886\" x2=\"1365.2624\" y1=\"198\" y2=\"215\"/><line stroke=\"rgb(10%,10%,16%)\" x1=\"1393.5886\" x2=\"1401.9149\" y1=\"198\" y2=\"215\"/><text x=\"1355.2623792124928\" y=\"230\">fib(1)</text><text x=\"1391.9148550549912\" y=\"230\">fib(0)</text><text x=\"1480.872282582487\" y=\"150\">fib(3)</text><line stroke=\"rgb(10%,10%,16%)\" x1=\"1480.8723\" x2=\"1461.2198\" y1=\"158\" y2=\"175\"/><line stroke=\"rgb(10%,10%,16%)\" x1=\"1500.8723\" x2=\"1520.5248\" y1=\"158\" y2=\"175\"/><text x=\"1451.2198067399886\" y=\"190\">fib(2)</text><line stroke=\"rgb(10%,10%,16%)\" x1=\"1451.2198\" x2=\"1442.8936\" y1=\"198\" y2=\"215\"/><line stroke=\"rgb(10%,10%,16%)\" x1=\"1471.2198\" x2=\"1479.546\" y1=\"198\" y2=\"215\"/><text x=\"1432.8935688187394\" y=\"230\">fib(1)</text><text x=\"1469.5460446612378\" y=\"230\">fib(0)</text><text x=\"1510.5247584249855\" y=\"190\">fib(1)</text><text x=\"1654.4608997162288\" y=\"110\">fib(4)</text><line stroke=\"rgb(10%,10%,16%)\" x1=\"1654.4609\" x2=\"1616.4822\" y1=\"118\" y2=\"135\"/><line stroke=\"rgb(10%,10%,16%)\" x1=\"1674.4609\" x2=\"1712.4396\" y1=\"118\" y2=\"135\"/><text x=\"1606.4821859524811\" y=\"150\">fib(3)</text><line stroke=\"rgb(10%,10%,16%)\" x1=\"1606.4822\" x2=\"1586.8297\" y1=\"158\" y2=\"175\"/><line stroke=\"rgb(10%,10%,16%)\" x1=\"1626.4822\" x2=\"1646.1347\" y1=\"158\" y2=\"175\"/><text x=\"1576.8297101099827\" y=\"190\">fib(2)</text><line stroke=\"rgb(10%,10%,16%)\" x1=\"1576.8297\" x2=\"1568.5035\" y1=\"198\" y2=\"215\"/><line stroke=\"rgb(10%,10%,16%)\" x1=\"1596.8297\" x2=\"1605.1559\" y1=\"198\" y2=\"215\"/><text x=\"1558.5034721887334\" y=\"230\">fib(1)</text><text x=\"1595.155948031232\" y=\"230\">fib(0)</text><text x=\"1636.1346617949796\" y=\"190\">fib(1)</text><text x=\"1702.4396134799765\" y=\"150\">fib(2)</text><line stroke=\"rgb(10%,10%,16%)\" x1=\"1702.4396\" x2=\"1694.1134\" y1=\"158\" y2=\"175\"/><line stroke=\"rgb(10%,10%,16%)\" x1=\"1722.4396\" x2=\"1730.7659\" y1=\"158\" y2=\"175\"/><text x=\"1684.1133755587273\" y=\"190\">fib(1)</text><text x=\"1720.7658514012257\" y=\"190\">fib(0)</text></svg>"
      ],
      "text/plain": [
       "<IPython.core.display.SVG object>"
      ]
     },
     "execution_count": 13,
     "metadata": {},
     "output_type": "execute_result"
    }
   ],
   "source": [
    "import svgwrite\n",
    "from IPython.display import SVG, display\n",
    "\n",
    "fib_tree_svg = svgwrite.Drawing('fib_tree.svg', profile='tiny')\n",
    "\n",
    "phi = (1 + 5 ** 0.5) / 2\n",
    "\n",
    "def fib_tree(n, x, y):\n",
    "    if n == 0:\n",
    "        fib_tree_svg.add(fib_tree_svg.text('fib(0)', insert=(x, y)))\n",
    "    elif n == 1:\n",
    "        fib_tree_svg.add(fib_tree_svg.text('fib(1)', insert=(x, y)))\n",
    "    else:\n",
    "        fib_tree_svg.add(fib_tree_svg.text(f'fib({n})', insert=(x, y)))\n",
    "        fib_tree_svg.add(fib_tree_svg.line((x, y+8), (x+10-phi**n*7, y+25), stroke=svgwrite.rgb(10, 10, 16, '%')))\n",
    "        fib_tree_svg.add(fib_tree_svg.line((x+20, y+8), (x+10+phi**n*7, y+25), stroke=svgwrite.rgb(10, 10, 16, '%')))\n",
    "        fib_tree(n-1, x-phi**n*7, y+40)\n",
    "        fib_tree(n-2, x+phi**n*7, y+40)\n",
    "\n",
    "fib_tree(8, 1200, 30)\n",
    "fib_tree_svg.save()\n",
    "SVG(filename='./fib_tree.svg')"
   ]
  },
  {
   "cell_type": "markdown",
   "metadata": {},
   "source": [
    "### Nutzung von Dynamic Programming\n",
    "\n",
    "Analysiert man die Zeitkomplexität des oben beschriebenen Algorithmus, so muss man festellen, dass es sich um einen exponentiellen Aufwand handelt (genau $\\Theta(\\phi^n)$); und das für ein Problem, das nicht sehr komplex zu sein scheint. Jedoch kann Dynamic Programming genutzt werden, um die Fibonacci Zahlen wesentlich schneller zu berechnen.\n",
    "\n",
    "Die Grundidee besteht darin, jeden Wert nur einmal ausrechnen zu müssen. Wurde einmal der Wert einer Fibonacci Zahl berechnet, so wird er in einem Zwischenspeicher abgelegt und steht nun zur Verfügung, sobald dieser Wert wieder benötigt wird. Hierfür sollte eine Datenstruktur gewählt werden, mit der man in $\\mathcal{O}(1)$ einen Wert in Abhängigkeit vom Key lesen kann. Hier bietet es sich an eine Hashmap, die vom Parameter $n$ auf $fib(n)$ abbildet, oder ein Array, bei dem die $n$-te Fibonacci Zahl am Index $n$ steht, zu nutzen."
   ]
  },
  {
   "cell_type": "code",
   "execution_count": 14,
   "metadata": {},
   "outputs": [
    {
     "name": "stdout",
     "output_type": "stream",
     "text": [
      "[1, 1, 2, 3, 5, 8, 13, 21, 34, 55, 89, 144, 233, 377]\n"
     ]
    }
   ],
   "source": [
    "dic = {}\n",
    "\n",
    "def fib(n):\n",
    "    if n in dic:\n",
    "        return dic[n]\n",
    "    if n == 0:\n",
    "        f = 0\n",
    "    elif n == 1:\n",
    "        f = 1\n",
    "    else:\n",
    "        f = fib(n-1) + fib(n-2)\n",
    "    dic[n] = f\n",
    "    return f\n",
    "\n",
    "print(list(map(fib, list(range(1, 15)))))"
   ]
  },
  {
   "cell_type": "markdown",
   "metadata": {},
   "source": [
    "Bei der oben beschriebenen Variante handelt es sich um die Top-Down Version des Dynamic Programming-Ansatzes. Man spricht hier von Top-Down, da man zunächst versucht die Wurzel des Rekursionsbaums zu berechnen, dafür dann aber schrittweise den Baum runter in Richtung Blätter gehen muss, um die Fibonacci-Zahlen ausrechnen zu können."
   ]
  },
  {
   "cell_type": "code",
   "execution_count": 15,
   "metadata": {
    "scrolled": false
   },
   "outputs": [
    {
     "data": {
      "image/svg+xml": [
       "<svg baseProfile=\"tiny\" height=\"100%\" version=\"1.2\" width=\"100%\" xmlns=\"http://www.w3.org/2000/svg\" xmlns:ev=\"http://www.w3.org/2001/xml-events\" xmlns:xlink=\"http://www.w3.org/1999/xlink\"><defs/><text x=\"450\" y=\"30\">fib(4)</text><line stroke=\"rgb(10%,10%,16%)\" x1=\"450\" x2=\"422\" y1=\"38\" y2=\"55\"/><line stroke=\"rgb(10%,10%,16%)\" x1=\"470\" x2=\"500\" y1=\"38\" y2=\"55\"/><text x=\"490\" y=\"70\">fib(2)</text><text x=\"410\" y=\"70\">fib(3)</text><line stroke=\"rgb(10%,10%,16%)\" x1=\"410\" x2=\"382\" y1=\"78\" y2=\"95\"/><line stroke=\"rgb(10%,10%,16%)\" x1=\"430\" x2=\"460\" y1=\"78\" y2=\"95\"/><text x=\"450\" y=\"110\">fib(1)</text><text x=\"370\" y=\"110\">fib(2)</text><line stroke=\"rgb(10%,10%,16%)\" x1=\"370\" x2=\"342\" y1=\"118\" y2=\"135\"/><line stroke=\"rgb(10%,10%,16%)\" x1=\"390\" x2=\"420\" y1=\"118\" y2=\"135\"/><text x=\"410\" y=\"150\">fib(0)</text><text x=\"330\" y=\"150\">fib(1)</text></svg>"
      ],
      "text/plain": [
       "<IPython.core.display.SVG object>"
      ]
     },
     "execution_count": 15,
     "metadata": {},
     "output_type": "execute_result"
    }
   ],
   "source": [
    "fib_tree_dp_svg = svgwrite.Drawing('fib_tree_dp.svg', profile='tiny')\n",
    "\n",
    "phi = (1 + 5 ** 0.5) / 2\n",
    "\n",
    "def fib_tree_dp(n, x, y):\n",
    "    if n == 0:\n",
    "        fib_tree_dp_svg.add(fib_tree_svg.text('fib(0)', insert=(x, y)))\n",
    "    elif n == 1:\n",
    "        fib_tree_dp_svg.add(fib_tree_svg.text('fib(1)', insert=(x, y)))\n",
    "    else:\n",
    "        fib_tree_dp_svg.add(fib_tree_svg.text(f'fib({n})', insert=(x, y)))\n",
    "        fib_tree_dp_svg.add(fib_tree_svg.line((x, y+8), (x-28, y+25), stroke=svgwrite.rgb(10, 10, 16, '%')))\n",
    "        fib_tree_dp_svg.add(fib_tree_svg.line((x+20, y+8), (x+50, y+25), stroke=svgwrite.rgb(10, 10, 16, '%')))\n",
    "        fib_tree_dp_svg.add(fib_tree_svg.text(f'fib({n-2})', insert=(x+40, y+40)))\n",
    "        fib_tree_dp(n-1, x-40, y+40)\n",
    "\n",
    "fib_tree_dp(4, 450, 30)\n",
    "fib_tree_dp_svg.save()\n",
    "SVG(filename='./fib_tree_dp.svg')"
   ]
  },
  {
   "cell_type": "markdown",
   "metadata": {},
   "source": [
    "Der Rekursionbaum zeigt, dass die Werte für $n-2$ nicht rekursiv zerlegt werden müssen, sondern bereits vorliegen. Dadurch wächst der Rekursionsbaum nich exponentiell, sondern lienar.\n",
    "\n",
    "Die Alternative ist es, einen Bottom-Up Algorithmus zu entwerfen, also einen Algorithmus, der bei einem Blatt des Rekursionsbaum anfängt und schrittweise die nächstgrößeren Werte berechnet. Bei den Fibonacci Zahlen ist der Bottom-Up Ansatz relativ intuitiv. Ausgehend von den bereits gegebenen Werten von $fib(0)=0$ und $fib(1)=1$ berechnet man in einer Schleife von 2 bis $n$ schrittweise den nächstgrößeren Wert. Da zur Berechnung einer Fibonacci Zahl, die zwei nächstkleineren Fibonacci Zahlen benötigt werden, ist sichergestellt, dass die nötigen Werte bereits vorliegen, da man in der Schleife von klein bis groß geht."
   ]
  },
  {
   "cell_type": "code",
   "execution_count": 16,
   "metadata": {},
   "outputs": [
    {
     "name": "stdout",
     "output_type": "stream",
     "text": [
      "[1, 1, 2, 3, 5, 8, 13, 21, 34, 55, 89, 144, 233, 377]\n"
     ]
    }
   ],
   "source": [
    "def fib_bottom_up(n):\n",
    "    if n == 0:\n",
    "        return 0\n",
    "    if n == 1:\n",
    "        return 1\n",
    "    n_minus_2 = 0\n",
    "    n_minus_1 = 1\n",
    "    for i in range(2, n+1):\n",
    "        f = n_minus_1 + n_minus_2\n",
    "        n_minus_2 = n_minus_1\n",
    "        n_minus_1 = f\n",
    "    return f\n",
    "\n",
    "print(list(map(fib_bottom_up, list(range(1, 15)))))"
   ]
  },
  {
   "cell_type": "markdown",
   "metadata": {},
   "source": [
    "In beiden Fällen müssen $n$ Fibonacci Zahlen berechnet werden, deren Zeitaufwand lediglich bei $\\mathcal{O}(1)$ liegt, da die Werte entweder schon vorliegen, bzw. sie beim Top-Down Ansatz vorliegen, sobald die Blätter des Rekursionsbaum erreicht sind. Somit ergibt sich insgesamt ein Zeitaufwand von $\\mathcal{O}(n) \\cdot \\mathcal{O}(1) = \\mathcal{O}(n)$."
   ]
  },
  {
   "cell_type": "markdown",
   "metadata": {
    "collapsed": true
   },
   "source": [
    "## Lösen des 0/1 Rucksack-Problems durch Dynamic Programming\n",
    "\n",
    "Um das 0/1 Rucksack Problem zu lösen kann Dynamic Programming benutzt werden. Die folgende rekursive Gleichung kann aufgestellt werden, während $i$ der letzte Gegenstand in der Gegenstandsliste ist und $K$ die maximale Kapazität (das maximale Gewicht), welcher der Rucksack tragen kann, ist.\n",
    "\n",
    "$$value(i,k)=\\begin{cases}\n",
    "    0, & \\text{wenn $i=0$}.\\\\\n",
    "    value(i-1,k), & \\text{wenn $i>0 \\land w[i]>k$}.\\\\\n",
    "    max(value(i-1,k), value(i-1,k-w[i]) + v[i]), & \\text{sonst}.\n",
    "  \\end{cases}$$\n",
    "  \n",
    "Betrachtet man die Gegenstandsliste bis zum 0. Gegenstand, so ist der Wert, der vom Rucksack getragen werden kann, 0, da keine Gegenstände zur Verfügung stehen. Wenn ein Gegenstand verfügbar ist, aber nicht in den Rucksack reinpasst, der erreichbare Wert ist gleich dem Wert des gleichen Problems ohne genau diesen Gegenstand. Dies liegt daran, dass es zwischen einem Gegenstand, der nciht reinpasst und einem Gegenstand, der gar nicht existiert, keinen Unterschied gibt. Dadurch wird das gleiche Probleme mit $i-1$ als Lösung zurückgegeben. \n",
    "Passt der Gegenstand aber in den Rucksack, so muss eine Entscheidung getroffen werden. Eine Möglichkeit ist, den Gegenstand in den Rucksack zu legen. In diesem Fall ist der Maximalwert gleich der Summe des Wertes genau diesen Gegenstands und dem erreichbaren Wert eines kleineren Rucksacks, der die Größe der verbleibenden Kapazität hat (der Platz im Restrucksack). Die andere Möglichkeit ist, diesen Gegenstand nicht in den Rucksack zu legen. In diesem Fall ist der Wert, der von der Funktion zurückgegeben wird gleich der erreichbaren Wert mit $i-1$ Gegenständen, also $value(i-1,k)$. Die $max()$ Funktion wählt die bessere der beiden Optionen.\n",
    "\n",
    "Ohne Dynamic Programming wäre dies ein Exponentialzeit-Algorithmus. $k$ kann als Konstante betrachtet werden und $i$ als die Problemgröße. Um den Wert eines Problems mit der Größe $i$ zu berechnen, muss bis zu zwei-mal (im sonst-Fall) der Wert eines Problems der Größe $i-1$ berechnet werden. Das heißt die Zeit zur Berechnung der Lösung verdoppelt sich mit jedem Inkrement von $i$, was zu einer exponentiellen Laufzeit führt. Dank Dynamic Programming kann dies beschleunigt werden. Anstatt das gleiche Problem immer neuzuberechnen, wird die Lösung in einem Dictionary mit einem 2-Tuple der Parameter als Key gespeichert. Nun kann in vielen Fällen, der Wert aus dem Dictionary in $\\mathcal{O}(1)$ gelesen werden. Da jeder Wert nur einmal berechnet werden muss, ist die Zeit, um das große Gesamtproblem zu lösen, das Produkt aus der Anzahl der Teilprobleme und der Zeit pro Problem. Die Zahl der Teilprobleme ist maximal die Anzahl der möglichen Tuples mit den Werten $(1...n,0...K)$, also $\\mathcal{O}(nK)$. Die Laufzeit des Problems ist $\\mathcal{O}(nK) \\cdot \\mathcal{O}(1) = \\mathcal{O}(nK)$."
   ]
  },
  {
   "cell_type": "code",
   "execution_count": 17,
   "metadata": {},
   "outputs": [
    {
     "name": "stdout",
     "output_type": "stream",
     "text": [
      "Mit Memoization:\n",
      "Ergebnis: 183\n",
      "Funktionsaufrufe: 502\n",
      "\n",
      "Ohne Memoization:\n",
      "Ergebnis: 183\n",
      "Funktionsaufrufe: 2026\n"
     ]
    }
   ],
   "source": [
    "K = 120 #maximum capacity\n",
    "\n",
    "items = [(13, 19), (11, 20), (17, 23), (15, 21), (16, 27), (14, 25), (18, 25), \n",
    "         (10, 18), (19, 24), (12, 17)] #list of weight, value pairs of all items\n",
    "\n",
    "n = len(items) - 1 #index of last item\n",
    "\n",
    "weights = []\n",
    "values = []\n",
    "\n",
    "calls = 0 #global variable to count functional calls\n",
    "\n",
    "for item in items:\n",
    "    weights.append(item[0])\n",
    "    values.append(item[1])\n",
    "\n",
    "\n",
    "#memoize decorator\n",
    "def memoize(f):\n",
    "    memo = {}\n",
    "    \n",
    "    def helper(i, k):\n",
    "        if (i, k) not in memo:\n",
    "            memo[(i, k)] = f(i, k)\n",
    "        return memo[(i, k)]\n",
    "    \n",
    "    return helper\n",
    "\n",
    "\n",
    "@memoize\n",
    "def value_memo(i, k):\n",
    "    global calls\n",
    "    calls += 1\n",
    "    \n",
    "    if i < 0:\n",
    "        return 0\n",
    "    if weights[i] > k:\n",
    "        return value_memo(i - 1, k)\n",
    "    return max(value_memo(i - 1, k), value_memo(i - 1, k - weights[i]) + values[i])\n",
    "\n",
    "\n",
    "def value(i, k):\n",
    "    global calls\n",
    "    calls += 1\n",
    "    \n",
    "    if i < 0:\n",
    "        return 0\n",
    "    if weights[i] > k:\n",
    "        return value(i - 1, k)\n",
    "    return max(value(i - 1, k), value(i - 1, k - weights[i]) + values[i])\n",
    "\n",
    "\n",
    "print('Mit Memoization:')\n",
    "print('Ergebnis: ' + str(value_memo(n, K)))\n",
    "print('Funktionsaufrufe: ' + str(calls))\n",
    "calls = 0\n",
    "print()\n",
    "print('Ohne Memoization:')\n",
    "print('Ergebnis: ' + str(value(n, K)))\n",
    "print('Funktionsaufrufe: ' + str(calls))"
   ]
  },
  {
   "cell_type": "code",
   "execution_count": 18,
   "metadata": {
    "scrolled": false
   },
   "outputs": [
    {
     "data": {
      "image/png": "[encoded data removed]",
      "text/plain": [
       "<matplotlib.figure.Figure at 0x211138d9eb8>"
      ]
     },
     "metadata": {},
     "output_type": "display_data"
    }
   ],
   "source": [
    "import random as rnd\n",
    "import matplotlib.pyplot as plt\n",
    "from matplotlib.ticker import MaxNLocator\n",
    "import numpy as np\n",
    "\n",
    "\n",
    "def rand_items(n):\n",
    "    items = []\n",
    "    for i in range(0, n):\n",
    "        items.append((rnd.randint(1, 100), rnd.randint(1, 100)))\n",
    "    return items\n",
    "\n",
    "\n",
    "calls_with_memo = []\n",
    "calls_without_memo = []\n",
    "\n",
    "for i in range(2, 21):\n",
    "    calls1 = 0\n",
    "    calls2 = 0\n",
    "    \n",
    "    for j in range(0, 5):\n",
    "        K = 20 * i\n",
    "        items = rand_items(i)\n",
    "        n = len(items) - 1\n",
    "        global weights\n",
    "        weights = []\n",
    "        global values\n",
    "        values = []\n",
    "        global calls\n",
    "        calls = 0\n",
    "        for item in items:\n",
    "            weights.append(item[0])\n",
    "            values.append(item[1])\n",
    "        value_memo(n, K)\n",
    "        calls1 += calls\n",
    "        calls = 0\n",
    "        value(n, K)\n",
    "        calls2 += calls\n",
    "        calls = 0\n",
    "    calls_with_memo.append(calls1 / 5)\n",
    "    calls_without_memo.append(calls2 / 5)\n",
    "    \n",
    "   \n",
    "   \n",
    "x = np.arange(2, 21)\n",
    "y1 = np.asarray(calls_with_memo)\n",
    "y2 = np.asarray(calls_without_memo)\n",
    "    \n",
    "fig = plt.figure(figsize=(11,8))\n",
    "ax1 = fig.add_subplot(111)\n",
    "\n",
    "ax1.plot(x, y1)\n",
    "ax1.plot(x, y2)\n",
    "ax1.xaxis.set_major_locator(MaxNLocator(integer=True))\n",
    "\n",
    "plt.show()"
   ]
  },
  {
   "cell_type": "markdown",
   "metadata": {},
   "source": [
    "## Bellman-Ford\n",
    "\n",
    "Dynamic Programming kann auch für das 'Single-Source Shortest Path Problem' genutzt werden. Dabei geht es darum den kürzesten Weg von einer Quelle zu einem anderen Knoten in einem Graph zu finden. Der Bellman-Ford-Algorithmus wurde in den Jahren 1956-1958 von Richard Bellman, Lester Ford und Edward F. Moore veröffentlicht. Heute wird dieser Algorithmus beispielsweise im Routing von Netzwerken eingesetzt.\n",
    "\n",
    "Da es sich um Dynamic Programming handelt, stellt sich die Frage, was die Subprobleme sind. Angenommen man hat einen Pfad von $v$ nach $u$ mit $v, w_0, w_1,..., w_{k-1}, w_k = u$, so ist offensichtlich, dass $v, w_0, w_1, ..., w_{k-1}$ der kürzeste Pfad zu $w_{k-1}$ ist. So ergibt sich, dass das Subproblem der kürzeste Weg zu einem der benachbarten Knoten ist, unter der Nutzung von einer Kante weniger.\n",
    "\n",
    "__*Beweis.*__ Nehmen wir an, dass $w_0,...,w_{k-1}$ nicht der kürzeste Weg zwischen $w_0$ und $w_{k-1}$ ist, so gibt es einen Pfad $w_0,w'_1,...,w'_j,w_{k-1}$ mit einer kürzeren Länge. Dadurch hat auch $w_0,w'_1,...,w'_j,w_{k-1},w_k$ eine kürzer Länge als $w_0,...,w_{k-1},w_k$. Dies widerspricht jedoch der Bedingung, dass $w_0,...,w_{k-1},w_k$ der kürzeste Pfad von $w_0$ nach $w_k$ ist.\n",
    "<div style=\"text-align: right; font-size: 24px;\">&#9633;</div>\n",
    "\n",
    "Durch diese Erkenntnis lässt sich folgende rekursive Gleichung aufstellen. $v$ ist der Knoten, zu dem der kürzeste Pfad gefunden werden soll, $v.adj$ sind die Elemente der Adjazenz-Liste von $v$, $s$ ist der Startknoten und $k$ ist die Anzahl der maximal zu benutzenden Kanten:\n",
    "\n",
    "$$bf(v,k)=\\begin{cases}\n",
    "    0, & \\text{wenn $v=s$}.\\\\\n",
    "    \\infty, & \\text{wenn $v \\neq s \\land k=0$}.\\\\\n",
    "    \\underset{u \\in v.adj}{\\text{min}}(dis(u, v) + bf(u, k-1)), & \\text{sonst}.\n",
    "  \\end{cases}$$\n",
    "  \n",
    "Handelt es sich bei $v$ um den Startknoten $s$, so sind die Kosten um zu $v$ zu gelangen 0. Beträgt die Anzahl der maximal zu benutzenden Kanten 0 und handelt es sich bei $v$ nicht um $s$, so ist $v$ nicht erreichbar und die Funktion gibt $\\infty$ zurück. Ansonsten ergibt sich die Lösung aus der kleinsten Summe aus dem Gewicht zu einem der benachbarten Knoten und dem kürzesten Weg dieses benachbarten Knoten unter der Verwendung von $k-1$ Kanten.\n",
    "</div>"
   ]
  },
  {
   "cell_type": "code",
   "execution_count": 19,
   "metadata": {},
   "outputs": [
    {
     "name": "stdout",
     "output_type": "stream",
     "text": [
      "-2\n"
     ]
    }
   ],
   "source": [
    "class Node:\n",
    "    def __init__(self, id):\n",
    "        self.id = id\n",
    "        self.adj = {}\n",
    "\n",
    "    def add(self, node, weight):\n",
    "        self.adj[node] = weight\n",
    "\n",
    "\n",
    "def bellman_ford(v, k):\n",
    "    if v == source:\n",
    "        return 0\n",
    "    if k == 0:\n",
    "        return float('inf')\n",
    "    min_dis = float('inf')\n",
    "    for u, w in v.adj.items():\n",
    "        dis = w + bellman_ford(u, k-1)\n",
    "        if dis < min_dis:\n",
    "            min_dis = dis\n",
    "    return min_dis\n",
    "\n",
    "a = Node('a')\n",
    "b = Node('b')\n",
    "c = Node('c')\n",
    "d = Node('d')\n",
    "e = Node('e')\n",
    "\n",
    "a.add(b, -1)\n",
    "a.add(c, 4)\n",
    "b.add(c, 3)\n",
    "b.add(d, 2)\n",
    "b.add(e, 2)\n",
    "d.add(b, 1)\n",
    "d.add(c, 5)\n",
    "e.add(d, -3)\n",
    "\n",
    "\n",
    "source = d\n",
    "print(bellman_ford(a, 5))"
   ]
  },
  {
   "cell_type": "code",
   "execution_count": 20,
   "metadata": {},
   "outputs": [
    {
     "name": "stdout",
     "output_type": "stream",
     "text": [
      "-2\n"
     ]
    }
   ],
   "source": [
    "#memoize decorator\n",
    "def memoize_bf(f):\n",
    "    memo = {}\n",
    "    \n",
    "    def helper(v, k):\n",
    "        if (v, k) not in memo:\n",
    "            memo[(v, k)] = f(v, k)\n",
    "        return memo[(v, k)]\n",
    "    \n",
    "    return helper\n",
    "\n",
    "\n",
    "@memoize_bf\n",
    "def bellman_ford_memo(v, k):\n",
    "    if v == source:\n",
    "        return 0\n",
    "    if k == 0:\n",
    "        return float('inf')\n",
    "    min_dis = float('inf')\n",
    "    for u, w in v.adj.items():\n",
    "        dis = w + bellman_ford_memo(u, k-1)\n",
    "        if dis < min_dis:\n",
    "            min_dis = dis\n",
    "    return min_dis\n",
    "\n",
    "print(bellman_ford_memo(a, 5))"
   ]
  },
  {
   "cell_type": "markdown",
   "metadata": {},
   "source": [
    "### Bottom Up\n",
    "\n",
    "Auch für den Bellman-Ford Algorithmus lässt sich ein Bottom Up-Ansatz definieren. Dabei wird zunächst der Startknoten mit der Distanz 0 initialisiert und alle anderen Knoten mit der Distanz $\\infty$ initialisiert. $\\infty$ dient dabei quasi als Platzhalter und steht für \"nicht erreichbar\". Danach werden alle Kanten $(u, v) \\in E$ durchiteriert und ein Wert für die Distanz zum Knoten $v$ zugewiesen. Dieser Wert ist entweder die Summe aus der bisherig gefundenen Distanz zu $u$ und dem Gewicht (der Distanz) zwischen $u$ und $v$ oder dem bisherigen Wert für die Distanz zu $v$. Dabei wird das Minimum, also der kleinere der beiden Werte, genommen, da der kürzeste Weg gefunden werden soll. Dieser Vorgang wird $\\lvert V \\rvert - 1$ mal wiederholt, da der kürzeste Weg zwischen zwei Knoten maximal über $\\lvert V \\rvert - 1$ Knoten geht, da er sonst mehrfach durch den gleichen Knoten gehen würde und es sich somit um einen Kreis innerhalb des Weges handelt, welcher nicht der kürzeste Weg sein kann. Sollte sich herausstellen, dass für $\\lvert V \\rvert$ Iterationen sich kürzere Wege ergeben als nach $\\lvert V \\rvert - 1$ Iterationen, so muss es einen negativen Kreis (negative weight cycle) innerhalb des Graphen geben. Adernfalls wurden die kürzesten Wege ausgehend vom Startknoten gefunden und es existiert kein negativer Kreis im Graphen.\n",
    "\n",
    "Für die Implementation dieser Variante des Bellman-Ford Algorithmus wird nicht die oben definierte Datenstruktur Node, sondern eine Liste aller Knoten (identifiziert als String) und eine Liste aller Kanten genutzt."
   ]
  },
  {
   "cell_type": "code",
   "execution_count": 21,
   "metadata": {
    "scrolled": true
   },
   "outputs": [
    {
     "name": "stdout",
     "output_type": "stream",
     "text": [
      "{'a': (-2, 'b'), 'b': (-1, 'e'), 'c': (inf, None), 'd': (0, 'd'), 'e': (-3, 'd')}\n"
     ]
    }
   ],
   "source": [
    "class Edge:\n",
    "    def __init__(self, u, v, weight):\n",
    "        self.u = u\n",
    "        self.v = v\n",
    "        self.weight = weight\n",
    "\n",
    "        \n",
    "def bellman_ford_bottom_up(nodes, edges, source):\n",
    "    dis = {}\n",
    "    #initializing distances\n",
    "    for node in nodes:\n",
    "        if node == source:\n",
    "            dis[node] = (0, source)\n",
    "        else:\n",
    "            dis[node] = (float('inf'), None)\n",
    "\n",
    "    for i in range(len(nodes) - 1):\n",
    "        for edge in edges:\n",
    "            if (dis[edge.u][0] + edge.weight < dis[edge.v][0]):\n",
    "                dis[edge.v] = (dis[edge.u][0] + edge.weight, edge.u)\n",
    "    \n",
    "    for edge in edges:\n",
    "        if (dis[edge.u][0] + edge.weight < dis[edge.v][0]):\n",
    "            return None #there is a negative weight cycle\n",
    "    return dis #otherwise return (distance, previous node)-dictionary\n",
    "\n",
    "\n",
    "nodes = ['a', 'b', 'c', 'd', 'e']\n",
    "edges = [Edge('b', 'a', -1), Edge('c', 'a', 4), Edge('c', 'b', 3), Edge('d', 'b', 2), Edge('e', 'b', 2), \n",
    "         Edge('b', 'd', 1), Edge('c', 'd', 5), Edge('d', 'e', -3)]\n",
    "\n",
    "print(bellman_ford_bottom_up(nodes, edges, 'd'))"
   ]
  },
  {
   "cell_type": "markdown",
   "metadata": {},
   "source": [
    "Dieser Ausgabe lässt sich entnehmen, dass der kürzeste Weg von a nach d das Gewicht -2 hat.\n",
    "\n",
    "Durch die zwei Schleifen ist ersichtlich, dass der Bellman-Ford Algorithmus eine Laufzeit von $\\mathcal{O}(\\lvert V \\rvert \\cdot \\lvert E \\rvert)$. Damit ist er ineffizienter als vergleichbare Algorithmen, wie der Dijkstra Algorithmus, jedoch hat Bellman-Ford den Vorteil, dass er mit negativen Gewichten der Kanten umgehen kann und das korrekte Ergebnis liefert."
   ]
  },
  {
   "cell_type": "markdown",
   "metadata": {},
   "source": [
    "## Geldwechsel-Problem\n",
    "\n",
    "Beim Geldwechsel-Problem ist die Anzahl der möglichen Münzkombinationen, die den gewünschten Betrag bilden, gefragt. Dabei ist eine Liste aller verfügbaren (positiven) Münzprägungen (1ct, 2ct, 5ct, 10ct, ...) gegeben. Es wird angenommen, dass alle Münzwerte unendlich oft zur Verfügung stehen.\n",
    "\n",
    "Der Dynamic Programming-Ansatz um dieses Problem zu lösen, bildet sich folgendermaßen:\n",
    "Angenommen, man möchte 54ct wechseln und die verfügbaren Münzprägungen sind: 20ct, 10ct, 5ct und 2ct. Nun betrachten wir nur die erste dieser vier Münzprägungen, nämlich 20ct. Zunächst könnte man sich entscheiden, kein 20ct-Stück zu benutzen und lediglich die folgenden Münzstücke zu verwenden. Man könnte sich auch entscheiden, genau ein 20ct-Stück zu verwenden. In diesem Fall müssen mit den restlichen Münzen nur noch 34ct gewechselt werden. Genauso könnten 2 20ct-Stücke verwendet werden und entsprechend 14ct mit den restlichen Münzen gebildet werden. Die Möglichkeit 3 20ct-Stücke zu verwenden steht nicht zur Verfügung, da dies bereits die 54ct überschreiten würde. Sei $N$ der zu wechselnde Betrag und $k$ der Wert der zu untersuchenden Münze, so kann die Münze 0 bis $n = \\lfloor \\frac{N}{k} \\rfloor$ mal verwendet werden. \n",
    "\n",
    "__Hinweis__ $f: \\mathbb{R} \\to \\mathbb{Z}$ mit $f(x) = \\lfloor x \\rfloor$ beschreibt die *floor*-Funktion, bei der die Zahl auf die nächst kleinere ganze Zahl abgerundet wird.\n",
    "\n",
    "Jetzt müssen für die rekursive Definition noch die Elementarfälle gebildet werden. Beträgt der zu wechselnde Betrag $N = 0$, so gibt es genau eine Möglichkeit, diesen Betrag zu bilden, nämlich indem man keine Münze verwendet. Ist der zu wechselnde Betrag $N$ negativ, so gibt es keine Möglichkeit diesen Betrag zu bilden, da alle Münzen einen positiven Wert haben."
   ]
  },
  {
   "cell_type": "code",
   "execution_count": 22,
   "metadata": {},
   "outputs": [
    {
     "name": "stdout",
     "output_type": "stream",
     "text": [
      "N  coin change ways\n",
      " 0                 1\n",
      " 1                 1\n",
      " 2                 2\n",
      " 3                 2\n",
      " 4                 3\n",
      " 5                 4\n",
      " 6                 5\n",
      " 7                 6\n",
      " 8                 7\n",
      " 9                 8\n",
      "10                11\n",
      "11                12\n",
      "12                15\n",
      "13                16\n",
      "14                19\n",
      "15                22\n",
      "16                25\n",
      "17                28\n",
      "18                31\n",
      "19                34\n",
      "20                41\n"
     ]
    }
   ],
   "source": [
    "import pandas as pd\n",
    "\n",
    "dic = {}\n",
    "\n",
    "coins = [1, 2, 5, 10, 20, 50]\n",
    "\n",
    "\n",
    "def coin_change(N, i):\n",
    "    if N == 0:\n",
    "        return 1\n",
    "    if N < 0 or i >= len(coins):\n",
    "        return 0\n",
    "    if (N, i) in dic:\n",
    "        return dic[N, i]\n",
    "    ways = 0\n",
    "    while N >= 0:\n",
    "        ways += coin_change(N, i+1)\n",
    "        N -= coins[i]\n",
    "    dic[N, i] = ways\n",
    "    return ways\n",
    "\n",
    "\n",
    "print(pd.DataFrame({'N': list(range(21)), 'coin change ways': list(map(lambda n: coin_change(n, 0), list(range(21))))})\n",
    "      .to_string(index=False))"
   ]
  }
 ],
 "metadata": {
  "kernelspec": {
   "display_name": "Python 3",
   "language": "python",
   "name": "python3"
  },
  "language_info": {
   "codemirror_mode": {
    "name": "ipython",
    "version": 3
   },
   "file_extension": ".py",
   "mimetype": "text/x-python",
   "name": "python",
   "nbconvert_exporter": "python",
   "pygments_lexer": "ipython3",
   "version": "3.6.3"
  }
 },
 "nbformat": 4,
 "nbformat_minor": 2
}
