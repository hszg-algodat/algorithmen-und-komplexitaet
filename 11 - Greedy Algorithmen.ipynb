{
 "cells": [
  {
   "cell_type": "markdown",
   "metadata": {},
   "source": [
    "# Greedy Algorithmen\n",
    "\n",
    "Diese Algorithmen werden immer dann verwendet, wenn eine **Lösung auf direktem Weg** erreicht werden kann. Ausgehend von einer momentanten Situation (lokale Informationen) wird diese dabei **schrittweise verbessert**. Von einer einmal verbesserten Situation gibt es keinen Weg zurück. Es werden **keine Alternativen probiert**. Kann eine Situation nicht weiter verbessert werden, dann steht das Ergebnis fest.\n",
    "\n",
    "Nicht alle Probleme können mit Greedy Algorithmen gelöst werden. Aber zumeist sind zumindest Näherungslösungen machbar, die auf sehr schnellem Wege ermittelt werden können. In der Praxis ist die benötigte Zeit oft das wichtigere Kriterium. Im Folgenden werden einige Greedy-Algorithmen vorgestellt, die optimale Lösungen produzieren."
   ]
  },
  {
   "cell_type": "markdown",
   "metadata": {},
   "source": [
    "## Bruchteilrucksack\n",
    "\n",
    "Im Gegensatz zum 0/1 Rucksackproblem, ist es beim Bruchteilrucksack erlaubt, auch Bruchteile von Gegenständen einzupacken. Werden 80 Prozent eines Gegenstands eingepackt, heißt das nichts anderes als das 80 Prozent seines Gewichts den Rucksack belasten und 80 Prozent seines Wertes den Rucksackwert erhöhen.\n",
    "\n",
    "Bereits an dieser Stelle wird klar, dass es unter diesen Bedingungen möglich ist, den Rucksack exakt bis zu seiner Kapazitätsgrenze zu füllen. Es ist klar, dass Gegenstände mit hohem Wert und geringem Gewicht zu bevorzugen sind. Sortiert man die Gegenstände nach dem spezifischen Gewicht ($\\frac{\\text{Gewicht}}{\\text{Wert}}$) erhält man eine priorisierte Liste. Durch das spezifische Gewicht werden die Gegenstände vergleichbar, denn es sagt aus, wie schwer der Gegenstand pro Werteinheit ist. *(Alternativ kann auch der spezifische Wert (Wert pro Gewichtseinheit) für eine absteigende Sortierung genutzt werden.)*  Die Gegenstände können nun, solange die Kapazitätsgrenze nicht überschritten wird, genau in der Reihenfolge ihrer Sortierung in den Rucksack gelegt werden. Der übrige Platz kann dann durch einen entsprechenden Bruchteil des nächsten Gegenstands aufgefüllt werden. Es wird an keiner Stelle ein Gegenstand wieder aus dem Rucksack entfernt und es gibt kein Probieren. Die Lösung wird direkt angesteuert."
   ]
  },
  {
   "cell_type": "code",
   "execution_count": 40,
   "metadata": {},
   "outputs": [
    {
     "name": "stdout",
     "output_type": "stream",
     "text": [
      "([(2, 5), (4, 7), (6, 9), (3, 2.625)], 15, 23.625)\n"
     ]
    }
   ],
   "source": [
    "import heapq # Priority Queue\n",
    "\n",
    "def fracKnapsack(K, items):\n",
    "    sort = []\n",
    "    for item in items:\n",
    "        heapq.heappush(sort,(item[0]/item[1],item)) # Gewicht/Wert\n",
    "    knapsack = []\n",
    "    weight = 0\n",
    "    value = 0\n",
    "    while len(sort):\n",
    "        (sw,item) = heapq.heappop(sort)\n",
    "        if weight + item[0] <= K: # passt vollständig in den Rucksack\n",
    "            knapsack.append(item)\n",
    "            weight += item[0]\n",
    "            value += item[1]\n",
    "        else: # Bruchteil in den Rucksack aufnehmen\n",
    "            v = (K-weight)/sw # Verbleibender Wert des Bruchteils\n",
    "            knapsack.append((K-weight,v))\n",
    "            weight += K-weight\n",
    "            value += v\n",
    "            break # Rucksack ist voll\n",
    "    return (knapsack, weight, value)\n",
    "\n",
    "items = [(4, 7),(9, 1),(6, 9), (8, 6), (3, 1), (2, 5), (8, 7)] # (Gewicht, Wert)\n",
    "print(fracKnapsack(15, items))"
   ]
  },
  {
   "cell_type": "markdown",
   "metadata": {},
   "source": [
    "**Hinweis:** *Das 0/1 Rucksackproblem ist mit der Greedy Strategie nicht lösbar. Die Gegenstände nach ihrem spezifischen Gewicht nacheinander einzupacken führt hier nicht immer zum optimalen Rucksack. Stünde z.B. ein Diamant (Wert 1000, Gewicht 90) und fünf Goldmünzen (jeweils Wert 210, Gewicht 20) für einen Rucksack, der ein Gewicht von 100 tragen kann, zur Auswahl, würde der Greedy Algorithmus den Diamanten einpacken und einen Rucksackwert von 1000 erreichen. Die optimale Lösung jedoch ist, stattdessen die fünf Goldmünzen zu nehmen (Wert 5 x 210 = 1050).*"
   ]
  },
  {
   "cell_type": "markdown",
   "metadata": {},
   "source": [
    "## Geldwechselproblem\n",
    "\n",
    "Beim Geldwechselproblem kann ganz ähnlich vorgegangen werden wie beim Bruchteilrucksack. Hier geht es darum, einen Geldbetrag in möglichst wenige Münzen einzutauschen. Der Betrag kann hier wie die Maximalkapazität beim Rucksackproblem behandelt werden. Die möglichen Münzen stellen bei dieser Analogie die Gegenstände dar. Der einzige Unterschied besteht darin, dass Münzen mehrfach ausgewählt werden können.\n",
    "\n",
    "Nach absteigender Sortierung der möglichen Münzwerte wird nach und nach versucht den jeweils größten vom aktuellen Betrag abzuziehen. Wenn dies möglich ist, so wird die Münze dem Ergebnis hinzugefügt. Anderenfalls wird die Münze mit diesem Wert aus der Kandidatenliste entfernt, sodass im nächsten Durchlauf der nächstkleinere Münzwert verwendet wird. Folgendes Programm zeigt auch, dass eine rekursive Implementation von Greedy Algorithmen möglich ist."
   ]
  },
  {
   "cell_type": "code",
   "execution_count": 3,
   "metadata": {},
   "outputs": [
    {
     "name": "stdout",
     "output_type": "stream",
     "text": [
      "[200, 200, 200, 200, 100, 50, 20, 10, 5]\n",
      "9\n"
     ]
    }
   ],
   "source": [
    "def currencyExchangeRec(balance, candidates):\n",
    "    if balance == 0:\n",
    "        return []\n",
    "    if (balance >= 0) and (len(candidates) == 0):\n",
    "        return ['Failed']\n",
    "    else:\n",
    "        if balance >= candidates[0]:\n",
    "            temp = [candidates[0]]\n",
    "            return temp + currencyExchangeRec((balance - candidates[0]), candidates)\n",
    "        else:\n",
    "            return currencyExchangeRec(balance, candidates[1:])\n",
    "\n",
    "def currencyExchange(balance, candidates):\n",
    "    res = currencyExchangeRec(balance, candidates)\n",
    "    if res[len(res)-1] == 'Failed':\n",
    "        print('No exchange possible.')\n",
    "    else:\n",
    "        print(res)\n",
    "        print(len(res))\n",
    "\n",
    "balance = 985 #The value of the whole amount of money you want to change\n",
    "candidates = [200, 100, 50, 20, 10, 5] #The value of each coin, e.g. 2€, 1€, 50ct...\n",
    "\n",
    "currencyExchange(balance, candidates)"
   ]
  },
  {
   "cell_type": "markdown",
   "metadata": {},
   "source": [
    "## Kürzeste Wege\n",
    "\n",
    "Im Gegensatz zum TSP, wo eine kürzeste Rundreise gesucht wird, ist das Finden des kürzesten Weges zwischen zwei Knoten eines Graphen effizient möglich. Das wohl bekannteste Lösungsverfahren ist der **Algorithmus von Dijkstra**. Auch dieser verfolgt die Greedy Strategie ein momentanes Zwischenergebnis immer maximal zu verbessern. Am Beispiel des folgenden Graphen soll der kürzeste Weg von A nach E gefunden werden.\n",
    "\n",
    "<img src=\"img/Greedy_Graph.png\" width=\"300\">\n",
    "\n",
    "Ausgehend vom Startpunkt A werden zunächst alle angrenzenden Knoten ermittelt und an diesen die Länge des Weges bis dorthin  hinterlegt (Bild a). Zusätzlich merkt man sich den Vorgängerknoten von dem aus dieser Weg beschritten wurde (rote Pfeile). Im weiteren Verlauf wird nun unter den noch nicht verarbeiteten Knoten der mit dem kürzesten hinterlegten Weg untersucht (*das beste momentante Zwischenergebnis*, in Bild b Knoten C) und dessen angrenzende Knoten ermittelt (nur Knoten D, da A bereits verarbeitet wurde). Der am untersuchten Knoten hinterlegte Weg (der kürzeste Weg vom Startknoten bis dahin, bei Knoten C die Länge 2), erweitert um den Weg bis zum angrenzenden Knoten (3 bis nach D), wird nun mit dem am angrenzenden Knoten hinterlegten Weg (der kürzeste Weg vom Startknoten bis zu diesem) verglichen. Gibt es noch keinen hinterlegten Wert, so kann die momentan berechnete Länge gespeichert werden (in Bild b Speicherung von 5 zu Knoten D). Ist der momentane Weg kürzer als der bereits am angrenzenden Knoten hinterlegte Weg, dann wird dieser ersetzt (*Verbesserung des Zwischenergebnisses*, in Bild c passiert das mit Knoten B). Im gleichen Zuge wird auch der Vorgänger entsprechend geändert. Bild d zeigt, dass genau das Gleiche bei Knoten E passiert.\n",
    "\n",
    "<img src=\"img/Greedy_Dijkstra.png\" width=\"700\">\n",
    "\n",
    "Sobald der Zielknoten derjenige mit dem geringsten hinterlegten Weg ist, ist klar, dass dieser der Knoten mit der momentan kürzesten Distanz zum Startknoten ist. Es kann demzufolge keine kürzere Distanz zum Startknoten geben und der kürzeste Weg ist gefunden. Da an jedem Knoten der Vorgänger hinterlegt wurde von dem aus dieser kürzeste Weg zustande gekommen ist, kann durch Verfolgung der Vorgänger bis hin zum Startknoten der Weg rekonstruiert werden. Schlussendlich wird bei dieser Vorgehensweise jeder Knoten nur maximal ein Mal untersucht und bei jedem Besuch werden nur die noch nicht untersuchten Knoten aktualisiert, sofern sie vom aktuellen Knoten aus überhaupt erreichbar sind.\n",
    "\n",
    "Folgendes Programm nutzt eine Entfernungsmatrix, um den Graphen zu repräsentieren. Diese enthält in jedem Feld die Entfernung von einem Ausgangsknoten (Zeilenindex) zu einem Zielknoten (Spaltenindex). Für Knoten die keine direkte Verbindung haben, wird eine Entfernung von Unendlich (`inf`) definiert. In der nach der hinterlegten Distanz sortierten Ausgangsknotenliste `nodes` wird der Startknoten mit einer Distanz von 0 markiert, sodass in der äußeren `while` Schleife mit diesem begonnen wird. Solange der Knoten mit der kürzestesten Distanz zum Startknoten (`n`) noch nicht der Zielknoten (Knotenindex `end`) ist, werden die verbleibenden Knoten (`nn`) aktualisiert. Durch Nutzung von `heapq` werden die verbleibenden Knoten (`nodes`) stets nach ihrer hinterlegten Mindestdistanz zum Startknoten sortiert."
   ]
  },
  {
   "cell_type": "code",
   "execution_count": 37,
   "metadata": {},
   "outputs": [
    {
     "name": "stdout",
     "output_type": "stream",
     "text": [
      "([0, 2, 3, 1, 4], 11)\n"
     ]
    }
   ],
   "source": [
    "import heapq # Priority Queue\n",
    "inf = float(\"inf\")\n",
    "distanceMatrix = [\n",
    "#nach A ,  B ,  C ,  D ,  E\n",
    "    [inf,  11,   2, inf, inf], # von A\n",
    "    [ 11, inf, inf,   5,   1], # von B\n",
    "    [  2, inf, inf,   3, inf], # von C\n",
    "    [inf,   5,   3, inf,   8], # von D\n",
    "    [inf,   1, inf,   8, inf]  # von E\n",
    "]\n",
    "def shortestPathDijkstra(matrix, start, end):\n",
    "    # für alle Knoten (Distanz, (Knotenindex, Vorgängerknoten)\n",
    "    # Distanz = inf außer beim Start-Knoten, Vorgänger=None\n",
    "    nodes = [(inf if i != start else 0, (i, None)) for i in range(len(matrix))]\n",
    "    heapq.heapify(nodes)  # Heap-sortiert nach Distanz\n",
    "    while len(nodes):  # Solange es nicht verarbeitete Knoten gibt\n",
    "        n = heapq.heappop(nodes)  # Knoten mit der geringsten Distanz\n",
    "        if n[1][0] == end:  # Index des Endknoten erreicht?\n",
    "            result = [n[1][0]]  # Weg endet mit Endknoten\n",
    "            r = n[1][1]  # Vorgänger auf dem Weg zum Endknoten\n",
    "            while r:  # solange es noch Vorgänger gibt\n",
    "                result = [r[0]] + result  # Weg um Vorgänger erweitern\n",
    "                r = r[1]  # dessen Vorgänger ermitteln\n",
    "            return (result, n[0])  # (Weg von start zu end, Länge)\n",
    "        nextnodes = []  # Update der übrigen Knoten\n",
    "        for nn in nodes:  # für alle noch nicht verarbeiteten Knoten\n",
    "            if n[0] + matrix[n[1][0]][nn[1][0]] < nn[0]:  # kürzer von start zu nn?\n",
    "                # Distanz und Vorgänger aktualisieren\n",
    "                heapq.heappush(nextnodes, (n[0] + matrix[n[1][0]][nn[1][0]], (nn[1][0], n[1])))\n",
    "            else: # anderenfalls unverändert in priority-queue übernehmen\n",
    "                heapq.heappush(nextnodes, nn)\n",
    "        nodes = nextnodes # aktualisierte Knoten für den nächsten Durchlauf\n",
    "    return \"bad input\"\n",
    "\n",
    "print(shortestPathDijkstra(distanceMatrix, 0, 4))"
   ]
  },
  {
   "cell_type": "markdown",
   "metadata": {},
   "source": [
    "Folgendes Programm nutzt den Dijkstra Algorithmus, um die kürzeste Verbindung zweier Punkte in einem Graphen zu finden. Graphen werden hier zufällig generiert und grafisch dargestellt, sodass eine visuelle Kontrolle erfolgen kann."
   ]
  },
  {
   "cell_type": "code",
   "execution_count": 39,
   "metadata": {},
   "outputs": [
    {
     "name": "stdout",
     "output_type": "stream",
     "text": [
      "[(0, 7, 8.307523278366798), (1, 0, 9.77736928231171), (2, 8, 12.693951100081657), (3, 4, 9.993001942035932), (4, 9, 13.04392598250803), (5, 7, 7.985020608157423), (6, 5, 14.745220972850216), (7, 6, 8.563940567477786), (8, 0, 18.892951126378275), (9, 2, 3.3781573383815697)]\n",
      "([0, 8, 2, 9], 34.9650595648415)\n"
     ]
    },
    {
     "data": {
      "image/png": "[encoded data removed]",
      "text/plain": [
       "<Figure size 432x288 with 1 Axes>"
      ]
     },
     "metadata": {},
     "output_type": "display_data"
    }
   ],
   "source": [
    "# Graph-Generator ----------------------------------------\n",
    "def generateGraph(numberOfPoints, maxConnections):\n",
    "    points = []  # (x,y), Name = Index\n",
    "    edges = []  # (indexPoint1, indexPoint2, weight)\n",
    "    if maxConnections < 1:\n",
    "        maxConnections = 1\n",
    "\n",
    "    for i in range(numberOfPoints):\n",
    "        points.append((random.uniform(-10, 10), random.uniform(-10, 10)))\n",
    "\n",
    "    def getPossibleConnections(edges, x, length):\n",
    "        tempResult = []\n",
    "        result = []\n",
    "        for edge in edges:\n",
    "            if edge[1] == x:\n",
    "                tempResult.append(edge[0])\n",
    "        for i in range(0, length):\n",
    "            if i not in tempResult and i != x:\n",
    "                result.append(i)\n",
    "        return result\n",
    "\n",
    "    def calcDistance(point1, point2):\n",
    "        a = abs(point1[0] - point2[0])\n",
    "        b = abs(point1[1] - point2[1])\n",
    "        c_2 = a * a + b * b\n",
    "        return math.sqrt(c_2)\n",
    "\n",
    "\n",
    "    for i in range(len(points)):\n",
    "        k = 0\n",
    "        possibleConnections = getPossibleConnections(edges, i, len(points))\n",
    "        n = round(random.uniform(1, maxConnections))\n",
    "        while k < n:\n",
    "            j = possibleConnections[round(random.uniform(0, len(possibleConnections)-1))]\n",
    "            edges.append((i, j, calcDistance(points[i], points[j])))\n",
    "            possibleConnections.remove(j)\n",
    "            k = k + 1\n",
    "    return (points, edges)\n",
    "\n",
    "def pointsAndEdgesToDistanceMatrix(points, edges):\n",
    "    m = [[inf for _ in points] for _ in points]\n",
    "    for e in edges:\n",
    "        m[e[0]][e[1]] = m[e[1]][e[0]] = e[2]\n",
    "    return m\n",
    "\n",
    "# Execution ------------------------------------------------------------\n",
    "\n",
    "(points, edges) = generateGraph(10,1)\n",
    "print(edges)\n",
    "distanceMatrix = pointsAndEdgesToDistanceMatrix(points, edges)\n",
    "dijkstraResult = shortestPathDijkstra(distanceMatrix, 0, len(points) - 1)\n",
    "print(dijkstraResult)\n",
    "dijkstraWay = dijkstraResult[0]\n",
    "\n",
    "# Plotting -----------------------------------------------------------\n",
    "\n",
    "fig = plt.subplot()\n",
    "\n",
    "pointsX = []\n",
    "pointsY = []\n",
    "\n",
    "for point in points:\n",
    "    pointsX.append(point[0])\n",
    "    pointsY.append(point[1])\n",
    "\n",
    "for edge in edges:\n",
    "    tempX = [points[edge[0]][0], points[edge[1]][0]]\n",
    "    tempY = [points[edge[0]][1], points[edge[1]][1]]\n",
    "    fig.plot(tempX, tempY, \"r\", color=\"blue\", linewidth=\"0.2\")\n",
    "\n",
    "dijkstraPointsX = []\n",
    "dijkstraPointsY = []\n",
    "\n",
    "for index in dijkstraWay:\n",
    "    dijkstraPointsX.append(points[index][0])\n",
    "    dijkstraPointsY.append(points[index][1])\n",
    "\n",
    "fig.plot(dijkstraPointsX, dijkstraPointsY, \"r\", color=\"red\")\n",
    "\n",
    "for i in range(0, len(pointsX)):\n",
    "    if i in dijkstraWay:\n",
    "        if i == dijkstraWay[0]:\n",
    "            fig.plot(pointsX[i], pointsY[i], \"go\")\n",
    "        else:\n",
    "            if i == dijkstraWay[len(dijkstraWay)-1]:\n",
    "                fig.plot(pointsX[i], pointsY[i], \"yo\")\n",
    "            else:\n",
    "                fig.plot(pointsX[i], pointsY[i], \"ro\")\n",
    "    else:\n",
    "        fig.plot(pointsX[i], pointsY[i], \"bo\")\n",
    "\n",
    "plt.show()\n"
   ]
  }
 ],
 "metadata": {
  "kernelspec": {
   "display_name": "Python 3",
   "language": "python",
   "name": "python3"
  },
  "language_info": {
   "codemirror_mode": {
    "name": "ipython",
    "version": 3
   },
   "file_extension": ".py",
   "mimetype": "text/x-python",
   "name": "python",
   "nbconvert_exporter": "python",
   "pygments_lexer": "ipython3",
   "version": "3.6.3"
  }
 },
 "nbformat": 4,
 "nbformat_minor": 2
}
