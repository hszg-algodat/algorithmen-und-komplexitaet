{
 "cells": [
  {
   "cell_type": "markdown",
   "metadata": {
    "collapsed": true
   },
   "source": [
    "# Randomisierte Algorithmen\n",
    "\n",
    "Algorithmen, in denen der Zufall eine Rolle spielt, werden randomisiert, probabilistisch oder stochastisch genannt. Dem Einsteiger stellt sich dabei zunächst die Frage, wie der Zufall effektiv bei der Lösung eines Problems helfen kann. Der **Zufallsregen** zeigt das sehr eindrucksvoll.\n",
    "\n",
    "## Bestimmung von $\\pi$\n",
    "\n",
    "Die Kreiszahl $\\pi$ ist eine mathematische Konstante und definiert das Verhältnis zwischen Umfang $u$ und Durchmesser $d$ eines Kreises.\n",
    "\n",
    "$$ \\pi d = u $$\n",
    "\n",
    "Die Fläche $A$ eines Kreises ist definiert durch\n",
    "\n",
    "$$ A = \\pi \\frac{d^2}{4} $$\n",
    "\n",
    "wobei $d^2$ nichts anderes als die Fläche des den Kreis umgebenden Quadrats ist.\n",
    "Die Zahl $\\pi$ kann also berechnet werden durch\n",
    "\n",
    "$$ \\pi = 4 \\frac{A}{d^2} $$\n",
    "\n",
    "wobei $\\frac{A}{d^2}$ einfach das Verhältnis zwischen den Flächeninhalten von Kreis und Quadrat ist.\n",
    "\n",
    "<img src=\"img/Rand_CircleQuad.png\" width=\"200\">\n",
    "\n",
    "Zur Bestimmung dieses Verhältnisses kann man es nun zufällig Koordinaten *regnen lassen*. Im Bild oben sind z.B. von den insgesamt 14 Koordinaten-*Tropfen* zufällig 11 innerhalb des Kreises gelandet. Da die Flächen im Verhältnis $\\frac{\\pi}{4}$ stehen, müssen zufällig positionierte Koordinaten auch in eben diesem Verhältnis auf den Flächen verteilt sein. Für das Beispiel ergibt sich:\n",
    "\n",
    "$$ \\frac{11}{14}*4 = 3,142857143... \\approx \\pi = 3,141592654... $$\n",
    "\n",
    "Mit größer werdender Menge von zufälligen Koordinaten sollte sich das Verhältnis stabilisieren und an $\\pi$ annähern.\n",
    "\n",
    "### Implementation\n",
    "\n",
    "Im Folgenden wird nur ein Viertel des Einheitskreises und dessen umgebendes Quadrat betrachtet. Da beide Flächen um den gleichen Prozentsatz verkleinert werden, hat das keinen Einfluss auf das Verhältnis der Flächen zueinander. Da für x und y nur Gleitkommazahlen im Intervall $(0,1]$ generiert werden, liegen alle Koordinaten innerhalb des Quadrats. Für jede Koordinate $(x,y)$ innerhalb des Kreises gilt $x^2+y^2 <= 1$ . So kann sehr einfach ermittelt werden, ob sich ein zufälliger Tropfen innerhalb des Viertelkreises befindet."
   ]
  },
  {
   "cell_type": "code",
   "execution_count": 4,
   "metadata": {},
   "outputs": [
    {
     "name": "stdout",
     "output_type": "stream",
     "text": [
      "RealPi: 3.141592653589793\n",
      "Approx: 3.138848\n",
      "Approx: 3.14032\n",
      "Approx: 3.139936\n",
      "Approx: 3.140588\n",
      "Approx: 3.1406928\n",
      "Approx: 3.1407693333333335\n",
      "Approx: 3.141190285714286\n",
      "Approx: 3.1412935\n",
      "Approx: 3.141352888888889\n"
     ]
    }
   ],
   "source": [
    "import random\n",
    "import math\n",
    "\n",
    "def calcPi():\n",
    "    print(\"RealPi:\",math.pi)\n",
    "    cntCircle = 0\n",
    "    cntRect = 0\n",
    "    for i in range(1, 10000000):\n",
    "        x = random.random()*-1+1\n",
    "        y = random.random()*-1+1\n",
    "        if x * x + y * y <= 1:\n",
    "            cntCircle += 1\n",
    "        cntRect += 1\n",
    "        if i % 1000000 == 0:\n",
    "            print(\"Approx:\",4 * cntCircle / cntRect)\n",
    "\n",
    "calcPi()"
   ]
  },
  {
   "cell_type": "markdown",
   "metadata": {},
   "source": [
    "Bei genauer Betrachtung wird man feststellen, dass selbst wenn dieses Programm unendlich lange weiter laufen würde, niemals exakt $\\pi$ das Ergebnis wäre. Zum einen ist das darauf zurückzuführen, dass die Gleitkommazahlen mit denen hier gerechnet wird nur eine begrenzte Genauigkeit aufweisen. Bei der Berechnung müssen intern also Rundungen durchgeführt werden, die zu einer Verfälschung des Ergebnisses führen. Zum anderen liegt die Ursache in der Berechnung der Zufallszahlen selbst."
   ]
  },
  {
   "cell_type": "markdown",
   "metadata": {},
   "source": [
    "## Zufallszahlen\n",
    "\n",
    "Das Ergebnis unter Einbeziehung des Zufallsregens beruht im wesentlichen darauf, dass die generierten Zufallszahlen auch wirklich zufällig sind. In korrekt arbeitenden Computersystemen gibt es aber generell keinen echten Zufall (eine Ausnahme bilden System die physikalische Werte messen). Zurecht darf also die Frage gestellt werden, was das Ergebnis des Aufrufs von random() dann eigentlich ist.\n",
    "\n",
    "Genau genommen sind diese Zahlen nämlich keine zufälligen Zahlen, denn Sie werden deterministisch durch einen Algorithmus berechnet. Im Allgemeinen spricht man hier von **Pseudozufallszahlen**. Eine sehr einfacher Zufallszahlengenerator ist der **lineare Kongruenzgenerator**.\n",
    "\n",
    "$$ z_n = (a \\cdot z_{n-1}+b)\\bmod c $$\n",
    "\n",
    "Die natürlichen Zahlen $a \\in \\{1,\\dots, c-1\\}$, $b \\in \\{0,\\dots, c-1\\}$ und $c \\geq 2$ sind Konstanten, die die Güte des Generators beeinflussen. Die rekursive Notation weist darauf hin, dass die berechnete Zahl $z_n$ von der vorher berechneten Zahl $z_{n-1}$ abhängig ist. Ausgehend von einem beliebigen $z_0 \\in \\mathbb{N}$ kann hier also eine Folge berechnet werden, deren einzelne Zahlen bei geeigneter Konstantenwahl in der Tat zufällig aussehen."
   ]
  },
  {
   "cell_type": "code",
   "execution_count": 5,
   "metadata": {},
   "outputs": [
    {
     "name": "stdout",
     "output_type": "stream",
     "text": [
      "0 : 1234\n",
      "1 : 233786\n",
      "2 : 99778\n",
      "3 : 181482\n",
      "4 : 58162\n",
      "5 : 3866\n",
      "6 : 203042\n",
      "7 : 7114\n",
      "8 : 148370\n",
      "9 : 210682\n",
      "...\n",
      "262144 : 1234\n",
      "262145 : 233786\n",
      "262146 : 99778\n"
     ]
    }
   ],
   "source": [
    "a = 9749\n",
    "b = 0\n",
    "c = 262144\n",
    "z = 1234\n",
    "\n",
    "def rand():\n",
    "    global z\n",
    "    z = (a * z + b) % c\n",
    "    return z\n",
    "\n",
    "print(\"0 :\",z)\n",
    "for i in range(1,10):\n",
    "    print(i,\":\",rand())\n",
    "for _ in range(c-10):\n",
    "    rand()\n",
    "print(\"...\")\n",
    "print(c,\":\",rand())\n",
    "print(c+1,\":\",rand())\n",
    "print(c+2,\":\",rand())"
   ]
  },
  {
   "cell_type": "markdown",
   "metadata": {},
   "source": [
    "**Hintergrund:** *Die Wahl der Konstanten $a$, $b$ und $c$ ist entscheidend für die Güte des Zufallsgenerators. Die Konstante $c$ gibt an wieviele verschiedene Zufallszahlen überhaupt möglich sind. Die möglichen Zufallszahlen sind $[0,c)$. Ein weiteres Gütemerkmal ist die Periodenlänge, also die Anzahl der Berechnungen bis sich eine Zahl wiederholt. Diese kann maximiert werden indem ein $b$ gewählt wird, das zu $c$ teilerfremd ist, jeder Primfaktor von $c$ ein Teiler von $a-1$ ist und wenn $c$ durch 4 teilbar ist, auch $a-1$ durch 4 teilbar ist. Für die im Programmierbeispiel verwendeten Konstanten ist das der Fall.*\n",
    "\n",
    "Wiederholtes Ausführen mit gleichem $z_0$ wird stets die gleiche Folge von Zahlen generieren. Aus diesem Grund wird bei Zufallsgeneratoren in regelmäßigen Abständen oder auch manuell ein neues $z_o$ generiert. Eine bewährte Praxis ist, die Systemzeit als sogenannten **Seed** zu verwenden."
   ]
  },
  {
   "cell_type": "code",
   "execution_count": 6,
   "metadata": {},
   "outputs": [
    {
     "name": "stdout",
     "output_type": "stream",
     "text": [
      "0 : 1534602713494\n",
      "1 : 89422\n",
      "2 : 146278\n",
      "3 : 862\n",
      "4 : 15030\n",
      "5 : 251118\n",
      "6 : 248710\n",
      "7 : 103934\n",
      "8 : 66006\n",
      "9 : 191118\n"
     ]
    }
   ],
   "source": [
    "import time\n",
    "z = int(round(time.time() * 1000))\n",
    "print(\"0 :\",z)\n",
    "for i in range(1,10):\n",
    "    print(i,\":\",rand())"
   ]
  },
  {
   "cell_type": "markdown",
   "metadata": {},
   "source": [
    "## Las Vegas, Monte Carlo und Atlantic City\n",
    "\n",
    "Diese für das Glückspiel (der Zufall lässt grüßen) bekannte Städte sind Namensgeber für ein paar bestimmte Typen von probabilistischen Algorithmen. Las Vegas Algorithmen liefern niemals falsche Ergebnisse und tun das zu einer gewissen Wahrscheinlichkeit auch schnell. Im Gegenzug sind Monte Carlo Algorithmen immer schnell, deren Ergebnisse sind aber möglicherweise falsch. Atlantic City Algorithmen sind ein Kompromiss dieser beiden Typen. Sie liefern wahrscheinlich schnell ein Ergebnis und dieses ist wahrscheinlich auch richtig.\n",
    "\n",
    "### Quicksort\n",
    "Das typische Beispiel für einen **Las Vegas Algorithmus** erhält man durch Anpassung des Quicksort-Algorithmus. Normalerweise wird hier als Pivot-Element einfach das erste Element der zu sortierenden Liste verwendet. Ist die Liste aber bereits sortiert, führt dieses Verhalten zwangsläufig zur Worst-Case-Laufzeit von $\\mathcal{O}(n^2)$. Wird das Pivot-Element dagegen zufällig ausgewählt, ändert sich etwas. Natürlich besteht weiterhin die Möglichkeit, dass zufällig immer das kleinste Element ausgewählt wird. Diese Wahrscheinlichkeit ist aber gegenüber der Wahrscheinlichkeit, dass eine Liste bereits sortiert ist, in der Praxis eher gering. Somit ist das Las-Vegas-Quicksort mit einer hohen Wahrscheinlichkeit schneller als das Standard-Quicksort."
   ]
  },
  {
   "cell_type": "code",
   "execution_count": 73,
   "metadata": {},
   "outputs": [
    {
     "name": "stdout",
     "output_type": "stream",
     "text": [
      "[1, 2, 3, 4, 5, 7, 8]\n",
      "Calls: 9\n"
     ]
    }
   ],
   "source": [
    "import random\n",
    "n = 0\n",
    "def quicksortLasVegas(lst):\n",
    "    global n\n",
    "    n += 1\n",
    "    if len(lst) < 2:\n",
    "        return lst\n",
    "    pivot = random.choice(lst) # zufällige Auswahl eines Elements\n",
    "    #pivot = lst[0]\n",
    "    smaller = []\n",
    "    equal = []\n",
    "    larger = []\n",
    "    for i in range(0, len(lst)):\n",
    "        if lst[i] < pivot:\n",
    "            smaller.append(lst[i])\n",
    "        elif lst[i] > pivot:\n",
    "            larger.append(lst[i])\n",
    "        else:\n",
    "            equal.append(lst[i])\n",
    "    return quicksortLasVegas(smaller) + equal + quicksortLasVegas(larger)\n",
    "\n",
    "print(quicksortLasVegas([1, 2, 3, 4, 5, 7, 8]))\n",
    "print(\"Calls:\", n)"
   ]
  },
  {
   "cell_type": "markdown",
   "metadata": {},
   "source": [
    "### Äquivalenz zweier Listen\n",
    "\n",
    "Üblicherweise prüft man zwei Listen darauf, ob sie die gleichen Elemente enthalten, indem diese zunächst sortiert und dann elementweise verglichen werden. Im Mittel benötigt eine solche Sortierung eine Laufzeit von $\\mathcal{O}(n\\;log\\;n)$. Folgendes Beispiel verdeutlicht, dass die vollständige Prüfung $\\mathcal{O}(n+2n\\;log\\;n)$ benötigt."
   ]
  },
  {
   "cell_type": "code",
   "execution_count": 75,
   "metadata": {},
   "outputs": [
    {
     "name": "stdout",
     "output_type": "stream",
     "text": [
      "True\n"
     ]
    }
   ],
   "source": [
    "A = [1, 2, 2, 3, 4, 5, 7, 8]\n",
    "B = [8, 2, 4, 1, 7, 5, 2, 3]\n",
    "def containsSame(a, b):\n",
    "    if len(a) != len(b):\n",
    "        return False\n",
    "    a = quicksortLasVegas(a)\n",
    "    b = quicksortLasVegas(b)\n",
    "    for i in range(len(a)):\n",
    "        if a[i] != b[i]:\n",
    "            return False\n",
    "    return True\n",
    "    \n",
    "print(containsSame(A,B))"
   ]
  },
  {
   "cell_type": "markdown",
   "metadata": {},
   "source": [
    "Ein **Monte Carlo Algorithmus** kann das sehr viel effizienter, jedoch mit der Einschränkung, dass zu einer gewissen Wahrscheinlichkeit das Ergebnis nicht stimmt. Dazu stelle man sich für die Liste A mit den Elementen $a_1$ bis $a_n$ und die Liste B mit den Elementen $b_1$ bis $b_n$ folgende Polynome vor:\n",
    "\n",
    "$$\n",
    "p_A(x) = (x-a_1)(x-a_2)\\dots(x-a_n)\\\\\n",
    "p_B(x) = (x-b_1)(x-b_2)\\dots(x-b_n)\n",
    "$$\n",
    "\n",
    "Wenn jedes $a_i$ in B und jedes $b_i$ in A vorkommt, dann sind die Funktionen identisch. Durch Einsetzen eines beliebigen $x$ kann die Gleichheit der Funktionen geprüft werden. Wenn $p_A(x) \\neq p_B(x)$, dann kann mit Sicherheit festgestellt werden, dass keine Äquivalenz der Listen vorliegt. Anderenfalls ist die Äquivalenz wahrscheinlich. Jedoch ist nicht ganz ausgeschlossen, dass trotz positiver Prüfung, keine Äquivalenz vorliegt. Folgendes Beispiel zeigt, dass ein falsches Ergebnis nicht nur dann produziert wird, wenn $x$ ein Element beider Listen ist (also bei beiden Funktionen eine Nullstelle getroffen wurde). \n",
    "\n",
    "$$\n",
    "p_A(x) = (x-1)(x-2)(x-4)(x-5)\\\\\n",
    "p_B(x) = (x-7)(x-2)(x-4)(x-2)\\\\\n",
    "p_A(2) = 0 = p_B(2)\\\\\n",
    "p_A(3) = 4 = p_B(3)\n",
    "$$\n",
    "\n",
    "Man kann aber die Wahrscheinlichkeit für die Korrektheit des Ergebnisses erhöhen, indem $x$ überlegt gewählt wird und/oder der Algorithmus mehrfach mit verschiedenen $x$ durchgeführt wird."
   ]
  },
  {
   "cell_type": "code",
   "execution_count": 85,
   "metadata": {},
   "outputs": [
    {
     "name": "stdout",
     "output_type": "stream",
     "text": [
      "False\n",
      "False\n",
      "True\n",
      "False\n",
      "True\n",
      "True\n",
      "True\n",
      "False\n",
      "True\n",
      "False\n"
     ]
    }
   ],
   "source": [
    "Y = [1,2,4,5]\n",
    "Z = [7,2,4,2]\n",
    "def containsSameMonteCarlo(a, b, maxX):\n",
    "    if len(a) != len(b):\n",
    "        return False\n",
    "    x = random.randint(1,maxX)\n",
    "    ax = 1\n",
    "    bx = 1\n",
    "    for i in range(len(a)):\n",
    "        ax *= x-a[i]\n",
    "        bx *= x-b[i]\n",
    "    if ax != bx:\n",
    "        return False\n",
    "    return True\n",
    "for _ in range(10):\n",
    "    print(containsSameMonteCarlo(Y,Z,5))"
   ]
  }
 ],
 "metadata": {
  "kernelspec": {
   "display_name": "Python 3",
   "language": "python",
   "name": "python3"
  },
  "language_info": {
   "codemirror_mode": {
    "name": "ipython",
    "version": 3
   },
   "file_extension": ".py",
   "mimetype": "text/x-python",
   "name": "python",
   "nbconvert_exporter": "python",
   "pygments_lexer": "ipython3",
   "version": "3.6.3"
  }
 },
 "nbformat": 4,
 "nbformat_minor": 2
}
