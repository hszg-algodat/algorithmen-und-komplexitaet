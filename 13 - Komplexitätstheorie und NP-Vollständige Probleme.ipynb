{
 "cells": [
  {
   "cell_type": "markdown",
   "metadata": {
    "collapsed": true
   },
   "source": [
    "# Probleme und Komplexität\n",
    "\n",
    "In den bisherigen Kapiteln wurden die verschiedensten Probleme behandelt. Für die meisten von ihnen haben wir einen effizienten Algorithmus gefunden. Effizient bedeutet dabei, dass die Laufzeit durch ein Polynom nach oben beschränkt werden konnte. Es gibt jedoch auch Probleme, für die das nicht der Fall ist. Beispielsweise konnte für das Rucksackproblemm selbst mit Dynamic Programming in Bezug auf die Stelligkeit der Eingabe nur ein Exponentialzeit Algorithmus gefunden werden. Es gibt auch viele Probleme, die für die Praxis von großer Bedeutung sind und ähnlich schwer sind, wie etwa die Primfaktorenzerlegung einer Zahl. Bei diesem Beispiel handelt es sich um ein *Suchproblem*.\n",
    "\n",
    "Eine weitere Klasse von Problemen sind die *Optimierungsprobleme*, bei ihnen geht es darum ein Ergebnis zu finden, dass optimal (maximal bzw. minimal) ist, zu finden. Beispiel hierfür sind das Single Source Shortest Path-Problem, das Rucksackproblem und das Traveling Salesman Problem (TSP).\n",
    "\n",
    "In der theoretischen Informatik werden hauptsächlich *Entscheidungsprobleme* (decision problems) betrachtet. Dies sind Probleme, bei denen die Lösung entweder *JA* (true) oder *NEIN* (false) lautet.\n",
    "\n",
    "Auf der einen Seite sind Such- und Optimierungsprobleme für die Praxis besonders relevant unf auf der anderen Seite sind Entscheidungsprobleme theoretisch besonders gut erforscht. Dies führt zu der Frage, ob sich die Komplexität eines Optimierungsproblems auf die Komplexität eines zugehörigen Entscheidungsproblems zurückführen lässt. Dies ist in der tat möglich!\n",
    "\n",
    "Das zu einem Optimierungsproblem $OP$ gehörende Entscheidungsproblem $EP$ konstruiert man unter Verwendung der Lösung von $OP$. Die Entscheidungsvariante des TSP lautet: \"Gibt es eine Rundreise, deren Länge geringer ist als $S$ ?\". $S$ wird also als Schranke eingebaut. Nun hat man ein Entscheidungsproblem, das genauso aufwändig ist und man im Sinne der theoretischen Informatik, genauer der Komplexitätstheorie und Berechnbarkeitstheorie, betrachten kann.\n",
    "\n",
    "Die Komplexitätstheorie beschäftigt sich mit dem Aufwand von Problemen. In der Berechenbarkeitstheorie geht es um die Lösbarkeit eines Problems durch einen Computer. Da für das TSP alle möglichen Städtefolgen durchprobiert werden können, handelt es sich um ein entscheidbares Problem.\n",
    "\n",
    "## Die Komplexitätsklassen P und EXP\n",
    "\n",
    "__Definition 13.1__\n",
    "Die Komplexitätsklassse $P$ enthält alle Probleme, die sich mit einer deterministischen Turing-Maschine mit polynomiellen Zeitaufwand lösen lassen.\n",
    "\n",
    "Weniger abstrakt formuliert, sind es alle Probleme die mit einem gewöhnlichen Computer mit einem Zeitaufwand von $\\mathcal{O} \\left( n^{\\mathcal{O}(1)} \\right)$ lösen lassen.\n",
    "\n",
    "Glücklicherweise fallen sehr viele Probleme in diese Kategorie, z.B. das Single Source Shortest Path-Problem oder das Problem des Minimalen Spannbaums.\n",
    "\n",
    "__Definition 13.2__\n",
    "Die Komplexitätsklassse $EXP$ enthält alle Probleme, die sich mit einer deterministischen Turing-Maschine mit exponentiellen Zeitaufwand lösen lassen.\n",
    "\n",
    "Weniger abstrakt formuliert, sind es alle Probleme die mit einem gewöhnlichen Computer mit einem Zeitaufwand von $\\mathcal{O} \\left( \\mathcal{O}(1)^{n^{\\mathcal{O}(1)}} \\right)$ lösen lassen.\n",
    "\n",
    "Da jedes Polynom durch eine Exponentialfunktion nach oben beschränkt werden kann, ist offensichtlich, dass $P \\subset EXP$.\n",
    "\n",
    "<img src=\"img/P_subset_EXP.png\" width=\"200\">\n",
    "\n",
    "## Die Komplexitätsklassen NP und NEXP\n",
    "\n",
    "__Definition 13.3__\n",
    "Die Komplexitätsklassse $NP$ enthält alle Probleme, die sich mit einer nicht-deterministischen Turing-Maschine mit polynomiellen Zeitaufwand lösen lassen.\n",
    "\n",
    "$NP$ steht dabei für nicht-deterministisch polynomiell. Um zu verstehen, was dies bedeutet, muss man verstehen, in welcher Hinsicht sich der Nicht-Determinismus vom Determinismus unterscheidet. Eine nicht-deterministische Turing-Maschine ist ein Berechenbarkeitsmodell, dass raten kann. Durch \"magische Kräfte\" ist es in der Lage, falls es eine Entscheidungsmöglichkeit gibt, immer die zu wählen, die im Entscheidungsproblem zur JA-Antwort führt, falls es sie gibt. Findet dieses Raten bloß polynomial oft von polynomial vielen Antwortmöglichkeiten statt, so ist das Problem nicht-deterministisch in Polynomialzeit lösbar, es liegt also in $NP$.\n",
    "\n",
    "Man kann zeigen, dass ein Problem in $NP$ liegt, indem man einen nicht-determinitischen Algorithmus für das Problem angibt, dass in (nicht-deterministischer) Polynomialzeit läuft.\n",
    "\n",
    "Für das 0/1-Rucksackproblem kann man folgenden Algorithmus angeben: man rät bei allen der $n$ Gegenstände, ob man es in den Rucksack legen soll oder nicht. Da die nicht-deterministische Turing-Maschine in der Lage ist, die Antwort immer so zu wählen, dass die Lösung optimal wird (bzw. in Form des Entscheidungsproblems den gegebenen Wert überschreitet), funktioniert der Algorithmus. Da das Raten $n$-mal von 2 Auswahlmöglichkeiten statfindet, handelt es sich um nicht-deterministische Polynomialzeit. Somit ist das 0/1-Rucksackproblem in $NP$.\n",
    "\n",
    "__Definition 13.4__\n",
    "Die Komplexitätsklassse $NEXP$ enthält alle Probleme, die sich mit einer nicht-deterministischen Turing-Maschine mit exponentiellen Zeitaufwand lösen lassen.\n",
    "\n",
    "<img src=\"img/P_NP_EXP_NEXP.png\" width=\"250\">"
   ]
  },
  {
   "cell_type": "code",
   "execution_count": null,
   "metadata": {
    "collapsed": true
   },
   "outputs": [],
   "source": []
  }
 ],
 "metadata": {
  "kernelspec": {
   "display_name": "Python 3",
   "language": "python",
   "name": "python3"
  },
  "language_info": {
   "codemirror_mode": {
    "name": "ipython",
    "version": 3
   },
   "file_extension": ".py",
   "mimetype": "text/x-python",
   "name": "python",
   "nbconvert_exporter": "python",
   "pygments_lexer": "ipython3",
   "version": "3.6.3"
  }
 },
 "nbformat": 4,
 "nbformat_minor": 2
}
