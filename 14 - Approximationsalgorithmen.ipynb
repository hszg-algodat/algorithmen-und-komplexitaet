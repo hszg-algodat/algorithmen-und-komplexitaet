{
 "cells": [
  {
   "cell_type": "markdown",
   "metadata": {
    "collapsed": true
   },
   "source": [
    "# Approximationsalgorithmen\n",
    "\n",
    "Bereits von probabilistischen Algorithmen ist bekannt, dass diese in manchen Fällen nicht die optimale Lösung bestimmen. Aber sie sind effizient und in vielen Fällen die einzige Möglichkeit praktisch überhaupt ein brauchbares Ergebnis zu erzielen. Ganz ähnlich verhält es sich mit Approximationsalgorithmen. Der Hauptunterschied besteht jedoch darin, dass nicht der Zufall allein bestimmt, wie gut das Ergebnis wird, sondern dass durch analytisches Vorgehen eine Lösung angenähert wird.\n",
    "\n",
    "Approximation verfolgen immer eine bestimmte Idee (eine Heuristik) von der man glaubt, dass Sie (zumindest im Mittel) einen direkteren Weg hin zur Lösung bietet. Eine Approximation wird damit zu einer **gezielten Suche** bei der jeder Schritt etwas näher zum Ergebnis führt.\n",
    "\n",
    "\n",
    "## Lokale Suche\n",
    "\n",
    "Eine sehr einfache Heuristik ist die ganz allgemeine Idee, von den momentan zur Verfügung stehenden Schritten, einfach den auszuwählen, der vermeintlich am ehesten zur Lösung führt. Die Lokalität der Suche bezieht sich hierbei nicht auf einen bestimmten Ort, sondern eine begrenzte Menge von momentan verfügbaren Informationen.\n",
    "\n",
    "### Hill Climbing\n",
    "Bei dieser sehr einfachen Art der lokalen Suche wird basierend auf der aktuellen Lösung eine bessere gesucht. Dazu wird die aktuelle Lösung leicht verändert und untersucht ob sich eine Verbesserung ergeben hat. Wenn dem so ist, dann wird eben diese Lösung zur aktuellen Lösung und weitere Veränderungen können folgen.\n",
    "\n",
    "Beispielsweise könnten beim n-Damen-Problem in einer beliebigen Anfangsaufstellung Positionen von Damen solange verändert werden, bis sich keine Verbesserung mehr ergibt. Um ein Verbesserung feststellen zu können, muss ein Bewertung der aktuellen Damen-Positionen erfolgen. Dies kann sehr einfach bewerkstelligt werden, indem die Anzahl der Konflikte ermittelt wird, also die Anzahl der Möglichkeiten in denen zwei Damen sich schlagen können.\n",
    "\n",
    "Im folgenden Programm wird eine Damenbelegung als Liste der Länge $n$ umgesetzt. Jedes Element der Liste steht für eine Spalte des Schachbretts und kann die Werte 0 bis $n$ annehmen. 0 steht dafür, dass in der entsprechenden Spalte gar keine Dame steht. Die übrigen Zahlen 1 bis $n$ stehen für die Zeile in der die Dame steht.\n",
    "\n",
    "<img src=\"img/Approx_Queens.png\" width=\"200\">"
   ]
  },
  {
   "cell_type": "code",
   "execution_count": 38,
   "metadata": {},
   "outputs": [
    {
     "name": "stdout",
     "output_type": "stream",
     "text": [
      "([3, 1, 4, 2], 0)\n",
      "([3, 5, 2, 4, 1], 0)\n",
      "([5, 1, 2, 4, 6, 3], 1)\n",
      "([4, 1, 5, 2, 6, 3, 7], 0)\n",
      "([6, 1, 2, 7, 5, 3, 8, 4], 1)\n",
      "([7, 1, 4, 8, 5, 3, 9, 6, 2], 0)\n",
      "([17, 19, 22, 8, 25, 3, 28, 15, 7, 5, 29, 21, 23, 10, 27, 18, 2, 11, 1, 12, 26, 6, 13, 24, 14, 20, 4, 9, 16], 1)\n"
     ]
    }
   ],
   "source": [
    "def conflicts(queens): # zählt die Konflikte auf dem Schachbrett\n",
    "    # zwei Damen in der gleichen Spalte sind bei dieser Datenstruktur nicht möglich\n",
    "    c = 0;\n",
    "    for col in range(len(queens)):\n",
    "        if queens[col] == 0:\n",
    "            c += 1 # Keine Dame in dieser Spalte\n",
    "            continue\n",
    "        for col2 in range(col+1,len(queens)):\n",
    "            if queens[col2] == 0: continue; # fehlt eine Dame, kann diese nicht schlagen und geschlagen werden\n",
    "            if queens[col] == queens[col2]: c += 1; # zwei Damen in einer Reihe\n",
    "            if queens[col] - queens[col2] == col2-col: c += 1; # zwei Damen auf der Diagonalen nach rechts oben\n",
    "            if queens[col2] - queens[col] == col2-col: c += 1; # zwei Damen auf der Diagonalen nach rechts unten\n",
    "    return c;\n",
    "\n",
    "def queensHillClimbing(queenPositions):\n",
    "    n = len(queenPositions)\n",
    "    best = queenPositions # Initiale Positionen der n Damen\n",
    "    cBest = conflicts(best) # Anzahl der Konflikte\n",
    "    while True:\n",
    "        if cBest == 0: # Damen können sich nicht schlagen\n",
    "            return (best,cBest) # Lösung gefunden\n",
    "        better = None\n",
    "        for i in range(n-1):\n",
    "            for j in range(i+1,n):\n",
    "                # Damenpositionen zweier Spalten werden getauscht\n",
    "                neighbor = best.copy()\n",
    "                neighbor[i], neighbor[j] = neighbor[j], neighbor[i]\n",
    "                cNeighbor = conflicts(neighbor)\n",
    "                if cNeighbor < cBest: # weniger Konflikte?\n",
    "                    better = neighbor\n",
    "                    cBest = cNeighbor\n",
    "        if not better: # keine Verbesserung durch einfachen Tausch erreichbar\n",
    "            return (best,cBest) # Lokales Optimum gefunden\n",
    "        else: # es gab eine Verbesserung\n",
    "            best = better # Ausgangssituation für den nächsten Durchlauf\n",
    "\n",
    "print(queensHillClimbing(list(range(1,5))))\n",
    "print(queensHillClimbing(list(range(1,6))))\n",
    "print(queensHillClimbing(list(range(1,7))))\n",
    "print(queensHillClimbing(list(range(1,8))))\n",
    "print(queensHillClimbing(list(range(1,9))))\n",
    "print(queensHillClimbing(list(range(1,10))))\n",
    "print(queensHillClimbing(list(range(1,30))))"
   ]
  },
  {
   "cell_type": "markdown",
   "metadata": {},
   "source": [
    "Die Ergebnisse zeigen, dass auch für große Schachbretter in relativ kurzer Zeit ein Ergebnis erziehlt wird. Es ist aber auch erkennbar, dass selbst bei kleinen Schachbrettern (z.B. $n=6$ und $n=8$) nicht immer die Lösung gefunden wird, sondern nur eine Näherung mit sehr wenigen Konflikten.\n",
    "\n",
    "Hill Climbing ist in dieser Form ein deterministisches Verfahren und selbst bei mehrfacher Wiederholung werden sich die Ergebnisse nicht ändern. Die einzige Möglichkeit besteht hier darin, die Ausgangssituation, also die initialen Damenpositionen, zu verändern."
   ]
  },
  {
   "cell_type": "code",
   "execution_count": 121,
   "metadata": {},
   "outputs": [
    {
     "name": "stdout",
     "output_type": "stream",
     "text": [
      "([6, 8, 4, 2, 3, 5, 7, 1], 2)\n",
      "([4, 7, 5, 8, 2, 6, 1, 3], 2)\n",
      "([6, 8, 2, 4, 1, 7, 5, 3], 0)\n",
      "([1, 6, 8, 3, 7, 4, 2, 5], 0)\n",
      "([5, 2, 8, 1, 4, 7, 3, 6], 0)\n",
      "([7, 4, 1, 3, 6, 8, 2, 5], 1)\n",
      "([4, 7, 5, 3, 1, 6, 8, 2], 0)\n",
      "([2, 6, 4, 7, 1, 3, 5, 8], 1)\n",
      "([5, 2, 8, 1, 4, 7, 3, 6], 0)\n",
      "([4, 7, 1, 6, 2, 5, 3, 8], 1)\n"
     ]
    }
   ],
   "source": [
    "import random\n",
    "d8 = list(range(1,9)) # [1,2,3,4,5,6,7,8]\n",
    "for _ in range(10):\n",
    "    random.shuffle(d8) # Mischen der Liste\n",
    "    print(queensHillClimbing(d8))"
   ]
  },
  {
   "cell_type": "markdown",
   "metadata": {},
   "source": [
    "### Plateau Search\n",
    "\n",
    "Das Hill Climbing wird immer nur solange fortgesetzt, bis von der aktuellen Situation aus keine bessere Situation mehr erreicht werden kann. Eine solche Situation wird **lokales Optimum** genannt. Im Allgemeinen ist man aber am **globalen Optimium** interessiert. Ein erster Schritt um nicht bei einem lokalen Optimum *stecken zu bleiben* ist die Plateau-Suche. Hier werden nicht nur bessere Teillösungen weiterverfolgt, sondern auch die, die genauso gut sind. Eine einfache Ersetzung von **<** durch **<=** reicht allerdings nicht aus für eine stabile Plateau-Suche. Die 6-Damen Ausgangssituation **[1,2,3,4,5,6]** würde dann z.B. zu einer Endlosschleife führen.\n",
    "\n",
    "Das Problem ist, dass es bei der Plateau-Suche nun möglich ist, durch Veränderung der Damen-Positionen eine Situation herbeizuführen, die bereits in einem vorherigen Schritt Ausgangssituation war. Beim einfachen Hill Climbing sind solche Zyklen nicht möglich. Um diese zu vermeiden, dürfen bereits geprüfte Situationen nicht erneut geprüft werden. Eine **Tabu-Liste** ist erforderlich. So führt auch o.g. Damen-Situation zu einem Ergebnis und die Chance ein globales Optimum zu ermitteln ist um einiges gestiegen."
   ]
  },
  {
   "cell_type": "code",
   "execution_count": 110,
   "metadata": {},
   "outputs": [
    {
     "name": "stdout",
     "output_type": "stream",
     "text": [
      "([1, 2, 5, 3, 6, 4], 1)\n",
      "([6, 4, 2, 8, 5, 7, 1, 3], 0)\n",
      "([17, 23, 12, 3, 6, 16, 29, 20, 24, 21, 9, 4, 1, 18, 22, 5, 13, 8, 10, 14, 26, 28, 25, 27, 2, 19, 11, 7, 15], 0)\n"
     ]
    }
   ],
   "source": [
    "def queensPlateau(queenPositions):\n",
    "    n = len(queenPositions)\n",
    "    best = queenPositions # Initiale Positionen der n Damen\n",
    "    cBest = conflicts(best) # Anzahl der Konflikte\n",
    "    tabu = set() # Tabu-Liste\n",
    "    while True:\n",
    "        if cBest == 0: # Damen können sich nicht schlagen\n",
    "            return (best,cBest) # Lösung gefunden\n",
    "        better = None\n",
    "        tabu.add(str(best)) # Jedes verfolgte Element wird aufgenommen\n",
    "        for i in range(n-1):\n",
    "            for j in range(i+1,n):\n",
    "                # Damenpositionen zweier Spalten werden getauscht\n",
    "                neighbor = best.copy()\n",
    "                neighbor[i], neighbor[j] = neighbor[j], neighbor[i]\n",
    "                if str(neighbor) in tabu:\n",
    "                    continue # Tabu-Einträge werden nicht nochmals geprüft\n",
    "                cNeighbor = conflicts(neighbor)\n",
    "                if cNeighbor <= cBest: # weniger Konflikte?\n",
    "                    better = neighbor\n",
    "                    cBest = cNeighbor\n",
    "        if not better: # keine Verbesserung durch einfachen Tausch erreichbar\n",
    "            return (best,cBest) # Lokales Optimum gefunden\n",
    "        else: # es gab eine Verbesserung\n",
    "            best = better # Ausgangssituation für den nächsten Durchlauf\n",
    "\n",
    "print(queensPlateau([1,2,3,4,5,6]))\n",
    "print(queensPlateau([1,2,3,4,5,6,7,8]))\n",
    "print(queensPlateau(list(range(1,30))))"
   ]
  },
  {
   "cell_type": "markdown",
   "metadata": {},
   "source": [
    "**Hinweis:** *Bei großen Problemen, kann die Tabu-Liste sehr groß werden. Sie nimmt damit sehr viel Speicherplatz ein und die Bestimmung ob ein Element enthalten ist dauert zunehmend länger. Um das zu vermeiden, wird meist in regelmäßigen Abständen die Größe der Liste geprüft und bei Überschreiten eines Limits Elemente aus dieser entfernt. Am sinnvollsten dabei natürlich ist die Entfernung der Elemente die schon sich schon am längsten in der Liste befinden.*"
   ]
  },
  {
   "cell_type": "markdown",
   "metadata": {},
   "source": [
    "### Threshold Accepting\n",
    "\n",
    "Bei der Plateau-Suche werden alle Teillösungen weiterverfolgt, die mindestens genauso gut sind wie die vorherige. Durch Threshold Accepting wird die Menge der weiterzuverfolgenden Teillösungen noch einmal erweitert. Hier werden auch schlechtere Teillösungen weiterverfolgt, solange sie nicht viel schlechter sind als die vorherige. Dieses *viel schlechter* muss natürlich im Einzelfall konkret definiert werden. Beim oben beschriebenen n-Damen-Problem könnte z.B. die Differenz zwischen den Anzahlen der Konflikte zweier Situation herangezogen werden. Lösungen, die z.B. nur einen Konflikt mehr haben als die Ausgangssituation, dürften dann weiterverfolgt werden. Auch hier ist eine Tabu-Liste erforderlich, um Zyklen zu vermeiden. Für das 6-Damen-Problem mit der Ausgangssituation **[1,2,3,4,5,6]** wird durch Akzeptieren von Kandidaten die um einen Konflikt schlechter sind nun eine Lösung gefunden."
   ]
  },
  {
   "cell_type": "code",
   "execution_count": 134,
   "metadata": {},
   "outputs": [
    {
     "name": "stdout",
     "output_type": "stream",
     "text": [
      "([4, 1, 5, 2, 6, 3], 0)\n"
     ]
    }
   ],
   "source": [
    "def queensThreshold(queenPositions, t):\n",
    "    n = len(queenPositions)\n",
    "    best = queenPositions # Initiale Positionen der n Damen\n",
    "    cBest = conflicts(best) # Anzahl der Konflikte\n",
    "    tabu = set() # Tabu-Liste\n",
    "    while True:\n",
    "        if cBest == 0: # Damen können sich nicht schlagen\n",
    "            return (best,cBest) # Lösung gefunden\n",
    "        better = None\n",
    "        tabu.add(str(best)) # Jedes verfolgte Element wird aufgenommen\n",
    "        cBest += t # erweitern um akzeptable Verschlechterung\n",
    "        for i in range(n-1):\n",
    "            for j in range(i+1,n):\n",
    "                # Damenpositionen zweier Spalten werden getauscht\n",
    "                neighbor = best.copy()\n",
    "                neighbor[i], neighbor[j] = neighbor[j], neighbor[i]\n",
    "                if str(neighbor) in tabu:\n",
    "                    continue # Tabu-Einträge werden nicht nochmals geprüft\n",
    "                cNeighbor = conflicts(neighbor)\n",
    "                if cNeighbor <= cBest: # weniger Konflikte?\n",
    "                    better = neighbor\n",
    "                    cBest = cNeighbor\n",
    "        if not better: # keine Verbesserung durch einfachen Tausch erreichbar\n",
    "            return (best,cBest-t) # Lokales Optimum gefunden\n",
    "        else: # es gab eine Verbesserung\n",
    "            best = better # Ausgangssituation für den nächsten Durchlauf\n",
    "\n",
    "print(queensThreshold([1,2,3,4,5,6],1)) # Verschlechterung um 1 akzeptabel"
   ]
  },
  {
   "cell_type": "code",
   "execution_count": 138,
   "metadata": {},
   "outputs": [
    {
     "name": "stdout",
     "output_type": "stream",
     "text": [
      "Queens: 4 Hill: 0  Plateau: 0  Threshold: 0\n",
      "Queens: 5 Hill: 0  Plateau: 0  Threshold: 0\n",
      "Queens: 6 Hill: 1  Plateau: 1  Threshold: 0\n",
      "Queens: 7 Hill: 0  Plateau: 0  Threshold: 0\n",
      "Queens: 8 Hill: 1  Plateau: 0  Threshold: 0\n",
      "Queens: 9 Hill: 0  Plateau: 0  Threshold: 0\n",
      "Queens: 10 Hill: 1  Plateau: 1  Threshold: 0\n"
     ]
    }
   ],
   "source": [
    "d = [1,2,3]\n",
    "for i in range(4,11):\n",
    "    d.append(i)\n",
    "    print(\"Queens:\",i,\"Hill:\",queensHillClimbing(d)[1], \" Plateau:\", queensPlateau(d)[1], \" Threshold:\", queensThreshold(d,1)[1])"
   ]
  },
  {
   "cell_type": "code",
   "execution_count": null,
   "metadata": {
    "collapsed": true
   },
   "outputs": [],
   "source": []
  }
 ],
 "metadata": {
  "kernelspec": {
   "display_name": "Python 3",
   "language": "python",
   "name": "python3"
  },
  "language_info": {
   "codemirror_mode": {
    "name": "ipython",
    "version": 3
   },
   "file_extension": ".py",
   "mimetype": "text/x-python",
   "name": "python",
   "nbconvert_exporter": "python",
   "pygments_lexer": "ipython3",
   "version": "3.6.3"
  }
 },
 "nbformat": 4,
 "nbformat_minor": 2
}
