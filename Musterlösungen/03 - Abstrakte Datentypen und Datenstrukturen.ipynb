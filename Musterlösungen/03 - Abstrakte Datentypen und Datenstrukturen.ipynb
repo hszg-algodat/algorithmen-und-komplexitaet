{
 "cells": [
  {
   "cell_type": "markdown",
   "metadata": {},
   "source": [
    "1.\n",
    "    a + b)"
   ]
  },
  {
   "cell_type": "code",
   "execution_count": 19,
   "metadata": {
    "collapsed": true
   },
   "outputs": [],
   "source": [
    "class Node:\n",
    "    def __init__(self):\n",
    "        self.value = None\n",
    "        self.next = None\n",
    "\n",
    "    def insert(self, value, index):\n",
    "        if index > 1 and self.next is not None:\n",
    "            return self.next.insert(value, index - 1)\n",
    "        elif index == 1:\n",
    "            new_node = Node()\n",
    "            new_node.value = value\n",
    "            new_node.next = self.next\n",
    "            self.next = new_node\n",
    "            return True\n",
    "        return False\n",
    "\n",
    "    def remove(self, index):\n",
    "        if index == 1:\n",
    "            self.next = self.next.next\n",
    "            return True\n",
    "        elif index > 1:\n",
    "            return self.next.remove(index - 1)\n",
    "        return False\n",
    "\n",
    "\n",
    "class LinkedList:\n",
    "    def __init__(self):\n",
    "        self.head = Node()\n",
    "        self.length = 0\n",
    "\n",
    "    def insert(self, value, index=None):\n",
    "        if index is None:\n",
    "            index = self.length\n",
    "        if index == 0:\n",
    "            new_node = Node()\n",
    "            new_node.value = value\n",
    "            new_node.next = self.head\n",
    "            self.head = new_node\n",
    "            self.length += 1\n",
    "        elif 0 < index <= self.length:\n",
    "            if self.head.insert(value, index):\n",
    "                self.length += 1\n",
    "\n",
    "    def remove(self, index):\n",
    "        if index == 0 and self.head.value is not None:\n",
    "            if self.head.next is not None:\n",
    "                self.head = self.head.next\n",
    "            else:\n",
    "                self.head.value = None\n",
    "            self.length -= 1\n",
    "        elif 0 < index < self.length:\n",
    "            if self.head.remove(index):\n",
    "                self.length -= 1\n",
    "                \n",
    "    def remove_duplicates(self):\n",
    "        found = set()\n",
    "        node = self.head\n",
    "        while node is not None and node.next is not None:\n",
    "            found.add(node.value)\n",
    "            if node.next.value in found:\n",
    "                node.next = node.next.next\n",
    "                self.length -= 1\n",
    "            else:\n",
    "                node = node.next"
   ]
  },
  {
   "cell_type": "markdown",
   "metadata": {},
   "source": [
    "3.\n",
    "    a)"
   ]
  },
  {
   "cell_type": "code",
   "execution_count": 20,
   "metadata": {
    "collapsed": true
   },
   "outputs": [],
   "source": [
    "class LinkedList:\n",
    "    def __init__(self, values):\n",
    "        if len(values) == 0:\n",
    "            self.value = None\n",
    "            self.next = None\n",
    "        else:\n",
    "            self.value = values[0]\n",
    "            self.next = LinkedList(values[1:])\n",
    "\n",
    "    def __len__(self):\n",
    "        if self.value is None:\n",
    "            return 0\n",
    "        if self.next is None:\n",
    "            return 1\n",
    "        return 1 + len(self.next)\n",
    "\n",
    "    def get(self, index):\n",
    "        if index == 0:\n",
    "            return self.value\n",
    "        return self.next.get(index - 1)"
   ]
  },
  {
   "cell_type": "markdown",
   "metadata": {},
   "source": [
    "Naïve Lösung:"
   ]
  },
  {
   "cell_type": "code",
   "execution_count": 21,
   "metadata": {
    "collapsed": true
   },
   "outputs": [],
   "source": [
    "def distinct_sequence_solver(numbers, x):\n",
    "    for i in range(len(numbers)):\n",
    "        if numbers.get(numbers.get(i)) == x:\n",
    "            return i"
   ]
  },
  {
   "cell_type": "markdown",
   "metadata": {},
   "source": [
    "Optimale Lösung:"
   ]
  },
  {
   "cell_type": "code",
   "execution_count": 22,
   "metadata": {},
   "outputs": [],
   "source": [
    "def distinct_sequence_solver(numbers, x):\n",
    "    temp = numbers\n",
    "    i = 0\n",
    "    while temp is not None:\n",
    "        if temp.value == x:\n",
    "            temp2 = numbers\n",
    "            j = 0\n",
    "            while temp2 is not None:\n",
    "                if temp2.value == i:\n",
    "                    return j\n",
    "                temp2 = temp2.next\n",
    "                j += 1\n",
    "        temp = temp.next\n",
    "        i += 1"
   ]
  },
  {
   "cell_type": "markdown",
   "metadata": {},
   "source": [
    "b)\n",
    "Naïve Lösung: $\\mathcal{O}(n^2)$\n",
    "\n",
    "Optimale Lösung: $\\mathcal{O}(n)$"
   ]
  }
 ],
 "metadata": {
  "kernelspec": {
   "display_name": "Python 3",
   "language": "python",
   "name": "python3"
  },
  "language_info": {
   "codemirror_mode": {
    "name": "ipython",
    "version": 3
   },
   "file_extension": ".py",
   "mimetype": "text/x-python",
   "name": "python",
   "nbconvert_exporter": "python",
   "pygments_lexer": "ipython3",
   "version": "3.6.3"
  }
 },
 "nbformat": 4,
 "nbformat_minor": 2
}
