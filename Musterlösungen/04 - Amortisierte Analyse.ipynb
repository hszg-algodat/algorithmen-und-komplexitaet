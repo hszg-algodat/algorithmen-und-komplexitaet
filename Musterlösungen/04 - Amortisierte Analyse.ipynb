{
 "cells": [
  {
   "cell_type": "markdown",
   "metadata": {},
   "source": [
    "1. \n",
    "    a)\n",
    "    falsch\n",
    "    \n",
    "    b)\n",
    "    wahr\n",
    "    \n",
    "    c)\n",
    "    wahr\n",
    "    \n",
    "    d)\n",
    "    falsch\n",
    "    \n",
    "    e)\n",
    "    falsch\n",
    "    \n",
    "    f)\n",
    "    wahr\n",
    "    \n",
    "2. \n",
    "    a)"
   ]
  },
  {
   "cell_type": "code",
   "execution_count": 1,
   "metadata": {
    "collapsed": true
   },
   "outputs": [],
   "source": [
    "class MyQueue:\n",
    "    def __init__(self):\n",
    "        self.stack1 = []\n",
    "        self.stack2 = []\n",
    "\n",
    "    def enqueue(self, elm):\n",
    "        self.stack2.append(elm)\n",
    "\n",
    "    def dequeue(self):\n",
    "        if len(self.stack1) == 0:\n",
    "            if len(self.stack2) == 0:\n",
    "                return None\n",
    "            while len(self.stack2) > 0:\n",
    "                self.stack1.append(self.stack2.pop())\n",
    "        return self.stack1.pop()"
   ]
  },
  {
   "cell_type": "markdown",
   "metadata": {},
   "source": [
    "2.\n",
    "    b)\n",
    "    $\\mathcal{O}(n)$"
   ]
  }
 ],
 "metadata": {
  "kernelspec": {
   "display_name": "Python 3",
   "language": "python",
   "name": "python3"
  },
  "language_info": {
   "codemirror_mode": {
    "name": "ipython",
    "version": 3
   },
   "file_extension": ".py",
   "mimetype": "text/x-python",
   "name": "python",
   "nbconvert_exporter": "python",
   "pygments_lexer": "ipython3",
   "version": "3.6.3"
  }
 },
 "nbformat": 4,
 "nbformat_minor": 2
}
