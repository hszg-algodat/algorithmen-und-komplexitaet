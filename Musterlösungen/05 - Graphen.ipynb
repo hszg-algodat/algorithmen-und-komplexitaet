{
 "cells": [
  {
   "cell_type": "markdown",
   "metadata": {},
   "source": [
    "# Graphen\n",
    "\n",
    "#### 1.\n",
    ">   a)"
   ]
  },
  {
   "cell_type": "code",
   "execution_count": 81,
   "metadata": {
    "collapsed": true
   },
   "outputs": [],
   "source": [
    "def adjacent(a, b, visited=set()):\n",
    "    if a == b:\n",
    "        return True\n",
    "    visited.add(a)\n",
    "    for node in a.adj:\n",
    "        if node not in visited and adjacent(node, b, set(visited)):\n",
    "            return True\n",
    "    return False"
   ]
  },
  {
   "cell_type": "markdown",
   "metadata": {},
   "source": [
    "> b)\n",
    "> $\\mathcal{O}(\\left| V \\right| + \\left| E \\right|)$\n",
    "\n",
    "#### 2.\n",
    ">   a)"
   ]
  },
  {
   "cell_type": "code",
   "execution_count": 82,
   "metadata": {
    "collapsed": true
   },
   "outputs": [],
   "source": [
    "def reachable_nodes(root, visited=set()):\n",
    "    reachable = set()\n",
    "    reachable.add(root)\n",
    "    visited.add(root)\n",
    "    for node in root.adj:\n",
    "        reachable_from_subnode = reachable_nodes(node, visited)\n",
    "        for reachable_node in reachable_from_subnode:\n",
    "            reachable.add(reachable_node)\n",
    "    return reachable"
   ]
  },
  {
   "cell_type": "markdown",
   "metadata": {},
   "source": [
    "> b)\n",
    "> $\\mathcal{O}(\\left| V \\right| + \\left| E \\right|)$\n",
    "\n",
    "#### 3.\n",
    ">   a)"
   ]
  },
  {
   "cell_type": "code",
   "execution_count": 83,
   "metadata": {
    "scrolled": true
   },
   "outputs": [],
   "source": [
    "import numpy as np\n",
    "import math\n",
    "import doctest\n",
    "\n",
    "doctest.run_docstring_examples(solve_sudoku, globals())\n",
    "\n",
    "def contains_dupl(arr):\n",
    "    elements = set()\n",
    "    for elm in arr:\n",
    "        if elm != 0:\n",
    "            if elm in elements:\n",
    "                return True\n",
    "            elements.add(elm)\n",
    "    return False\n",
    "\n",
    "\n",
    "def contains_dupl_in_square(sudoku, x, y, n):\n",
    "    elements = set()\n",
    "    for i in range(x, x + n):\n",
    "        for j in range(y, y + n):\n",
    "            elm = sudoku.item(i, j)\n",
    "            if elm != 0:\n",
    "                if elm in elements:\n",
    "                    return True\n",
    "                elements.add(elm)\n",
    "    return False\n",
    "\n",
    "\n",
    "def feasible(sudoku, n=None):\n",
    "    if n is None:\n",
    "        n = sudoku.shape[0]\n",
    "    for i in range(n):\n",
    "        if contains_dupl(np.squeeze(np.asarray(sudoku[i, :]))) or contains_dupl(np.squeeze(np.asarray(sudoku[:, i]))):\n",
    "            return False\n",
    "    for i in range(0, n, int(math.sqrt(n))):\n",
    "        for j in range(0, n, int(math.sqrt(n))):\n",
    "            if contains_dupl_in_square(sudoku, i, j, int(math.sqrt(n))):\n",
    "                return False\n",
    "    return True\n",
    "\n",
    "\n",
    "def solve_sudoku(sudoku, n=None):\n",
    "    if n is None:\n",
    "        n = sudoku.shape[0]\n",
    "    if not feasible(sudoku):\n",
    "        return None\n",
    "    for i in range(n):\n",
    "        for j in range(n):\n",
    "            if sudoku.item(i, j) == 0:\n",
    "                for k in range(1, n+1):\n",
    "                    new_sudoku = sudoku.copy()\n",
    "                    new_sudoku[i, j] = k\n",
    "                    solution = solve_sudoku(new_sudoku, n)\n",
    "                    if solution is not None:\n",
    "                        return solution\n",
    "                return None\n",
    "    return sudoku\n"
   ]
  },
  {
   "cell_type": "markdown",
   "metadata": {},
   "source": [
    "> b)\n",
    "> $\\mathcal{O}(n^{n^2})$\n",
    "\n",
    "> bzw.\n",
    "\n",
    "> $\\mathcal{O}(n^m)$ mit $m$ = Anzahl der freien Felder"
   ]
  }
 ],
 "metadata": {
  "kernelspec": {
   "display_name": "Python 3",
   "language": "python",
   "name": "python3"
  },
  "language_info": {
   "codemirror_mode": {
    "name": "ipython",
    "version": 3
   },
   "file_extension": ".py",
   "mimetype": "text/x-python",
   "name": "python",
   "nbconvert_exporter": "python",
   "pygments_lexer": "ipython3",
   "version": "3.6.3"
  }
 },
 "nbformat": 4,
 "nbformat_minor": 2
}
