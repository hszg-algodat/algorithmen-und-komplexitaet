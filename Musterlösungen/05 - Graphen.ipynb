{
 "cells": [
  {
   "cell_type": "markdown",
   "metadata": {},
   "source": [
    "# Graphen\n",
    "\n",
    "#### 1.\n",
    ">   a)"
   ]
  },
  {
   "cell_type": "code",
   "execution_count": 78,
   "metadata": {
    "collapsed": true
   },
   "outputs": [],
   "source": [
    "def adjacent(a, b, visited=set()):\n",
    "    if a == b:\n",
    "        return True\n",
    "    visited.add(a)\n",
    "    for node in a.adj:\n",
    "        if node not in visited and adjacent(node, b, set(visited)):\n",
    "            return True\n",
    "    return False"
   ]
  },
  {
   "cell_type": "markdown",
   "metadata": {},
   "source": [
    "> b)\n",
    "> $\\mathcal{O}(\\left| V \\right| + \\left| E \\right|)$\n",
    "\n",
    "#### 2.\n",
    ">   a)"
   ]
  },
  {
   "cell_type": "code",
   "execution_count": 79,
   "metadata": {
    "collapsed": true
   },
   "outputs": [],
   "source": [
    "def reachable_nodes(root, visited=set()):\n",
    "    reachable = set()\n",
    "    reachable.add(root)\n",
    "    visited.add(root)\n",
    "    for node in root.adj:\n",
    "        reachable_from_subnode = reachable_nodes(node, visited)\n",
    "        for reachable_node in reachable_from_subnode:\n",
    "            reachable.add(reachable_node)\n",
    "    return reachable"
   ]
  },
  {
   "cell_type": "markdown",
   "metadata": {},
   "source": [
    "> b)\n",
    "> $\\mathcal{O}(\\left| V \\right| + \\left| E \\right|)$\n",
    "\n",
    "#### 3.\n",
    ">   a)"
   ]
  },
  {
   "cell_type": "code",
   "execution_count": 80,
   "metadata": {
    "scrolled": true
   },
   "outputs": [],
   "source": [
    "import numpy as np\n",
    "import math\n",
    "import doctest\n",
    "\n",
    "doctest.run_docstring_examples(solve_sudoku, globals())\n",
    "\n",
    "def contains_dupl(arr):\n",
    "    elements = set()\n",
    "    for elm in arr:\n",
    "        if elm != 0:\n",
    "            if elm in elements:\n",
    "                return True\n",
    "            elements.add(elm)\n",
    "    return False\n",
    "\n",
    "\n",
    "def contains_dupl_in_square(sudoku, x, y, n):\n",
    "    elements = set()\n",
    "    for i in range(x, x + n):\n",
    "        for j in range(y, y + n):\n",
    "            elm = sudoku.item(i, j)\n",
    "            if elm != 0:\n",
    "                if elm in elements:\n",
    "                    return True\n",
    "                elements.add(elm)\n",
    "    return False\n",
    "\n",
    "\n",
    "def feasible(sudoku, n=None):\n",
    "    if n is None:\n",
    "        n = sudoku.shape[0]\n",
    "    for i in range(n):\n",
    "        if contains_dupl(np.squeeze(np.asarray(sudoku[i, :]))) or contains_dupl(np.squeeze(np.asarray(sudoku[:, i]))):\n",
    "            return False\n",
    "    for i in range(0, n, int(math.sqrt(n))):\n",
    "        for j in range(0, n, int(math.sqrt(n))):\n",
    "            if contains_dupl_in_square(sudoku, i, j, int(math.sqrt(n))):\n",
    "                return False\n",
    "    return True\n",
    "\n",
    "\n",
    "def solve_sudoku(sudoku, n=None):\n",
    "    \"\"\"\n",
    "    >>> solve_sudoku(np.matrix([[0,9,0,8,0,0,0,5,7],[0,0,6,0,0,1,0,2,0],[3,0,0,0,7,0,0,0,0],[5,0,0,9,0,6,0,3,8],[0,3,0,0,1,0,0,0,0],[2,0,8,0,0,0,5,1,0],[6,0,0,0,9,0,0,0,3],[0,1,0,0,0,0,0,9,0],[0,0,7,6,0,5,8,0,0]]))\n",
    "    matrix([[1, 9, 4, 8, 6, 2, 3, 5, 7],\n",
    "            [8, 7, 6, 3, 5, 1, 9, 2, 4],\n",
    "            [3, 5, 2, 4, 7, 9, 1, 8, 6],\n",
    "            [5, 4, 1, 9, 2, 6, 7, 3, 8],\n",
    "            [7, 3, 9, 5, 1, 8, 4, 6, 2],\n",
    "            [2, 6, 8, 7, 4, 3, 5, 1, 9],\n",
    "            [6, 8, 5, 1, 9, 4, 2, 7, 3],\n",
    "            [4, 1, 3, 2, 8, 7, 6, 9, 5],\n",
    "            [9, 2, 7, 6, 3, 5, 8, 4, 1]])\n",
    "    >>> solve_sudoku(np.matrix([[4,0,2,9,0,5,8,0,3],[3,9,0,0,0,0,0,6,4],[0,0,1,0,0,0,9,0,0],[0,0,0,5,0,1,0,0,0],[0,4,0,6,0,2,0,3,0],[0,0,0,4,0,8,0,0,0],[0,0,7,0,0,0,5,0,0],[5,1,0,0,0,0,0,2,7],[9,0,4,7,0,3,6,0,8]]))\n",
    "    matrix([[4, 6, 2, 9, 1, 5, 8, 7, 3],\n",
    "            [3, 9, 5, 2, 8, 7, 1, 6, 4],\n",
    "            [7, 8, 1, 3, 6, 4, 9, 5, 2],\n",
    "            [2, 7, 9, 5, 3, 1, 4, 8, 6],\n",
    "            [1, 4, 8, 6, 9, 2, 7, 3, 5],\n",
    "            [6, 5, 3, 4, 7, 8, 2, 9, 1],\n",
    "            [8, 3, 7, 1, 2, 6, 5, 4, 9],\n",
    "            [5, 1, 6, 8, 4, 9, 3, 2, 7],\n",
    "            [9, 2, 4, 7, 5, 3, 6, 1, 8]])\n",
    "    \"\"\"\n",
    "    if n is None:\n",
    "        n = sudoku.shape[0]\n",
    "    if not feasible(sudoku):\n",
    "        return None\n",
    "    for i in range(n):\n",
    "        for j in range(n):\n",
    "            if sudoku.item(i, j) == 0:\n",
    "                for k in range(1, n+1):\n",
    "                    new_sudoku = sudoku.copy()\n",
    "                    new_sudoku[i, j] = k\n",
    "                    solution = solve_sudoku(new_sudoku, n)\n",
    "                    if solution is not None:\n",
    "                        return solution\n",
    "                return None\n",
    "    return sudoku\n"
   ]
  },
  {
   "cell_type": "markdown",
   "metadata": {},
   "source": [
    "> b)\n",
    "> $\\mathcal{O}(n^{n^2})$\n",
    "\n",
    "> bzw.\n",
    "\n",
    "> $\\mathcal{O}(n^m)$ mit $m$ = Anzahl der freien Felder"
   ]
  }
 ],
 "metadata": {
  "kernelspec": {
   "display_name": "Python 3",
   "language": "python",
   "name": "python3"
  },
  "language_info": {
   "codemirror_mode": {
    "name": "ipython",
    "version": 3
   },
   "file_extension": ".py",
   "mimetype": "text/x-python",
   "name": "python",
   "nbconvert_exporter": "python",
   "pygments_lexer": "ipython3",
   "version": "3.6.3"
  }
 },
 "nbformat": 4,
 "nbformat_minor": 2
}
