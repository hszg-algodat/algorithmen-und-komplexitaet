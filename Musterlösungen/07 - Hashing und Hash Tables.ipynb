{
 "cells": [
  {
   "cell_type": "markdown",
   "metadata": {},
   "source": [
    "# Hashing und Hash Tables\n",
    "\n",
    "2.\n",
    "    a) \n",
    "    \n",
    "$$\n",
    "p = \\left(1 - \\frac{1}{m} \\right)^n\n",
    "$$\n",
    "\n",
    "    b)\n",
    "    \n",
    "$X$ = Anzahl der freien Slots\n",
    "    \n",
    "$$\n",
    "Ex[X] = m \\cdot p = m \\cdot \\left(1 - \\frac{1}{m} \\right)^n\n",
    "$$\n",
    "\n",
    "3.\n",
    "    a)"
   ]
  },
  {
   "cell_type": "code",
   "execution_count": 2,
   "metadata": {
    "collapsed": true
   },
   "outputs": [],
   "source": [
    "def is_unique(string):\n",
    "    temp = set()\n",
    "    for c in string:\n",
    "        if c.lower() in temp:\n",
    "            return False\n",
    "        temp.add(c.lower())\n",
    "    return True"
   ]
  },
  {
   "cell_type": "markdown",
   "metadata": {},
   "source": [
    "b)\n",
    "$\\mathcal{O}(n)$\n",
    "\n",
    "4.\n",
    "    a)"
   ]
  },
  {
   "cell_type": "code",
   "execution_count": null,
   "metadata": {
    "collapsed": true
   },
   "outputs": [],
   "source": [
    "def is_permutation(a, b):\n",
    "    if len(a) != len(b):\n",
    "        return False\n",
    "    occurrences = {}\n",
    "    for c in a:\n",
    "        if c in occurrences:\n",
    "            occurrences[c] += 1\n",
    "        else:\n",
    "            occurrences[c] = 1\n",
    "    for c in b:\n",
    "        if c in occurrences:\n",
    "            if occurrences[c] == 0:\n",
    "                return False\n",
    "            occurrences[c] -= 1\n",
    "        else:\n",
    "            return False\n",
    "    return True"
   ]
  },
  {
   "cell_type": "markdown",
   "metadata": {},
   "source": [
    "b)\n",
    "Längen der Strings unterscheiden sich: $\\mathcal{O}(1)$\n",
    "\n",
    "Beide Strings haben die Länge $n$: $\\mathcal{O}(n)$"
   ]
  }
 ],
 "metadata": {
  "kernelspec": {
   "display_name": "Python 3",
   "language": "python",
   "name": "python3"
  },
  "language_info": {
   "codemirror_mode": {
    "name": "ipython",
    "version": 3
   },
   "file_extension": ".py",
   "mimetype": "text/x-python",
   "name": "python",
   "nbconvert_exporter": "python",
   "pygments_lexer": "ipython3",
   "version": "3.6.3"
  }
 },
 "nbformat": 4,
 "nbformat_minor": 2
}
