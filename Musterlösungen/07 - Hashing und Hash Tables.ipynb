{
 "cells": [
  {
   "cell_type": "markdown",
   "metadata": {},
   "source": [
    "# Hashing und Hash Tables\n",
    "\n",
    "2.\n",
    "    a) \n",
    "    \n",
    "$$\n",
    "p = \\left(1 - \\frac{1}{m} \\right)^n\n",
    "$$\n",
    "\n",
    "    b)\n",
    "    \n",
    "$X$ = Anzahl der freien Slots\n",
    "    \n",
    "$$\n",
    "Ex[X] = m \\cdot p = m \\cdot \\left(1 - \\frac{1}{m} \\right)^n\n",
    "$$"
   ]
  }
 ],
 "metadata": {
  "kernelspec": {
   "display_name": "Python 3",
   "language": "python",
   "name": "python3"
  },
  "language_info": {
   "codemirror_mode": {
    "name": "ipython",
    "version": 3
   },
   "file_extension": ".py",
   "mimetype": "text/x-python",
   "name": "python",
   "nbconvert_exporter": "python",
   "pygments_lexer": "ipython3",
   "version": "3.6.3"
  }
 },
 "nbformat": 4,
 "nbformat_minor": 2
}
