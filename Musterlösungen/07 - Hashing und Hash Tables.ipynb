{
 "cells": [
  {
   "cell_type": "markdown",
   "metadata": {},
   "source": [
    "# Hashing und Hash Tables\n",
    "\n",
    "#### 1."
   ]
  },
  {
   "cell_type": "code",
   "execution_count": 13,
   "metadata": {
    "collapsed": true
   },
   "outputs": [],
   "source": [
    "import random\n",
    "\n",
    "\n",
    "class Node:\n",
    "    def __init__(self, value=None):\n",
    "        self.value = value\n",
    "        self.next = None\n",
    "\n",
    "\n",
    "class HashTable:\n",
    "    def __init__(self):\n",
    "        self.m = 1000\n",
    "        self.p = 9973\n",
    "        self.a = random.randint(0, self.p - 1)\n",
    "        self.b = random.randint(0, self.p - 1)\n",
    "        self.slots = []\n",
    "        for i in range(self.m):\n",
    "            self.slots.append(Node())\n",
    "\n",
    "    def _hash(self, key):\n",
    "        return (self.a * hash(key) + self.b) % self.p % self.m\n",
    "\n",
    "    def insert(self, key, value):\n",
    "        node = self.slots[self._hash(key)]\n",
    "        while True:\n",
    "            if node.value is None:\n",
    "                node.value = (key, value)\n",
    "                break\n",
    "            if node.next is None:\n",
    "                node.next = Node((key, value))\n",
    "                break\n",
    "            node = node.next\n",
    "\n",
    "    def get(self, key):\n",
    "        node = self.slots[self._hash(key)]\n",
    "        while node is not None and node.value is not None:\n",
    "            if node.value[0] == key:\n",
    "                return node.value[1]\n",
    "            node = node.next\n",
    "\n",
    "    def remove(self, key):\n",
    "        hash_value = self._hash(key)\n",
    "        node = self.slots[hash_value]\n",
    "        if node.value[0] == key:\n",
    "            if node.next is None:\n",
    "                self.slots[hash_value] = Node()\n",
    "            else:\n",
    "                self.slots[hash_value] = node.next\n",
    "        else:\n",
    "            while node.next is not None:\n",
    "                if node.next.value[0] == key:\n",
    "                    node.next = node.next.next"
   ]
  },
  {
   "cell_type": "markdown",
   "metadata": {},
   "source": [
    "#### 2.\n",
    ">   a) \n",
    "    \n",
    "> $$\n",
    "p = \\left(1 - \\frac{1}{m} \\right)^n\n",
    "$$\n",
    "\n",
    ">   b)\n",
    "    \n",
    "> $X$ = Anzahl der freien Slots\n",
    "    \n",
    "> $$\n",
    "Ex[X] = m \\cdot p = m \\cdot \\left(1 - \\frac{1}{m} \\right)^n\n",
    "$$\n",
    "\n",
    "#### 3.\n",
    ">   a)"
   ]
  },
  {
   "cell_type": "code",
   "execution_count": 14,
   "metadata": {
    "collapsed": true
   },
   "outputs": [],
   "source": [
    "def is_unique(string):\n",
    "    temp = set()\n",
    "    for c in string:\n",
    "        if c.lower() in temp:\n",
    "            return False\n",
    "        temp.add(c.lower())\n",
    "    return True"
   ]
  },
  {
   "cell_type": "markdown",
   "metadata": {},
   "source": [
    "> b)\n",
    "> $\\mathcal{O}(n)$\n",
    "\n",
    "#### 4.\n",
    ">   a)"
   ]
  },
  {
   "cell_type": "code",
   "execution_count": 15,
   "metadata": {
    "collapsed": true
   },
   "outputs": [],
   "source": [
    "def is_permutation(a, b):\n",
    "    if len(a) != len(b):\n",
    "        return False\n",
    "    occurrences = {}\n",
    "    for c in a:\n",
    "        if c.lower() in occurrences:\n",
    "            occurrences[c.lower()] += 1\n",
    "        else:\n",
    "            occurrences[c.lower()] = 1\n",
    "    for c in b:\n",
    "        if c.lower() in occurrences:\n",
    "            if occurrences[c.lower()] == 0:\n",
    "                return False\n",
    "            occurrences[c.lower()] -= 1\n",
    "        else:\n",
    "            return False\n",
    "    return True"
   ]
  },
  {
   "cell_type": "markdown",
   "metadata": {},
   "source": [
    "> b)\n",
    "> Längen der Strings unterscheiden sich: $\\mathcal{O}(1)$\n",
    "\n",
    "> Beide Strings haben die Länge $n$: $\\mathcal{O}(n)$"
   ]
  }
 ],
 "metadata": {
  "kernelspec": {
   "display_name": "Python 3",
   "language": "python",
   "name": "python3"
  },
  "language_info": {
   "codemirror_mode": {
    "name": "ipython",
    "version": 3
   },
   "file_extension": ".py",
   "mimetype": "text/x-python",
   "name": "python",
   "nbconvert_exporter": "python",
   "pygments_lexer": "ipython3",
   "version": "3.6.3"
  }
 },
 "nbformat": 4,
 "nbformat_minor": 2
}
