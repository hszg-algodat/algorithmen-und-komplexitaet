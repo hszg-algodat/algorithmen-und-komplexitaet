{
 "cells": [
  {
   "cell_type": "markdown",
   "metadata": {},
   "source": [
    "# Dynamic Programming\n",
    "\n",
    "#### 1.\n",
    ">   a)"
   ]
  },
  {
   "cell_type": "code",
   "execution_count": 46,
   "metadata": {
    "collapsed": true
   },
   "outputs": [],
   "source": [
    "import functools\n",
    "\n",
    "\n",
    "def memoize(func):\n",
    "    func.cache = {}\n",
    "\n",
    "    @functools.wraps(func)\n",
    "    def memoized_func(*args, **kwargs):\n",
    "        key = str(args) + str(kwargs)\n",
    "        if key not in func.cache:\n",
    "            func.cache[key] = func(*args, **kwargs)\n",
    "        return func.cache[key]\n",
    "\n",
    "    return memoized_func\n",
    "\n",
    "\n",
    "@memoize\n",
    "def num_ways_decode(string):\n",
    "    if len(string) < 2:\n",
    "        return 1\n",
    "    if int(string[0:2]) <= 26:\n",
    "        return num_ways_decode(string[1:]) + num_ways_deocde(string[2:])\n",
    "    return num_ways_decode(string[1:])"
   ]
  },
  {
   "cell_type": "markdown",
   "metadata": {},
   "source": [
    "> b)\n",
    "> $\\mathcal{O}(n)$\n",
    "\n",
    "> 2.\n",
    ">   a)"
   ]
  },
  {
   "cell_type": "code",
   "execution_count": 47,
   "metadata": {
    "collapsed": true
   },
   "outputs": [],
   "source": [
    "@memoize\n",
    "def num_ways_stair(steps):\n",
    "    if steps < 0:\n",
    "        return 0\n",
    "    if steps == 0:\n",
    "        return 1\n",
    "    return num_ways_stair(steps - 1) + num_ways_stair(steps - 2) + num_ways_stair(steps - 3)"
   ]
  },
  {
   "cell_type": "markdown",
   "metadata": {},
   "source": [
    "> b)\n",
    "> $\\mathcal{O}(n)$\n",
    "\n",
    "> 3.\n",
    ">   a)"
   ]
  },
  {
   "cell_type": "code",
   "execution_count": 48,
   "metadata": {
    "collapsed": true
   },
   "outputs": [],
   "source": [
    "@memoize\n",
    "def longest_increasing_subsequence(sequence, start=0, n=None):\n",
    "    if n is None:\n",
    "        n = len(sequence) - 1\n",
    "    if start > n:\n",
    "        return []\n",
    "    lis = [sequence[start]]\n",
    "    for i in range(start, n):\n",
    "        for j in range(i, n):\n",
    "            sub_problem_solution = longest_increasing_subsequence(sequence, i, j)\n",
    "            if len(sub_problem_solution) == 0 or sub_problem_solution[-1] <= sequence[n]:\n",
    "                sub_problem_solution = list(sub_problem_solution) + [sequence[n]]\n",
    "            if len(sub_problem_solution) > len(lis):\n",
    "                lis = sub_problem_solution\n",
    "    return lis"
   ]
  },
  {
   "cell_type": "markdown",
   "metadata": {},
   "source": [
    "> b)\n",
    "> $\\mathcal{O}(n^2)$"
   ]
  }
 ],
 "metadata": {
  "kernelspec": {
   "display_name": "Python 3",
   "language": "python",
   "name": "python3"
  },
  "language_info": {
   "codemirror_mode": {
    "name": "ipython",
    "version": 3
   },
   "file_extension": ".py",
   "mimetype": "text/x-python",
   "name": "python",
   "nbconvert_exporter": "python",
   "pygments_lexer": "ipython3",
   "version": "3.6.3"
  }
 },
 "nbformat": 4,
 "nbformat_minor": 2
}
