{
 "cells": [
  {
   "cell_type": "markdown",
   "metadata": {},
   "source": [
    "# Branch and Bound - Musterlösungen\n",
    "\n",
    "### 1.a) Spezifischer Wert vs. spezifisches Gewicht\n",
    "Der spezifische Wert ist der Wert eines Gegenstands geteilt durch sein Gewicht. Er gibt an wie wertvoll eine Gewichtseinheit des Gegenstands ist. Das spezifische Gewicht ist das Gewicht geteilt durch den Wert und stellt das Gewicht einer Werteinheit dar. Die jeweiligen Quotienten verhalten sich zueinander umgekehrt proportional. Demnach spielt es keine Rolle welcher Quotient im Algorithmus verwendet wird.\n",
    "\n",
    "$$\n",
    "W_i = \\frac{w_i}{g_i} >= W_{i+1} \\Longleftrightarrow G_i = \\frac{g_i}{w_i} <= G_{i+1}\n",
    "$$\n",
    "\n",
    "Bei der Implementation muss nur beachtet werden, dass **höhere** spezifische Werte ($W_i$) aber **niedrigere** spezifische Gewichte ($G_i$) bevorzugt werden. Da im vorgestellten Algorithmus eine Aufwärtssortierung implementiert ist, muss dort mit dem spezifischen Gewicht gearbeitet werden.\n",
    "\n",
    "Der maximal erreichbare Rucksackwert für einen Teilrucksack kann ebenfalls mit beiden spezifischen Größen berechnet werden.\n",
    "\n",
    "$$\n",
    "m = r \\cdot W_{k+1} + \\sum_{i=1}^k x_i w_i = \\frac{r}{G_{k+1}} + \\sum_{i=1}^k x_i w_i\n",
    "$$\n",
    "\n",
    "Im vorgestellten Algorithmus wird die Priority-Queue mit `heapq` realisiert. Diese legt die Prioritäten immer aufsteigend fest. Da aber hier der Teilrucksack mit dem höheren Maximalwert priorisiert werden soll, muss der Kehrwert als Prioritätswert verwendet werden.\n"
   ]
  },
  {
   "cell_type": "markdown",
   "metadata": {},
   "source": [
    "### 1.b) Sonderfälle beim 0/1 Rucksackproblem\n"
   ]
  },
  {
   "cell_type": "code",
   "execution_count": 88,
   "metadata": {
    "collapsed": true
   },
   "outputs": [],
   "source": [
    "import heapq # Priority Queue\n",
    "def bnbKnapsack(items, K):\n",
    "    # Sortierung der Gegenstände nach Gewicht pro Werteinheit (kleiner ist besser)\n",
    "    sortedItems = sorted(items, key=lambda x: x[0] / x[1])\n",
    "    print(sortedItems)\n",
    "    bestKS = []  # [0,1,1,0] heißt das item1 und 2 enthalten sind und item0 und 3 nicht, anfangs leer\n",
    "    # Hilfsfunktion zur Bestimmung des Rucksackwerts\n",
    "    def ksValue(ks): return sum([sortedItems[i][1] if ks[i] == 1 else 0 for i in range(len(ks))])\n",
    "    # Hilfsfunktion zur Bestimmung des Rucksackgewichts\n",
    "    def ksWeight(ks): return sum([sortedItems[i][0] if ks[i] == 1 else 0 for i in range(len(ks))])\n",
    "    # Hilfsfunktion zur Bestimmung des maximal erreichbaren Rucksackwerts\n",
    "    def limit(ks): return ksValue(ks)+(K-ksWeight(ks))*sortedItems[len(ks)][1]/sortedItems[len(ks)][0]\n",
    "\n",
    "    knapsacks = []  # die aktuellen Knoten, sortiert nach maximal erreichbarem Rucksackwert\n",
    "    heapq.heappush(knapsacks, (1 / limit([]), []))  # Wurzel ist der leere Rucksack\n",
    "    while len(knapsacks): # solange es Knoten zu prüfen gibt\n",
    "        ks = heapq.heappop(knapsacks)[1]  # Knoten mit dem höchsten erreichbaren Rucksackwert als nächstes\n",
    "        print(\"check:\", ks)\n",
    "        for x in [0,1]: # Expandieren zu 2 neuen Knoten\n",
    "            expanded = ks + [x]\n",
    "            print(\"expanded:\", expanded, end=\" \")\n",
    "            if ksWeight(expanded) <= K:  # Kapazitätsgrenze noch nicht überschritten\n",
    "                best = ksValue(bestKS) # momentan bester Rucksack\n",
    "                if len(expanded) < len(sortedItems):  # noch kein vollständiger Rucksack\n",
    "                    m = limit(expanded) # maximal zu erreichender Wert\n",
    "                    if m > best:  # könnte ein besserer Rucksack erzielt werden?\n",
    "                        heapq.heappush(knapsacks, (1 / m, expanded))\n",
    "                        print(\"queued with max:\", m, end=\" \")\n",
    "                    else:\n",
    "                        print(\"bound\", end=\" \")\n",
    "                if best < ksValue(expanded):  # besser?\n",
    "                    bestKS = expanded\n",
    "                    print(\"better\")\n",
    "                else:\n",
    "                    print(\"\")\n",
    "            else:\n",
    "                print(\"too heavy\")\n",
    "    return [sortedItems[i] for i in range(len(bestKS)) if bestKS[i]] "
   ]
  },
  {
   "cell_type": "code",
   "execution_count": 89,
   "metadata": {},
   "outputs": [
    {
     "name": "stdout",
     "output_type": "stream",
     "text": [
      "[(25, 9), (15, 5), (20, 6), (10, 3)]\n",
      "check: []\n",
      "expanded: [0] queued with max: 2.6666666666666665 \n",
      "expanded: [1] too heavy\n",
      "check: [0]\n",
      "expanded: [0, 0] queued with max: 2.4 \n",
      "expanded: [0, 1] too heavy\n",
      "check: [0, 0]\n",
      "expanded: [0, 0, 0] queued with max: 2.4 \n",
      "expanded: [0, 0, 1] too heavy\n",
      "check: [0, 0, 0]\n",
      "expanded: [0, 0, 0, 0] \n",
      "expanded: [0, 0, 0, 1] too heavy\n",
      "NoItem-Result: []\n"
     ]
    }
   ],
   "source": [
    "print(\"NoItem-Result:\",bnbKnapsack([(25, 9), (15, 5), (20, 6), (10,3)], 8))"
   ]
  },
  {
   "cell_type": "markdown",
   "metadata": {},
   "source": [
    "Aufgrund der statischen Schranke, werden die zu schweren Gegenstände sofort ausgeschlossen. Nachdem alle Gegenstände geprüft wurden, steht fest, dass ein leerer Rucksack das Ergebnis ist. Nur $n$ Expandierungen sind notwendig.\n",
    "***"
   ]
  },
  {
   "cell_type": "code",
   "execution_count": 90,
   "metadata": {},
   "outputs": [
    {
     "name": "stdout",
     "output_type": "stream",
     "text": [
      "[(2, 9), (2, 6), (1, 3), (3, 5)]\n",
      "check: []\n",
      "expanded: [0] queued with max: 24.0 \n",
      "expanded: [1] queued with max: 27.0 better\n",
      "check: [1]\n",
      "expanded: [1, 0] queued with max: 27.0 \n",
      "expanded: [1, 1] queued with max: 27.0 better\n",
      "check: [1, 0]\n",
      "expanded: [1, 0, 0] queued with max: 19.0 \n",
      "expanded: [1, 0, 1] queued with max: 20.333333333333336 \n",
      "check: [1, 1]\n",
      "expanded: [1, 1, 0] queued with max: 21.666666666666668 \n",
      "expanded: [1, 1, 1] queued with max: 23.0 better\n",
      "check: [0]\n",
      "expanded: [0, 0] queued with max: 24.0 \n",
      "expanded: [0, 1] queued with max: 24.0 \n",
      "check: [0, 0]\n",
      "expanded: [0, 0, 0] bound \n",
      "expanded: [0, 0, 1] bound \n",
      "check: [0, 1]\n",
      "expanded: [0, 1, 0] bound \n",
      "expanded: [0, 1, 1] bound \n",
      "check: [1, 1, 1]\n",
      "expanded: [1, 1, 1, 0] \n",
      "expanded: [1, 1, 1, 1] better\n",
      "check: [1, 1, 0]\n",
      "expanded: [1, 1, 0, 0] \n",
      "expanded: [1, 1, 0, 1] \n",
      "check: [1, 0, 1]\n",
      "expanded: [1, 0, 1, 0] \n",
      "expanded: [1, 0, 1, 1] \n",
      "check: [1, 0, 0]\n",
      "expanded: [1, 0, 0, 0] \n",
      "expanded: [1, 0, 0, 1] \n",
      "AllItems-Result: [(2, 9), (2, 6), (1, 3), (3, 5)]\n"
     ]
    }
   ],
   "source": [
    "print(\"AllItems-Result:\",bnbKnapsack([(2,9), (2,6), (1,3), (3,5)], 8))"
   ]
  },
  {
   "cell_type": "markdown",
   "metadata": {},
   "source": [
    "Da jede Kombination eine potentielle Lösung darstellt, werden zu Beginn sehr viele Teil-Rucksäcke der Queue hinzugefügt. Durch die sehr ähnlichen spezifischen Werte wird erst relativ spät ein Teilsucksack gefunden, der eine so hohe Schranke definiert, dass ein Bound bei den Teilrucksäcken erfolgen kann, die nicht alle Gegenstände beinhalten. Es handelt sich um einen relativ ungünstigen Fall.\n",
    "***"
   ]
  },
  {
   "cell_type": "code",
   "execution_count": 91,
   "metadata": {},
   "outputs": [
    {
     "name": "stdout",
     "output_type": "stream",
     "text": [
      "[(1, 3), (2, 6), (3, 9), (4, 12)]\n",
      "check: []\n",
      "expanded: [0] queued with max: 24.0 \n",
      "expanded: [1] queued with max: 24.0 better\n",
      "check: [0]\n",
      "expanded: [0, 0] queued with max: 24.0 \n",
      "expanded: [0, 1] queued with max: 24.0 better\n",
      "check: [0, 0]\n",
      "expanded: [0, 0, 0] queued with max: 24.0 \n",
      "expanded: [0, 0, 1] queued with max: 24.0 better\n",
      "check: [0, 0, 0]\n",
      "expanded: [0, 0, 0, 0] \n",
      "expanded: [0, 0, 0, 1] better\n",
      "check: [0, 0, 1]\n",
      "expanded: [0, 0, 1, 0] \n",
      "expanded: [0, 0, 1, 1] better\n",
      "check: [0, 1]\n",
      "expanded: [0, 1, 0] queued with max: 24.0 \n",
      "expanded: [0, 1, 1] queued with max: 24.0 \n",
      "check: [0, 1, 0]\n",
      "expanded: [0, 1, 0, 0] \n",
      "expanded: [0, 1, 0, 1] \n",
      "check: [0, 1, 1]\n",
      "expanded: [0, 1, 1, 0] \n",
      "expanded: [0, 1, 1, 1] too heavy\n",
      "check: [1]\n",
      "expanded: [1, 0] queued with max: 24.0 \n",
      "expanded: [1, 1] queued with max: 24.0 \n",
      "check: [1, 0]\n",
      "expanded: [1, 0, 0] queued with max: 24.0 \n",
      "expanded: [1, 0, 1] queued with max: 24.0 \n",
      "check: [1, 0, 0]\n",
      "expanded: [1, 0, 0, 0] \n",
      "expanded: [1, 0, 0, 1] \n",
      "check: [1, 0, 1]\n",
      "expanded: [1, 0, 1, 0] \n",
      "expanded: [1, 0, 1, 1] better\n",
      "check: [1, 1]\n",
      "expanded: [1, 1, 0] bound \n",
      "expanded: [1, 1, 1] bound \n",
      "EqualItems-Result: [(1, 3), (3, 9), (4, 12)]\n"
     ]
    }
   ],
   "source": [
    "print(\"EqualItems-Result:\",bnbKnapsack([(1,3), (2,6), (3,9), (4,12)], 8))"
   ]
  },
  {
   "cell_type": "markdown",
   "metadata": {},
   "source": [
    "Haben alle Elemente den gleichen spezifischen Wert, ist das ebenfalls ein sehr ungünstiger Fall. Es wird stets der gleiche maximale Rucksackwert ermittelt. Die Priority-Queue wird damit wirkungslos und erst wenn zufällig die Lösung gefunden wird, kann ein Bound der übrigen Knoten erfolgen.\n",
    "***"
   ]
  },
  {
   "cell_type": "code",
   "execution_count": 92,
   "metadata": {},
   "outputs": [
    {
     "name": "stdout",
     "output_type": "stream",
     "text": [
      "[(90, 1000), (33, 350), (33, 350), (33, 350)]\n",
      "check: []\n",
      "expanded: [0] queued with max: 1060.6060606060605 \n",
      "expanded: [1] queued with max: 1106.060606060606 better\n",
      "check: [1]\n",
      "expanded: [1, 0] queued with max: 1106.060606060606 \n",
      "expanded: [1, 1] too heavy\n",
      "check: [1, 0]\n",
      "expanded: [1, 0, 0] queued with max: 1106.060606060606 \n",
      "expanded: [1, 0, 1] too heavy\n",
      "check: [1, 0, 0]\n",
      "expanded: [1, 0, 0, 0] \n",
      "expanded: [1, 0, 0, 1] too heavy\n",
      "check: [0]\n",
      "expanded: [0, 0] queued with max: 1060.6060606060605 \n",
      "expanded: [0, 1] queued with max: 1060.6060606060605 \n",
      "check: [0, 0]\n",
      "expanded: [0, 0, 0] queued with max: 1060.6060606060605 \n",
      "expanded: [0, 0, 1] queued with max: 1060.6060606060605 \n",
      "check: [0, 0, 0]\n",
      "expanded: [0, 0, 0, 0] \n",
      "expanded: [0, 0, 0, 1] \n",
      "check: [0, 0, 1]\n",
      "expanded: [0, 0, 1, 0] \n",
      "expanded: [0, 0, 1, 1] \n",
      "check: [0, 1]\n",
      "expanded: [0, 1, 0] queued with max: 1060.6060606060605 \n",
      "expanded: [0, 1, 1] queued with max: 1060.6060606060605 \n",
      "check: [0, 1, 0]\n",
      "expanded: [0, 1, 0, 0] \n",
      "expanded: [0, 1, 0, 1] \n",
      "check: [0, 1, 1]\n",
      "expanded: [0, 1, 1, 0] \n",
      "expanded: [0, 1, 1, 1] better\n",
      "Diamond vs. Gold: [(33, 350), (33, 350), (33, 350)]\n"
     ]
    }
   ],
   "source": [
    "print(\"Diamond vs. Gold:\",bnbKnapsack([(90,1000), (33,350), (33,350), (33,350)], 100))"
   ]
  },
  {
   "cell_type": "markdown",
   "metadata": {},
   "source": [
    "Der Diamant hat den höchsten spezifischen Wert, somit wird über diesen zuerst entschieden. Das Einpacken des Diamanten scheint günstiger zu sein, da beim theoretischen Auffüllen des übrigen Platzes mit Gold der höchste Rucksackwert zustande kommt. Erst nachdem festgestellt wurde, dass eine Hinzunahme von Goldmünzen nicht möglich ist, wird der richtige Weg verfolgt."
   ]
  },
  {
   "cell_type": "markdown",
   "metadata": {},
   "source": [
    "### 1.c) Priority-Queue\n",
    "Eine Priority-Queue nimmt immer ein Paar aus Prioritätswert und zugehörigem Element auf und legt dieses sortiert in einer Liste ab. Durch entnehmen des ersten Elements der Priority-Queue kann das Element mit höchster Priorität (höchstem oder niedrigstem Prioritätswert) bezogen werden."
   ]
  },
  {
   "cell_type": "code",
   "execution_count": 93,
   "metadata": {},
   "outputs": [
    {
     "name": "stdout",
     "output_type": "stream",
     "text": [
      "[(5, 9), (3, 5), (4, 6), (2, 3)]\n",
      "check: []\n",
      "expanded: [0] queued with max: 13.333333333333334 \n",
      "expanded: [1] queued with max: 14.0 better\n",
      "check: [1]\n",
      "expanded: [1, 0] queued with max: 13.5 \n",
      "expanded: [1, 1] queued with max: 14.0 better\n",
      "check: [1, 1]\n",
      "expanded: [1, 1, 0] bound \n",
      "expanded: [1, 1, 1] too heavy\n",
      "check: [1, 0]\n",
      "expanded: [1, 0, 0] bound \n",
      "expanded: [1, 0, 1] too heavy\n",
      "check: [0]\n",
      "expanded: [0, 0] bound \n",
      "expanded: [0, 1] bound \n"
     ]
    },
    {
     "data": {
      "text/plain": [
       "[(5, 9), (3, 5)]"
      ]
     },
     "execution_count": 93,
     "metadata": {},
     "output_type": "execute_result"
    }
   ],
   "source": [
    "import math\n",
    "# Hinzufügen zu Priority-Queue mittels Quicksort\n",
    "def pqadd(pq, prioPair, start=None, until=None):\n",
    "    if start == None or until == None: # Initialaufruf\n",
    "        return pqadd(pq,prioPair,0,len(pq)) # Festlegung des Listenbereichs\n",
    "    if start == until: # Zielposition gefunden\n",
    "        return pq.insert(start, prioPair) # an dieser Stelle einfügen\n",
    "    p = start + math.floor((until-start)/2) # Position in der Mitte\n",
    "    if pq[p][0] > prioPair[0]: # hinterlegter Wert ist größer als der einzufügende\n",
    "        return pqadd(pq,prioPair,start, p) # vor p weitersuchen\n",
    "    elif pq[p][0] < prioPair[0]: # hinterlegter Wert ist kleiner\n",
    "        return pqadd(pq,prioPair,p+1, until) # hinter p weitersuchen\n",
    "    else: # gleicher Wert\n",
    "        return pq.insert(p, prioPair) # an Ort und Stelle einfügen\n",
    "\n",
    "# Entnahme eines Queue-Elements\n",
    "def pqpop(pq, last=False): # last: vom Beginn oder vom Ende\n",
    "    return pq.pop() if last else pq.pop(0)\n",
    "\n",
    "def bnbKnapsackPQ(items, K):\n",
    "    # Sortierung der Gegenstände nach Gewicht pro Werteinheit (kleiner ist besser)\n",
    "    sortedItems = sorted(items, key=lambda x: x[0] / x[1])\n",
    "    print(sortedItems)\n",
    "    bestKS = []  # [0,1,1,0] heißt das item1 und 2 enthalten sind und item0 und 3 nicht, anfangs leer\n",
    "    # Hilfsfunktion zur Bestimmung des Rucksackwerts\n",
    "    def ksValue(ks): return sum([sortedItems[i][1] if ks[i] == 1 else 0 for i in range(len(ks))])\n",
    "    # Hilfsfunktion zur Bestimmung des Rucksackgewichts\n",
    "    def ksWeight(ks): return sum([sortedItems[i][0] if ks[i] == 1 else 0 for i in range(len(ks))])\n",
    "    # Hilfsfunktion zur Bestimmung des maximal erreichbaren Rucksackwerts\n",
    "    def limit(ks): return ksValue(ks)+(K-ksWeight(ks))*sortedItems[len(ks)][1]/sortedItems[len(ks)][0]\n",
    "\n",
    "    knapsacks = []  # die aktuellen Knoten, sortiert nach maximal erreichbarem Rucksackwert\n",
    "    pqadd(knapsacks, (limit([]), []))  # Wurzel ist der leere Rucksack\n",
    "    while len(knapsacks): # solange es Knoten zu prüfen gibt\n",
    "        ks = pqpop(knapsacks, True)[1]  # Knoten mit dem höchsten erreichbaren Rucksackwert als nächstes\n",
    "        print(\"check:\", ks)\n",
    "        for x in [0,1]: # Expandieren zu 2 neuen Knoten\n",
    "            expanded = ks + [x]\n",
    "            print(\"expanded:\", expanded, end=\" \")\n",
    "            if ksWeight(expanded) <= K:  # Kapazitätsgrenze noch nicht überschritten\n",
    "                best = ksValue(bestKS) # momentan bester Rucksack\n",
    "                if len(expanded) < len(sortedItems):  # noch kein vollständiger Rucksack\n",
    "                    m = limit(expanded) # maximal zu erreichender Wert\n",
    "                    if m > best:  # könnte ein besserer Rucksack erzielt werden?\n",
    "                        pqadd(knapsacks, (m, expanded))\n",
    "                        print(\"queued with max:\", m, end=\" \")\n",
    "                    else:\n",
    "                        print(\"bound\", end=\" \")\n",
    "                if best < ksValue(expanded):  # besser?\n",
    "                    bestKS = expanded\n",
    "                    print(\"better\")\n",
    "                else:\n",
    "                    print(\"\")\n",
    "            else:\n",
    "                print(\"too heavy\")\n",
    "    return [sortedItems[i] for i in range(len(bestKS)) if bestKS[i]] \n",
    "\n",
    "bnbKnapsackPQ([(5, 9), (3, 5), (4, 6), (2,3)],8)"
   ]
  },
  {
   "cell_type": "markdown",
   "metadata": {},
   "source": [
    "### 1.d) Dynamisches vs. statisches Bound\n",
    "\n",
    "Ohne die dynamische Schranke wird ein expandierter Knoten immer der Priority-Queue hinzugefügt wenn die Kapazitätsgrenze noch nicht überschritten wurde. Die optimale Rucksackbelegung wird auch so gefunden. Aber der Algorithmus arbeitet weniger effizient."
   ]
  },
  {
   "cell_type": "code",
   "execution_count": 98,
   "metadata": {},
   "outputs": [
    {
     "data": {
      "text/plain": [
       "[(5, 9), (3, 5)]"
      ]
     },
     "execution_count": 98,
     "metadata": {},
     "output_type": "execute_result"
    }
   ],
   "source": [
    "def bnbKnapsackStatic(items, K):\n",
    "    # Sortierung der Gegenstände nach Gewicht pro Werteinheit (kleiner ist besser)\n",
    "    sortedItems = sorted(items, key=lambda x: x[0] / x[1])\n",
    "    bestKS = []  # [0,1,1,0] heißt das item1 und 2 enthalten sind und item0 und 3 nicht, anfangs leer\n",
    "    # Hilfsfunktion zur Bestimmung des Rucksackwerts\n",
    "    def ksValue(ks): return sum([sortedItems[i][1] if ks[i] == 1 else 0 for i in range(len(ks))])\n",
    "    # Hilfsfunktion zur Bestimmung des Rucksackgewichts\n",
    "    def ksWeight(ks): return sum([sortedItems[i][0] if ks[i] == 1 else 0 for i in range(len(ks))])\n",
    "    # Hilfsfunktion zur Bestimmung des maximal erreichbaren Rucksackwerts\n",
    "    def limit(ks): return ksValue(ks)+(K-ksWeight(ks))*sortedItems[len(ks)][1]/sortedItems[len(ks)][0]\n",
    "\n",
    "    knapsacks = []  # die aktuellen Knoten, sortiert nach maximal erreichbarem Rucksackwert\n",
    "    heapq.heappush(knapsacks, (1 / limit([]), []))  # Wurzel ist der leere Rucksack\n",
    "    while len(knapsacks): # solange es Knoten zu prüfen gibt\n",
    "        ks = heapq.heappop(knapsacks)[1]  # Knoten mit dem höchsten erreichbaren Rucksackwert als nächstes\n",
    "        for x in [0,1]: # Expandieren zu 2 neuen Knoten\n",
    "            expanded = ks + [x]\n",
    "            if ksWeight(expanded) <= K:  # Kapazitätsgrenze noch nicht überschritten\n",
    "                best = ksValue(bestKS) # momentan bester Rucksack\n",
    "                if len(expanded) < len(sortedItems):  # noch kein vollständiger Rucksack\n",
    "                    m = limit(expanded) # maximal zu erreichender Wert\n",
    "                    heapq.heappush(knapsacks, (1 / m, expanded))\n",
    "                if best < ksValue(expanded):  # besser?\n",
    "                    bestKS = expanded\n",
    "    return [sortedItems[i] for i in range(len(bestKS)) if bestKS[i]] \n",
    "\n",
    "def bnbKnapsackDynamic(items, K):\n",
    "    # Sortierung der Gegenstände nach Gewicht pro Werteinheit (kleiner ist besser)\n",
    "    sortedItems = sorted(items, key=lambda x: x[0] / x[1])\n",
    "    bestKS = []  # [0,1,1,0] heißt das item1 und 2 enthalten sind und item0 und 3 nicht, anfangs leer\n",
    "    # Hilfsfunktion zur Bestimmung des Rucksackwerts\n",
    "    def ksValue(ks): return sum([sortedItems[i][1] if ks[i] == 1 else 0 for i in range(len(ks))])\n",
    "    # Hilfsfunktion zur Bestimmung des Rucksackgewichts\n",
    "    def ksWeight(ks): return sum([sortedItems[i][0] if ks[i] == 1 else 0 for i in range(len(ks))])\n",
    "    # Hilfsfunktion zur Bestimmung des maximal erreichbaren Rucksackwerts\n",
    "    def limit(ks): return ksValue(ks)+(K-ksWeight(ks))*sortedItems[len(ks)][1]/sortedItems[len(ks)][0]\n",
    "\n",
    "    knapsacks = []  # die aktuellen Knoten, sortiert nach maximal erreichbarem Rucksackwert\n",
    "    heapq.heappush(knapsacks, (1 / limit([]), []))  # Wurzel ist der leere Rucksack\n",
    "    while len(knapsacks): # solange es Knoten zu prüfen gibt\n",
    "        ks = heapq.heappop(knapsacks)[1]  # Knoten mit dem höchsten erreichbaren Rucksackwert als nächstes\n",
    "        for x in [0,1]: # Expandieren zu 2 neuen Knoten\n",
    "            expanded = ks + [x]\n",
    "            if ksWeight(expanded) <= K:  # Kapazitätsgrenze noch nicht überschritten\n",
    "                best = ksValue(bestKS) # momentan bester Rucksack\n",
    "                if len(expanded) < len(sortedItems):  # noch kein vollständiger Rucksack\n",
    "                    m = limit(expanded) # maximal zu erreichender Wert\n",
    "                    if m > best:  # könnte ein besserer Rucksack erzielt werden?\n",
    "                        heapq.heappush(knapsacks, (1 / m, expanded))\n",
    "                if best < ksValue(expanded):  # besser?\n",
    "                    bestKS = expanded\n",
    "    return [sortedItems[i] for i in range(len(bestKS)) if bestKS[i]] \n"
   ]
  },
  {
   "cell_type": "markdown",
   "metadata": {},
   "source": [
    "Die Generierung von Gegenständen kann sehr einfach erfolgen indem Werte und Gewichte zufällig generiert werden. Eine sinnvolle Kapazitätsgrenze ist stets etwas kleiner als das Gesamtgewicht aller Gegenstände."
   ]
  },
  {
   "cell_type": "code",
   "execution_count": 117,
   "metadata": {},
   "outputs": [
    {
     "name": "stdout",
     "output_type": "stream",
     "text": [
      "([(59, 82), (3, 36), (97, 87), (34, 38)], 154)\n"
     ]
    }
   ],
   "source": [
    "import random\n",
    "\n",
    "def generateKnapsackParameters(n):\n",
    "    sumw = 0 # Summe aller generierten Gewichte\n",
    "    items = [] # generierte Gegenstände\n",
    "    for i in range(n):\n",
    "        value = random.randint(1,100)\n",
    "        weight = random.randint(1,100)\n",
    "        sumw += weight\n",
    "        items.append((weight,value))\n",
    "    return (items, math.floor(sumw*0.8)) # Kapazität bei 80% des Gesamtgewichts\n",
    "\n",
    "print(generateKnapsackParameters(4))\n"
   ]
  },
  {
   "cell_type": "markdown",
   "metadata": {},
   "source": [
    "Damit die Laufzeiten vergleichbar sind, muss **dasselbe Problem durch beide Funktionen** gelöst werden. Um zu verlässlichen Werten zu gelangen, muss die Messung **mit verschiedenen Problemen wiederholt** werden. Durch Addition der gemessenen Zeiten ergeben sich die Testergebnisse."
   ]
  },
  {
   "cell_type": "code",
   "execution_count": 121,
   "metadata": {},
   "outputs": [
    {
     "name": "stdout",
     "output_type": "stream",
     "text": [
      "Static: 0.14861440658569336 Dynamic: 0.012953519821166992\n"
     ]
    }
   ],
   "source": [
    "import time\n",
    "\n",
    "def runTest(alg1, alg2, n, numOfRuns):\n",
    "    time1 = 0\n",
    "    time2 = 0\n",
    "    for i in range(numOfRuns):\n",
    "        (items, K) = generateKnapsackParameters(n)\n",
    "        tstart = time.time()\n",
    "        res1 = alg1(items, K)\n",
    "        time1 += time.time()-tstart\n",
    "        tstart = time.time()\n",
    "        res2 = alg2(items, K)\n",
    "        time2 += time.time()-tstart\n",
    "    return (time1, time2)\n",
    "\n",
    "(static, dynamic) = runTest(bnbKnapsackStatic,bnbKnapsackDynamic, 10, 10)\n",
    "print(\"Static:\",static, \"Dynamic:\",dynamic)"
   ]
  },
  {
   "cell_type": "markdown",
   "metadata": {},
   "source": [
    "Beim eigentlichen Test werden nun die Zeiten für verschiedenen Problemgrößen gemessen. Grafisch gegenübergestellt zeigen sich deutlich die Vorteile der Verwendung von dynamischen Schranken."
   ]
  },
  {
   "cell_type": "code",
   "execution_count": 129,
   "metadata": {},
   "outputs": [
    {
     "data": {
      "image/png": "[encoded data removed]",
      "text/plain": [
       "<Figure size 432x288 with 1 Axes>"
      ]
     },
     "metadata": {},
     "output_type": "display_data"
    }
   ],
   "source": [
    "import matplotlib.pyplot as plt\n",
    "\n",
    "sizes = []\n",
    "tStatic = []\n",
    "tDynamic = []\n",
    "for n in range(3,13):\n",
    "    (static, dynamic) = runTest(bnbKnapsackStatic,bnbKnapsackDynamic, n, 15)\n",
    "    sizes.append(n)\n",
    "    tStatic.append(static)\n",
    "    tDynamic.append(dynamic)\n",
    "\n",
    "ax = plt.axes()\n",
    "ax.plot(sizes, tStatic, label=\"Static\");\n",
    "ax.plot(sizes, tDynamic, label=\"Dynamic\");\n",
    "l = ax.legend()\n"
   ]
  },
  {
   "cell_type": "markdown",
   "metadata": {},
   "source": [
    "### 2.a) TSP - Modifizierung und Reduzierung"
   ]
  },
  {
   "cell_type": "code",
   "execution_count": 160,
   "metadata": {},
   "outputs": [
    {
     "name": "stdout",
     "output_type": "stream",
     "text": [
      "---------------------------------------------------------------\n",
      "Root: 35\n",
      "inf\t20\t15\t10 \t| inf\t10\t5\t0\n",
      "8\tinf\t9\t8 \t| 0\tinf\t1\t0\n",
      "6\t12\tinf\t13 \t| 0\t6\tinf\t7\n",
      "5\t10\t9\tinf \t| 0\t5\t4\tinf\n",
      "---------------------------------------------------------------\n",
      "0 >> 1: 40\n",
      "inf\t20\tinf\tinf \t| inf\t0\tinf\tinf\n",
      "inf\tinf\t9\t8 \t| inf\tinf\t1\t0\n",
      "6\tinf\tinf\t13 \t| 0\tinf\tinf\t7\n",
      "5\tinf\t9\tinf \t| 0\tinf\t4\tinf\n",
      "---------------------------------------------------------------\n",
      "0 >> 2: 40\n",
      "inf\tinf\t15\tinf \t| inf\tinf\t0\tinf\n",
      "8\tinf\tinf\t8 \t| 0\tinf\tinf\t0\n",
      "inf\t12\tinf\t13 \t| inf\t0\tinf\t1\n",
      "5\t10\tinf\tinf \t| 0\t5\tinf\tinf\n",
      "---------------------------------------------------------------\n",
      "0 >> 3: 34\n",
      "inf\tinf\tinf\t10 \t| inf\tinf\tinf\t0\n",
      "8\tinf\t9\tinf \t| 0\tinf\t1\tinf\n",
      "6\t12\tinf\tinf \t| 0\t6\tinf\tinf\n",
      "inf\t10\t9\tinf \t| inf\t1\t0\tinf\n",
      "---------------------------------------------------------------\n",
      "0 >> 1 >> 2: 47\n",
      "inf\t20\tinf\tinf \t| inf\t0\tinf\tinf\n",
      "inf\tinf\t9\tinf \t| inf\tinf\t0\tinf\n",
      "6\tinf\tinf\t13 \t| 0\tinf\tinf\t7\n",
      "5\tinf\tinf\tinf \t| 0\tinf\tinf\tinf\n",
      "---------------------------------------------------------------\n",
      "0 >> 1 >> 3: 43\n",
      "inf\t20\tinf\tinf \t| inf\t0\tinf\tinf\n",
      "inf\tinf\tinf\t8 \t| inf\tinf\tinf\t0\n",
      "6\tinf\tinf\tinf \t| 0\tinf\tinf\tinf\n",
      "5\tinf\t9\tinf \t| 0\tinf\t4\tinf\n",
      "---------------------------------------------------------------\n",
      "0 >> 2 >> 1: 40\n",
      "inf\tinf\t15\tinf \t| inf\tinf\t0\tinf\n",
      "8\tinf\tinf\t8 \t| 0\tinf\tinf\t0\n",
      "inf\t12\tinf\tinf \t| inf\t0\tinf\tinf\n",
      "5\tinf\tinf\tinf \t| 0\tinf\tinf\tinf\n",
      "---------------------------------------------------------------\n",
      "0 >> 2 >> 3: 46\n",
      "inf\tinf\t15\tinf \t| inf\tinf\t0\tinf\n",
      "8\tinf\tinf\tinf \t| 0\tinf\tinf\tinf\n",
      "inf\tinf\tinf\t13 \t| inf\tinf\tinf\t0\n",
      "5\t10\tinf\tinf \t| 0\t5\tinf\tinf\n",
      "---------------------------------------------------------------\n",
      "0 >> 3 >> 1: 35\n",
      "inf\tinf\tinf\t10 \t| inf\tinf\tinf\t0\n",
      "8\tinf\t9\tinf \t| 0\tinf\t1\tinf\n",
      "6\tinf\tinf\tinf \t| 0\tinf\tinf\tinf\n",
      "inf\t10\tinf\tinf \t| inf\t0\tinf\tinf\n",
      "---------------------------------------------------------------\n",
      "0 >> 3 >> 2: 39\n",
      "inf\tinf\tinf\t10 \t| inf\tinf\tinf\t0\n",
      "8\tinf\tinf\tinf \t| 0\tinf\tinf\tinf\n",
      "6\t12\tinf\tinf \t| 0\t6\tinf\tinf\n",
      "inf\tinf\t9\tinf \t| inf\tinf\t0\tinf\n"
     ]
    }
   ],
   "source": [
    "inf = float(\"inf\")\n",
    "distanceMatrix = [\n",
    "    [inf, 20, 15, 10],\n",
    "    [8, inf, 9, 8],\n",
    "    [6, 12, inf, 13],\n",
    "    [5, 10, 9, inf]\n",
    "] # kürzeste Rundreise: 35\n",
    "\n",
    "def delta(d):\n",
    "    rd = [] # reduzierte Matrix\n",
    "    s = len(d)\n",
    "    delta = 0\n",
    "    for row in range(s):\n",
    "        rowmin = min(d[row]) # Zeilen-Minimum\n",
    "        rd.append([d[row][i] - rowmin for i in range(s)]) # Zeile mit Differenzen\n",
    "        delta += rowmin # Minima summieren\n",
    "    for col in range(s):\n",
    "        colmin = min([rd[i][col] for i in range(s)]) # Spalten-Minimum der Differenzen\n",
    "        delta += colmin # Fehler addieren\n",
    "    return (rd, delta)\n",
    "\n",
    "def modify(d, fromP, toP):\n",
    "    m = [] # modifizierte Matrix\n",
    "    s = len(d)\n",
    "    for row in range(s): m.append(d[row].copy()) # Kopie\n",
    "    for row in range(s): # Wege zu toP = unendlich\n",
    "        if row != fromP: m[row][toP] = inf\n",
    "    for col in range(s): # Wege von fromP unendlich\n",
    "        if col != toP: m[fromP][col] = inf\n",
    "    m[toP][fromP] = inf # Weg zurück unendlich\n",
    "    return m\n",
    "\n",
    "def printMatrix(name, m):\n",
    "    print(\"---------------------------------------------------------------\")\n",
    "    rd = delta(m)\n",
    "    print(name,rd[1])\n",
    "    for i in range(len(m)):\n",
    "        print('\\t'.join(map(str,m[i])),\"\\t|\",'\\t'.join(map(str,rd[0][i])))\n",
    "\n",
    "printMatrix(\"Root:\",distanceMatrix)\n",
    "m01 = modify(distanceMatrix,0,1)\n",
    "m02 = modify(distanceMatrix,0,2)\n",
    "m03 = modify(distanceMatrix,0,3)\n",
    "printMatrix(\"0 >> 1:\",m01)\n",
    "printMatrix(\"0 >> 2:\",m02)\n",
    "printMatrix(\"0 >> 3:\",m03)\n",
    "\n",
    "m12 = modify(m01,1,2)\n",
    "m13 = modify(m01,1,3)\n",
    "m21 = modify(m02,2,1)\n",
    "m23 = modify(m02,2,3)\n",
    "m31 = modify(m03,3,1)\n",
    "m32 = modify(m03,3,2)\n",
    "printMatrix(\"0 >> 1 >> 2:\",m12)\n",
    "printMatrix(\"0 >> 1 >> 3:\",m13)\n",
    "printMatrix(\"0 >> 2 >> 1:\",m21)\n",
    "printMatrix(\"0 >> 2 >> 3:\",m23)\n",
    "printMatrix(\"0 >> 3 >> 1:\",m31)\n",
    "printMatrix(\"0 >> 3 >> 2:\",m32)"
   ]
  },
  {
   "cell_type": "markdown",
   "metadata": {},
   "source": [
    "### 2.b) Lösung bei nicht zusammenhängenden Graphen\n",
    "\n",
    "Wenn alle Knoten des Teilgraphen mit dem Startknoten beschritten wurden, sind keine weiteren Übergänge möglich. Somit können keine weiteren Modifikationen mehr vorgenommen und keine weiteren Möglichkeiten der Priority-Queue hinzugefügt werden. Die Queue wird so gelehrt ohne das innere `return` zu erreichen. Das Ergebnis ist, dass keine Rundreise existiert."
   ]
  },
  {
   "cell_type": "code",
   "execution_count": 166,
   "metadata": {},
   "outputs": [
    {
     "name": "stdout",
     "output_type": "stream",
     "text": [
      "---------------------------------------------------------------\n",
      "Root: 37\n",
      "inf\t20\t4\tinf\tinf \t| inf\t16\t0\tinf\tinf\n",
      "8\tinf\t12\tinf\tinf \t| 0\tinf\t4\tinf\tinf\n",
      "22\t6\tinf\tinf\tinf \t| 16\t0\tinf\tinf\tinf\n",
      "inf\tinf\tinf\tinf\t9 \t| inf\tinf\tinf\tinf\t0\n",
      "inf\tinf\tinf\t10\tinf \t| inf\tinf\tinf\t0\tinf\n",
      "---------------------------------------------------------------\n",
      "0 >> 1: 73\n",
      "inf\t20\tinf\tinf\tinf \t| inf\t0\tinf\tinf\tinf\n",
      "inf\tinf\t12\tinf\tinf \t| inf\tinf\t0\tinf\tinf\n",
      "22\tinf\tinf\tinf\tinf \t| 0\tinf\tinf\tinf\tinf\n",
      "inf\tinf\tinf\tinf\t9 \t| inf\tinf\tinf\tinf\t0\n",
      "inf\tinf\tinf\t10\tinf \t| inf\tinf\tinf\t0\tinf\n",
      "---------------------------------------------------------------\n",
      "0 >> 2: 37\n",
      "inf\tinf\t4\tinf\tinf \t| inf\tinf\t0\tinf\tinf\n",
      "8\tinf\tinf\tinf\tinf \t| 0\tinf\tinf\tinf\tinf\n",
      "inf\t6\tinf\tinf\tinf \t| inf\t0\tinf\tinf\tinf\n",
      "inf\tinf\tinf\tinf\t9 \t| inf\tinf\tinf\tinf\t0\n",
      "inf\tinf\tinf\t10\tinf \t| inf\tinf\tinf\t0\tinf\n",
      "---------------------------------------------------------------\n",
      "0 >> 1 >> 2: 73\n",
      "inf\t20\tinf\tinf\tinf \t| inf\t0\tinf\tinf\tinf\n",
      "inf\tinf\t12\tinf\tinf \t| inf\tinf\t0\tinf\tinf\n",
      "22\tinf\tinf\tinf\tinf \t| 0\tinf\tinf\tinf\tinf\n",
      "inf\tinf\tinf\tinf\t9 \t| inf\tinf\tinf\tinf\t0\n",
      "inf\tinf\tinf\t10\tinf \t| inf\tinf\tinf\t0\tinf\n",
      "---------------------------------------------------------------\n",
      "0 >> 2 >> 1: 37\n",
      "inf\tinf\t4\tinf\tinf \t| inf\tinf\t0\tinf\tinf\n",
      "8\tinf\tinf\tinf\tinf \t| 0\tinf\tinf\tinf\tinf\n",
      "inf\t6\tinf\tinf\tinf \t| inf\t0\tinf\tinf\tinf\n",
      "inf\tinf\tinf\tinf\t9 \t| inf\tinf\tinf\tinf\t0\n",
      "inf\tinf\tinf\t10\tinf \t| inf\tinf\tinf\t0\tinf\n"
     ]
    }
   ],
   "source": [
    "distanceMatrix = [\n",
    "    [inf, 20, 4, inf, inf],\n",
    "    [8, inf, 12, inf, inf],\n",
    "    [22, 6, inf, inf, inf],\n",
    "    [inf, inf, inf, inf, 9],\n",
    "    [inf, inf, inf, 10 ,inf]\n",
    "] # 0,1,2 und 3,4 sind nicht zusammenhängend\n",
    "\n",
    "printMatrix(\"Root:\",distanceMatrix)\n",
    "m01 = modify(distanceMatrix,0,1)\n",
    "printMatrix(\"0 >> 1:\",m01)\n",
    "m02 = modify(distanceMatrix,0,2)\n",
    "printMatrix(\"0 >> 2:\",m02)\n",
    "\n",
    "m012 = modify(m01,1,2)\n",
    "printMatrix(\"0 >> 1 >> 2:\",m012)\n",
    "m021 = modify(m02,2,1)\n",
    "printMatrix(\"0 >> 2 >> 1:\",m021)"
   ]
  },
  {
   "cell_type": "markdown",
   "metadata": {},
   "source": [
    "### 2.c) Lösung bei Graphen wo eine Rundreise nicht möglich ist\n",
    "\n",
    "In einem solchen Fall ist es durchaus möglich, dass der Graph zusammenhängend ist. Aber wenn es *Sackgassen* gibt, dann fehlt der Weg zurück zum Ausgangspunkt. Der Algorithmus kann hier also das innere `return` erreichen, wenn es einen Weg gibt bei dem alle Knoten beschritten werden. Da es sich um eine Rundreise handelt, muss aber auch der Weg zum Ausgangspunkt mit einbezogen werden. Dieser Restweg ist in der theoretisch erreichbaren Mindestweglänge enthalten, dem Prioritätswert der Priority-Queue. Dieser wiederum wird nach der letzten Modifikation berechnet. Gibt es vom letzten Knoten keine Verbindung zum Ausgangspunkt, so befinden sich in der entsprechenden Zeile nur unendlich große Werte. Das Zeilenminimum ist damit unendlich groß wodurch auch die Mindestweglänge unendlich groß wird.\n",
    "\n",
    "In diesem Beispielprogramm weist also die Ausgabe einer *unendlich langen Rundreise* darauf hin, dass keine Rundreise existiert."
   ]
  },
  {
   "cell_type": "code",
   "execution_count": 171,
   "metadata": {},
   "outputs": [
    {
     "name": "stdout",
     "output_type": "stream",
     "text": [
      "check: [0] 0\n",
      "  extract: [0, 1] 73\n",
      "  extract: [0, 2] 37\n",
      "check: [0, 2] 37\n",
      "  extract: [0, 2, 1] 37\n",
      "  extract: [0, 2, 4] inf\n",
      "check: [0, 2, 1] 37\n",
      "check: [0, 1] 73\n",
      "  extract: [0, 1, 2] 73\n",
      "check: [0, 1, 2] 73\n",
      "  extract: [0, 1, 2, 4] inf\n",
      "check: [0, 1, 2, 4] inf\n",
      "  extract: [0, 1, 2, 4, 3] inf\n",
      "check: [0, 1, 2, 4, 3] inf\n",
      "---------------------------------------------------------------\n",
      "Result: inf\n",
      "inf\t20\tinf\tinf\tinf \t| inf\t0\tinf\tinf\tinf\n",
      "inf\tinf\t12\tinf\tinf \t| inf\tinf\t0\tinf\tinf\n",
      "inf\tinf\tinf\tinf\t11 \t| inf\tinf\tinf\tinf\t0\n",
      "inf\tinf\tinf\tinf\tinf \t| nan\tnan\tnan\tnan\tnan\n",
      "inf\tinf\tinf\t10\tinf \t| inf\tinf\tinf\t0\tinf\n",
      "([0, 1, 2, 4, 3, 0], inf)\n"
     ]
    }
   ],
   "source": [
    "distanceMatrix = [\n",
    "    [inf, 20, 4, inf, inf],\n",
    "    [8, inf, 12, inf, inf],\n",
    "    [22, 6, inf, inf, 11],\n",
    "    [inf, inf, inf, inf, 9],\n",
    "    [inf, inf, inf, 10 ,inf]\n",
    "] # 0,1,2 und 3,4 sind nur durch 2 >> 4 verbunden, keine Rundreise möglich\n",
    "\n",
    "def bnb_TSP(d):\n",
    "    s = len(d)\n",
    "    routes = []\n",
    "    heapq.heappush(routes, (0, ([0], d)))\n",
    "    while len(routes):\n",
    "        node = heapq.heappop(routes) # Knoten mit dem niedrigsten delta\n",
    "        item = node[1]\n",
    "        print(\"check:\",item[0], node[0])\n",
    "        if len(item[0]) == s: # kürzester Weg ist vollständig\n",
    "            printMatrix(\"Result:\",item[1])\n",
    "            return (item[0]+[item[0][0]], node[0])\n",
    "        last = item[0][-1] # zuletzt besuchter Knoten\n",
    "        matrix = item[1] # Ausgangsmatrix\n",
    "        for x in range(s):\n",
    "            # für jeden noch nicht besuchten Knoten der nicht unendlich weit weg ist\n",
    "            if x in item[0] or matrix[last][x] == inf: continue\n",
    "            m = modify(matrix, last, x) # Matrix modifizieren\n",
    "            dt = delta(m)[1] # theoretisch erreichbare Mindestweglänge\n",
    "            print(\"  extract:\", item[0]+[x], dt)\n",
    "            heapq.heappush(routes, (dt, (item[0]+[x], m))) # in Priority Queue einordnen\n",
    "    return \"no route\"\n",
    "\n",
    "print(bnb_TSP(distanceMatrix))"
   ]
  },
  {
   "cell_type": "markdown",
   "metadata": {},
   "source": [
    "### 3. Golomb-Lineal mittels Branch and Bound\n",
    "\n",
    "Ein Golomb-Lineal der Ordnung $n$ umfasst immer die Marken $m_1$ bis $m_n$. Es gilt $m_1 = 0$ und $m_i < m_{i+1}$ mit $m_i \\in \\mathbb{N}$. Desweiteren sind alle Differenzen zwischen den Marken eindeutig. Ein Golomb-Lineal ist optimal, wenn $m_n$ minimal ist. Der Wert $m_n$ gilt als die Länge des Golomb-Lineals.\n",
    "\n",
    "Als Datenstruktur kann z.B. ein Array der Maximalgröße $n$ verwendet werden, wobei jeder Index für eine Marke des Lineals steht und der Wert am Index den jeweilen Markierungswert repräsentiert.\n",
    "\n",
    "Der Suchbaum könnte nun mit dem Array [0] beginnen. In jeder Expansionsebene wird das Array um eine Marke erweitert. Im ersten Schritt entstehen z.B. [0,1], [0,2] und [0,3]. Im nächsten Schritt dann z.B. [0,1,3], [0,1,4], [0,2,3] und [0,2,5]. Nach $n-1$ Erweiterungen sind die Arrays komplett und stellen vollständige Golomb-Lineale der Ordnung $n$ dar.\n",
    "\n",
    "Zunächst kann es einige statische Begrenzungen geben. Der Wert einer hinzuzufügenden Markeriungen muss größer sein als der Wert der vorherigen Markeriung und kann maximal $n^2$ sein. Ein Wert kann nur dann angehängt werden, wenn der Abstand zu allen anderen Markierungen noch nicht *vergeben* ist.\n",
    "\n",
    "Eine dynamische Begrenzung kann realisiert werden, indem für ein Teil-Lineal berechnet wird, welche Länge es nach Fertigstellung mindestens haben muss. Wie immer bei Branch and Bound geht es dabei vordergründig nicht darum, diese Mindestlänge möglichst genau zu berechnen, sondern dies möglichst effizient zu tun.\n",
    "\n",
    "Die Mindestlänge eines Teil-Lineals kann nun verwendet werden, um es anderen Teil-Linealen gegenüberzustellen. Das wiederum kann durch eine Priority-Queue realisiert werden. Teil-Lineale mit der geringsten Mindestlänge werden dann bevorzugt behandelt (expandiert). Das Bound erfolgt passiv indem schlechtere Teillösungen verzögert werden."
   ]
  },
  {
   "cell_type": "code",
   "execution_count": 175,
   "metadata": {},
   "outputs": [
    {
     "name": "stdout",
     "output_type": "stream",
     "text": [
      "1 (0, [0])\n",
      "2 (1, [0, 1])\n",
      "3 (3, [0, 1, 3])\n",
      "4 (6, [0, 1, 4, 6])\n",
      "5 (11, [0, 1, 4, 9, 11])\n",
      "6 (17, [0, 1, 4, 10, 12, 17])\n",
      "7 (25, [0, 1, 4, 10, 18, 23, 25])\n"
     ]
    }
   ],
   "source": [
    "import heapq\n",
    "\n",
    "def minLength(ruler, n): # Mindestlänge eines Lineals der Länge n\n",
    "    k = n-len(ruler) # k noch nicht besetze Stellen\n",
    "    return ruler[-1] + k * (k+1) // 2 # aktuelle Länge + 1+2+...+k (Gaußsche Summenformel)\n",
    "\n",
    "def validRuler(ruler): # Ist das Lineal gültig\n",
    "    diff = set() # Differenzen\n",
    "    for i in ruler: # für jede Markierung\n",
    "        for j in ruler: # und jede Markierung davor\n",
    "            if i == j: break\n",
    "            d = i - j # Differenz berechnen\n",
    "            if d in diff: # gibt es diese Differenz schon?\n",
    "                return False # nicht gültig\n",
    "            diff.add(d) # Differenz merken\n",
    "    return True # alle Differenzen eindeutig\n",
    "\n",
    "def golomb(n):\n",
    "    maxpos = n * n + 1 # optimale Länge stets < n^2\n",
    "    rulers = [] # Priority-queue\n",
    "    heapq.heappush(rulers, (0, [0]))  # Wurzelknoten\n",
    "    while len(rulers):\n",
    "        (minLen, ruler) = heapq.heappop(rulers) # momentan beste Teillösung\n",
    "        if len(ruler) == n:  # vollständig?\n",
    "            return (minLen,ruler) # Lösung, da es kein kleiners minLen gibt\n",
    "        for pos in range(ruler[-1] + 1, maxpos):  # die nächstgrößeren Positionen\n",
    "            newruler=ruler + [pos]  # Lineal erweitern\n",
    "            if validRuler(newruler):  # gültiges Lineal >> in Priority-Queue\n",
    "                heapq.heappush(rulers, (minLength(newruler, n), newruler))\n",
    "    return None\n",
    "\n",
    "for i in range(1, 8):\n",
    "    print(i, golomb(i))"
   ]
  }
 ],
 "metadata": {
  "kernelspec": {
   "display_name": "Python 3",
   "language": "python",
   "name": "python3"
  },
  "language_info": {
   "codemirror_mode": {
    "name": "ipython",
    "version": 3
   },
   "file_extension": ".py",
   "mimetype": "text/x-python",
   "name": "python",
   "nbconvert_exporter": "python",
   "pygments_lexer": "ipython3",
   "version": "3.6.3"
  }
 },
 "nbformat": 4,
 "nbformat_minor": 2
}
