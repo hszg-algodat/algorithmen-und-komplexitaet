{
 "cells": [
  {
   "cell_type": "markdown",
   "metadata": {},
   "source": [
    "# Greedy Algorithmen - Musterlösungen\n",
    "\n",
    "### 1.a) Greedy Näherungslösung des 0/1 Rucksackproblems\n",
    "\n",
    "Durch Weglassen des `else`-Zweigs (wo der Bruchteil hinzugefügt wird), läuft die Schleife bis alle Gegenstände geprüft wurden. Die Gegenstände mit dem höchsten spezifischen Wert werden dem Rucksack hinzugefügt, solange die Restkapazität es erlaubt."
   ]
  },
  {
   "cell_type": "code",
   "execution_count": 17,
   "metadata": {},
   "outputs": [
    {
     "name": "stdout",
     "output_type": "stream",
     "text": [
      "([(90, 1000)], 90, 1000)\n"
     ]
    }
   ],
   "source": [
    "import heapq # Priority Queue\n",
    "\n",
    "def greedyKnapsack(items, K):\n",
    "    sort = []\n",
    "    for item in items:\n",
    "        heapq.heappush(sort,(item[0]/item[1],item)) # Gewicht/Wert\n",
    "    knapsack = []\n",
    "    weight = 0\n",
    "    value = 0\n",
    "    while len(sort):\n",
    "        (sw,item) = heapq.heappop(sort)\n",
    "        if weight + item[0] <= K: # passt vollständig in den Rucksack\n",
    "            knapsack.append(item)\n",
    "            weight += item[0]\n",
    "            value += item[1]\n",
    "    return (knapsack, weight, value)\n",
    "\n",
    "items = [(90, 1000),(33, 350),(33, 350), (33, 350)] # (Gewicht, Wert)\n",
    "print(greedyKnapsack(items, 100))"
   ]
  },
  {
   "cell_type": "markdown",
   "metadata": {},
   "source": [
    "### 1.b) Vergleich mit Branch and Bound\n",
    "\n",
    "Der Branch and Bound Algorithmus löst das 0/1 Rucksackproblem."
   ]
  },
  {
   "cell_type": "code",
   "execution_count": 18,
   "metadata": {},
   "outputs": [
    {
     "name": "stdout",
     "output_type": "stream",
     "text": [
      "Best: ([(33, 350), (33, 350), (33, 350)], 99, 1050)\n"
     ]
    }
   ],
   "source": [
    "import heapq # Priority Queue\n",
    "\n",
    "def bnbKnapsack(items, K):\n",
    "    # Sortierung der Gegenstände nach Gewicht pro Werteinheit (kleiner ist besser)\n",
    "    sortedItems = sorted(items, key=lambda x: x[0] / x[1])\n",
    "    bestKS = []  # [0,1,1,0] heißt das item1 und 2 enthalten sind und item0 und 3 nicht, anfangs leer\n",
    "    # Hilfsfunktion zur Bestimmung des Rucksackwerts\n",
    "    def ksValue(ks): return sum([sortedItems[i][1] if ks[i] == 1 else 0 for i in range(len(ks))])\n",
    "    # Hilfsfunktion zur Bestimmung des Rucksackgewichts\n",
    "    def ksWeight(ks): return sum([sortedItems[i][0] if ks[i] == 1 else 0 for i in range(len(ks))])\n",
    "    # Hilfsfunktion zur Bestimmung des maximal erreichbaren Rucksackwerts\n",
    "    def limit(ks): return ksValue(ks)+(K-ksWeight(ks))*sortedItems[len(ks)][1]/sortedItems[len(ks)][0]\n",
    "\n",
    "    knapsacks = []  # die aktuellen Knoten, sortiert nach maximal erreichbarem Rucksackwert\n",
    "    heapq.heappush(knapsacks, (1 / limit([]), []))  # Wurzel ist der leere Rucksack\n",
    "    while len(knapsacks): # solange es Knoten zu prüfen gibt\n",
    "        ks = heapq.heappop(knapsacks)[1]  # Knoten mit dem höchsten erreichbaren Rucksackwert als nächstes\n",
    "        for x in [0,1]: # Expandieren zu 2 neuen Knoten\n",
    "            expanded = ks + [x]\n",
    "            if ksWeight(expanded) <= K:  # Kapazitätsgrenze noch nicht überschritten\n",
    "                best = ksValue(bestKS) # momentan bester Rucksack\n",
    "                if len(expanded) < len(sortedItems):  # noch kein vollständiger Rucksack\n",
    "                    m = limit(expanded) # maximal zu erreichender Wert\n",
    "                    if m > best:  # könnte ein besserer Rucksack erzielt werden?\n",
    "                        heapq.heappush(knapsacks, (1 / m, expanded))\n",
    "                if best < ksValue(expanded):  # besser?\n",
    "                    bestKS = expanded\n",
    "    ks = [sortedItems[i] for i in range(len(bestKS)) if bestKS[i]]\n",
    "    return (ks, ksWeight(bestKS), ksValue(bestKS))\n",
    "\n",
    "print(\"Best:\",bnbKnapsack(items, 100))"
   ]
  },
  {
   "cell_type": "markdown",
   "metadata": {},
   "source": [
    "Zum Vergleich der Laufzeiten und Ergebnisse werden zufällige Rucksackprobleme benötigt."
   ]
  },
  {
   "cell_type": "code",
   "execution_count": 19,
   "metadata": {},
   "outputs": [
    {
     "name": "stdout",
     "output_type": "stream",
     "text": [
      "([(16, 63), (27, 69), (27, 27), (44, 52)], 91)\n"
     ]
    }
   ],
   "source": [
    "import random\n",
    "import math\n",
    "\n",
    "def generateKnapsackParameters(n):\n",
    "    sumw = 0 # Summe aller generierten Gewichte\n",
    "    items = [] # generierte Gegenstände\n",
    "    for i in range(n):\n",
    "        value = random.randint(1,100)\n",
    "        weight = random.randint(1,100)\n",
    "        sumw += weight\n",
    "        items.append((weight,value))\n",
    "    return (items, math.floor(sumw*0.8)) # Kapazität bei 80% des Gesamtgewichts\n",
    "\n",
    "print(generateKnapsackParameters(4))"
   ]
  },
  {
   "cell_type": "markdown",
   "metadata": {},
   "source": [
    "Die beiden Algorithmen werden auf dasselbe Problem angewendet. Dabei wird die Laufzeit gemessen und der erreichte Rucksackwert ermittelt. Eine mehrfache Wiederholung bewirkt, dass ungünstige Zufallssituationen das Gesamtergebnis nicht verfälschen. Die Summen der jeweils benötigten Zeiten und der gefundenen Rucksackwerte stellen das Testergebnis dar."
   ]
  },
  {
   "cell_type": "code",
   "execution_count": 26,
   "metadata": {},
   "outputs": [
    {
     "name": "stdout",
     "output_type": "stream",
     "text": [
      "Greedy: 96126 in 0.001997232437133789\n",
      "BnB: 96352 in 7.929816246032715\n"
     ]
    }
   ],
   "source": [
    "import time\n",
    "\n",
    "def runTest(alg1, alg2, n, numOfRuns):\n",
    "    time1 = 0\n",
    "    time2 = 0\n",
    "    sum1 = 0\n",
    "    sum2 = 0\n",
    "    for i in range(numOfRuns):\n",
    "        (items, K) = generateKnapsackParameters(n)\n",
    "        tstart = time.time()\n",
    "        sum1 += alg1(items, K)[2]\n",
    "        time1 += time.time()-tstart\n",
    "        tstart = time.time()\n",
    "        sum2 += alg2(items, K)[2]\n",
    "        time2 += time.time()-tstart\n",
    "    return (time1, sum1, time2, sum2)\n",
    "\n",
    "(greedyTime, greedyValue, bnbTime, bnbValue) = runTest(greedyKnapsack,bnbKnapsack, 20, 50)\n",
    "print(\"Greedy:\",greedyValue, \"in\", greedyTime)\n",
    "print(\"BnB:\",bnbValue, \"in\", bnbTime)"
   ]
  },
  {
   "cell_type": "code",
   "execution_count": 55,
   "metadata": {},
   "outputs": [
    {
     "data": {
      "image/png": "[encoded data removed]",
      "text/plain": [
       "<Figure size 864x216 with 2 Axes>"
      ]
     },
     "metadata": {},
     "output_type": "display_data"
    }
   ],
   "source": [
    "import matplotlib.pyplot as plt\n",
    "\n",
    "sizes = []\n",
    "timeGreedy = []\n",
    "timeBnB = []\n",
    "valueGreedy = []\n",
    "valueBnB = []\n",
    "for n in range(3,13):\n",
    "    (gTime, gValue, bTime, bValue) = runTest(greedyKnapsack,bnbKnapsack, n, 10)\n",
    "    sizes.append(n)\n",
    "    timeGreedy.append(gTime)\n",
    "    timeBnB.append(bTime)\n",
    "    valueGreedy.append(gValue)\n",
    "    valueBnB.append(bValue)\n",
    "\n",
    "plt.rcParams[\"figure.figsize\"] = (12,3)\n",
    "\n",
    "ax = plt.subplot(1,2,1)\n",
    "ax.plot(sizes, timeGreedy, label=\"Greedy\");\n",
    "ax.plot(sizes, timeBnB, label=\"Branch and Bound\");\n",
    "ax.set_ylabel(\"Runtime (s)\")\n",
    "l1 = ax.legend()\n",
    "\n",
    "ax2 = plt.subplot(1,2,2)\n",
    "ax2.plot(sizes, valueGreedy, label=\"Greedy\");\n",
    "ax2.plot(sizes, valueBnB, label=\"Branch and Bound\");\n",
    "ax2.set_ylabel(\"Sum of knapsack-value\")\n",
    "l2 = ax2.legend()"
   ]
  },
  {
   "cell_type": "markdown",
   "metadata": {},
   "source": [
    "Durch die grafische Aufbereitung wird auf den ersten Blick ersichtlich, dass der Greedy Algorithmus deutlich effizienter ist und dass die Näherung nur wenig schlechter ist als die exakte Lösung. Dies sind die Gründe warum Greedy Algorithmen in der Praxis sehr häufig Anwendung finden."
   ]
  },
  {
   "cell_type": "markdown",
   "metadata": {},
   "source": [
    "### 2.c) Wie kommt Heiko am besten zu Ricarda?\n",
    "\n",
    "Die verschiedenen Personen stellen die Knoten eines Graphen dar. Kennen sich zwei Personen werden die entsprechenden Knoten durch eine Kante verbunden. Der Bekanntschaftsgrad bestimmt das Gewicht einer Kante (flüchtig = 1, gut = 2). Der entstehende Graph kann als Entfernungsmatrix angegeben und vom Dijkstra Algorithmus gelöst werden."
   ]
  },
  {
   "cell_type": "code",
   "execution_count": 71,
   "metadata": {},
   "outputs": [
    {
     "name": "stdout",
     "output_type": "stream",
     "text": [
      "['Heiko', 'Sandra', 'Alex', 'Maik', 'Ricarda'] 5\n"
     ]
    }
   ],
   "source": [
    "inf = float(\"inf\")\n",
    "def shortestPathDijkstra(matrix, start, end):\n",
    "    # für alle Knoten (Distanz, (Knotenindex, Vorgängerknoten)\n",
    "    # Distanz = inf außer beim Start-Knoten, Vorgänger=None\n",
    "    nodes = [(inf if i != start else 0, (i, None)) for i in range(len(matrix))]\n",
    "    heapq.heapify(nodes)  # Heap-sortiert nach Distanz\n",
    "    while len(nodes):  # Solange es nicht verarbeitete Knoten gibt\n",
    "        n = heapq.heappop(nodes)  # Knoten mit der geringsten Distanz\n",
    "        if n[1][0] == end:  # Index des Endknoten erreicht?\n",
    "            result = [n[1][0]]  # Weg endet mit Endknoten\n",
    "            r = n[1][1]  # Vorgänger auf dem Weg zum Endknoten\n",
    "            while r:  # solange es noch Vorgänger gibt\n",
    "                result = [r[0]] + result  # Weg um Vorgänger erweitern\n",
    "                r = r[1]  # dessen Vorgänger ermitteln\n",
    "            return (result, n[0])  # (Weg von start zu end, Länge)\n",
    "        nextnodes = []  # Update der übrigen Knoten\n",
    "        for nn in nodes:  # für alle noch nicht verarbeiteten Knoten\n",
    "            if n[0] + matrix[n[1][0]][nn[1][0]] < nn[0]:  # kürzer von start zu nn?\n",
    "                # Distanz und Vorgänger aktualisieren\n",
    "                heapq.heappush(nextnodes, (n[0] + matrix[n[1][0]][nn[1][0]], (nn[1][0], n[1])))\n",
    "            else: # anderenfalls unverändert in priority-queue übernehmen\n",
    "                heapq.heappush(nextnodes, nn)\n",
    "        nodes = nextnodes # aktualisierte Knoten für den nächsten Durchlauf\n",
    "    return \"bad input\"\n",
    "\n",
    "relations = [\n",
    "    (\"Frank\", \"Alex\", 2),(\"Frank\", \"Ina\", 1),\n",
    "    (\"Alex\", \"Maik\", 2),(\"Alex\", \"Sandra\", 1),\n",
    "    (\"Ina\", \"Maik\", 1),(\"Ina\", \"Nicole\", 1),(\"Ina\", \"Ricarda\", 2),\n",
    "    (\"Maik\", \"Ricarda\", 1),(\"Maik\", \"Nicole\", 2),\n",
    "    (\"Sandra\", \"Nicole\", 2),(\"Sandra\", \"Heiko\", 1)\n",
    "]\n",
    "\n",
    "persons = set()\n",
    "for r in relations:\n",
    "    persons.add(r[0])\n",
    "    persons.add(r[1])\n",
    "persons = list(persons)\n",
    "    \n",
    "matrix = [[inf for _ in persons] for _ in persons]\n",
    "for r in relations:\n",
    "    i1 = persons.index(r[0])\n",
    "    i2 = persons.index(r[1])\n",
    "    matrix[i1][i2] = matrix[i2][i1] = r[2]\n",
    "\n",
    "path = shortestPathDijkstra(matrix, persons.index(\"Heiko\"), persons.index(\"Ricarda\"))\n",
    "result = [persons[p] for p in path[0]]\n",
    "print(result, path[1])\n",
    "    "
   ]
  },
  {
   "cell_type": "markdown",
   "metadata": {},
   "source": [
    "### 3.a) Algorithmus von Kruskal\n",
    "\n",
    "Die Idee von Kruskal ist, einfach die Kanten aufsteigend nach ihrem Gewicht zu durchlaufen und diese nacheinander dem Spannbaum hinzuzufügen. Die Kante (a,b) mit dem geringsten Gewicht initialisiert einen ersten Teilspannbaum [a,b]. Wird als nächstes eine Kante (b,c) hinzugefügt (b ist im Teilspannbaum enthalten und c nicht) dann kann das Teilergebnis einfach erweitert werden zu [a,b,c]. Sollte jedoch eine Kante (x,y) hinzugefügt werden, dann entstünde ein neuer Teilspannbaum [x,y]. Erst durch die spätere Hinzunahme der Kante (a,x), (a,y), (b,x) oder (b,y) könnten die beiden Teilspannbäume zu [a,b,x,y] kombiniert werden. Demnach werden hier solange Kanten zum Ergebnis hinzugefügt, bis alle hinzugefügten Kanten einen Verbund ergeben."
   ]
  },
  {
   "cell_type": "code",
   "execution_count": 74,
   "metadata": {},
   "outputs": [
    {
     "name": "stdout",
     "output_type": "stream",
     "text": [
      "(11, [(1, 4), (0, 2), (2, 3), (1, 3)])\n"
     ]
    }
   ],
   "source": [
    "inf = float(\"inf\")\n",
    "distanceMatrix = [\n",
    "    #nach A ,  B ,  C ,  D ,  E\n",
    "    [inf,  11,   2, inf, inf],  # von A\n",
    "    [11, inf, inf,   5,   1],  # von B\n",
    "    [2, inf, inf,   3, inf],  # von C\n",
    "    [inf,   5,   3, inf,   8],  # von D\n",
    "    [inf,   1, inf,   8, inf]  # von E\n",
    "]\n",
    "\n",
    "def kruskalMinSpanTree(matrix):\n",
    "    n = len(matrix)\n",
    "    edges = [] # Kantenermittlung aus Matrix \n",
    "    for i in range(n):\n",
    "        for j in range(n):\n",
    "            if matrix[i][j] != inf:\n",
    "                edges.append((matrix[i][j], (i, j)))\n",
    "    edges.sort() # Sortierung nach Kantengewicht\n",
    "    \n",
    "    nodesets = [] # Array von sets mit Knoten der Teilbäume\n",
    "    def inNodeset(p, sets): # Set-Index in dem p enthalten ist\n",
    "        for i in range(len(sets)):\n",
    "            if p in sets[i]:\n",
    "                return i\n",
    "        return -1\n",
    "    \n",
    "    mintree = []\n",
    "    minlength = 0\n",
    "    while len(edges):\n",
    "        e = edges.pop(0) # kürzeste Kante\n",
    "        ept = e[1] # (von-Knoten, bis-Knoten)\n",
    "        i1 = inNodeset(ept[0], nodesets)\n",
    "        i2 = inNodeset(ept[1], nodesets)\n",
    "        if i1 == i2:\n",
    "            if i1 == -1: # beide Knoten noch nicht im Minimalbaum\n",
    "                nodesets.append(set([ept[0],ept[1]])) # neues Knoten-Set\n",
    "            else: # beide Kantenenden befinden sich im gleichen Set\n",
    "                continue  # Kante zwischen den Knoten bereits drin oder Kreis\n",
    "        else: \n",
    "            if i1 == -1: # bis-Knoten ist in Set i2\n",
    "                nodesets[i2].add(ept[0]) # von-Knoten kommt dort hinzu\n",
    "            elif i2 == -1: # von-Knoten ist in Set i1\n",
    "                nodesets[i1].add(ept[1]) # bis-Knoten kommt dort hinzu\n",
    "            else: # Kante verbindet 2 Teilbäume\n",
    "                for p in nodesets[i1]: # alle Knoten aus Set i1\n",
    "                    nodesets[i2].add(p) # kommen in Set i2\n",
    "                nodesets.pop(i1) # Set i1 wird entfernt\n",
    "        mintree.append(ept) # Kante ist Teil des minimalen Spannbaums\n",
    "        minlength += e[0] # Länge des Spannbaums wird erweitert\n",
    "    if len(nodesets) > 1: # es gibt mehr als einen minimalen Spannbaum\n",
    "        return \"Not connected\" # der Graph ist nicht verbunden\n",
    "    return (minlength, mintree)\n",
    "        \n",
    "\n",
    "print(kruskalMinSpanTree(distanceMatrix))\n"
   ]
  },
  {
   "cell_type": "markdown",
   "metadata": {},
   "source": [
    "### 3.b) Algorithmus von Prim\n",
    "\n",
    "Der Algorithmus von Prim geht ganz ähnlich vor wie der von Dijkstra bei der Suche nach der kürzesten Distanz. Ausgehend von einem beliebigen Startknoten werden dessen Verbindungen solange als Kandidaten für den minimalen Spannbaum gehandelt, bis deren Zugehörigkeit feststeht. Im Gegensatz zum Dijkstra-Algorithmus müssen hier alle Knoten durchlaufen werden (Dijkstra kann bei Erreichen des Zielknotens vorzeitig beendet werden). Außerdem wird an jedem Knoten der kürzeste Weg zum Vorgänger hinterlegt (nicht wie bei Dijkstra der kürzeste Weg zum Startknoten). So wird nach und nach jedem Knoten der Vorgänger-Knoten mit kürzester Distanz zugeordnet. Die so entstehenden Kanten beschreiben den minimalen Spannbaum"
   ]
  },
  {
   "cell_type": "code",
   "execution_count": 73,
   "metadata": {},
   "outputs": [
    {
     "name": "stdout",
     "output_type": "stream",
     "text": [
      "(11, [(0, 2), (2, 3), (3, 1), (1, 4)])\n"
     ]
    }
   ],
   "source": [
    "def primMinSpanTree(matrix):\n",
    "    # für alle Knoten (Distanz, (Knotenindex, Vorgängerknoten)\n",
    "    # Distanz = inf außer beim Start-Knoten, Vorgänger=None\n",
    "    nodes = [(inf if i != 0 else 0, (i, None)) for i in range(len(matrix))]\n",
    "    heapq.heapify(nodes)  # Heap-sortiert nach Distanz\n",
    "    mintree = []\n",
    "    minlength = 0\n",
    "    while len(nodes):  # Solange es nicht verarbeitete Knoten gibt\n",
    "        n = heapq.heappop(nodes)  # Knoten mit der geringsten Distanz\n",
    "        nextnodes = []  # Update der übrigen Knoten\n",
    "        for nn in nodes:  # für alle noch nicht verarbeiteten Knoten\n",
    "            if matrix[n[1][0]][nn[1][0]] < nn[0]:  # kürzer von n zu nn?\n",
    "                # Distanz und Vorgänger von nn aktualisieren\n",
    "                heapq.heappush(nextnodes, (matrix[n[1][0]][nn[1][0]], (nn[1][0], n[1])))\n",
    "            else:  # anderenfalls unverändert in priority-queue übernehmen\n",
    "                heapq.heappush(nextnodes, nn)\n",
    "        nodes = nextnodes  # aktualisierte Knoten für den nächsten Durchlauf\n",
    "        if n[1][0] > 0: # außer beim Startknoten\n",
    "            parent = n[1][1]\n",
    "            mintree.append((parent[0], n[1][0])) # Kante von parent zu n\n",
    "            minlength += n[0] # \n",
    "    return (minlength, mintree)\n",
    "\n",
    "\n",
    "print(primMinSpanTree(distanceMatrix))"
   ]
  },
  {
   "cell_type": "markdown",
   "metadata": {},
   "source": [
    "### 3.c) Kruskal vs. Prim\n",
    "\n",
    "Die zufällige Erzeugung von Graphen erfolgt hier zunächst durch Erzeugen eines minimalen Spannbaums. Dieser hat die geringstmögliche Anzahl von Kanten bei gegebener Anzahl von Knoten. Dieser Minimalgraph wird nun sukzessive um weitere zufällige Kanten erweitert, sodass die gewünschte Kantenzahl erreicht wird."
   ]
  },
  {
   "cell_type": "code",
   "execution_count": 123,
   "metadata": {},
   "outputs": [
    {
     "name": "stdout",
     "output_type": "stream",
     "text": [
      "[[inf, 75, inf, inf, 50], [75, inf, 49, 89, inf], [inf, 49, inf, 100, inf], [inf, 89, 100, inf, 52], [50, inf, inf, 52, inf]]\n"
     ]
    }
   ],
   "source": [
    "def generateGraph(n, m, maxWeight=100):\n",
    "    m = max(n-1, min(m,n*(n-1)//2)) # zwischen n-1 und n(n-1)/2 Kanten möglich\n",
    "    matrix = [[inf for i in range(n)] for j in range(n)]\n",
    "    for i in range(1,n): # Min. Spannbaum erzeugen\n",
    "        j = math.floor(random.random()*i)\n",
    "        matrix[i][j] = matrix[j][i] = random.randint(1,maxWeight)\n",
    "        m -= 1\n",
    "    while m > 0: # um Kanten erweitern\n",
    "        i = math.floor(random.random()*n)\n",
    "        j = math.floor(random.random()*n)\n",
    "        if i == j or matrix[i][j] != inf: continue\n",
    "        matrix[i][j] = matrix[j][i] = random.randint(1,maxWeight)\n",
    "        m -= 1\n",
    "    return matrix\n",
    "\n",
    "print(generateGraph(5,6))\n"
   ]
  },
  {
   "cell_type": "code",
   "execution_count": 83,
   "metadata": {},
   "outputs": [
    {
     "name": "stdout",
     "output_type": "stream",
     "text": [
      "(0.26546740531921387, 0.15630078315734863)\n"
     ]
    }
   ],
   "source": [
    "def runTest(alg1, alg2, n,m, numOfRuns):\n",
    "    time1 = 0\n",
    "    time2 = 0\n",
    "    for i in range(numOfRuns):\n",
    "        matrix = generateGraph(n,m)\n",
    "        tstart = time.time()\n",
    "        alg1(matrix)\n",
    "        time1 += time.time()-tstart\n",
    "        tstart = time.time()\n",
    "        alg2(matrix)\n",
    "        time2 += time.time()-tstart\n",
    "    return (time1, time2)\n",
    "\n",
    "print(runTest(kruskalMinSpanTree,primMinSpanTree,100,500,100))"
   ]
  },
  {
   "cell_type": "markdown",
   "metadata": {},
   "source": [
    "Um zu prüfen welchen Einfluss die Anzahl Kanten auf die beiden Algorithmen hat, wird eine konkrete Knotenanzahl festgelegt und die Anzahl der Kanten variiert. In festen Schrittgrößen über den Bereich der möglichen Kantenzahl werden nun Graphen generiert und die Algorithmen auf diese angewendet."
   ]
  },
  {
   "cell_type": "code",
   "execution_count": 122,
   "metadata": {},
   "outputs": [
    {
     "data": {
      "image/png": "[encoded data removed]",
      "text/plain": [
       "<Figure size 432x216 with 1 Axes>"
      ]
     },
     "metadata": {},
     "output_type": "display_data"
    }
   ],
   "source": [
    "sizes = []\n",
    "timesK = []\n",
    "timesP = []\n",
    "n = 60\n",
    "for m in range(n,n*(n-1)//2,n):\n",
    "    (timeK, timeP) = runTest(kruskalMinSpanTree,primMinSpanTree, n, m, 10)\n",
    "    sizes.append(m)\n",
    "    timesK.append(timeK)\n",
    "    timesP.append(timeP)\n",
    "        \n",
    "plt.rcParams[\"figure.figsize\"] = (6,3)\n",
    "\n",
    "ax = plt.subplot()\n",
    "ax.plot(sizes, timesK, label=\"Kruskal\")\n",
    "ax.plot(sizes, timesP, label=\"Prim\")\n",
    "ax.set_ylabel(\"Runtime (s)\")\n",
    "ax.set_xlabel(\"Edges\")\n",
    "l1 = ax.legend()\n",
    "\n"
   ]
  },
  {
   "cell_type": "markdown",
   "metadata": {},
   "source": [
    "Es zeigt sich, dass der Algorithmus von Prim kaum von der Anzahl der Kanten abhängt."
   ]
  }
 ],
 "metadata": {
  "kernelspec": {
   "display_name": "Python 3",
   "language": "python",
   "name": "python3"
  },
  "language_info": {
   "codemirror_mode": {
    "name": "ipython",
    "version": 3
   },
   "file_extension": ".py",
   "mimetype": "text/x-python",
   "name": "python",
   "nbconvert_exporter": "python",
   "pygments_lexer": "ipython3",
   "version": "3.6.4"
  }
 },
 "nbformat": 4,
 "nbformat_minor": 2
}
