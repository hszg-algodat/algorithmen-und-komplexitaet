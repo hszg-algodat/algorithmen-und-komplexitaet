{
 "cells": [
  {
   "cell_type": "markdown",
   "metadata": {},
   "source": [
    "# Randomisierte Algorithmen - Musterlösungen\n",
    "\n",
    "### 1.a) Näherungslösung für bestimmte Integrale\n",
    "\n",
    "Ein Integral ist die Fläche unterhalb einer Kurve. Um die Größe dieser Fläche zu approximieren, kann das Prinzip zur Bestimmung von $\\pi$ via Zufallsregen adaptiert werden. Es muss nur ein Rechteck gefunden werden, welches durch die Kurve in zwei Flächen aufgetrennt wird. Die Gesamtfläche des Rechtecks kann leicht berechnet werden. Durch den Zufallsregen kann das Größenverhältnis der Teilflächen bestimmt werden. Damit werden die absoluten Größen der Teilflächen berechenbar."
   ]
  },
  {
   "cell_type": "code",
   "execution_count": 79,
   "metadata": {},
   "outputs": [
    {
     "data": {
      "text/plain": [
       "0.33301"
      ]
     },
     "execution_count": 79,
     "metadata": {},
     "output_type": "execute_result"
    }
   ],
   "source": [
    "import math\n",
    "import random\n",
    "\n",
    "def f_square(x):\n",
    "    return x*x\n",
    "\n",
    "def randomRainIntegral(f, xFrom, xTo, yMin, yMax, repeat):\n",
    "    cntBelow = 0\n",
    "    cntAll = 0\n",
    "    for i in range(repeat):\n",
    "        x = random.uniform(xFrom, xTo)\n",
    "        y = random.uniform(yMin, yMax)\n",
    "        if f(x) >= y:\n",
    "            cntBelow += 1\n",
    "        cntAll += 1\n",
    "    aRect = (xTo-xFrom)*(yMax-yMin)\n",
    "    return aRect * cntBelow/cntAll\n",
    "\n",
    "randomRainIntegral(f_square, 0, 1, 0, 1, 100000)\n"
   ]
  },
  {
   "cell_type": "markdown",
   "metadata": {},
   "source": [
    "### 1.b) Zufallsregen und empirische Analyse\n",
    "\n",
    "Bei den hier gezeigten Beispielen wurden zufällig Koordinaten generiert die *verregnet* wurden. Es können jedoch auch beliebige andere Dinge zufällig generiert werden (Graphen, Rucksackprobleme, ...). So wie die zufälligen Koordinaten als Eingabe für eine Funktion verwendet wurden, können natürlich auch Graphen oder Rucksackprobleme von bestimmten Algorithmen verarbeitet werden. Durch eine Funktion wird jeder x-Koordinate eine y-Koordinate zugeordnet. Analog wird einer konkreten Probleminstanz durch den Algorithmus, der auf diese angewendet wird, eine bestimmte Laufzeit zugeordnet. Eine einzelne Ausführung ist bei zufälligen Probleminstanzen oder Koordinaten relativ unzuverlässig. Durch mehrfache Ausführung kann das Ergebnis aber immer genauer spezifiziert werden.\n",
    "\n",
    "Im Prinzip kann die empirische Analyse eines Algorithmus durchaus als Zufallsregen angesehen werden, der die Laufzeit eines Algorithmus annähert."
   ]
  },
  {
   "cell_type": "markdown",
   "metadata": {},
   "source": [
    "### 2.a) Zellulärer Automat nach Regel 30\n",
    "\n",
    "Bei zellulären Automaten werden die Zellzustände mittels gewisser Regeln in ihren jeweiligen Zielzustand überführt. Die Regeln betrachten dabei immer nur die Zustände von Zellen in einem gewissen Umfeld. Ein eindimensionaler zellulärer Automat besteht aus einer einfachen Reihe von Zellen deren Zustand nur die Werte 0 oder 1 (bzw. schwarz oder weiß) annehmen kann. Die Folgereihe wird mittels einfacher Regeln aus der vorherigen abgeleitet. Regel 30 besagt, dass sich der Zustand der Folgezelle $F_i$ aus den Zuständen der Vorgängerzellen $(V_{i-1},V_i,V_{i+1})$ ergibt. Nur in den Fällen $(1,0,0)$, $(0,1,1)$, $(0,1,0)$ und $(0,0,1)$ ergibt sich $F_i=1$ (anderenfalls $F_i=0$)."
   ]
  },
  {
   "cell_type": "code",
   "execution_count": 26,
   "metadata": {},
   "outputs": [
    {
     "name": "stdout",
     "output_type": "stream",
     "text": [
      "□□□□□□□□□□■□□□□□□□□□□\n",
      "□□□□□□□□□■■■□□□□□□□□□\n",
      "□□□□□□□□■■□□■□□□□□□□□\n",
      "□□□□□□□■■□■■■■□□□□□□□\n",
      "□□□□□□■■□□■□□□■□□□□□□\n",
      "□□□□□■■□■■■■□■■■□□□□□\n",
      "□□□□■■□□■□□□□■□□■□□□□\n",
      "□□□■■□■■■■□□■■■■■■□□□\n",
      "□□■■□□■□□□■■■□□□□□■□□\n",
      "□■■□■■■■□■■□□■□□□■■■□\n",
      "■■□□■□□□□■□■■■■□■■□□■\n"
     ]
    }
   ],
   "source": [
    "def rule30(a):\n",
    "    x = a[-1]+a+a[0] # wrapping: letzte Zelle voran, erste ans Ende\n",
    "    b = \"\"\n",
    "    for i in range(1,len(x)-1):\n",
    "        p = x[i-1:i+2]\n",
    "        if p == \"■□□\" or p == \"□■■\" or p == \"□■□\" or p == \"□□■\":\n",
    "            b += \"■\"\n",
    "        else:\n",
    "            b += \"□\"\n",
    "    return b\n",
    "        \n",
    "a = \"□□□□□□□□□□■□□□□□□□□□□\"       \n",
    "print(a)\n",
    "for _ in range(len(a)//2):\n",
    "    a = rule30(a)        \n",
    "    print(a)\n"
   ]
  },
  {
   "cell_type": "markdown",
   "metadata": {},
   "source": [
    "### 2.b) Zufallszahlengenerator nach Regel 30\n",
    "\n",
    "Regel 30 ist dafür bekannt, dass die generierten Zustandsfolgen einen chaotischen Charakter haben. Sie scheinen also zufällig und es ist kein periodisches Verhalten erkennbar. Aus diesem Grund kann Regel 30 für die Generierung von Pseudozufallszahlen verwendet werden.\n",
    "\n",
    "Wie auch beim Kongruenzgenerator muss ein zufälliger Ausgangszustand (Seed) gewählt werden, denn bei gleichem Ausgangszustand wird immer die gleiche Zustandsfolge (Zufallszahlenfolge) berechnet. In folgendem Generator wird dazu die Systemzeit als initiale Binärfolge genutzt. Diese Binärfolge wird nun sukzessive mittels Regel 30 verändert. Betrachtet man das durch Regel 30 entstehende Muster fällt auf, dass die linke Seite des Dreiecks etwas regelmäßiger gestaltet ist als die rechte. Aus diesem Grund wird in der aktuellen Binärfolge rechts der Mitte die nächste 1 gesucht, 8 Binärzeichen extrahiert und zu einer natürlichen Zahl umgewandelt. Diese befindet sich wegen der führenden 1 im Intervall [128,255]. Durch Subtraktion von 128 wird das Ergebnisintervall [0,127] erreicht."
   ]
  },
  {
   "cell_type": "code",
   "execution_count": 100,
   "metadata": {
    "scrolled": true
   },
   "outputs": [
    {
     "name": "stdout",
     "output_type": "stream",
     "text": [
      "39\n",
      "55\n",
      "36\n",
      "123\n",
      "96\n",
      "17\n",
      "123\n",
      "2\n",
      "70\n",
      "44\n"
     ]
    }
   ],
   "source": [
    "def rule30bin(a):\n",
    "    x = a[-1]+a+a[0]\n",
    "    b = \"\"\n",
    "    for i in range(1,len(x)-1):\n",
    "        p = x[i-1:i+2]\n",
    "        if p == \"100\" or p == \"011\" or p == \"010\" or p == \"001\":\n",
    "            b += \"1\"\n",
    "        else:\n",
    "            b += \"0\"\n",
    "    return b\n",
    "\n",
    "import time\n",
    "seed = \"{0:b}\".format(math.floor(time.time()*100000))\n",
    "def r30random():\n",
    "    global seed\n",
    "    seed = rule30bin(seed)\n",
    "    i = len(seed)//2 # die erste 1 suchen\n",
    "    while seed[i] == \"0\": i += 1\n",
    "    return int(seed[i:i+8], 2)-128 # die nächsten 8 bits\n",
    "\n",
    "# 10 Zufallszahlen im Intervall [0,127]\n",
    "for _ in range(10):\n",
    "    print(r30random())\n",
    "    "
   ]
  },
  {
   "cell_type": "markdown",
   "metadata": {},
   "source": [
    "### 2.c) Empirische Analyse der Zufallszahlen\n",
    "\n",
    "Eine Zahl in einem vorgegebenen Bereich kann als Zufallszahl angesehen werden, wenn Sie in einer Stichprobe genauso häufig vorkommt wie jede andere Zahl aus diesem Bereich. Um das zu prüfen wird eine große Zahl von Zufallszahlen erzeugt und das Auftreten jeder einzelnen Zahl gezählt. Je mehr Zahlen generiert werden, umso ausgeglichener sollten die Anzahlen werden. Für den hier getesteten Zufallsgenerator bestätigt das die folgende Analyse."
   ]
  },
  {
   "cell_type": "code",
   "execution_count": 102,
   "metadata": {},
   "outputs": [
    {
     "name": "stdout",
     "output_type": "stream",
     "text": [
      "[763, 731, 820, 798, 760, 737, 809, 765, 801, 816, 769, 763, 773, 790, 778, 816, 804, 822, 746, 755, 794, 763, 775, 794, 771, 764, 723, 778, 769, 800, 785, 762, 787, 799, 759, 743, 758, 832, 748, 795, 841, 800, 766, 805, 777, 824, 797, 801, 771, 785, 799, 841, 746, 801, 732, 809, 762, 790, 796, 810, 803, 766, 738, 788, 790, 731, 811, 790, 766, 818, 785, 746, 783, 786, 746, 828, 812, 782, 790, 771, 779, 774, 811, 784, 770, 812, 809, 760, 806, 809, 773, 786, 782, 813, 777, 784, 764, 744, 739, 845, 768, 792, 802, 761, 795, 793, 788, 734, 761, 765, 769, 769, 752, 810, 739, 722, 808, 720, 785, 800, 807, 802, 799, 773, 791, 759, 744, 773]\n"
     ]
    },
    {
     "data": {
      "image/png": "[encoded data removed]",
      "text/plain": [
       "<Figure size 864x216 with 1 Axes>"
      ]
     },
     "metadata": {},
     "output_type": "display_data"
    }
   ],
   "source": [
    "cnt = [0 for _ in range(2**7)] # 128 Zähler\n",
    "for i in range(100000):\n",
    "    r = r30random()\n",
    "    cnt[r] += 1 # Zufallszahl zählen\n",
    "\n",
    "import matplotlib.pyplot as plt\n",
    "plt.rcParams[\"figure.figsize\"] = (12,3)\n",
    "c = plt.bar(range(1,len(cnt)+1), cnt, width=1)\n",
    "print(cnt)"
   ]
  },
  {
   "cell_type": "markdown",
   "metadata": {},
   "source": [
    "### 3.a) Quicksort vs. Quicksort\n",
    "\n",
    "Zur Gegenüberstellung können wie üblich Probleme verschiedener Größe generiert und den beiden Sortieralgorithmen übergeben werden."
   ]
  },
  {
   "cell_type": "code",
   "execution_count": 116,
   "metadata": {},
   "outputs": [
    {
     "data": {
      "image/png": "[encoded data removed]",
      "text/plain": [
       "<Figure size 432x216 with 1 Axes>"
      ]
     },
     "metadata": {},
     "output_type": "display_data"
    }
   ],
   "source": [
    "import random\n",
    "def quicksort(lst, lasVegas):\n",
    "    if len(lst) < 2:\n",
    "        return lst\n",
    "    if lasVegas:\n",
    "        pivot = random.choice(lst) # zufällige Auswahl eines Elements\n",
    "    else:\n",
    "        pivot = lst[0]\n",
    "    smaller = []\n",
    "    equal = []\n",
    "    larger = []\n",
    "    for i in range(0, len(lst)):\n",
    "        if lst[i] < pivot:\n",
    "            smaller.append(lst[i])\n",
    "        elif lst[i] > pivot:\n",
    "            larger.append(lst[i])\n",
    "        else:\n",
    "            equal.append(lst[i])\n",
    "    return quicksort(smaller, lasVegas) + equal + quicksort(larger, lasVegas)\n",
    "\n",
    "def getRandomList(n):\n",
    "    lst = list(range(n))\n",
    "    random.shuffle(lst)\n",
    "    return lst\n",
    "\n",
    "def compareQuicksort(n, genList, numOfRuns):\n",
    "    time1 = 0\n",
    "    time2 = 0\n",
    "    for i in range(numOfRuns):\n",
    "        lst = genList(n)\n",
    "        tstart = time.time()\n",
    "        quicksort(lst,False)\n",
    "        time1 += time.time()-tstart\n",
    "        tstart = time.time()\n",
    "        quicksort(lst,True)\n",
    "        time2 += time.time()-tstart\n",
    "    return (time1, time2)\n",
    "\n",
    "sizes = []\n",
    "times1 = []\n",
    "times2 = []\n",
    "for n in range(1, 10002, 1000):\n",
    "    (time1, time2) = compareQuicksort(n, getRandomList, 10)\n",
    "    sizes.append(n)\n",
    "    times1.append(time1)\n",
    "    times2.append(time2)\n",
    "    \n",
    "plt.rcParams[\"figure.figsize\"] = (6,3)\n",
    "ax = plt.subplot()\n",
    "ax.plot(sizes, times1, label=\"First\")\n",
    "ax.plot(sizes, times2, label=\"LasVegas\")\n",
    "ax.set_ylabel(\"Runtime (s)\")\n",
    "l1 = ax.legend()"
   ]
  },
  {
   "cell_type": "markdown",
   "metadata": {},
   "source": [
    "### 3.b) Standard schneller als Las-Vegas?\n",
    "\n",
    "Die Laufzeiten und deren Entwicklung unterscheiden sich nur wenig. Bei zufällig generierten Listen scheint jedoch das Standard-Quicksort stets schneller zu sein als die Las-Vegas-Variante. Das kann ganz einfach darauf zurückgeführt werden, dass bei zufällig sortierten Listen das Pivot-Element bereits zufällig ist und so Standard-Quicksort bereits wie Las-Vegas-Quicksort funktioniert. Der Laufzeitunterschied kommt nur dadurch zustande, dass in der Las-Vegas-Variante zusätzlich eine Zufallszahl generiert werden muss.\n",
    "\n",
    "### 3.c) Stärken von Las-Vegas\n",
    "\n",
    "Der zusätzliche Aufwand zur Erzeugung einer Zufallszahl wird schnell kompensiert, wenn die zu sortierende Liste schon in irgeneiner Weise zumindest zum Teil vorsortiert ist."
   ]
  },
  {
   "cell_type": "code",
   "execution_count": 166,
   "metadata": {},
   "outputs": [
    {
     "data": {
      "image/png": "[encoded data removed]",
      "text/plain": [
       "<Figure size 576x216 with 1 Axes>"
      ]
     },
     "metadata": {},
     "output_type": "display_data"
    }
   ],
   "source": [
    "def up(n): # 01234567\n",
    "    return list(range(n))\n",
    "\n",
    "def down(n): # 76543210\n",
    "    return list(reversed(range(n)))\n",
    "\n",
    "def updown(n): # 01237654\n",
    "    return list(range(n//2))+list(reversed(range(n//2,n)))\n",
    "\n",
    "def updownalt(n): #07254361\n",
    "    u = up(n)\n",
    "    d = down(n+1)\n",
    "    return [u[i] if i%2==0 else d[i] for i in range(n)]\n",
    "\n",
    "def uprandhalf(n): #01235746\n",
    "    u = up(n//2)\n",
    "    rand = list(range(n//2,n))\n",
    "    random.shuffle(rand)\n",
    "    return u + rand\n",
    "\n",
    "def uprandthird(n): #01235746\n",
    "    u = up(n//3)\n",
    "    rand = list(range(n//3,n))\n",
    "    random.shuffle(rand)\n",
    "    return u + rand\n",
    "\n",
    "def uprandquart(n): #01235746\n",
    "    u = up(n//4)\n",
    "    rand = list(range(n//4,n))\n",
    "    random.shuffle(rand)\n",
    "    return u + rand\n",
    "\n",
    "classes = [(\"up\",up),\n",
    "           (\"down\", down), \n",
    "           (\"updown\",updown),\n",
    "           (\"updownalt\",updownalt),\n",
    "           (\"uprandhalf\",uprandhalf),\n",
    "           (\"uprandthird\",uprandthird),\n",
    "           (\"uprandquart\",uprandquart)]\n",
    "index = range(len(classes))\n",
    "times1 = []\n",
    "times2 = []\n",
    "for c in classes:\n",
    "    (time1, time2) = compareQuicksort(500, c[1], 30)\n",
    "    sizes.append(n)\n",
    "    times1.append(time1)\n",
    "    times2.append(time2)\n",
    "\n",
    "plt.rcParams[\"figure.figsize\"] = (8,3)\n",
    "plt.bar(index, times1, label='First', width=0.4)\n",
    "plt.bar([i+0.4 for i in index], times2, label='Las Vegas', width=0.4)\n",
    "plt.xticks([i+0.2 for i in index], [c[0] for c in classes])\n",
    "plt.legend()\n",
    "plt.tight_layout()"
   ]
  },
  {
   "cell_type": "code",
   "execution_count": null,
   "metadata": {},
   "outputs": [],
   "source": []
  }
 ],
 "metadata": {
  "kernelspec": {
   "display_name": "Python 3",
   "language": "python",
   "name": "python3"
  },
  "language_info": {
   "codemirror_mode": {
    "name": "ipython",
    "version": 3
   },
   "file_extension": ".py",
   "mimetype": "text/x-python",
   "name": "python",
   "nbconvert_exporter": "python",
   "pygments_lexer": "ipython3",
   "version": "3.6.4"
  }
 },
 "nbformat": 4,
 "nbformat_minor": 2
}
