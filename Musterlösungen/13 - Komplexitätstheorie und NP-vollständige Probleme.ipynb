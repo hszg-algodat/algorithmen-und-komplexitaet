{
 "cells": [
  {
   "cell_type": "markdown",
   "metadata": {},
   "source": [
    "# Komplexitätstheorie und NP-vollständige Probleme\n",
    "\n",
    "#### 1. \n",
    "\n",
    "> a) Mit $X \\leqslant_p Y$ zeigt man, dass $Y$ mindestens so schwer wie $X$ ist. Um die NP-Schwere von $X$ zu zeigen, muss man aber zeigen, dass $X$ mindestens so schwer ist wie ein NP-vollständiges Problem $Y$.\n",
    "\n",
    "> Um zu zeigen, dass das Problem $X$ NP-vollständig ist, reicht es aus zu zeigen, dass $X$ in NP liegt und $Y \\leqslant_p X$ für ein NP-vollständiges Problem $Y$.\n",
    "\n",
    "> b) Da $X$ ein NP-vollständiges Problem ist, ist es mindestens so schwer wie das SAT-Problem. Gibt es für das SAT-Problem keinen effizienten Algorithmus, so gibt es auch keinen für das Problem $X$.\n",
    "\n",
    "> Es gibt kein NP-vollständiges Problem $X$, das mit einem effizienten deterministischen Algorithmus in Polynomialzeit gelöst werden kann, wenn es keinen deterministischen Polynomialzeit Algorithmus für das SAT-Problem gibt.\n",
    "\n",
    "> c) Mit $X \\leqslant_p SAT$ zeigt man, dass $SAT$ mindestens so schwer wie $X$ ist. Da $X$ NP-schwer ist, ist es mindestens so schwer wie ein NP-vollständiges Problem. Das SAT-Problem ist NP-vollständig. Deshalb lautet es korrekt:\n",
    "\n",
    "> Das SAT-Problem kann auf jedes NP-schwere Problem in Polynomialzeit reduziert werden.\n",
    "\n",
    "#### 2.\n",
    "\n",
    "> a) Gibt es eine Teilmenge eines Graphen $G = (E, V)$ mit $k$ Knoten, sodass jede Kante an einen Knoten dieser Teilmenge angrenzt?\n",
    "\n",
    "> b)"
   ]
  }
 ],
 "metadata": {
  "kernelspec": {
   "display_name": "Python 3",
   "language": "python",
   "name": "python3"
  },
  "language_info": {
   "codemirror_mode": {
    "name": "ipython",
    "version": 3
   },
   "file_extension": ".py",
   "mimetype": "text/x-python",
   "name": "python",
   "nbconvert_exporter": "python",
   "pygments_lexer": "ipython3",
   "version": "3.6.3"
  }
 },
 "nbformat": 4,
 "nbformat_minor": 2
}
