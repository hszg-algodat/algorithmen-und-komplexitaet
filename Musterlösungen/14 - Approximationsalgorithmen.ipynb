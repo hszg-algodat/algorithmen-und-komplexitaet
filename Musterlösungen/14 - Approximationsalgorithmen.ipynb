{
 "cells": [
  {
   "cell_type": "markdown",
   "metadata": {},
   "source": [
    "# Approximationsalgorithmen - Musterlösungen\n",
    "\n",
    "### 1.a) Golomb Lineal - Datenstruktur, Nachbarschafts- und Bewertungsfunktion\n",
    "\n",
    "Die einfachste Datenstruktur zur Repräsentation eines Golomb-Lineals ist ein Array, welches beginnend bei 0 in aufsteigender Reihenfolge die Marken des Lineals enthält. Die Größe des Arrays wird durch die gewünschte Ordnung festgelegt. Sind alle Array-Positionen gesetzt, ist das Lineal vollständig. Das letzte Array-Element definiert die aktuelle Länge. Das Golomb Lineal ist gültig, wenn alle Markendifferenzen unterschiedlich sind. \n",
    "\n",
    "Zunächst stellt sich die Frage, ob auch ungültige Golomb-Lineale als Kandidaten für die Weiterentwicklung in Frage kommen sollen. In diesem Fall muss die Nachbarschaftsfunktion so gestaltet sein, dass Sie nur gültige Nachbarn generiert. Das wiederum kann sehr aufwendig sein und sich so negativ auf die Laufzeit des Programms auswirken. Auch wird die Nachbarschaft sehr viel kleiner sein wodurch der Algorithmus evtl. sehr schnell ein lokales Maximum findet. Es ist durchaus möglich diese Strategie zu verfolgen, hier wird aber eine andere gewählt.\n",
    "\n",
    "Für das folgende Programm wird festgelegt, dass ein Kandidat immer vollständig ist und jede Marke stets größer ist als ihr Vorgänger. Die Nachbarschaftsfunktion bestimmt alle Lineale, die sich, unter Einhaltung dieser Prämissen, nur durch Verändern beliebiger Marken um +1 oder -1 bilden lassen. Die Bewertungsfunktion bestimmt die Anzahl der Konflikte und addiert diese zur aktuellen Länge. Die minimale Bewertung wird bei einem minimalen Golomb Lineal erreicht (aber nicht nur dann)."
   ]
  },
  {
   "cell_type": "code",
   "execution_count": 3,
   "metadata": {},
   "outputs": [
    {
     "name": "stdout",
     "output_type": "stream",
     "text": [
      "[0, 1, 3, 4] 12\n",
      "----------------\n",
      "[0, 2, 3, 4] 12\n",
      "[0, 2, 4, 5] 7\n",
      "[0, 2, 3, 5] 13\n",
      "[0, 1, 2, 4] 12\n",
      "[0, 1, 2, 3] 21\n",
      "[0, 1, 2, 5] 7\n",
      "[0, 1, 4, 5] 13\n",
      "[0, 1, 3, 5] 7\n"
     ]
    }
   ],
   "source": [
    "def neighbors(ruler):\n",
    "    n = len(ruler)  # Anzahl der Marken\n",
    "    def rec(ruler, i):\n",
    "        if ruler[i] > ruler[i-1]+1:  # genug Platz zum Vorgänger\n",
    "            r = ruler[:i]+[ruler[i]-1]+ruler[i+1:] # Stelle i --\n",
    "            yield r\n",
    "            if i < n-1: # wenn es nicht die letzte Stelle ist\n",
    "                yield from rec(r, i+1) # rekursiv weiter\n",
    "        if ruler[i] < n*n and (i == n-1 or ruler[i] <= ruler[i+1]-1):  # genug Platz zum Nachfolger\n",
    "            r = ruler[:i]+[ruler[i]+1]+ruler[i+1:] # Stelle i ++\n",
    "            if i == n-1 or r[i] < r[i+1]: # Nur wenn die Folgestelle größer ist\n",
    "                yield r # als Nachbar liefern\n",
    "            if i < n-1: # wenn es nicht die letzte Stelle ist\n",
    "                yield from rec(r, i+1) # rekursiv weiter\n",
    "        if i < n-1 and ruler[i-1] < ruler[i]: # wenn Vorgänger nicht gleich\n",
    "            yield from rec(ruler, i+1) # rekursiv mit unveränderter Stelle i weiter\n",
    "    yield from rec(ruler, 1)\n",
    "\n",
    "memo = {} # memoizing\n",
    "def evaluate(ruler):\n",
    "    s = str(ruler)\n",
    "    if s in memo: # wurde schon mal bewertet\n",
    "        return memo[s] # gespeicherte Bewertung nehmen\n",
    "    diff = set() # Differenzen\n",
    "    c = 0 # Anzahl der Konflikte\n",
    "    for i in ruler: # für jede Markierung\n",
    "        for j in ruler: # und jede Markierung davor\n",
    "            if i == j: break\n",
    "            d = i - j # Differenz berechnen\n",
    "            if d in diff: # gibt es diese Differenz schon?\n",
    "                c += 1 # Konflikt zählen\n",
    "            else:\n",
    "                diff.add(d) # Differenz merken\n",
    "    res = 2*c*c+ruler[-1] # 2*c*c >> Fehler verstärken\n",
    "    memo[s] = res # Ergebnis merken\n",
    "    return res\n",
    "\n",
    "r = [0,1,3,4]\n",
    "print(r,evaluate(r))\n",
    "print(\"----------------\")\n",
    "for nb in neighbors(r):\n",
    "    print(nb,evaluate(nb))\n"
   ]
  },
  {
   "cell_type": "markdown",
   "metadata": {},
   "source": [
    "### 1.b) Golomb Lineal - Hill Climbing\n",
    "\n",
    "In einem Hill Climbing Algorithmus muss nur unter den Nachbarn nach dem besten Kandidaten gesucht werden. Ist dieser schlechter als der aktuelle Kandidat steht das Ergebnis fest. Anderenfalls wird der bessere Kandidat der gleichen Prozedur unterzogen."
   ]
  },
  {
   "cell_type": "code",
   "execution_count": 7,
   "metadata": {},
   "outputs": [
    {
     "name": "stdout",
     "output_type": "stream",
     "text": [
      "[0, 1, 2, 3] \t>> ([0, 2, 5, 6], 6)\n",
      "[0, 5, 25, 48] \t>> ([0, 2, 5, 6], 6)\n",
      "----------------------------------------\n",
      "[0, 2, 9, 12]  >>  ([0, 2, 5, 6], 6)\n",
      "[0, 3, 4, 7, 18]  >>  ([0, 2, 7, 8, 11], 11)\n",
      "[0, 2, 7, 11, 18, 35]  >>  ([0, 3, 11, 13, 17, 18], 18)\n",
      "[0, 12, 14, 17, 26, 29, 48]  >>  ([0, 11, 14, 18, 24, 26, 43], 43)\n",
      "[0, 16, 26, 27, 29, 46, 57, 59]  >>  ([0, 18, 24, 25, 29, 45, 55, 57], 57)\n",
      "[0, 4, 11, 17, 34, 38, 44, 75, 78]  >>  ([0, 3, 11, 17, 30, 32, 42, 65, 66], 66)\n"
     ]
    }
   ],
   "source": [
    "import random\n",
    "\n",
    "def golombHill(ruler):\n",
    "    global memo\n",
    "    memo = {} # Memoizer zurücksetzen\n",
    "    minEval = evaluate(ruler) # momentan bestes Ergebnis\n",
    "    while True:\n",
    "        r = None\n",
    "        rmin = minEval\n",
    "        nbs = list(neighbors(ruler)) # Nachbarn ermitteln\n",
    "        random.shuffle(nbs) # Zufällige Reihenfolge der Nachbarn\n",
    "        for nb in nbs: # Alle Nachbarn prüfen\n",
    "            m = evaluate(nb) # Bewertung\n",
    "            if m < rmin: # besser als momentan bestes Ergebnis\n",
    "                r = nb # Nachbar übernehmen\n",
    "                rmin = m # Bewertung übernehmen\n",
    "        if r: # Es gab eine Verbesserung\n",
    "            minEval = rmin # als momentan bestes Ergebnis übernehmen\n",
    "            ruler = r\n",
    "        else: # Keine Verbesserung >> Ergebnis steht fest\n",
    "            return (ruler, minEval)\n",
    "\n",
    "print([0,1,2,3],\"\\t>>\",golombHill([0,1,2,3]))\n",
    "print([0,5,25,48],\"\\t>>\",golombHill([0,5,25,48]))\n",
    "print(\"----------------------------------------\")\n",
    "def randomRuler(n):\n",
    "    return [0] + sorted(random.sample(range(1,n*n+1),n-1))\n",
    "\n",
    "for i in range(4,10):\n",
    "    r = randomRuler(i)\n",
    "    print(r,\" >> \",golombHill(r))"
   ]
  },
  {
   "cell_type": "markdown",
   "metadata": {},
   "source": [
    "### 1.c) Golomb Lineal - Plateau Search\n",
    "\n",
    "Schaut man sich die Zwischenschritte von `golombHill` an wird klar, dass die Bewertungsfunktion nicht optimal für Hill Climbing ist. Es gibt zumeist mehrere Lineale mit der gleichen Bewertung die evtl. weiterverfolgt werden sollten."
   ]
  },
  {
   "cell_type": "code",
   "execution_count": 8,
   "metadata": {},
   "outputs": [
    {
     "name": "stdout",
     "output_type": "stream",
     "text": [
      "[0, 1, 2, 3] \t>> ([0, 2, 5, 6], 6)\n",
      "[0, 5, 25, 48] \t>> ([0, 4, 5, 7], 7)\n",
      "----------------------------------------\n",
      "[0, 1, 4, 6]  >>  ([0, 2, 5, 6], 6)\n",
      "[0, 8, 9, 14, 22]  >>  ([0, 5, 9, 11, 12], 12)\n",
      "[0, 1, 13, 26, 29, 34]  >>  ([0, 2, 8, 15, 18, 19], 19)\n",
      "[0, 10, 11, 14, 15, 27, 29]  >>  ([0, 8, 10, 13, 17, 28, 29], 29)\n",
      "[0, 5, 13, 15, 20, 36, 53, 58]  >>  ([0, 2, 8, 12, 19, 28, 41, 42], 42)\n",
      "[0, 9, 13, 15, 19, 54, 63, 69, 76]  >>  ([0, 11, 12, 14, 18, 37, 46, 54, 59], 59)\n"
     ]
    }
   ],
   "source": [
    "def golombPlateau(ruler):\n",
    "    global memo\n",
    "    memo = {} # Memoizer zurücksetzen\n",
    "    minEval = evaluate(ruler) # momentan bestes Ergebnis\n",
    "    tabu = set() # Tabu-Liste\n",
    "    while True:\n",
    "        tabu.add(str(ruler)) # aktuelles Element in Tabu-Liste\n",
    "        r = None\n",
    "        rmin = minEval # momentan beste Bewertung\n",
    "        nbs = list(neighbors(ruler)) # Nachbarn ermitteln\n",
    "        random.shuffle(nbs) # Zufällige Reihenfolge der Nachbarn\n",
    "        for nb in nbs: # Alle Nachbarn prüfen\n",
    "            if str(nb) in tabu:\n",
    "                continue # Tabu-Nachbarn ignorieren\n",
    "            m = evaluate(nb) # Bewertung\n",
    "            if m <= rmin: # besser oder gleich gut\n",
    "                r = nb # übernehmen\n",
    "                rmin = m\n",
    "        if r: # Es gab eine Verbesserung oder einen gleich guten Kandidaten\n",
    "            minEval = rmin # übernehmen\n",
    "            ruler = r\n",
    "        else: # Keine mindestens gleich guter Kandidat mehr\n",
    "            return (ruler, minEval) # Ergebnis steht fest\n",
    "        \n",
    "print([0,1,2,3],\"\\t>>\",golombPlateau([0,1,2,3]))\n",
    "print([0,5,25,48],\"\\t>>\",golombPlateau([0,5,25,48]))\n",
    "print(\"----------------------------------------\")\n",
    "for i in range(4,10):\n",
    "    r = randomRuler(i)\n",
    "    print(r,\" >> \",golombPlateau(r))"
   ]
  },
  {
   "cell_type": "markdown",
   "metadata": {},
   "source": [
    "### 1.d) Golomb Lineal - Threshold Accepting\n",
    "\n",
    "Mit `golombPlateau` scheinen die Ergebisse besser zu werden. Jedoch wird auch für relative kleine Lineale oft nicht die Lösung gefunden. Durch Threshold Accepting werden die Möglichkeiten des Weiterverfolgens erweitert."
   ]
  },
  {
   "cell_type": "code",
   "execution_count": 9,
   "metadata": {},
   "outputs": [
    {
     "name": "stdout",
     "output_type": "stream",
     "text": [
      "[0, 1, 2, 3] \t>> ([0, 1, 4, 6], 6)\n",
      "[0, 5, 25, 48] \t>> ([0, 2, 5, 6], 6)\n",
      "----------------------------------------\n",
      "[0, 2, 4, 16] >> ([0, 1, 4, 6], 6)\n",
      "[0, 10, 13, 19, 25] >> ([0, 3, 7, 8, 9], 11)\n",
      "[0, 3, 16, 19, 30, 36] >> ([0, 1, 8, 12, 14, 17], 17)\n",
      "[0, 8, 16, 22, 27, 30, 33] >> ([0, 4, 9, 15, 22, 23, 25], 25)\n",
      "[0, 10, 16, 39, 41, 43, 44, 55] >> ([0, 12, 20, 27, 33, 36, 37, 38], 40)\n",
      "[0, 6, 7, 13, 40, 41, 43, 64, 77] >> ([0, 1, 5, 12, 30, 33, 39, 47, 49], 49)\n"
     ]
    }
   ],
   "source": [
    "thresholdTA = 8 # Akzeptabler Grenzwert\n",
    "degradeTA = 0.95 # Absenkung des Grenzwerts\n",
    "def golombThresholdAccepting(ruler):\n",
    "    global memo\n",
    "    memo = {} # Memoizer zurücksetzen\n",
    "    t = thresholdTA\n",
    "    curEval = evaluate(ruler) # momentan bestes Ergebnis\n",
    "    bestEval = curEval\n",
    "    bestRuler = ruler\n",
    "    tabu = set() # Tabu-Liste\n",
    "    while True:\n",
    "        if curEval < bestEval: # aktueller Kandidat besser?\n",
    "            bestEval = curEval # übernehmen\n",
    "            bestRuler = ruler\n",
    "        tabu.add(str(ruler)) # aktuelles Element in Tabu-Liste\n",
    "        r = None\n",
    "        rmin = bestEval+t # + akzeptable Verschlechterung\n",
    "        if t > 0:\n",
    "            t *= degradeTA\n",
    "        nbs = list(neighbors(ruler)) # Nachbarn ermitteln\n",
    "        random.shuffle(nbs) # Zufällige Reihenfolge der Nachbarn\n",
    "        for nb in nbs: # Alle Nachbarn prüfen\n",
    "            if str(nb) in tabu:\n",
    "                continue # Tabu-Elemente ignorieren\n",
    "            m = evaluate(nb) # Bewertung\n",
    "            if m <= rmin: # Besser oder akzeptabel schlechter\n",
    "                r = nb # übernehmen\n",
    "                rmin = m\n",
    "        if r: # besserer oder akzeptabel schlechterer Kandidat\n",
    "            curEval = rmin # übernehmen\n",
    "            ruler = r\n",
    "        else: # Kein akzeptabler Kandidat mehr\n",
    "            return (bestRuler, bestEval) # Ergebnis steht fest\n",
    "        \n",
    "print([0,1,2,3],\"\\t>>\",golombThresholdAccepting([0,1,2,3]))\n",
    "print([0,5,25,48],\"\\t>>\",golombThresholdAccepting([0,5,25,48]))\n",
    "print(\"----------------------------------------\")\n",
    "for i in range(4,10):\n",
    "    r = randomRuler(i)\n",
    "    print(r,end=\" >> \")\n",
    "    print(golombThresholdAccepting(r))"
   ]
  },
  {
   "cell_type": "markdown",
   "metadata": {},
   "source": [
    "### 1.e) Golomb Lineal - Simulated Annealing\n",
    "\n",
    "Die Ergebnisse von `golombThresholdAccepting` kommen dem Minimum meist schon sehr nahe. Je höher die Ordnung des zu suchenden Lineals desto größer wird aber auch die Laufzeit. Simulated Annealing kann dem entgegenwirken indem die Wahrscheinlichkeit für die Akzeptanz von schlechteren Zwischenlösungen sukzessive verringert wird."
   ]
  },
  {
   "cell_type": "code",
   "execution_count": 11,
   "metadata": {},
   "outputs": [
    {
     "name": "stdout",
     "output_type": "stream",
     "text": [
      "[0, 1, 2, 3] \t>> ([0, 1, 4, 6], 6)\n",
      "[0, 5, 25, 48] \t>> ([0, 2, 5, 6], 6)\n",
      "----------------------------------------\n",
      "[0, 3, 5, 10] >> ([0, 1, 4, 6], 6)\n",
      "[0, 6, 7, 21, 22] >> ([0, 2, 7, 10, 11], 11)\n",
      "[0, 3, 6, 7, 13, 15] >> ([0, 2, 7, 13, 16, 17], 17)\n",
      "[0, 18, 22, 33, 42, 45, 47] >> ([0, 1, 4, 12, 18, 20, 25], 27)\n",
      "[0, 5, 13, 21, 25, 27, 40, 42] >> ([0, 3, 7, 25, 30, 31, 39, 41], 41)\n",
      "[0, 17, 26, 27, 28, 36, 60, 66, 67] >> ([0, 12, 25, 27, 35, 49, 65, 66, 70], 72)\n"
     ]
    }
   ],
   "source": [
    "import math\n",
    "\n",
    "def randomNeighbor(ruler): # schneller als alle Nachbarn zu generieren und dann einen auszuwählen\n",
    "    n = len(ruler)  # Anzahl der Marken\n",
    "    nb = None\n",
    "    while not nb: # solange noch kein gültiger Nachbar gefunden wurde\n",
    "        add = [0]+[random.choice([-1,0,1]) for _ in range(1, n)] # Array mit zufälligen Summanden\n",
    "        nb = [ruler[i]+add[i] for i in range(n)] # zum aktuellen Lineal addieren\n",
    "        if nb == ruler: # Summanden waren alle 0 = Ausgangs-Lineal\n",
    "            nb = None # nicht als Nachbar zulässig\n",
    "            continue\n",
    "        for i in range(1,n): # Alle Stellen prüfen\n",
    "            if nb[i] <= nb[i-1]: # nicht größer als der Vorgänger\n",
    "                nb = None # ungültiges Lineal\n",
    "                break\n",
    "    return nb\n",
    "\n",
    "randomNeighbor([0, 13, 22, 24, 25])\n",
    "\n",
    "cooling = 0.9995 # Faktor der Abkühlung\n",
    "errFunc = lambda e : e**3 # Funktion zur Manipulation des Fehlers\n",
    "def golombSimulatedAnnealing(ruler):\n",
    "    global memo\n",
    "    memo = {} # Memoizer zurücksetzen\n",
    "    bestEval = evaluate(ruler) # momentan bestes Ergebnis\n",
    "    bestRuler = ruler\n",
    "    current = ruler\n",
    "    currentEval = bestEval\n",
    "    temp = 1000 # Anfangs-\"Temperatur\" \n",
    "    while temp > 0.1: # solange die Ziel-\"Temperatur\" nicht erreicht ist\n",
    "        nb = randomNeighbor(current) # einen zufälligen Nachbar wählen\n",
    "        nbEval = evaluate(nb) # Bewertung\n",
    "        # besser oder zufällig ist die Verschlechterung momentan noch erlaubt\n",
    "        if nbEval <= currentEval or math.exp(-errFunc(nbEval-currentEval)/temp) > random.random():\n",
    "            current, currentEval = nb, nbEval # Kandidat übernehmen\n",
    "        if currentEval < bestEval: # Besser als momentan bestes Ergebnis\n",
    "            bestRuler, bestEval = current, currentEval # übernehmen\n",
    "        temp *= cooling # \"Abkühlung\"\n",
    "    return (bestRuler, bestEval) # Tiefst-\"Temperatur\" erreicht >> Ergebnis steht fest\n",
    "\n",
    "print([0,1,2,3],\"\\t>>\",golombSimulatedAnnealing([0,1,2,3]))\n",
    "print([0,5,25,48],\"\\t>>\",golombSimulatedAnnealing([0,5,25,48]))\n",
    "print(\"----------------------------------------\")\n",
    "for i in range(4,10):\n",
    "    r = randomRuler(i)\n",
    "    print(r,end=\" >> \")\n",
    "    print(golombSimulatedAnnealing(r))"
   ]
  },
  {
   "cell_type": "markdown",
   "metadata": {},
   "source": [
    "### 1.f) Analyse der Parameter - Vergleich der Algorithmen\n"
   ]
  },
  {
   "cell_type": "code",
   "execution_count": 369,
   "metadata": {},
   "outputs": [
    {
     "data": {
      "image/png": "[encoded data removed]",
      "text/plain": [
       "<Figure size 576x648 with 3 Axes>"
      ]
     },
     "metadata": {},
     "output_type": "display_data"
    }
   ],
   "source": [
    "import time\n",
    "import matplotlib.pyplot as plt\n",
    "\n",
    "def setTA(t,d): # Setzen der Parameter für Threshold Accepting\n",
    "    global thresholdTA, degradeTA\n",
    "    thresholdTA = t\n",
    "    degradeTA = d\n",
    "    \n",
    "def setSA(c,e): # Setzen der Parameter für Simulated Annealing\n",
    "    global cooling, errFunc\n",
    "    cooling = c\n",
    "    errFunc = e\n",
    "    \n",
    "tests = [ # durchzuführende Test\n",
    "    (\"Hill\", golombHill, None), # (Name, Funktion, Vorbereitungsfunktion)\n",
    "    (\"Plat\", golombPlateau, None),\n",
    "    (\"TA_0\", golombThresholdAccepting, lambda: setTA(0,1)),\n",
    "    (\"TA_1\", golombThresholdAccepting, lambda: setTA(1,1)),\n",
    "    #(\"TA_2\", golombThresholdAccepting, lambda: setTA(2,1)),\n",
    "    #(\"TA_5\", golombThresholdAccepting, lambda: setTA(5,1)),\n",
    "    (\"TA_9-\", golombThresholdAccepting, lambda: setTA(9,0.999)),\n",
    "    (\"SA_99e\", golombSimulatedAnnealing, lambda: setSA(0.99, lambda e : e)),\n",
    "    #(\"SA_99e²\", golombSimulatedAnnealing, lambda: setSA(0.99, lambda e : e*e)),\n",
    "    #(\"SA_99e³\", golombSimulatedAnnealing, lambda: setSA(0.99, lambda e : e**3)),\n",
    "    (\"SA_999e\", golombSimulatedAnnealing, lambda: setSA(0.999, lambda e : e)),\n",
    "    #(\"SA_999e²\", golombSimulatedAnnealing, lambda: setSA(0.999, lambda e : e*e)),\n",
    "    (\"SA_999e³\", golombSimulatedAnnealing, lambda: setSA(0.999, lambda e : e**3)),\n",
    "    #(\"SA_9995e\", golombSimulatedAnnealing, lambda: setSA(0.9995, lambda e : e)),\n",
    "    #(\"SA_9995e²\", golombSimulatedAnnealing, lambda: setSA(0.9995, lambda e : e*e)),\n",
    "    #(\"SA_9995e³\", golombSimulatedAnnealing, lambda: setSA(0.9995, lambda e : e**3))\n",
    "]\n",
    "\n",
    "def runTest(n, numOfRuns):\n",
    "    times = [0 for _ in range(len(tests))]\n",
    "    valid = [0 for _ in range(len(tests))]\n",
    "    sumV = [0 for _ in range(len(tests))]\n",
    "    for i in range(numOfRuns):\n",
    "        ruler = randomRuler(n) # Ausgangslineal bestimmen\n",
    "        for j in range(len(tests)):\n",
    "            (name, func, prepare) = tests[j] # Test-Spezifikation\n",
    "            if prepare: prepare() # Vorbereitung (Parameter setzen)\n",
    "            tstart = time.time()\n",
    "            (r, rEval) = func(ruler) # Ausführung\n",
    "            times[j] += time.time()-tstart # Zeit loggen\n",
    "            if r[-1] == rEval: # ein gültiges Lineal\n",
    "                valid[j] += 1 # zählen\n",
    "                sumV[j] += rEval # Länge summieren\n",
    "    return (times, \n",
    "            [sumV[i]/valid[i] if valid[i] > 0 else 0 for i in range(len(tests))],\n",
    "            [valid[i]/numOfRuns for i in range(len(tests))])\n",
    "\n",
    "ntest = list(range(4,10)) # Die Test Ordnungen\n",
    "repeat = 10 # Test so oft wiederholen\n",
    "testtimes = [[] for _ in tests]\n",
    "testvalid = [[] for _ in tests]\n",
    "testavg = [[] for _ in tests]\n",
    "for n in ntest: # Für jede Ordnung\n",
    "    (times, avgValid, valid) = runTest(n, repeat) # Test ausführen\n",
    "    for ti in range(len(tests)): # Ergebnisse pro Testspezifikation\n",
    "        testtimes[ti].append(times[ti]) # Laufzeiten\n",
    "        testvalid[ti].append(valid[ti]) # Prozent gültig\n",
    "        testavg[ti].append(avgValid[ti]) # Mittlere gefundene Länge\n",
    "\n",
    "plt.rcParams[\"figure.figsize\"] = (8,9)\n",
    "w = 0.9/len(tests)\n",
    "\n",
    "f,plots = plt.subplots(nrows=3)\n",
    "timeplot = plots[0]\n",
    "for ti in range(len(tests)): # Balken pro Test und Ordnung\n",
    "    timeplot.bar([i+ti*w for i in range(len(ntest))], testtimes[ti], label=tests[ti][0], width=w)\n",
    "timeplot.set_xticks([i+0.5 for i in range(len(ntest))])\n",
    "timeplot.set_xticklabels([n for n in ntest])\n",
    "timeplot.set_ylabel(\"Milliseconds\")\n",
    "timeplot.set_title(\"Runtime of algorithms for different n\")\n",
    "timeplot.legend(loc=\"upper left\")\n",
    "\n",
    "validplot = plots[1]\n",
    "for ti in range(len(tests)): # Balken pro Test und Ordnung\n",
    "    validplot.bar([i+ti*w for i in range(len(ntest))], testvalid[ti], label=tests[ti][0], width=w)\n",
    "validplot.set_xticks([i+0.5 for i in range(len(ntest))])\n",
    "validplot.set_xticklabels([n for n in ntest])\n",
    "validplot.set_yticklabels(['{:,.0%}'.format(x) for x in validplot.get_yticks()])\n",
    "validplot.set_title(\"Percentage of valid rulers generated\")\n",
    "validplot.legend(loc=\"upper left\")\n",
    "\n",
    "mg=[0,1,3,6,11,17,25,34,44,55,72,85,106,127,151,177,199,216,246,283]\n",
    "avgplot = plots[2]\n",
    "for ti in range(len(tests)): # Balken pro Test und Ordnung\n",
    "    avgplot.bar([i+ti*w for i in range(len(ntest))], testavg[ti], label=tests[ti][0], width=w)\n",
    "for i in range(len(ntest)): # Bekannte Minimallängen als schwarze Linien\n",
    "    avgplot.plot([i-w/2,i+1-1.5*w], [mg[ntest[i]-1], mg[ntest[i]-1]],color=\"black\")\n",
    "avgplot.set_xticks([i+0.5 for i in range(len(ntest))])\n",
    "avgplot.set_xticklabels([n for n in ntest])\n",
    "avgplot.set_ylabel(\"Ruler length\")\n",
    "avgplot.set_title(\"Average length of the smallest rulers found (black = known min)\")\n",
    "avgplot.legend(loc=\"upper left\")\n",
    "\n",
    "plt.tight_layout()"
   ]
  },
  {
   "cell_type": "markdown",
   "metadata": {},
   "source": [
    "Die Laufzeit von Threshold Accepting steigt am stärksten und die von Simulated Annealing mit Abstand am wenigsten.\n",
    "\n",
    "Die Verlässlichkeit gültige Lineale zu finden, scheint beim Setzen engerer Grenzwerte (Hill Climbing, Plateau Search, Threshold Accepting mit kleiner Toleranz) höher zu sein. Bei Simulated Annealing hat die Bewertung von Fehlern einen starken Einfluss auf die Verlässlichkeit.\n",
    "\n",
    "Mit zunehmender Ordnung wird bei allen Algorithmen häufiger nicht das minimale Golomb Lineal gefunden. Threshold Accepting (mit sich absenkendem Grenzwert) hat im Schnitt die kürzeren gültigen Lineale gefunden."
   ]
  },
  {
   "cell_type": "markdown",
   "metadata": {},
   "source": [
    "### 2) Golomb Lineale mit genetischem Algorithmus\n",
    "\n",
    "Beim k-point-crossover werden k+1 Teile der *Eltern* **vertauscht** um so die *Kinder* zu erzeugen. Ohne Mutation entstehen im Golomb-Lineal niemals Markenwerte, die nicht in irgendeinem Lineal der Basispopulation bereits an dieser Position vorkommen. Es ist also eine entsprechend große Basispopulation erforderlich.\n",
    "\n",
    "Bei Kreuzung zweier identischer Lineale erzeugt k-point-crossover keine neuen Lineale. Die Gefahr, dass die Selektion der Besten solche Lineale enthält ist recht groß. Es sollte also vermieden werden, dass sich identische Lineale in der Basispopulation befinden.\n",
    "\n",
    "Mutation sollte nur in einem geringen Maße auftreten, da sonst rein zufällige *Kinder* entstehen. In diesem Programm wird nur eine einzige Marke um nur 1 verringert. Ob Mutation im speziellen Fall überhaupt auftritt, wird einer einstellbaren Wahrscheinlichkeit unterworfen."
   ]
  },
  {
   "cell_type": "code",
   "execution_count": 136,
   "metadata": {},
   "outputs": [
    {
     "name": "stdout",
     "output_type": "stream",
     "text": [
      "IsAscending? [0, 1, 3, 3, 5] >> False\n",
      "2-point-crossover: ([0, 1, 3, 6, 8, 9], [0, 2, 4, 5, 7, 10])\n",
      "Mutate 90%: [0, 1, 3, 5, 7, 9] [0, 0, 3, 5, 7, 9]\n"
     ]
    }
   ],
   "source": [
    "def isAscending(r): # Sind die Marken aufsteigend\n",
    "    for i in range(len(r)-1):\n",
    "        if r[i] >= r[i + 1]:\n",
    "            return False\n",
    "    return True\n",
    "\n",
    "print(\"IsAscending?\", [0,1,3,3,5], \">>\", isAscending([0,1,3,3,5]))\n",
    "\n",
    "def crossover(ra, rb, k):  # k-point-crossover mit den beiden \"Eltern\" und k\n",
    "    rc1, rc2 = [], []  # Die \"Kinder\"\n",
    "    last = 0\n",
    "    for i in sorted(random.sample(range(1, len(ra)), k)):  # an jedem crossover\n",
    "        rc1 += ra[last:i]  # bis zum crossover übernehmen\n",
    "        rc2 += rb[last:i]\n",
    "        last = i  # letzten crossover merken\n",
    "        ra, rb = rb, ra  # \"Eltern\" tauschen\n",
    "    rc1 += ra[last:]  # übriges übernehmen\n",
    "    rc2 += rb[last:]\n",
    "    return rc1, rc2\n",
    "\n",
    "print(\"2-point-crossover:\",crossover([0,1,3,5,7,9],[0,2,4,6,8,10],2))\n",
    "\n",
    "def mutate(r,p):\n",
    "    if random.random() < p: # tritt zufällig eine Mutation auf\n",
    "        i = random.randint(1,len(r)-1) # Stelle zufällig wählen\n",
    "        r[i] -= 1 # die Mutation: Marke um 1 verringern\n",
    "    return r\n",
    "\n",
    "print(\"Mutate 90%:\",[0,1,3,5,7,9],mutate([0,1,3,5,7,9],0.9))\n",
    "\n"
   ]
  },
  {
   "cell_type": "code",
   "execution_count": 138,
   "metadata": {},
   "outputs": [
    {
     "name": "stdout",
     "output_type": "stream",
     "text": [
      "(35, [0, 1, 9, 13, 19, 30, 33, 35])\n"
     ]
    },
    {
     "data": {
      "image/png": "[encoded data removed]",
      "text/plain": [
       "<Figure size 864x216 with 1 Axes>"
      ]
     },
     "metadata": {},
     "output_type": "display_data"
    }
   ],
   "source": [
    "import heapq\n",
    "\n",
    "def golombGenetic(n, iterations, size, select, recomb, k, pmutate):\n",
    "    global memo\n",
    "    memo = {}  # Memoizer zurücksetzen\n",
    "    evo = [] # log\n",
    "    # zufällige Basispopulation von Linealen generieren\n",
    "    population = []\n",
    "    popkeys = set()\n",
    "    i = size\n",
    "    while i > 0:\n",
    "        r = randomRuler(n)\n",
    "        if str(r) in popkeys:\n",
    "            continue # keine identischen Lineale\n",
    "        popkeys.add(str(r))\n",
    "        i -= 1\n",
    "        population.append((evaluate(r), r))\n",
    "    heapq.heapify(population)  # sortiert nach Bewertung\n",
    "    best = heapq.nsmallest(1, population)[0]  # momentan bestes Lineal\n",
    "    evo.append(best[0])\n",
    "    for i in range(iterations):  # Evolutionsschritte\n",
    "        A = heapq.nsmallest(select, population)  # die Besten\n",
    "        for a in A:\n",
    "            for b in A:\n",
    "                if a == b:\n",
    "                    break  # für jedes Paar der Selektion\n",
    "                for _ in range(recomb):  # neue Situation rekombinieren\n",
    "                    # k-point-crossover\n",
    "                    rc1, rc2 = crossover(a[1],b[1],k)\n",
    "                    # Mutation\n",
    "                    rc1 = mutate(rc1,pmutate)\n",
    "                    rc2 = mutate(rc2,pmutate)\n",
    "                    # Zur Population hinzufügen wenn möglich\n",
    "                    if isAscending(rc1) and str(rc1) not in popkeys:\n",
    "                        c = evaluate(rc1)\n",
    "                        if c < best[0]:  # gab es Verbesserungen\n",
    "                            best = (c, rc1)\n",
    "                        popkeys.add(str(rc1))\n",
    "                        heapq.heappush(population, (c, rc1))\n",
    "                    if isAscending(rc2) and str(rc2) not in popkeys:\n",
    "                        c = evaluate(rc2)\n",
    "                        if c < best[0]:  # gab es Verbesserungen\n",
    "                            best = (c, rc2)\n",
    "                        popkeys.add(str(rc2))\n",
    "                        heapq.heappush(population, (c, rc2))\n",
    "        evo.append(best[0])\n",
    "        # Auswahl der \"Überlebenden\"\n",
    "        population = heapq.nsmallest(size, population)\n",
    "        popkeys = set([str(p[1]) for p in population])\n",
    "    return best, evo\n",
    "\n",
    "steps = 50\n",
    "best,evo = golombGenetic(8, steps, 500, 100, 2, 2, 0.5)\n",
    "print(best)\n",
    "\n",
    "import matplotlib.pyplot as plt\n",
    "plt.rcParams[\"figure.figsize\"] = (12,3)\n",
    "ax = plt.subplot()\n",
    "ax.plot(range(0,steps+1), evo)\n",
    "ax.set_ylabel(\"Best ruler\")\n",
    "x = ax.set_xlabel(\"Evolution step\")"
   ]
  },
  {
   "cell_type": "code",
   "execution_count": null,
   "metadata": {},
   "outputs": [],
   "source": []
  }
 ],
 "metadata": {
  "kernelspec": {
   "display_name": "Python 3",
   "language": "python",
   "name": "python3"
  },
  "language_info": {
   "codemirror_mode": {
    "name": "ipython",
    "version": 3
   },
   "file_extension": ".py",
   "mimetype": "text/x-python",
   "name": "python",
   "nbconvert_exporter": "python",
   "pygments_lexer": "ipython3",
   "version": "3.6.4"
  }
 },
 "nbformat": 4,
 "nbformat_minor": 2
}
