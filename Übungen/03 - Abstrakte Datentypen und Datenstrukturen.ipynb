{
 "cells": [
  {
   "cell_type": "markdown",
   "metadata": {},
   "source": [
    "# Abstrakte Datentypen und Datenstrukturen\n",
    "\n",
    "1. Is Unique\n",
    "\n",
    "    a)\n",
    "    Implementieren Sie einen Algorithmus, der bestimmt, ob ein String nur Zeichen enthält, die nicht mehrfach vorkommen. Nehmen Sie an, dass im String nur ASCII-Zeichen vorkommen.\n",
    "    \n",
    "    __Beispiel:__\n",
    "    \n",
    "    Eingabe: 'Hallo'\n",
    "    \n",
    "    Ausgabe: __False__\n",
    "    \n",
    "    , da __l__ doppelt vorkommt\n",
    "    \n",
    "    b)\n",
    "    Bestimmen Sie die Zeit- und Speicherkomplexität Ihres Algorithmus.\n",
    "      \n",
    "2. Permutationsprüfung\n",
    "\n",
    "    a)\n",
    "    Implementieren Sie einen Algorithmus, der bestimmt, ob zwei Strings Permutationen voneinander sind. Nehmen Sie an, dass in den Strings nur ASCII-Zeichen vorkommen.\n",
    "    \n",
    "    __Beispiel:__\n",
    "    \n",
    "    Eingabe: 'Ampel', 'Lampe'\n",
    "    \n",
    "    Ausgabe: __True__\n",
    "    \n",
    "    b)\n",
    "    Bestimmen Sie die Zeit- und Speicherkomplexität Ihres Algorithmus.\n",
    "    \n",
    "3. Linked List\n",
    "\n",
    "    a)\n",
    "    Implementieren Sie eine Singly Linked List mit *insert* und *remove* Methoden.\n",
    "    \n",
    "    b) \n",
    "    Schreiben Sie eine Prozedur, die Duplikate aus einer Singly Linked List entfernt.\n",
    "    \n",
    "4. Partition\n",
    "\n",
    "    a)\n",
    "    Schreiben Sie eine Prozedur, die eine Linked List und einen Partitionswert entgegennimmt und eine Linked List zurückgibt, bei der alle Werte, die kleiner als der Partitionswert sind, links von allen Werten, die größer als der Partitionswert sind, sind.\n",
    "    \n",
    "    __Beispiel:__\n",
    "    \n",
    "    Eingabe: 1 $\\rightarrow$ 6 $\\rightarrow$ 3 $\\rightarrow$ 8 $\\rightarrow$ 2 $\\rightarrow$ 5 $\\rightarrow$ 7 $\\rightarrow$ 5 $\\rightarrow$ 9 $\\rightarrow$ 10 $\\rightarrow$ 2, Parition: 5\n",
    "    \n",
    "    mögliche Ausgabe: 2 $\\rightarrow$ 2 $\\rightarrow$ 1 $\\rightarrow$ 3 $\\rightarrow$ 5 $\\rightarrow$ 10 $\\rightarrow$ 6 $\\rightarrow$ 8 $\\rightarrow$ 7 $\\rightarrow$ 5 $\\rightarrow$ 9\n",
    "    \n",
    "    Alle Werte kleiner als 5 sind links von allen Werten größer als 5. Die Positionen der 5en spielen keine Rolle.\n",
    "    \n",
    "    b)\n",
    "    Bestimmen Sie die Zeitkomplexität Ihres Algorithmus."
   ]
  }
 ],
 "metadata": {
  "kernelspec": {
   "display_name": "Python 3",
   "language": "python",
   "name": "python3"
  },
  "language_info": {
   "codemirror_mode": {
    "name": "ipython",
    "version": 3
   },
   "file_extension": ".py",
   "mimetype": "text/x-python",
   "name": "python",
   "nbconvert_exporter": "python",
   "pygments_lexer": "ipython3",
   "version": "3.6.3"
  }
 },
 "nbformat": 4,
 "nbformat_minor": 2
}
