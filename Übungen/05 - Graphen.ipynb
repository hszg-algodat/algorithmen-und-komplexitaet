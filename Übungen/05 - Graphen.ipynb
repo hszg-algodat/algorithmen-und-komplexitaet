{
 "cells": [
  {
   "cell_type": "markdown",
   "metadata": {},
   "source": [
    "# Graphen\n",
    "\n",
    "1. Route zwischen zwei Knoten\n",
    "\n",
    "    a) \n",
    "    Implementieren Sie einen Algorithmus, der in einem gerichteten Graphen (gegeben durch Adjazenzliste) bestimmt, ob es zwischen zwei Knoten eine Route gibt, oder nicht. Die Prozedur soll entsprechend einen Boolean zuückgeben, der dies angibt.\n",
    "    \n",
    "    b) \n",
    "    Bestimmen Sie die Laufzeit Ihres Algorithmus.\n",
    "    \n",
    "2. Erreichbare Knoten\n",
    "\n",
    "    a) \n",
    "    Schreiben Sie eine Prozedur, die einen Knoten $v$ als Parameter nimmt und die Menge an Knoten zurückgibt, die von dem Knoten $v$ aus erreichbar sind.\n",
    "    \n",
    "    b) \n",
    "    Bestimmen Sie die Laufzeit Ihres Algorithmus.\n",
    "   \n",
    "3. Sudoku\n",
    "\n",
    "    a) \n",
    "    Implementieren Sie einen Algorithmus, der ein beliebiges $n \\times n$ Sudoku mit $\\sqrt{n} \\in \\mathbb{N}$ löst. Es gelten dabei folgende Regeln:\n",
    "    \n",
    "    - Nur die Zahlen 1 bis $n$ kommen vor.\n",
    "    - In jeder Ziele kommt eine Zahl genau einmal vor.\n",
    "    - In jeder Spalte kommt eine Zahl genau einmal vor.\n",
    "    - In jedem $\\sqrt{n} \\times \\sqrt{n}$-Quadrat kommt eine Zahl genau einmal vor.\n",
    "   \n",
    "    Verwenden Sie dabei ein 2-dimensionales Array als Datenstruktur. Beachten Sie, dass wie beim richtigen Sudoku einige Felder bereits ausgefüllt sein können.\n",
    "\n",
    "    b) \n",
    "    Bestimmen Sie die Laufzeit Ihres Algorithmus."
   ]
  }
 ],
 "metadata": {
  "kernelspec": {
   "display_name": "Python 3",
   "language": "python",
   "name": "python3"
  },
  "language_info": {
   "codemirror_mode": {
    "name": "ipython",
    "version": 3
   },
   "file_extension": ".py",
   "mimetype": "text/x-python",
   "name": "python",
   "nbconvert_exporter": "python",
   "pygments_lexer": "ipython3",
   "version": "3.6.3"
  }
 },
 "nbformat": 4,
 "nbformat_minor": 2
}
