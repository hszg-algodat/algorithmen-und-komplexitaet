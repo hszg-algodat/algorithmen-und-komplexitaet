{
 "cells": [
  {
   "cell_type": "markdown",
   "metadata": {},
   "source": [
    "# Bäume\n",
    "\n",
    "1. Stellen Sie eine Gleichung auf, die die maximale Anzahl von Elementen in einem Binärbaum in Abhängigkeit von dessen Höhe $h$ angibt.\n",
    "\n",
    "2. Zeigen Sie, dass das kleinste Element in einem Binären Suchbaum kein linkes Kind hat.\n",
    "\n",
    "3. BST - Check\n",
    "\n",
    "    a)\n",
    "    Implementieren Sie eine Prozedur, die prüft, ob ein gegebener Binärbaum ein Binärer Suchbaum ist.\n",
    "    \n",
    "    b)\n",
    "    Bestimmen Sie die Laufzeit Ihres Algorithmus\n",
    "\n",
    "4. BST - Invert\n",
    "\n",
    "    a) \n",
    "    Implementieren Sie eine Prozedur, die einen gegebenen Binären Suchbaum invertiert, d.h. einen aufsteigend sortierten BST absteigend sortiert zurückgibt.\n",
    "    \n",
    "    b)\n",
    "    Bestimmen Sie die Laufzeit Ihres Algorithmus\n",
    "   \n",
    "5. Balancierter Binärbaum\n",
    "\n",
    "    a)\n",
    "    Implementieren Sie eine Prozedur, die prüft, ob eine gegebener Binärbaum balanciert ist. Ein Binärbaum gilt als balanciert, wenn sich die Höhen der Subbäume an keinem Knoten um mehr als 1 unterscheiden.\n",
    "    \n",
    "    b)\n",
    "    Bestimmen Sie die Laufzeit Ihres Algorithmus"
   ]
  }
 ],
 "metadata": {
  "kernelspec": {
   "display_name": "Python 3",
   "language": "python",
   "name": "python3"
  },
  "language_info": {
   "codemirror_mode": {
    "name": "ipython",
    "version": 3
   },
   "file_extension": ".py",
   "mimetype": "text/x-python",
   "name": "python",
   "nbconvert_exporter": "python",
   "pygments_lexer": "ipython3",
   "version": "3.6.3"
  }
 },
 "nbformat": 4,
 "nbformat_minor": 2
}
