{
 "cells": [
  {
   "cell_type": "markdown",
   "metadata": {},
   "source": [
    "# Hashing und Hash Tables\n",
    "\n",
    "1. Implementieren Sie eine Hash Table, die intern folgende Hashfunktion verwendet: \n",
    "\n",
    "    $$\n",
    "    h(k) = (a \\cdot k + b) \\bmod p \\bmod m\n",
    "    $$\n",
    "    \n",
    "    Wählen Sie $a$ und $b$ zufällig. Für $p$ wählen Sie eine Primzahl $> m$. Sie brauchen dabei nicht Table Doubling zu implementieren. $m$ darf also statisch sein.\n",
    "    \n",
    "2. Ein Nachteil von Hashing with Chaining ist die Verschwendung von Speicherplatz bei leeren Slots. Nehmen Sie an, dass uniform zufällig eine Hashfunktion von allen Hashfunktionen gewählt wird (Uniform Hashing).\n",
    "\n",
    "    a)\n",
    "    Wie groß ist die Wahrscheinlichkeit, dass der $i$-te Slot (ein beliebig ausgewählter Slot) nach dem Einfügen von $n$ Elementen in die Datenstruktur frei ist?\n",
    "    \n",
    "    b)\n",
    "    Geben Sie den Erwartungswert für die Anzahl der freien Plätze in Abhängigkeit von der Slotanzahl $m$ und der Anzahl $n$ an Elementen, die in die Hash Map eingefügt wurden, an.\n",
    "    \n",
    "3. Is Unique\n",
    "\n",
    "    a)\n",
    "    Implementieren Sie einen Algorithmus, der bestimmt, ob ein String nur Zeichen enthält, die nicht mehrfach vorkommen. Nehmen Sie an, dass im String nur ASCII-Zeichen vorkommen.\n",
    "    \n",
    "    __Beispiel:__\n",
    "    \n",
    "    Eingabe: 'Hallo'\n",
    "    \n",
    "    Ausgabe: __false__\n",
    "    \n",
    "    , da __l__ doppelt vorkommt\n",
    "    \n",
    "    b)\n",
    "    Bestimmen Sie die Zeit- und Speicherkomplexität Ihres Algorithmus.\n",
    "    \n",
    "4. Permutationsprüfung\n",
    "\n",
    "    a)\n",
    "    Implementieren Sie einen Algorithmus, der bestimmt, ob zwei Strings Permutationen voneinander sind. Nehmen Sie an, dass in den Strings nur ASCII-Zeichen vorkommen.\n",
    "    \n",
    "    __Beispiel:__\n",
    "    \n",
    "    Eingabe: 'Ampel', 'Lampe'\n",
    "    \n",
    "    Ausgabe: __true__\n",
    "    \n",
    "    b)\n",
    "    Bestimmen Sie die Zeit- und Speicherkomplexität Ihres Algorithmus."
   ]
  }
 ],
 "metadata": {
  "kernelspec": {
   "display_name": "Python 3",
   "language": "python",
   "name": "python3"
  },
  "language_info": {
   "codemirror_mode": {
    "name": "ipython",
    "version": 3
   },
   "file_extension": ".py",
   "mimetype": "text/x-python",
   "name": "python",
   "nbconvert_exporter": "python",
   "pygments_lexer": "ipython3",
   "version": "3.6.3"
  }
 },
 "nbformat": 4,
 "nbformat_minor": 2
}
