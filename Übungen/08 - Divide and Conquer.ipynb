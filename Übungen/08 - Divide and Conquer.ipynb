{
 "cells": [
  {
   "cell_type": "markdown",
   "metadata": {},
   "source": [
    "# Divide and Conquer\n",
    "\n",
    "1. Geben Sie enge asymptotische obere Schranken für $T(n)$ an.\n",
    "\n",
    "    a) \n",
    "    $\n",
    "    T(n) = 2 \\cdot T(\\frac{n}{4}) + \\sqrt{n}\n",
    "    $\n",
    "    \n",
    "    b) \n",
    "    $\n",
    "    T(n) = 7 \\cdot T(\\frac{n}{3}) + n^2\n",
    "    $\n",
    "\n",
    "2. Matrixmultiplikation: $A \\times B = C$, wobei es sich bei $A$ und $B$ um zwei $n \\times n$ Matrizen handelt.\n",
    "\n",
    "    a)\n",
    "    Bestimmen Sie den asymptotischen Zeitaufwand eines naïven Algorithmus, der jeden Wert in $C$ durch Multiplikation der Zeilen- und Spaltenvektoren von $A$ und $B$ bestimmt.\n",
    "    \n",
    "    b)\n",
    "    Der Strassen-Algorithmus, der nach dem Divide and Conquer-Prinzip funktioniert, zerlegt das Problem in 7 Teilprobleme der Größe $\\frac{n}{2}$. Das Zusammenführen der Lösungen findet mit einem Aufwand von $\\Theta(n^2)$ statt. Bestimmen sie die asymptotische Laufzeit des Strassen-Algorithmus und vergleichen Sie die mit der Laufzeit des naïven Ansatz."
   ]
  }
 ],
 "metadata": {
  "kernelspec": {
   "display_name": "Python 3",
   "language": "python",
   "name": "python3"
  },
  "language_info": {
   "codemirror_mode": {
    "name": "ipython",
    "version": 3
   },
   "file_extension": ".py",
   "mimetype": "text/x-python",
   "name": "python",
   "nbconvert_exporter": "python",
   "pygments_lexer": "ipython3",
   "version": "3.6.3"
  }
 },
 "nbformat": 4,
 "nbformat_minor": 2
}
