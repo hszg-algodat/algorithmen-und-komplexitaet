{
 "cells": [
  {
   "cell_type": "markdown",
   "metadata": {},
   "source": [
    "# Dynamic Programming\n",
    "\n",
    "#### 1. Dekodierer\n",
    "\n",
    ">   a) \n",
    "    Die Zeichen eines String bestehens aus den Buchstaben a-z wurden folgendermaßen kodiert:\n",
    "    \n",
    ">   a $\\rightarrow$ 1\n",
    "    \n",
    ">   b $\\rightarrow$ 2\n",
    "    \n",
    ">   c $\\rightarrow$ 3\n",
    "    \n",
    ">   ...\n",
    "    \n",
    ">   z $\\rightarrow$ 26\n",
    "    \n",
    ">   __Beispiel:__\n",
    "    \n",
    ">   'das' $\\rightarrow$ '4119'\n",
    "    \n",
    ">   Möchte man aber '4119' wieder dekodieren, so gibt es mehrere Möglichkeiten:\n",
    "    \n",
    ">   '4119' $\\rightarrow$ 'das'\n",
    "    \n",
    ">   '4119' $\\rightarrow$ 'daai'\n",
    "    \n",
    ">   '4119' $\\rightarrow$ 'dki'\n",
    "    \n",
    ">   Entwicklen Sie einen Algorithmus, der einen kodierten String entgegen nimmt und die Anzahl der Möglichkeiten, wie dieser String dekodiert werden könnte, zurückgibt.\n",
    "    \n",
    ">   b)\n",
    "    Bestimmen Sie die Laufzeit Ihres Algorithmus.\n",
    "    \n",
    "#### 2. Treppenstufen\n",
    "\n",
    ">   a)\n",
    "    Sie stehen vor einer Treppe mit $n$ Stufen. Sie können in einem Schritt 1, 2 oder 3 Stufen auf einmal nehmen. Entwicklen Sie einen Algorithmus, der angibt, wie viele mögliche Wege es gibt die Treppe zu belaufen in Abhängigkeit von $n$.\n",
    "    \n",
    ">   b)\n",
    "    Bestimmen Sie die Laufzeit Ihres Algorithmus.\n",
    "    \n",
    "#### 3. Längste aufsteigende Teilsequenz\n",
    "\n",
    ">   a)\n",
    "    Implementieren Sie eine Prozedur, die von einer Sequenz von Zahlen die längste Subsequenz findet, bei denen alle Zahlen aufsteigend sortiert sind.\n",
    "    \n",
    ">   __Beispiel__\n",
    "    \n",
    ">   Eingabe: [10, 1, 4, 12, 5, 20, 7, 8, 2, 6]\n",
    "    \n",
    ">   Ausgabe: [1, 4, 5, 7, 8]\n",
    "    \n",
    ">   b)\n",
    "    Bestimmen Sie die Laufzeit Ihres Algorithmus."
   ]
  }
 ],
 "metadata": {
  "kernelspec": {
   "display_name": "Python 3",
   "language": "python",
   "name": "python3"
  },
  "language_info": {
   "codemirror_mode": {
    "name": "ipython",
    "version": 3
   },
   "file_extension": ".py",
   "mimetype": "text/x-python",
   "name": "python",
   "nbconvert_exporter": "python",
   "pygments_lexer": "ipython3",
   "version": "3.6.3"
  }
 },
 "nbformat": 4,
 "nbformat_minor": 2
}
