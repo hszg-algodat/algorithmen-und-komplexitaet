{
 "cells": [
  {
   "cell_type": "markdown",
   "metadata": {},
   "source": [
    "# Branch and Bound - Übungen\n",
    "\n",
    "#### 1. Machen Sie sich klar, wie der vorgestellte Branch and Bound Algorithmus das 0/1 Rucksackproblem löst.\n",
    "\n",
    "> a) Welchen Unterschied macht es ob das spezifische Gewicht oder der spezifische Wert eines Gegenstands herangezogen wird?\n",
    "\n",
    "> b) Betrachten Sie einige spezielle Fälle! Wie reagiert der Algorithmus auf diese?<br>\n",
    "- kein Gegenstand passt in den Rucksack\n",
    "- alle Gegenstände können aufgenommen werden\n",
    "- alle Gegenstände haben den gleichen spezifischen Wert\n",
    "- die Gegenstände sind ein Diamant (Wert 1000, Gewicht 90) und drei Goldmünzen (jeweils Wert 350, Gewicht 33), K=100\n",
    "\n",
    "> c) Implementieren Sie eine eigene Priority-Queue und ersetzen Sie `heapq` im vorgestellten Algorithmus. Passen Sie Ihre Priority-Queue so an, dass anstelle des Kehrwertes direkt der erreichbare Maximalwert hinterlegt werden kann.\n",
    "\n",
    "> d) Entfernen Sie aus dem vorgestellten Algorithmus das dynamische Bound, sodass nur noch begrenzt wird, wenn die Rucksackkapazität überschritten wird. Erzeugen Sie zufällig Gegenstandslisten mit passenende Kapazitätsgrenzen und vergleichen Sie die Ergebnisse sowie die Laufzeiten der Algorithmen mit und ohne Bound. Welche Unterschiede stellen Sie fest?\n",
    "\n",
    "#### 2. Analysieren Sie den Branch and Bound Algorithmus zur Lösung des TSP\n",
    "\n",
    "> a) Führen Sie die Reduzierung/Modifizierung der Entfernungsmatrix am gegebenen Beispiel für alle übrigen Knoten durch.\n",
    "\n",
    "> b) Wie wird das Problem gelöst wenn der Graph nicht zusammenhängend ist?\n",
    "\n",
    "> c) Wie reagiert der Algorithmus wenn eine Rundreise nicht möglich ist? (wenn z.B. ein Knoten nur eingehende oder nur ausgehende Verbindungen aufweist)\n",
    "\n",
    "#### 3. Entwickeln Sie einen Branch and Bound Algorithmus um ein optimales Golomb-Lineal zu finden.\n",
    "\n",
    "> a) Legen Sie eine Datenstruktur zur Problemrepräsentation fest und entwerfen Sie einen Suchbaum.\n",
    "\n",
    "> b) Entwickeln Sie eine Bewertungsfunktion die es ermöglicht Teile des Suchbaums auszuschließen oder Knotenexpandierungen zu verzögern\n",
    "\n",
    "> c) Implementieren Sie den Algorithmus und stellen Sie ihn einer erschöpfenden Suche gegenüber\n"
   ]
  },
  {
   "cell_type": "code",
   "execution_count": null,
   "metadata": {
    "collapsed": true
   },
   "outputs": [],
   "source": []
  }
 ],
 "metadata": {
  "kernelspec": {
   "display_name": "Python 3",
   "language": "python",
   "name": "python3"
  },
  "language_info": {
   "codemirror_mode": {
    "name": "ipython",
    "version": 3
   },
   "file_extension": ".py",
   "mimetype": "text/x-python",
   "name": "python",
   "nbconvert_exporter": "python",
   "pygments_lexer": "ipython3",
   "version": "3.6.3"
  }
 },
 "nbformat": 4,
 "nbformat_minor": 2
}
