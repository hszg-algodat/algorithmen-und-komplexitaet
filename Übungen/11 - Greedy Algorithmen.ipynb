{
 "cells": [
  {
   "cell_type": "markdown",
   "metadata": {},
   "source": [
    "# Greedy Algorithmen - Übungen\n",
    "\n",
    "#### 1. Analysieren Sie den Greedy Algorithmus zum Finden des optimalen Bruchteilrucksacks.\n",
    "\n",
    "> a) Passen Sie das vorgestellte Programm an, sodass das 0/1 Rucksackproblem näherungsweise gelöst wird.\n",
    "\n",
    "> b) Generieren Sie zufällige Rucksackprobleme verschiedener Größe und vergleichen Sie die Laufzeiten und Ergebnisse des angepassten Programms mit denen eines Branch and Bound Algorithmus (der das 0/1 Rucksackproblem löst).<br>\n",
    "- Wie nah kommt die Greedy Strategie an das optimale Ergebnis heran?\n",
    "- Wie stark unterscheiden sich die Laufzeiten?\n",
    "\n",
    "#### 2. Wenden Sie den Dijkstra Algorithmus per Hand auf ein selbst gewählten Beispiel an.\n",
    "\n",
    "> a) Überprüfen Sie Ihr Ergebnis mit dem vorgestellten Programm<br>\n",
    "(Verwenden Sie zusätzliche `print` Ausgaben um Informationen über Zwischenergebnisse zu erhalten.)\n",
    "\n",
    "> b) Experimentieren Sie mit dem Graph-Generator und wenden Sie den Algorithmus auch auf große Probleminstanzen an.\n",
    "\n",
    "> c) Lösen Sie folgendes Problem mit dem Dijkstra-Algorithmus.<br>\n",
    "Frank kennt Alex flüchtig und Ina gut<br>\n",
    "Alex kennt Maik flüchtig und Sandra gut<br>\n",
    "Ina kennt Maik und Nicole gut aber Ricarda nur flüchtig<br>\n",
    "Maik kennt Ricarda gut und Nicole flüchtig<br>\n",
    "Sandra kennt Nicole flüchtig und Heiko gut<br>\n",
    "**Über welchen Weg sollte Heiko versuchen Ricarda kennenzulernen?**<br>\n",
    "(Wenn Person A Person B gut kennt, dann kennt natürlich auch Person B Person A gut.)\n",
    "\n",
    "#### 3. Befassen Sie sich mit dem Problem den minimalen Spannbaum in einem Graphen zu finden.\n",
    "\n",
    "> a) Implementieren Sie den Algorithmus von Kruskal\n",
    "\n",
    "> b) Implementieren Sie den Algorithmus von Prim\n",
    "\n",
    "> c) Erzeugen Sie zufällige Graphen, wenden Sie die Programme darauf an und ermitteln Sie welchen Einfluss die Anzahl der Kanten in den beiden Algorithmen hat."
   ]
  },
  {
   "cell_type": "code",
   "execution_count": null,
   "metadata": {
    "collapsed": true
   },
   "outputs": [],
   "source": []
  }
 ],
 "metadata": {
  "kernelspec": {
   "display_name": "Python 3",
   "language": "python",
   "name": "python3"
  },
  "language_info": {
   "codemirror_mode": {
    "name": "ipython",
    "version": 3
   },
   "file_extension": ".py",
   "mimetype": "text/x-python",
   "name": "python",
   "nbconvert_exporter": "python",
   "pygments_lexer": "ipython3",
   "version": "3.6.3"
  }
 },
 "nbformat": 4,
 "nbformat_minor": 2
}
