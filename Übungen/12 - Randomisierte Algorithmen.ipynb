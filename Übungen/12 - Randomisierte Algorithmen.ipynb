{
 "cells": [
  {
   "cell_type": "markdown",
   "metadata": {},
   "source": [
    "# Randomisierte Algorithmen - Übungen\n",
    "\n",
    "#### 1. Machen Sie sich klar warum die Methode *Zufallsregen* funktioniert.\n",
    "\n",
    "> a) Bestimmen Sie durch *Zufallsregen* das Integral $\\int_{0}^{1} x^2 dx$.\n",
    "\n",
    "> b) Was hat die Methode *Zufallsregen* mit einer empirischen Analyse gemein?\n",
    "\n",
    "#### 2. Befassen Sie sich mit dem Konzept der *zellulären Automaten*\n",
    "\n",
    "> a) Implementieren Sie einen zellulären Automaten nach **Regel 30**.\n",
    "\n",
    "> b) Benutzen Sie Ihren zellulären Automaten als Zufallszahlengenerator.<br>\n",
    "*Hinweis: Die Folge von Nullen und Einsen kann als Binärzahl interpretiert werden.*\n",
    "\n",
    "> c) Untersuchen Sie die generierten Zahlen empirisch. Wie häufig kommen einzelne Zufallszahlen vor?\n",
    "\n",
    "#### 3. Machen Sie sich klar, was die Probabilisierung des Pivot-Elements für Auswirkungen auf Quicksort hat\n",
    "\n",
    "> a) Vergleichen die Laufzeiten von Standard-Quicksort und Las-Vegas-Quicksort bei zufälligen Listen\n",
    "\n",
    "> b) Erklären Sie Ihr Ergebnis\n",
    "\n",
    "> c) Entwickeln Sie Listen mit verschiedenen Vorsortierungen die die Stärken des Las-Vegas-Quicksort zeigen.\n"
   ]
  },
  {
   "cell_type": "code",
   "execution_count": null,
   "metadata": {
    "collapsed": true
   },
   "outputs": [],
   "source": []
  }
 ],
 "metadata": {
  "kernelspec": {
   "display_name": "Python 3",
   "language": "python",
   "name": "python3"
  },
  "language_info": {
   "codemirror_mode": {
    "name": "ipython",
    "version": 3
   },
   "file_extension": ".py",
   "mimetype": "text/x-python",
   "name": "python",
   "nbconvert_exporter": "python",
   "pygments_lexer": "ipython3",
   "version": "3.6.3"
  }
 },
 "nbformat": 4,
 "nbformat_minor": 2
}
