{
 "cells": [
  {
   "cell_type": "markdown",
   "metadata": {},
   "source": [
    "# Komplexitätstheorie und NP-vollständige Probleme\n",
    "\n",
    "#### 1. Die folgenden Aussagen sind falsch. Erläutern Sie kurz warum und berichtigen Sie die Aussagen.\n",
    "\n",
    "> a) Um zu zeigen, dass das Problem $X$ NP-vollständig ist, reicht es aus zu zeigen, dass $X$ in NP liegt und $X \\leqslant_p Y$ für ein NP-vollständiges Problem $Y$.\n",
    "\n",
    "> b) Es gibt ein NP-vollständiges Problem $X$, das mit einem effizienten deterministischen Algorithmus in Polynomialzeit gelöst werden kann, auch wenn es keinen deterministischen Polynomialzeit Algorithmus für das SAT-Problem gibt.\n",
    "\n",
    "> c) Jedes NP-schwere Problem kann in Polynomialzeit auf das SAT-Problem reduziert werden."
   ]
  }
 ],
 "metadata": {
  "kernelspec": {
   "display_name": "Python 3",
   "language": "python",
   "name": "python3"
  },
  "language_info": {
   "codemirror_mode": {
    "name": "ipython",
    "version": 3
   },
   "file_extension": ".py",
   "mimetype": "text/x-python",
   "name": "python",
   "nbconvert_exporter": "python",
   "pygments_lexer": "ipython3",
   "version": "3.6.3"
  }
 },
 "nbformat": 4,
 "nbformat_minor": 2
}
