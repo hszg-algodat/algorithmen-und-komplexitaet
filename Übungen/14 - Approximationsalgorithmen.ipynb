{
 "cells": [
  {
   "cell_type": "markdown",
   "metadata": {},
   "source": [
    "# Approximationsalgorithmen - Übungen\n",
    "\n",
    "#### 1. Finden Sie mit verschiedenen Strategien der lokalen Suche minimale Golomb Lineale\n",
    "\n",
    "> a) Legen Sie eine geeignete Datenstruktur fest. Entwickeln Sie eine Nachbarschaftsfunktion und eine Bewertungsfunktion.\n",
    "\n",
    "> b) Implementieren Sie einen Hill Climbing Algorithmus.\n",
    "\n",
    "> c) Erweitern Sie Ihr Programm zur Plateau Suche mit einer entsprechenden Tabu-Liste.\n",
    "\n",
    "> d) Erweitern Sie Ihr Programm, sodass auch schlechtere Kandidaten weiterverfolgt werden (Threshold Accepting).\n",
    "\n",
    "> e) Ändern Sie Ihr Programm, sodass die Wahrscheinlichkeit mit der schlechtere Kandidaten weiterverfolgt werden mit der Zeit abnimmt (Simulated Annealing).\n",
    "\n",
    "> f) Experimentieren mit verschiedenen Parametern (z.B. Größe von Tabu-Listen, Grenzwerte für Threshold Accepting, Abkühlungsraten für Simulated Annealing). Stellen Sie die mittleren Laufzeiten und erreichten Resultate gegenüber.\n",
    "\n",
    "#### 2. Versuchen Sie minimale Golomb Lineale mittels evolutionärer Algorithmen zu finden\n",
    "\n",
    "> a) Implementieren Sie die grundlegende Verfahrensweise (Basispopulation, Auswahl, Bewertung)\n",
    "\n",
    "> a) Setzen Sie sich mit verschiedenen Arten der Rekombination auseinander und implementieren Sie eine geeignete Methode\n",
    "\n",
    "> c) Erweitern Sie Ihr Programm um Mutationen\n",
    "\n",
    "> d) Experimentieren Sie mit den Parametern (Populationsgröße, Auswahlgröße, Anzahl der Kreuzungen, Stärke der Mutationen, Anzahl der Generationen).\n"
   ]
  },
  {
   "cell_type": "code",
   "execution_count": null,
   "metadata": {},
   "outputs": [],
   "source": []
  }
 ],
 "metadata": {
  "kernelspec": {
   "display_name": "Python 3",
   "language": "python",
   "name": "python3"
  },
  "language_info": {
   "codemirror_mode": {
    "name": "ipython",
    "version": 3
   },
   "file_extension": ".py",
   "mimetype": "text/x-python",
   "name": "python",
   "nbconvert_exporter": "python",
   "pygments_lexer": "ipython3",
   "version": "3.6.4"
  }
 },
 "nbformat": 4,
 "nbformat_minor": 2
}
